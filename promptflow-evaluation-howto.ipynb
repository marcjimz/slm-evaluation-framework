{
 "cells": [
  {
   "cell_type": "markdown",
   "metadata": {},
   "source": [
    "## 📚 Prerequisites\n",
    "\n",
    "Before starting, ensure your Azure Services are set up correctly, your Conda environment is ready, and your environment variables are configured according to the instructions in the [README.md](README.md) file.\n",
    "\n",
    "## 📋 Table of Contents\n",
    "\n",
    "This notebook guides you through creating an Azure AI Search Index, covering the following topics:\n",
    "\n",
    "1. [**Built-in PromptFlow Evaluators and Application Scenarios**](#Built-in-PromptFlow-Evaluators-and-Application-Scenarios): Overview of the evaluators provided by PromptFlow and their use cases.\n",
    "\n",
    "2. [**Building a Validation Framework with PromptFlow SDK and Azure AI Studio**](#Building-a-Validation-Framework-with-PromptFlow-SDK-and-Azure-AI-Studio): Steps to integrate PromptFlow SDK with Azure AI Studio for creating a robust validation framework.\n",
    "\n",
    "3. [**Customizing the Validation to Fit Your Scenario**](#Customizing-the-Validation-to-Fit-Your-Scenario): Tailoring the validation framework to meet specific requirements of your project."
   ]
  },
  {
   "cell_type": "markdown",
   "metadata": {},
   "source": [
    "# Built-in Promptflow Evaluators and Application Scenarios\n",
    "\n",
    "The PromptFlow Evaluation Framework provides a suite of built-in evaluators designed to assess the performance and safety of language models across various application scenarios. These evaluators are categorized based on the type of assessment they perform, ranging from the quality of generated content to its safety and appropriateness.\n",
    "\n",
    "## Application Scenarios\n",
    "\n",
    "### Question and Answer\n",
    "This scenario caters to applications that involve posing queries and generating responses. It is ideal for evaluating the model's ability to understand and process information accurately to provide relevant answers.\n",
    "\n",
    "### Chat\n",
    "This scenario is tailored for applications where the model engages in dialogue, employing a retrieval-augmented approach. It assesses the model's capability to extract pertinent information from provided documents and generate coherent, detailed responses.\n",
    "\n",
    "## Overview of Evaluator Categories and Their Technical Applications\n",
    "\n",
    "Each evaluator is meticulously crafted to cater to specific technical scenarios and requirements. For example, the **RelevanceEvaluator** necessitates a `question`, `answer`, and `context` to ascertain the relevance of the provided answer to the posed question within the specified context. This evaluator is indispensable for applications such as virtual assistants or customer support chatbots, where the pertinence of responses critically influences user satisfaction.\n",
    "\n",
    "### Evaluating Q/A Pairs for Accuracy and Coherence\n",
    "\n",
    "Alright, let's dive into how we can check out a Q/A pair, especially when we want to see how a user's answer stacks up against the real deal (aka the ground truth). Here are the key players you'll want to bring into the game:\n",
    "\n",
    "- **SimilarityEvaluator**: This tool scrutinizes the congruence between the user's answer and the ground truth. It is instrumental in gauging how well the user's response aligns with the expected answer, a feature paramount for platforms like educational portals where precision is of the essence.\n",
    "\n",
    "- **F1ScoreEvaluator**: This evaluator computes the F1 score by examining the overlap between the user's answer and the ground truth. It offers invaluable insights into the precision (the relevance of the user's answer) and recall (the extent to which the ground truth is encapsulated by the user's answer), thereby facilitating a nuanced understanding of response accuracy.\n",
    "\n",
    "- **RelevanceEvaluator**: Traditionally employed to evaluate the relevance of an answer to the given question and context, it can also be adeptly used to measure how pertinent the user's answer is in relation to the ground truth, especially in contexts where the backdrop of the question significantly influences the accuracy of the answer.\n",
    "\n",
    "- **CoherenceEvaluator**: This evaluator is essential for assessing the logical flow and coherence of the user's answer vis-à-vis the ground truth. It ensures that the response not only corresponds with the expected answer but also exhibits logical consistency and coherence, crucial for elaborate answers necessitating detailed explanation or justification.\n",
    "\n",
    "### Prioritizing Content Safety\n",
    "\n",
    "Furthermore, the **ContentSafetyEvaluator** and **ContentSafetyChatEvaluator** play a critical role in applications that emphasize user safety, like social media platforms or community forums. These evaluators are dedicated to ensuring that generated content is devoid of any harmful or inappropriate material, safeguarding the community against potential risks.\n",
    "\n",
    "This enhanced framework for evaluator categories and their applications underscores the importance of tailored evaluations in enhancing the accuracy, relevance, and safety of responses across various digital platforms.\n",
    "\n",
    "## Evaluator Categories and Classes\n",
    "\n",
    "| Category            | Evaluator Class            | Required Data Fields          | Example                                                                                                   | Purpose and Applications                                                                                   |\n",
    "|---------------------|----------------------------|-------------------------------|-----------------------------------------------------------------------------------------------------------|------------------------------------------------------------------------------------------------------------|\n",
    "| Performance and Quality | GroundednessEvaluator      | answer, context                | `{\"answer\": \"Paris.\", \"context\": \"France is a country in Europe. Its capital is Paris.\"}`                 | Measures how well the answer is grounded in the provided context. Useful for fact-checking applications.  |\n",
    "|                     | RelevanceEvaluator         | question, answer, context      | `{\"question\": \"What is the capital of France?\", \"answer\": \"Paris.\", \"context\": \"France is a country in Europe. Its capital is Paris.\"}` | Assesses the relevance of the answer to the given question and context. Ideal for QA systems.             |\n",
    "|                     | CoherenceEvaluator         | question, answer               | `{\"question\": \"What is the capital of France?\", \"answer\": \"Paris is the capital of France.\"}`             | Evaluates the logical flow and coherence of the conversation. Useful for dialogue systems.                |\n",
    "|                     | FluencyEvaluator           | question, answer               | `{\"question\": \"What is the capital of France?\", \"answer\": \"Paris is the capital of France.\"}`             | Checks the linguistic fluency and readability of the answer. Important for content generation.           |\n",
    "|                     | SimilarityEvaluator        | question, answer, ground_truth | `{\"question\": \"What is the capital of France?\", \"answer\": \"Paris is the capital of France.\", \"ground_truth\": \"The capital of France is Paris.\"}` | Compares the similarity between the generated answer and a ground truth answer. Useful for automated grading systems. |\n",
    "|                     | F1ScoreEvaluator           | answer, ground_truth           | `{\"answer\": \"Paris is the capital of France.\", \"ground_truth\": \"The capital of France is Paris.\"}`        | Calculates the F1 score based on the overlap between the generated answer and the ground truth. Useful for evaluating model precision and recall. |\n",
    "| Risk and Safety     | ViolenceEvaluator          | question, answer               | `{\"question\": \"What is the capital of France?\", \"answer\": \"Paris.\"}`                                      | Detects violent content in the model's responses. Essential for content moderation.                      |\n",
    "|                     | SexualEvaluator            | question, answer               | `{\"question\": \"What is the capital of France?\", \"answer\": \"Paris.\"}`                                      | Identifies sexual content in responses. Critical for maintaining content appropriateness.                |\n",
    "|                     | SelfHarmEvaluator          | question, answer               | `{\"question\": \"What is the capital of France?\", \"answer\": \"Paris.\"}`                                      | Screens for self-harm related content in answers. Important for user safety.                             |\n",
    "|                     | HateUnfairnessEvaluator    | question, answer               | `{\"question\": \"What is the capital of France?\", \"answer\": \"Paris.\"}`                                      | Detects hate speech and unfairness in content. Vital for ethical AI applications.                        |\n",
    "| Composite           | QAEvaluator                | question, answer, context, ground_truth | `{\"question\": \"What is the capital of France?\", \"answer\": \"Paris is the capital of France.\", \"context\": \"France is a country in Europe. Its capital is Paris.\", \"ground_truth\": \"The capital of France is Paris.\"}` | Combines quality evaluators for QA pairs. Useful for comprehensive QA system evaluation.                 |\n",
    "|                     | ChatEvaluator              | question, answer, context, ground_truth | `{\"question\": \"What is the capital of France?\", \"answer\": \"Paris is the capital of France.\", \"context\": \"France is a country in Europe. Its capital is Paris.\", \"ground_truth\": \"The capital of France is Paris.\"}` | Integrates quality evaluators for chat messages. Ideal for evaluating chatbots.                          |\n",
    "|                     | ContentSafetyEvaluator     | question, answer, context, ground_truth | `{\"question\": \"What is the capital of France?\", \"answer\": \"Paris is the capital of France.\", \"context\": \"France is a country in Europe. Its capital is Paris.\", \"ground_truth\": \"The capital of France is Paris.\"}` | Combines safety evaluators for QA pairs. Essential for ensuring content safety in QA systems.            |\n",
    "|                     | ContentSafetyChatEvaluator | question, answer, context, ground_truth | `{\"question\": \"What is the capital of France?\", \"answer\": \"Paris is the capital of France.\", \"context\": \"France is a country in Europe. Its capital is Paris.\", \"ground_truth\": \"The capital of France is Paris.\"}` | Merges safety evaluators for chat messages. Crucial for safe interactions in chat applications.          |"
   ]
  },
  {
   "cell_type": "markdown",
   "metadata": {},
   "source": [
    "## Building a Validation Framework with PromptFlow SDK and Azure AI Studio"
   ]
  },
  {
   "cell_type": "markdown",
   "metadata": {},
   "source": [
    "### Evaluation Focus for LLM/SLM Benchmarking\n",
    "\n",
    "When evaluating your LLM/SLM, consider the following key areas:\n",
    "\n",
    "- **🧠 Understanding**: Measure the model's reasoning and comprehension abilities. Utilize established datasets such as MMLU, MedPub, and TruthfulQA to benchmark overall performance.\n",
    "\n",
    "- **⚙️ Retrieval System/QA**: Examine the effectiveness of the LLM-based system in its entirety. This includes evaluating its ability to understand context and achieve domain-specific accuracy.\n",
    "\n",
    "- **🛡️ Responsible AI (RAI)**: Ensure the model adheres to Responsible AI principles. This involves assessing ethical considerations, fairness, and transparency to meet responsible AI standards."
   ]
  },
  {
   "cell_type": "code",
   "execution_count": 20,
   "metadata": {},
   "outputs": [],
   "source": [
    "import os\n",
    "from datetime import datetime\n",
    "from pprint import pprint\n",
    "\n",
    "# Define the target directory (change yours)\n",
    "TARGET_DIRECTORY = os.getcwd()\n",
    "\n",
    "# Check if the directory exists\n",
    "if os.path.exists(TARGET_DIRECTORY):\n",
    "    # Change the current working directory\n",
    "    os.chdir(TARGET_DIRECTORY)\n",
    "    print(f\"Directory changed to {os.getcwd()}\")\n",
    "else:\n",
    "    print(f\"Directory {TARGET_DIRECTORY} does not exist.\")"
   ]
  },
  {
   "cell_type": "markdown",
   "metadata": {},
   "source": [
    "### 0. Optional: Building Your Own SDK for Enhanced Control and Granularity\n",
    "\n",
    "Be mindful of the level of abstraction. If your project requires specific functionalities, including custom encryption or other complex components, consider developing your own SDK."
   ]
  },
  {
   "cell_type": "code",
   "execution_count": 21,
   "metadata": {},
   "outputs": [
    {
     "data": {
      "text/plain": [
       "False"
      ]
     },
     "execution_count": 21,
     "metadata": {},
     "output_type": "execute_result"
    }
   ],
   "source": [
    "from src.quality.gpt_evals import AzureAIQualityEvaluator\n",
    "\n",
    "from dotenv import load_dotenv\n",
    "load_dotenv()"
   ]
  },
  {
   "cell_type": "code",
   "execution_count": 22,
   "metadata": {},
   "outputs": [
    {
     "name": "stderr",
     "output_type": "stream",
     "text": [
      "2024-08-30 08:15:21,373 - micro - MainProcess - INFO     AzureAIQualityEvaluator initialized successfully. (gpt_evals.py:__init__:61)\n"
     ]
    }
   ],
   "source": [
    "quality_evals = AzureAIQualityEvaluator(azure_endpoint=os.environ.get(\"AZURE_AOAI_ENDPOINT\"),\n",
    "    api_key=os.environ.get(\"AZURE_AOAI_API_KEY\"),\n",
    "    azure_deployment=os.environ.get(\"AZURE_AOAI_COMPLETION_MODEL_DEPLOYMENT_ID\"),\n",
    "    api_version=os.environ.get(\"AZURE_AOAI_DEPLOYMENT_VERSION\"),\n",
    "    subscription_id=os.environ.get(\"AZURE_AI_STUDIO_SUBSCRIPTION_ID\"),\n",
    "    resource_group_name=os.environ.get(\"AZURE_AI_STUDIO_RESOURCE_GROUP_NAME\"),\n",
    "    project_name=os.environ.get(\"AZURE_AI_STUDIO_PROJECT_NAME\"))"
   ]
  },
  {
   "cell_type": "markdown",
   "metadata": {},
   "source": [
    "### 1. Building Golden Datasets for Evaluation\n",
    "\n",
    "- **Diversity**: Ensure the dataset spans a broad spectrum of scenarios to thoroughly assess model performance.\n",
    "\n",
    "- **Complexity Levels**: Include both straightforward and complex queries to evaluate the model's depth of understanding.\n",
    "\n",
    "- **Ambiguity**: Incorporate queries with multiple valid interpretations to test the model's ambiguity handling.\n",
    "\n",
    "- **Data Enrichment**:\n",
    "  - **Paraphrasing**: Use tools like GPT-4 to paraphrase existing queries, enhancing dataset variety.\n",
    "  - **Synthetic Data**: Employ Large Language Models (LLMs) to generate data for underrepresented scenarios."
   ]
  },
  {
   "cell_type": "code",
   "execution_count": 23,
   "metadata": {},
   "outputs": [],
   "source": [
    "data_input_path = os.path.join(os.getcwd(), \"my_utils\", \"data\", \"evaluations\", \"dataframe\", \"golden_eval_dataset.csv\")"
   ]
  },
  {
   "cell_type": "code",
   "execution_count": 24,
   "metadata": {},
   "outputs": [
    {
     "ename": "FileNotFoundError",
     "evalue": "[Errno 2] No such file or directory: '/opt/anaconda3/envs/promptflow-eval-framework/lib/python3.9/site-packages/promptflow/evals/evaluators/_f1_score/flow/my_utils/data/evaluations/dataframe/golden_eval_dataset.csv'",
     "output_type": "error",
     "traceback": [
      "\u001b[0;31m---------------------------------------------------------------------------\u001b[0m",
      "\u001b[0;31mFileNotFoundError\u001b[0m                         Traceback (most recent call last)",
      "Cell \u001b[0;32mIn[24], line 2\u001b[0m\n\u001b[1;32m      1\u001b[0m \u001b[38;5;28;01mimport\u001b[39;00m \u001b[38;5;21;01mpandas\u001b[39;00m \u001b[38;5;28;01mas\u001b[39;00m \u001b[38;5;21;01mpd\u001b[39;00m\n\u001b[0;32m----> 2\u001b[0m df \u001b[38;5;241m=\u001b[39m \u001b[43mpd\u001b[49m\u001b[38;5;241;43m.\u001b[39;49m\u001b[43mread_csv\u001b[49m\u001b[43m(\u001b[49m\u001b[43mdata_input_path\u001b[49m\u001b[43m)\u001b[49m\n\u001b[1;32m      3\u001b[0m df \u001b[38;5;241m=\u001b[39m df\u001b[38;5;241m.\u001b[39mdrop(columns\u001b[38;5;241m=\u001b[39m[\u001b[38;5;124m\"\u001b[39m\u001b[38;5;124mcount\u001b[39m\u001b[38;5;124m\"\u001b[39m])\n\u001b[1;32m      4\u001b[0m df\u001b[38;5;241m.\u001b[39mhead()\n",
      "File \u001b[0;32m/opt/anaconda3/envs/promptflow-eval-framework/lib/python3.9/site-packages/pandas/io/parsers/readers.py:1026\u001b[0m, in \u001b[0;36mread_csv\u001b[0;34m(filepath_or_buffer, sep, delimiter, header, names, index_col, usecols, dtype, engine, converters, true_values, false_values, skipinitialspace, skiprows, skipfooter, nrows, na_values, keep_default_na, na_filter, verbose, skip_blank_lines, parse_dates, infer_datetime_format, keep_date_col, date_parser, date_format, dayfirst, cache_dates, iterator, chunksize, compression, thousands, decimal, lineterminator, quotechar, quoting, doublequote, escapechar, comment, encoding, encoding_errors, dialect, on_bad_lines, delim_whitespace, low_memory, memory_map, float_precision, storage_options, dtype_backend)\u001b[0m\n\u001b[1;32m   1013\u001b[0m kwds_defaults \u001b[38;5;241m=\u001b[39m _refine_defaults_read(\n\u001b[1;32m   1014\u001b[0m     dialect,\n\u001b[1;32m   1015\u001b[0m     delimiter,\n\u001b[0;32m   (...)\u001b[0m\n\u001b[1;32m   1022\u001b[0m     dtype_backend\u001b[38;5;241m=\u001b[39mdtype_backend,\n\u001b[1;32m   1023\u001b[0m )\n\u001b[1;32m   1024\u001b[0m kwds\u001b[38;5;241m.\u001b[39mupdate(kwds_defaults)\n\u001b[0;32m-> 1026\u001b[0m \u001b[38;5;28;01mreturn\u001b[39;00m \u001b[43m_read\u001b[49m\u001b[43m(\u001b[49m\u001b[43mfilepath_or_buffer\u001b[49m\u001b[43m,\u001b[49m\u001b[43m \u001b[49m\u001b[43mkwds\u001b[49m\u001b[43m)\u001b[49m\n",
      "File \u001b[0;32m/opt/anaconda3/envs/promptflow-eval-framework/lib/python3.9/site-packages/pandas/io/parsers/readers.py:620\u001b[0m, in \u001b[0;36m_read\u001b[0;34m(filepath_or_buffer, kwds)\u001b[0m\n\u001b[1;32m    617\u001b[0m _validate_names(kwds\u001b[38;5;241m.\u001b[39mget(\u001b[38;5;124m\"\u001b[39m\u001b[38;5;124mnames\u001b[39m\u001b[38;5;124m\"\u001b[39m, \u001b[38;5;28;01mNone\u001b[39;00m))\n\u001b[1;32m    619\u001b[0m \u001b[38;5;66;03m# Create the parser.\u001b[39;00m\n\u001b[0;32m--> 620\u001b[0m parser \u001b[38;5;241m=\u001b[39m \u001b[43mTextFileReader\u001b[49m\u001b[43m(\u001b[49m\u001b[43mfilepath_or_buffer\u001b[49m\u001b[43m,\u001b[49m\u001b[43m \u001b[49m\u001b[38;5;241;43m*\u001b[39;49m\u001b[38;5;241;43m*\u001b[39;49m\u001b[43mkwds\u001b[49m\u001b[43m)\u001b[49m\n\u001b[1;32m    622\u001b[0m \u001b[38;5;28;01mif\u001b[39;00m chunksize \u001b[38;5;129;01mor\u001b[39;00m iterator:\n\u001b[1;32m    623\u001b[0m     \u001b[38;5;28;01mreturn\u001b[39;00m parser\n",
      "File \u001b[0;32m/opt/anaconda3/envs/promptflow-eval-framework/lib/python3.9/site-packages/pandas/io/parsers/readers.py:1620\u001b[0m, in \u001b[0;36mTextFileReader.__init__\u001b[0;34m(self, f, engine, **kwds)\u001b[0m\n\u001b[1;32m   1617\u001b[0m     \u001b[38;5;28mself\u001b[39m\u001b[38;5;241m.\u001b[39moptions[\u001b[38;5;124m\"\u001b[39m\u001b[38;5;124mhas_index_names\u001b[39m\u001b[38;5;124m\"\u001b[39m] \u001b[38;5;241m=\u001b[39m kwds[\u001b[38;5;124m\"\u001b[39m\u001b[38;5;124mhas_index_names\u001b[39m\u001b[38;5;124m\"\u001b[39m]\n\u001b[1;32m   1619\u001b[0m \u001b[38;5;28mself\u001b[39m\u001b[38;5;241m.\u001b[39mhandles: IOHandles \u001b[38;5;241m|\u001b[39m \u001b[38;5;28;01mNone\u001b[39;00m \u001b[38;5;241m=\u001b[39m \u001b[38;5;28;01mNone\u001b[39;00m\n\u001b[0;32m-> 1620\u001b[0m \u001b[38;5;28mself\u001b[39m\u001b[38;5;241m.\u001b[39m_engine \u001b[38;5;241m=\u001b[39m \u001b[38;5;28;43mself\u001b[39;49m\u001b[38;5;241;43m.\u001b[39;49m\u001b[43m_make_engine\u001b[49m\u001b[43m(\u001b[49m\u001b[43mf\u001b[49m\u001b[43m,\u001b[49m\u001b[43m \u001b[49m\u001b[38;5;28;43mself\u001b[39;49m\u001b[38;5;241;43m.\u001b[39;49m\u001b[43mengine\u001b[49m\u001b[43m)\u001b[49m\n",
      "File \u001b[0;32m/opt/anaconda3/envs/promptflow-eval-framework/lib/python3.9/site-packages/pandas/io/parsers/readers.py:1880\u001b[0m, in \u001b[0;36mTextFileReader._make_engine\u001b[0;34m(self, f, engine)\u001b[0m\n\u001b[1;32m   1878\u001b[0m     \u001b[38;5;28;01mif\u001b[39;00m \u001b[38;5;124m\"\u001b[39m\u001b[38;5;124mb\u001b[39m\u001b[38;5;124m\"\u001b[39m \u001b[38;5;129;01mnot\u001b[39;00m \u001b[38;5;129;01min\u001b[39;00m mode:\n\u001b[1;32m   1879\u001b[0m         mode \u001b[38;5;241m+\u001b[39m\u001b[38;5;241m=\u001b[39m \u001b[38;5;124m\"\u001b[39m\u001b[38;5;124mb\u001b[39m\u001b[38;5;124m\"\u001b[39m\n\u001b[0;32m-> 1880\u001b[0m \u001b[38;5;28mself\u001b[39m\u001b[38;5;241m.\u001b[39mhandles \u001b[38;5;241m=\u001b[39m \u001b[43mget_handle\u001b[49m\u001b[43m(\u001b[49m\n\u001b[1;32m   1881\u001b[0m \u001b[43m    \u001b[49m\u001b[43mf\u001b[49m\u001b[43m,\u001b[49m\n\u001b[1;32m   1882\u001b[0m \u001b[43m    \u001b[49m\u001b[43mmode\u001b[49m\u001b[43m,\u001b[49m\n\u001b[1;32m   1883\u001b[0m \u001b[43m    \u001b[49m\u001b[43mencoding\u001b[49m\u001b[38;5;241;43m=\u001b[39;49m\u001b[38;5;28;43mself\u001b[39;49m\u001b[38;5;241;43m.\u001b[39;49m\u001b[43moptions\u001b[49m\u001b[38;5;241;43m.\u001b[39;49m\u001b[43mget\u001b[49m\u001b[43m(\u001b[49m\u001b[38;5;124;43m\"\u001b[39;49m\u001b[38;5;124;43mencoding\u001b[39;49m\u001b[38;5;124;43m\"\u001b[39;49m\u001b[43m,\u001b[49m\u001b[43m \u001b[49m\u001b[38;5;28;43;01mNone\u001b[39;49;00m\u001b[43m)\u001b[49m\u001b[43m,\u001b[49m\n\u001b[1;32m   1884\u001b[0m \u001b[43m    \u001b[49m\u001b[43mcompression\u001b[49m\u001b[38;5;241;43m=\u001b[39;49m\u001b[38;5;28;43mself\u001b[39;49m\u001b[38;5;241;43m.\u001b[39;49m\u001b[43moptions\u001b[49m\u001b[38;5;241;43m.\u001b[39;49m\u001b[43mget\u001b[49m\u001b[43m(\u001b[49m\u001b[38;5;124;43m\"\u001b[39;49m\u001b[38;5;124;43mcompression\u001b[39;49m\u001b[38;5;124;43m\"\u001b[39;49m\u001b[43m,\u001b[49m\u001b[43m \u001b[49m\u001b[38;5;28;43;01mNone\u001b[39;49;00m\u001b[43m)\u001b[49m\u001b[43m,\u001b[49m\n\u001b[1;32m   1885\u001b[0m \u001b[43m    \u001b[49m\u001b[43mmemory_map\u001b[49m\u001b[38;5;241;43m=\u001b[39;49m\u001b[38;5;28;43mself\u001b[39;49m\u001b[38;5;241;43m.\u001b[39;49m\u001b[43moptions\u001b[49m\u001b[38;5;241;43m.\u001b[39;49m\u001b[43mget\u001b[49m\u001b[43m(\u001b[49m\u001b[38;5;124;43m\"\u001b[39;49m\u001b[38;5;124;43mmemory_map\u001b[39;49m\u001b[38;5;124;43m\"\u001b[39;49m\u001b[43m,\u001b[49m\u001b[43m \u001b[49m\u001b[38;5;28;43;01mFalse\u001b[39;49;00m\u001b[43m)\u001b[49m\u001b[43m,\u001b[49m\n\u001b[1;32m   1886\u001b[0m \u001b[43m    \u001b[49m\u001b[43mis_text\u001b[49m\u001b[38;5;241;43m=\u001b[39;49m\u001b[43mis_text\u001b[49m\u001b[43m,\u001b[49m\n\u001b[1;32m   1887\u001b[0m \u001b[43m    \u001b[49m\u001b[43merrors\u001b[49m\u001b[38;5;241;43m=\u001b[39;49m\u001b[38;5;28;43mself\u001b[39;49m\u001b[38;5;241;43m.\u001b[39;49m\u001b[43moptions\u001b[49m\u001b[38;5;241;43m.\u001b[39;49m\u001b[43mget\u001b[49m\u001b[43m(\u001b[49m\u001b[38;5;124;43m\"\u001b[39;49m\u001b[38;5;124;43mencoding_errors\u001b[39;49m\u001b[38;5;124;43m\"\u001b[39;49m\u001b[43m,\u001b[49m\u001b[43m \u001b[49m\u001b[38;5;124;43m\"\u001b[39;49m\u001b[38;5;124;43mstrict\u001b[39;49m\u001b[38;5;124;43m\"\u001b[39;49m\u001b[43m)\u001b[49m\u001b[43m,\u001b[49m\n\u001b[1;32m   1888\u001b[0m \u001b[43m    \u001b[49m\u001b[43mstorage_options\u001b[49m\u001b[38;5;241;43m=\u001b[39;49m\u001b[38;5;28;43mself\u001b[39;49m\u001b[38;5;241;43m.\u001b[39;49m\u001b[43moptions\u001b[49m\u001b[38;5;241;43m.\u001b[39;49m\u001b[43mget\u001b[49m\u001b[43m(\u001b[49m\u001b[38;5;124;43m\"\u001b[39;49m\u001b[38;5;124;43mstorage_options\u001b[39;49m\u001b[38;5;124;43m\"\u001b[39;49m\u001b[43m,\u001b[49m\u001b[43m \u001b[49m\u001b[38;5;28;43;01mNone\u001b[39;49;00m\u001b[43m)\u001b[49m\u001b[43m,\u001b[49m\n\u001b[1;32m   1889\u001b[0m \u001b[43m\u001b[49m\u001b[43m)\u001b[49m\n\u001b[1;32m   1890\u001b[0m \u001b[38;5;28;01massert\u001b[39;00m \u001b[38;5;28mself\u001b[39m\u001b[38;5;241m.\u001b[39mhandles \u001b[38;5;129;01mis\u001b[39;00m \u001b[38;5;129;01mnot\u001b[39;00m \u001b[38;5;28;01mNone\u001b[39;00m\n\u001b[1;32m   1891\u001b[0m f \u001b[38;5;241m=\u001b[39m \u001b[38;5;28mself\u001b[39m\u001b[38;5;241m.\u001b[39mhandles\u001b[38;5;241m.\u001b[39mhandle\n",
      "File \u001b[0;32m/opt/anaconda3/envs/promptflow-eval-framework/lib/python3.9/site-packages/pandas/io/common.py:873\u001b[0m, in \u001b[0;36mget_handle\u001b[0;34m(path_or_buf, mode, encoding, compression, memory_map, is_text, errors, storage_options)\u001b[0m\n\u001b[1;32m    868\u001b[0m \u001b[38;5;28;01melif\u001b[39;00m \u001b[38;5;28misinstance\u001b[39m(handle, \u001b[38;5;28mstr\u001b[39m):\n\u001b[1;32m    869\u001b[0m     \u001b[38;5;66;03m# Check whether the filename is to be opened in binary mode.\u001b[39;00m\n\u001b[1;32m    870\u001b[0m     \u001b[38;5;66;03m# Binary mode does not support 'encoding' and 'newline'.\u001b[39;00m\n\u001b[1;32m    871\u001b[0m     \u001b[38;5;28;01mif\u001b[39;00m ioargs\u001b[38;5;241m.\u001b[39mencoding \u001b[38;5;129;01mand\u001b[39;00m \u001b[38;5;124m\"\u001b[39m\u001b[38;5;124mb\u001b[39m\u001b[38;5;124m\"\u001b[39m \u001b[38;5;129;01mnot\u001b[39;00m \u001b[38;5;129;01min\u001b[39;00m ioargs\u001b[38;5;241m.\u001b[39mmode:\n\u001b[1;32m    872\u001b[0m         \u001b[38;5;66;03m# Encoding\u001b[39;00m\n\u001b[0;32m--> 873\u001b[0m         handle \u001b[38;5;241m=\u001b[39m \u001b[38;5;28;43mopen\u001b[39;49m\u001b[43m(\u001b[49m\n\u001b[1;32m    874\u001b[0m \u001b[43m            \u001b[49m\u001b[43mhandle\u001b[49m\u001b[43m,\u001b[49m\n\u001b[1;32m    875\u001b[0m \u001b[43m            \u001b[49m\u001b[43mioargs\u001b[49m\u001b[38;5;241;43m.\u001b[39;49m\u001b[43mmode\u001b[49m\u001b[43m,\u001b[49m\n\u001b[1;32m    876\u001b[0m \u001b[43m            \u001b[49m\u001b[43mencoding\u001b[49m\u001b[38;5;241;43m=\u001b[39;49m\u001b[43mioargs\u001b[49m\u001b[38;5;241;43m.\u001b[39;49m\u001b[43mencoding\u001b[49m\u001b[43m,\u001b[49m\n\u001b[1;32m    877\u001b[0m \u001b[43m            \u001b[49m\u001b[43merrors\u001b[49m\u001b[38;5;241;43m=\u001b[39;49m\u001b[43merrors\u001b[49m\u001b[43m,\u001b[49m\n\u001b[1;32m    878\u001b[0m \u001b[43m            \u001b[49m\u001b[43mnewline\u001b[49m\u001b[38;5;241;43m=\u001b[39;49m\u001b[38;5;124;43m\"\u001b[39;49m\u001b[38;5;124;43m\"\u001b[39;49m\u001b[43m,\u001b[49m\n\u001b[1;32m    879\u001b[0m \u001b[43m        \u001b[49m\u001b[43m)\u001b[49m\n\u001b[1;32m    880\u001b[0m     \u001b[38;5;28;01melse\u001b[39;00m:\n\u001b[1;32m    881\u001b[0m         \u001b[38;5;66;03m# Binary mode\u001b[39;00m\n\u001b[1;32m    882\u001b[0m         handle \u001b[38;5;241m=\u001b[39m \u001b[38;5;28mopen\u001b[39m(handle, ioargs\u001b[38;5;241m.\u001b[39mmode)\n",
      "\u001b[0;31mFileNotFoundError\u001b[0m: [Errno 2] No such file or directory: '/opt/anaconda3/envs/promptflow-eval-framework/lib/python3.9/site-packages/promptflow/evals/evaluators/_f1_score/flow/my_utils/data/evaluations/dataframe/golden_eval_dataset.csv'"
     ]
    }
   ],
   "source": [
    "import pandas as pd\n",
    "df = pd.read_csv(data_input_path)\n",
    "df = df.drop(columns=[\"count\"])\n",
    "df.head()"
   ]
  },
  {
   "cell_type": "markdown",
   "metadata": {},
   "source": [
    "### 2. Evaluating Quality and Performance\n",
    "\n",
    "\n",
    "**📊 What metrics are we evaluating?**\n",
    "\n",
    "- **F1 Score**: Measures the balance between precision and recall. Precision measures how many of the predicted positives are actually correct, while recall measures how many of the actual positives are correctly identified by the model.\n",
    "  - **Range**: 0 (worst) to 1 (best).\n",
    "\n",
    "- **GPT Groundedness**: Assesses the factual accuracy or realism of the content.\n",
    "  - **Range**: 0 (not grounded in reality) to 5 (highly factual).\n",
    "\n",
    "- **GPT Relevance**: Evaluates how relevant the content is to the given context or query.\n",
    "  - **Range**: 0 (not relevant) to 5 (highly relevant).\n",
    "\n",
    "- **GPT Coherence**: Measures the logical flow and consistency of the content.\n",
    "  - **Range**: 0 (incoherent) to 5 (highly coherent).\n",
    "\n",
    "- **GPT Fluency**: Assesses the readability and smoothness of the text.\n",
    "  - **Range**: 0 (hard to read) to 5 (extremely fluent).\n",
    "\n",
    "- **GPT Similarity**: Measures how similar the evaluated content is to a reference or expected response.\n",
    "  - **Range**: 0 (not similar) to 5 (very similar).\n"
   ]
  },
  {
   "cell_type": "code",
   "execution_count": 5,
   "metadata": {},
   "outputs": [
    {
     "name": "stderr",
     "output_type": "stream",
     "text": [
      "2024-08-30 07:43:42,758 - micro - MainProcess - INFO     Data successfully converted to JSONL format. (gpt_evals.py:_convert_to_jsonl:79)\n",
      "2024-08-30 07:43:42,758 - micro - MainProcess - INFO     Evaluating the quality of chat responses... (gpt_evals.py:run_chat_quality:104)\n"
     ]
    },
    {
     "name": "stderr",
     "output_type": "stream",
     "text": [
      "[2024-08-30 07:43:56 -0700][flowinvoker][INFO] - Getting connections from pf client with provider from args: local...\n",
      "[2024-08-30 07:43:56 -0700][flowinvoker][INFO] - Getting connections from pf client with provider from args: local...\n",
      "[2024-08-30 07:43:56 -0700][flowinvoker][INFO] - Getting connections from pf client with provider from args: local...\n",
      "[2024-08-30 07:43:56 -0700][flowinvoker][INFO] - Getting connections from pf client with provider from args: local...\n",
      "[2024-08-30 07:43:56 -0700][flowinvoker][INFO] - Getting connections from pf client with provider from args: local...\n",
      "[2024-08-30 07:43:56 -0700][flowinvoker][INFO] - Getting connections from pf client with provider from args: local...\n",
      "[2024-08-30 07:43:56 -0700][flowinvoker][INFO] - Getting connections from pf client with provider from args: local...\n",
      "[2024-08-30 07:43:56 -0700][flowinvoker][INFO] - Getting connections from pf client with provider from args: local...\n",
      "[2024-08-30 07:43:56 -0700][flowinvoker][INFO] - Getting connections from pf client with provider from args: local...\n",
      "[2024-08-30 07:43:56 -0700][flowinvoker][INFO] - Getting connections from pf client with provider from args: local...\n",
      "[2024-08-30 07:43:56 -0700][flowinvoker][INFO] - Getting connections from pf client with provider from args: local...\n",
      "[2024-08-30 07:43:56 -0700][flowinvoker][INFO] - Getting connections from pf client with provider from args: local...\n",
      "[2024-08-30 07:43:56 -0700][flowinvoker][INFO] - Getting connections from pf client with provider from args: local...\n",
      "[2024-08-30 07:43:56 -0700][flowinvoker][INFO] - Getting connections from pf client with provider from args: local...\n",
      "[2024-08-30 07:43:56 -0700][flowinvoker][INFO] - Getting connections from pf client with provider from args: local...\n",
      "[2024-08-30 07:43:56 -0700][flowinvoker][INFO] - Promptflow get connections successfully. keys: dict_keys([])\n",
      "[2024-08-30 07:43:56 -0700][flowinvoker][INFO] - Promptflow get connections successfully. keys: dict_keys([])\n",
      "[2024-08-30 07:43:56 -0700][flowinvoker][INFO] - Promptflow get connections successfully. keys: dict_keys([])\n",
      "[2024-08-30 07:43:56 -0700][flowinvoker][INFO] - Promptflow get connections successfully. keys: dict_keys([])\n",
      "[2024-08-30 07:43:56 -0700][flowinvoker][INFO] - Promptflow get connections successfully. keys: dict_keys([])\n",
      "[2024-08-30 07:43:56 -0700][flowinvoker][INFO] - Promptflow get connections successfully. keys: dict_keys([])\n",
      "[2024-08-30 07:43:56 -0700][flowinvoker][INFO] - Promptflow executor starts initializing...\n",
      "[2024-08-30 07:43:56 -0700][flowinvoker][INFO] - Promptflow get connections successfully. keys: dict_keys([])\n",
      "[2024-08-30 07:43:56 -0700][flowinvoker][INFO] - Promptflow get connections successfully. keys: dict_keys([])\n",
      "[2024-08-30 07:43:56 -0700][flowinvoker][INFO] - Promptflow get connections successfully. keys: dict_keys([])\n",
      "[2024-08-30 07:43:56 -0700][flowinvoker][INFO] - Promptflow get connections successfully. keys: dict_keys([])\n",
      "[2024-08-30 07:43:56 -0700][flowinvoker][INFO] - Promptflow get connections successfully. keys: dict_keys([])\n",
      "[2024-08-30 07:43:56 -0700][flowinvoker][INFO] - Promptflow get connections successfully. keys: dict_keys([])\n",
      "[2024-08-30 07:43:56 -0700][flowinvoker][INFO] - Promptflow executor starts initializing...\n",
      "[2024-08-30 07:43:56 -0700][flowinvoker][INFO] - Promptflow executor starts initializing...\n",
      "[2024-08-30 07:43:56 -0700][flowinvoker][INFO] - Promptflow executor starts initializing...\n",
      "[2024-08-30 07:43:56 -0700][flowinvoker][INFO] - Promptflow executor starts initializing...\n",
      "[2024-08-30 07:43:56 -0700][flowinvoker][INFO] - Promptflow executor starts initializing...\n",
      "[2024-08-30 07:43:56 -0700][flowinvoker][INFO] - Promptflow executor starts initializing...\n",
      "[2024-08-30 07:43:56 -0700][flowinvoker][INFO] - Promptflow executor starts initializing...\n",
      "[2024-08-30 07:43:56 -0700][flowinvoker][INFO] - Promptflow executor starts initializing...\n",
      "[2024-08-30 07:43:56 -0700][flowinvoker][INFO] - Promptflow executor starts initializing...\n",
      "[2024-08-30 07:43:56 -0700][flowinvoker][INFO] - Promptflow get connections successfully. keys: dict_keys([])\n",
      "[2024-08-30 07:43:56 -0700][flowinvoker][INFO] - Promptflow executor starts initializing...\n",
      "[2024-08-30 07:43:56 -0700][flowinvoker][INFO] - Promptflow executor starts initializing...\n",
      "[2024-08-30 07:43:56 -0700][flowinvoker][INFO] - Promptflow get connections successfully. keys: dict_keys([])\n",
      "[2024-08-30 07:43:56 -0700][flowinvoker][INFO] - Promptflow get connections successfully. keys: dict_keys([])\n",
      "[2024-08-30 07:43:56 -0700][flowinvoker][INFO] - Promptflow executor starts initializing...\n",
      "[2024-08-30 07:43:56 -0700][flowinvoker][INFO] - Promptflow executor starts initializing...\n",
      "[2024-08-30 07:43:56 -0700][flowinvoker][INFO] - Promptflow executor starts initializing...\n",
      "[2024-08-30 07:43:56 -0700][flowinvoker][INFO] - Promptflow executor initiated successfully.\n",
      "[2024-08-30 07:43:56 -0700][flowinvoker][INFO] - Promptflow executor initiated successfully.\n",
      "[2024-08-30 07:43:56 -0700][flowinvoker][INFO] - Validating flow input with data {'answer': 'Mercury is the smallest planet in our solar system.', 'ground_truth': 'Mercury is the smallest planet in our solar system.'}\n",
      "[2024-08-30 07:43:56 -0700][flowinvoker][INFO] - Execute flow with data {'answer': 'Mercury is the smallest planet in our solar system.', 'ground_truth': 'Mercury is the smallest planet in our solar system.'}\n",
      "[2024-08-30 07:43:56 -0700][flowinvoker][INFO] - Validating flow input with data {'answer': \"George Orwell is the author of '1984'.\", 'ground_truth': \"The author of '1984' is George Orwell.\"}\n",
      "[2024-08-30 07:43:56 -0700][flowinvoker][INFO] - Execute flow with data {'answer': \"George Orwell is the author of '1984'.\", 'ground_truth': \"The author of '1984' is George Orwell.\"}\n",
      "[2024-08-30 07:43:56 -0700][flowinvoker][INFO] - Promptflow executor initiated successfully.\n",
      "[2024-08-30 07:43:56 -0700][flowinvoker][INFO] - Validating flow input with data {'answer': 'Tokyo is the capital of Japan.', 'ground_truth': \"Japan's capital is Tokyo.\"}\n",
      "[2024-08-30 07:43:56 -0700][flowinvoker][INFO] - Execute flow with data {'answer': 'Tokyo is the capital of Japan.', 'ground_truth': \"Japan's capital is Tokyo.\"}\n",
      "[2024-08-30 07:43:56 -0700][flowinvoker][INFO] - Promptflow executor initiated successfully.\n",
      "[2024-08-30 07:43:56 -0700][flowinvoker][INFO] - Validating flow input with data {'answer': 'Berlin is the capital of Germany.', 'ground_truth': 'The capital of Germany is Berlin.'}\n",
      "[2024-08-30 07:43:56 -0700][flowinvoker][INFO] - Promptflow executor initiated successfully.\n",
      "[2024-08-30 07:43:56 -0700][flowinvoker][INFO] - Execute flow with data {'answer': 'Berlin is the capital of Germany.', 'ground_truth': 'The capital of Germany is Berlin.'}\n",
      "[2024-08-30 07:43:56 -0700][flowinvoker][INFO] - Validating flow input with data {'answer': 'Jupiter is the largest planet in our solar system.', 'ground_truth': 'The largest planet in our solar system is Jupiter.'}\n",
      "[2024-08-30 07:43:56 -0700][flowinvoker][INFO] - Execute flow with data {'answer': 'Jupiter is the largest planet in our solar system.', 'ground_truth': 'The largest planet in our solar system is Jupiter.'}\n",
      "[2024-08-30 07:43:56 -0700][flowinvoker][INFO] - Promptflow executor initiated successfully.\n",
      "[2024-08-30 07:43:56 -0700][flowinvoker][INFO] - Validating flow input with data {'answer': \"William Shakespeare wrote 'Hamlet'.\", 'ground_truth': \"William Shakespeare wrote 'Hamlet'.\"}\n",
      "[2024-08-30 07:43:56 -0700][flowinvoker][INFO] - Execute flow with data {'answer': \"William Shakespeare wrote 'Hamlet'.\", 'ground_truth': \"William Shakespeare wrote 'Hamlet'.\"}\n",
      "[2024-08-30 07:43:56 -0700][flowinvoker][INFO] - Promptflow executor initiated successfully.\n",
      "[2024-08-30 07:43:56 -0700][flowinvoker][INFO] - Validating flow input with data {'answer': 'The Pacific Ocean is the largest ocean on Earth.', 'ground_truth': 'The largest ocean on Earth is the Pacific Ocean.'}\n",
      "[2024-08-30 07:43:56 -0700][flowinvoker][INFO] - Execute flow with data {'answer': 'The Pacific Ocean is the largest ocean on Earth.', 'ground_truth': 'The largest ocean on Earth is the Pacific Ocean.'}\n",
      "[2024-08-30 07:43:56 -0700][flowinvoker][INFO] - Promptflow executor initiated successfully.\n",
      "[2024-08-30 07:43:56 -0700][flowinvoker][INFO] - Validating flow input with data {'answer': 'Leonardo da Vinci painted the Mona Lisa.', 'ground_truth': 'The Mona Lisa was painted by Leonardo da Vinci.'}\n",
      "[2024-08-30 07:43:56 -0700][flowinvoker][INFO] - Execute flow with data {'answer': 'Leonardo da Vinci painted the Mona Lisa.', 'ground_truth': 'The Mona Lisa was painted by Leonardo da Vinci.'}\n",
      "[2024-08-30 07:43:56 -0700][flowinvoker][INFO] - Promptflow executor initiated successfully.\n",
      "[2024-08-30 07:43:56 -0700][flowinvoker][INFO] - Validating flow input with data {'answer': 'Albert Einstein developed the theory of relativity.', 'ground_truth': 'The theory of relativity was developed by Albert Einstein.'}\n",
      "[2024-08-30 07:43:56 -0700][flowinvoker][INFO] - Execute flow with data {'answer': 'Albert Einstein developed the theory of relativity.', 'ground_truth': 'The theory of relativity was developed by Albert Einstein.'}\n",
      "[2024-08-30 07:43:56 -0700][flowinvoker][INFO] - Promptflow executor initiated successfully.\n",
      "[2024-08-30 07:43:56 -0700][flowinvoker][INFO] - Validating flow input with data {'answer': 'CO2 is the chemical formula for carbon dioxide.', 'ground_truth': 'The chemical formula for carbon dioxide is CO2.'}\n",
      "[2024-08-30 07:43:56 -0700][flowinvoker][INFO] - Execute flow with data {'answer': 'CO2 is the chemical formula for carbon dioxide.', 'ground_truth': 'The chemical formula for carbon dioxide is CO2.'}\n",
      "[2024-08-30 07:43:56 -0700][flowinvoker][INFO] - Promptflow executor initiated successfully.\n",
      "[2024-08-30 07:43:56 -0700][flowinvoker][INFO] - Validating flow input with data {'answer': 'Paris is the capital of France.', 'ground_truth': 'The capital of France is Paris.'}\n",
      "[2024-08-30 07:43:56 -0700][flowinvoker][INFO] - Execute flow with data {'answer': 'Paris is the capital of France.', 'ground_truth': 'The capital of France is Paris.'}\n",
      "[2024-08-30 07:43:56 -0700][flowinvoker][INFO] - Promptflow executor initiated successfully.\n",
      "[2024-08-30 07:43:56 -0700][flowinvoker][INFO] - Validating flow input with data {'answer': 'The Sahara Desert is the largest desert in the world.', 'ground_truth': 'The largest desert in the world is the Sahara Desert.'}\n",
      "[2024-08-30 07:43:56 -0700][flowinvoker][INFO] - Execute flow with data {'answer': 'The Sahara Desert is the largest desert in the world.', 'ground_truth': 'The largest desert in the world is the Sahara Desert.'}\n",
      "[2024-08-30 07:43:56 -0700][flowinvoker][INFO] - Promptflow executor initiated successfully.\n",
      "[2024-08-30 07:43:56 -0700][flowinvoker][INFO] - Validating flow input with data {'answer': 'The speed of light is approximately 299,792,458 meters per second.', 'ground_truth': 'Light travels at a speed of 299,792,458 meters per second.'}\n",
      "[2024-08-30 07:43:56 -0700][flowinvoker][INFO] - Execute flow with data {'answer': 'The speed of light is approximately 299,792,458 meters per second.', 'ground_truth': 'Light travels at a speed of 299,792,458 meters per second.'}\n",
      "[2024-08-30 07:43:56 -0700][flowinvoker][INFO] - Promptflow executor initiated successfully.\n",
      "[2024-08-30 07:43:56 -0700][flowinvoker][INFO] - Validating flow input with data {'answer': 'H2O is the chemical symbol for water.', 'ground_truth': 'The chemical symbol for water is H2O.'}\n",
      "[2024-08-30 07:43:56 -0700][flowinvoker][INFO] - Execute flow with data {'answer': 'H2O is the chemical symbol for water.', 'ground_truth': 'The chemical symbol for water is H2O.'}\n",
      "[2024-08-30 07:43:56 -0700][flowinvoker][INFO] - Promptflow executor initiated successfully.\n",
      "[2024-08-30 07:43:56 -0700][flowinvoker][INFO] - Validating flow input with data {'answer': 'Mount Everest is the tallest mountain in the world.', 'ground_truth': \"The world's tallest mountain is Mount Everest.\"}\n",
      "[2024-08-30 07:43:56 -0700][flowinvoker][INFO] - Execute flow with data {'answer': 'Mount Everest is the tallest mountain in the world.', 'ground_truth': \"The world's tallest mountain is Mount Everest.\"}\n"
     ]
    },
    {
     "name": "stdout",
     "output_type": "stream",
     "text": [
      "2024-08-30 07:43:56 -0700   98603 execution.flow     INFO     Start executing nodes in thread pool mode.\n",
      "2024-08-30 07:43:56 -0700   98603 execution.flow     INFO     Start to run 2 nodes with concurrency level 16.\n",
      "2024-08-30 07:43:56 -0700   98603 execution.flow     INFO     Current thread is not main thread, skip signal handler registration in AsyncNodesScheduler.\n",
      "2024-08-30 07:43:56 -0700   98603 execution.flow     INFO     Executing node validate_inputs. node run id: a742d48f-8805-4cf9-b23d-9e1406745054_validate_inputs_faad6417-cecc-4933-bdbb-c1e1e6238687\n",
      "2024-08-30 07:43:56 -0700   98603 execution.flow     INFO     Start executing nodes in thread pool mode.\n",
      "2024-08-30 07:43:56 -0700   98603 execution.flow     INFO     Start to run 2 nodes with concurrency level 16.\n",
      "2024-08-30 07:43:56 -0700   98603 execution.flow     INFO     Current thread is not main thread, skip signal handler registration in AsyncNodesScheduler.\n",
      "2024-08-30 07:43:56 -0700   98603 execution.flow     INFO     Executing node validate_inputs. node run id: 629e0f05-ba30-48f5-8df6-427855acf70c_validate_inputs_d4423b05-790a-4910-b785-f7ee6bcca757\n",
      "2024-08-30 07:43:56 -0700   98603 execution.flow     INFO     Start executing nodes in thread pool mode.\n",
      "2024-08-30 07:43:56 -0700   98603 execution.flow     INFO     Start to run 2 nodes with concurrency level 16.\n",
      "2024-08-30 07:43:56 -0700   98603 execution.flow     INFO     Current thread is not main thread, skip signal handler registration in AsyncNodesScheduler.\n",
      "2024-08-30 07:43:56 -0700   98603 execution.flow     INFO     Executing node validate_inputs. node run id: bf76a235-893f-4ec6-884e-30d2ff34808b_validate_inputs_48a93c14-aa4d-4213-a0b4-57d4ca4ac078\n",
      "2024-08-30 07:43:56 -0700   98603 execution.flow     INFO     Start executing nodes in thread pool mode.\n",
      "2024-08-30 07:43:56 -0700   98603 execution.flow     INFO     Start to run 2 nodes with concurrency level 16.\n",
      "2024-08-30 07:43:56 -0700   98603 execution.flow     INFO     Current thread is not main thread, skip signal handler registration in AsyncNodesScheduler.\n",
      "2024-08-30 07:43:56 -0700   98603 execution.flow     INFO     Executing node validate_inputs. node run id: c8d59dde-1fa9-4fc9-b9bd-7272b79ac89c_validate_inputs_dce1e0c1-42d0-4685-a341-a690c7cc2dbb\n",
      "2024-08-30 07:43:56 -0700   98603 execution.flow     INFO     Start executing nodes in thread pool mode.\n",
      "2024-08-30 07:43:56 -0700   98603 execution.flow     INFO     Start to run 2 nodes with concurrency level 16.\n",
      "2024-08-30 07:43:56 -0700   98603 execution.flow     INFO     Current thread is not main thread, skip signal handler registration in AsyncNodesScheduler.\n",
      "2024-08-30 07:43:56 -0700   98603 execution.flow     INFO     Executing node validate_inputs. node run id: 79155a54-74e8-4284-a999-72b4ea522864_validate_inputs_48c9ea08-686a-4a3b-bd29-aea60e6005a2\n",
      "2024-08-30 07:43:56 -0700   98603 execution.flow     INFO     Start executing nodes in thread pool mode.\n",
      "2024-08-30 07:43:56 -0700   98603 execution.flow     INFO     Start executing nodes in thread pool mode.\n",
      "2024-08-30 07:43:56 -0700   98603 execution.flow     INFO     Start to run 2 nodes with concurrency level 16.\n",
      "2024-08-30 07:43:56 -0700   98603 execution.flow     INFO     Start to run 2 nodes with concurrency level 16.\n",
      "2024-08-30 07:43:56 -0700   98603 execution.flow     INFO     Current thread is not main thread, skip signal handler registration in AsyncNodesScheduler.\n",
      "2024-08-30 07:43:56 -0700   98603 execution.flow     INFO     Current thread is not main thread, skip signal handler registration in AsyncNodesScheduler.\n",
      "2024-08-30 07:43:56 -0700   98603 execution.flow     INFO     Executing node validate_inputs. node run id: 67cd352e-893e-40cf-a52e-ded4d9dcf56f_validate_inputs_33f10d2d-7668-4e13-aa46-1229e1edbf83\n",
      "2024-08-30 07:43:56 -0700   98603 execution.flow     INFO     Executing node validate_inputs. node run id: f749840b-12e6-46e2-95ad-849003db5905_validate_inputs_13879f05-68ce-4c5a-86b4-01af29f851c9\n",
      "2024-08-30 07:43:56 -0700   98603 execution.flow     INFO     Start executing nodes in thread pool mode.\n",
      "2024-08-30 07:43:56 -0700   98603 execution.flow     INFO     Start to run 2 nodes with concurrency level 16.\n",
      "2024-08-30 07:43:56 -0700   98603 execution.flow     INFO     Start executing nodes in thread pool mode.\n",
      "2024-08-30 07:43:56 -0700   98603 execution.flow     INFO     Current thread is not main thread, skip signal handler registration in AsyncNodesScheduler.\n",
      "2024-08-30 07:43:56 -0700   98603 execution.flow     INFO     Start to run 2 nodes with concurrency level 16.\n",
      "2024-08-30 07:43:56 -0700   98603 execution.flow     INFO     Executing node validate_inputs. node run id: 6f1d79ee-03b4-4475-a026-62446b580b7d_validate_inputs_ac07851a-4a52-487d-a3ee-d3569a830def\n",
      "2024-08-30 07:43:56 -0700   98603 execution.flow     INFO     Current thread is not main thread, skip signal handler registration in AsyncNodesScheduler.\n",
      "2024-08-30 07:43:56 -0700   98603 execution.flow     INFO     Start executing nodes in thread pool mode.\n",
      "2024-08-30 07:43:56 -0700   98603 execution.flow     INFO     Executing node validate_inputs. node run id: ab54a9b8-49b9-4826-81fd-a7e3d61a613c_validate_inputs_f2ebc9f0-8257-4258-a4dd-7839a631a36c\n",
      "2024-08-30 07:43:56 -0700   98603 execution.flow     INFO     Start to run 2 nodes with concurrency level 16.\n",
      "2024-08-30 07:43:56 -0700   98603 execution.flow     INFO     Current thread is not main thread, skip signal handler registration in AsyncNodesScheduler.\n",
      "2024-08-30 07:43:56 -0700   98603 execution.flow     INFO     Executing node validate_inputs. node run id: b6b5e973-faaa-4f68-bc93-f39818d6fdb1_validate_inputs_0304f2e2-bfe1-4285-bce7-249dcc7e6395\n",
      "2024-08-30 07:43:56 -0700   98603 execution.flow     INFO     Start executing nodes in thread pool mode.\n",
      "2024-08-30 07:43:56 -0700   98603 execution.flow     INFO     Start to run 2 nodes with concurrency level 16.\n",
      "2024-08-30 07:43:56 -0700   98603 execution.flow     INFO     Current thread is not main thread, skip signal handler registration in AsyncNodesScheduler.\n",
      "2024-08-30 07:43:56 -0700   98603 execution.flow     INFO     Executing node validate_inputs. node run id: 9a6c3856-dd87-4464-a13f-01023b33a79f_validate_inputs_32b9a1c3-e54d-4485-9aeb-a9d3f5755ac0\n",
      "2024-08-30 07:43:56 -0700   98603 execution.flow     INFO     Start executing nodes in thread pool mode.\n",
      "2024-08-30 07:43:56 -0700   98603 execution.flow     INFO     Start to run 2 nodes with concurrency level 16.\n",
      "2024-08-30 07:43:56 -0700   98603 execution.flow     INFO     Current thread is not main thread, skip signal handler registration in AsyncNodesScheduler.\n",
      "2024-08-30 07:43:56 -0700   98603 execution.flow     INFO     Executing node validate_inputs. node run id: 3220c146-cf44-4038-b299-889d6239b11c_validate_inputs_11c83877-7f18-43a9-8579-daa6b754ba21\n",
      "2024-08-30 07:43:56 -0700   98603 execution.flow     INFO     Start executing nodes in thread pool mode.\n",
      "2024-08-30 07:43:56 -0700   98603 execution.flow     INFO     Start to run 2 nodes with concurrency level 16.\n",
      "2024-08-30 07:43:56 -0700   98603 execution.flow     INFO     Current thread is not main thread, skip signal handler registration in AsyncNodesScheduler.\n",
      "2024-08-30 07:43:56 -0700   98603 execution.flow     INFO     Executing node validate_inputs. node run id: 6093afec-b8d9-47ba-b1b5-047593ff8e4f_validate_inputs_25d04886-523e-4973-b310-ec124fd25c71\n",
      "2024-08-30 07:43:56 -0700   98603 execution.flow     INFO     Start executing nodes in thread pool mode.\n",
      "2024-08-30 07:43:56 -0700   98603 execution.flow     INFO     Start to run 2 nodes with concurrency level 16.\n",
      "2024-08-30 07:43:56 -0700   98603 execution.flow     INFO     Current thread is not main thread, skip signal handler registration in AsyncNodesScheduler.\n",
      "2024-08-30 07:43:56 -0700   98603 execution.flow     INFO     Executing node validate_inputs. node run id: 188e6688-982a-4362-9197-d98c3d0f8f72_validate_inputs_c4a1e076-c557-40b5-af2f-52b0aa1ee90f\n",
      "2024-08-30 07:43:56 -0700   98603 execution.flow     INFO     Start executing nodes in thread pool mode.\n",
      "2024-08-30 07:43:56 -0700   98603 execution.flow     INFO     Start to run 2 nodes with concurrency level 16.\n",
      "2024-08-30 07:43:56 -0700   98603 execution.flow     INFO     Current thread is not main thread, skip signal handler registration in AsyncNodesScheduler.\n",
      "2024-08-30 07:43:56 -0700   98603 execution.flow     INFO     Executing node validate_inputs. node run id: c2bc39c3-0484-46ad-b0c2-45f5e08b3a28_validate_inputs_c94cddd4-0b54-4c67-a339-f2c780b644dc\n",
      "2024-08-30 07:43:57 -0700   98603 execution.flow     INFO     Node validate_inputs completes.\n",
      "2024-08-30 07:43:57 -0700   98603 execution.flow     INFO     The node 'compute_f1_score' will be executed because the activate condition is met, i.e. '${validate_inputs.output}' is equal to 'True'.\n",
      "2024-08-30 07:43:57 -0700   98603 execution.flow     INFO     Executing node compute_f1_score. node run id: a742d48f-8805-4cf9-b23d-9e1406745054_compute_f1_score_3da41f05-384e-4764-9b4e-5198ab0aa54c\n",
      "2024-08-30 07:43:57 -0700   98603 execution.flow     INFO     Node validate_inputs completes.\n",
      "2024-08-30 07:43:57 -0700   98603 execution.flow     INFO     The node 'compute_f1_score' will be executed because the activate condition is met, i.e. '${validate_inputs.output}' is equal to 'True'.\n",
      "2024-08-30 07:43:57 -0700   98603 execution.flow     INFO     Executing node compute_f1_score. node run id: 67cd352e-893e-40cf-a52e-ded4d9dcf56f_compute_f1_score_95be9b91-fa5c-4175-9166-e8f04a9f703a\n",
      "2024-08-30 07:43:57 -0700   98603 execution.flow     INFO     Node validate_inputs completes.\n",
      "2024-08-30 07:43:57 -0700   98603 execution.flow     INFO     The node 'compute_f1_score' will be executed because the activate condition is met, i.e. '${validate_inputs.output}' is equal to 'True'.\n",
      "2024-08-30 07:43:57 -0700   98603 execution.flow     INFO     Executing node compute_f1_score. node run id: c8d59dde-1fa9-4fc9-b9bd-7272b79ac89c_compute_f1_score_649b6631-3dc2-4e24-819f-e45db40e1670\n",
      "2024-08-30 07:43:57 -0700   98603 execution.flow     INFO     Node validate_inputs completes.\n",
      "2024-08-30 07:43:57 -0700   98603 execution.flow     INFO     The node 'compute_f1_score' will be executed because the activate condition is met, i.e. '${validate_inputs.output}' is equal to 'True'.\n",
      "2024-08-30 07:43:57 -0700   98603 execution.flow     INFO     Executing node compute_f1_score. node run id: 629e0f05-ba30-48f5-8df6-427855acf70c_compute_f1_score_1f55cdca-d164-410b-86fb-3a4663758ce6\n",
      "2024-08-30 07:43:57 -0700   98603 execution.flow     INFO     Node validate_inputs completes.\n",
      "2024-08-30 07:43:57 -0700   98603 execution.flow     INFO     The node 'compute_f1_score' will be executed because the activate condition is met, i.e. '${validate_inputs.output}' is equal to 'True'.\n",
      "2024-08-30 07:43:57 -0700   98603 execution.flow     INFO     Executing node compute_f1_score. node run id: bf76a235-893f-4ec6-884e-30d2ff34808b_compute_f1_score_7e71c579-c311-4047-bcbf-4268b2c966ff\n",
      "2024-08-30 07:43:57 -0700   98603 execution.flow     INFO     Node validate_inputs completes.\n",
      "2024-08-30 07:43:57 -0700   98603 execution.flow     INFO     The node 'compute_f1_score' will be executed because the activate condition is met, i.e. '${validate_inputs.output}' is equal to 'True'.\n",
      "2024-08-30 07:43:57 -0700   98603 execution.flow     INFO     Executing node compute_f1_score. node run id: b6b5e973-faaa-4f68-bc93-f39818d6fdb1_compute_f1_score_088810f7-4838-4d22-8d20-ae129b8207d6\n",
      "2024-08-30 07:43:57 -0700   98603 execution.flow     INFO     Node validate_inputs completes.\n",
      "2024-08-30 07:43:57 -0700   98603 execution.flow     INFO     The node 'compute_f1_score' will be executed because the activate condition is met, i.e. '${validate_inputs.output}' is equal to 'True'.\n",
      "2024-08-30 07:43:57 -0700   98603 execution.flow     INFO     Executing node compute_f1_score. node run id: f749840b-12e6-46e2-95ad-849003db5905_compute_f1_score_233c3fb6-69cb-4af8-b15c-18d7883d1242\n",
      "2024-08-30 07:43:57 -0700   98603 execution.flow     INFO     Node validate_inputs completes.\n",
      "2024-08-30 07:43:57 -0700   98603 execution.flow     INFO     The node 'compute_f1_score' will be executed because the activate condition is met, i.e. '${validate_inputs.output}' is equal to 'True'.\n",
      "2024-08-30 07:43:57 -0700   98603 execution.flow     INFO     Executing node compute_f1_score. node run id: 9a6c3856-dd87-4464-a13f-01023b33a79f_compute_f1_score_1ecf2098-f36d-4713-8a5d-d3ad7d1a2aac\n",
      "2024-08-30 07:43:57 -0700   98603 execution.flow     INFO     Node validate_inputs completes.\n",
      "2024-08-30 07:43:57 -0700   98603 execution.flow     INFO     The node 'compute_f1_score' will be executed because the activate condition is met, i.e. '${validate_inputs.output}' is equal to 'True'.\n",
      "2024-08-30 07:43:57 -0700   98603 execution.flow     INFO     Executing node compute_f1_score. node run id: ab54a9b8-49b9-4826-81fd-a7e3d61a613c_compute_f1_score_a8a6fcc3-57ad-4aeb-a710-480a49eaf4f6\n",
      "2024-08-30 07:43:57 -0700   98603 execution.flow     INFO     Node validate_inputs completes.\n",
      "2024-08-30 07:43:57 -0700   98603 execution.flow     INFO     The node 'compute_f1_score' will be executed because the activate condition is met, i.e. '${validate_inputs.output}' is equal to 'True'.\n",
      "2024-08-30 07:43:57 -0700   98603 execution.flow     INFO     Executing node compute_f1_score. node run id: 6f1d79ee-03b4-4475-a026-62446b580b7d_compute_f1_score_de54c1ca-08ba-48af-a679-c1f31cd06e78\n",
      "2024-08-30 07:43:57 -0700   98603 execution.flow     INFO     Node validate_inputs completes.\n",
      "2024-08-30 07:43:57 -0700   98603 execution.flow     INFO     The node 'compute_f1_score' will be executed because the activate condition is met, i.e. '${validate_inputs.output}' is equal to 'True'.\n",
      "2024-08-30 07:43:57 -0700   98603 execution.flow     INFO     Executing node compute_f1_score. node run id: 3220c146-cf44-4038-b299-889d6239b11c_compute_f1_score_8dd15482-c3c1-461c-a7af-b1985170fe89\n",
      "2024-08-30 07:43:57 -0700   98603 execution.flow     INFO     Node validate_inputs completes.\n",
      "2024-08-30 07:43:57 -0700   98603 execution.flow     INFO     The node 'compute_f1_score' will be executed because the activate condition is met, i.e. '${validate_inputs.output}' is equal to 'True'.\n",
      "2024-08-30 07:43:57 -0700   98603 execution.flow     INFO     Executing node compute_f1_score. node run id: 79155a54-74e8-4284-a999-72b4ea522864_compute_f1_score_9e1ae8f5-d848-4f99-97e1-88d5c8c55580\n",
      "2024-08-30 07:43:57 -0700   98603 execution.flow     INFO     Node validate_inputs completes.\n",
      "2024-08-30 07:43:57 -0700   98603 execution.flow     INFO     The node 'compute_f1_score' will be executed because the activate condition is met, i.e. '${validate_inputs.output}' is equal to 'True'.\n",
      "2024-08-30 07:43:57 -0700   98603 execution.flow     INFO     Executing node compute_f1_score. node run id: 188e6688-982a-4362-9197-d98c3d0f8f72_compute_f1_score_eb35b526-0c39-46c6-adad-e06acb982e5f\n",
      "2024-08-30 07:43:57 -0700   98603 execution.flow     INFO     Node validate_inputs completes.\n",
      "2024-08-30 07:43:57 -0700   98603 execution.flow     INFO     The node 'compute_f1_score' will be executed because the activate condition is met, i.e. '${validate_inputs.output}' is equal to 'True'.\n",
      "2024-08-30 07:43:57 -0700   98603 execution.flow     INFO     Executing node compute_f1_score. node run id: c2bc39c3-0484-46ad-b0c2-45f5e08b3a28_compute_f1_score_f3f7bef4-76d2-4548-8cd2-7ca726215d78\n",
      "2024-08-30 07:43:57 -0700   98603 execution.flow     INFO     Node validate_inputs completes.\n",
      "2024-08-30 07:43:57 -0700   98603 execution.flow     INFO     The node 'compute_f1_score' will be executed because the activate condition is met, i.e. '${validate_inputs.output}' is equal to 'True'.\n",
      "2024-08-30 07:43:57 -0700   98603 execution.flow     INFO     Executing node compute_f1_score. node run id: 6093afec-b8d9-47ba-b1b5-047593ff8e4f_compute_f1_score_eb6c599c-30b7-489e-9f1c-ee613ac44bb1\n",
      "2024-08-30 07:43:57 -0700   98603 execution.flow     INFO     Node compute_f1_score completes.\n",
      "2024-08-30 07:43:57 -0700   98603 execution.flow     INFO     Node compute_f1_score completes.\n",
      "2024-08-30 07:43:57 -0700   98603 execution.flow     INFO     Node compute_f1_score completes.\n",
      "2024-08-30 07:43:57 -0700   98603 execution.flow     INFO     Node compute_f1_score completes.\n",
      "2024-08-30 07:43:57 -0700   98603 execution.flow     INFO     Node compute_f1_score completes.\n",
      "2024-08-30 07:43:57 -0700   98603 execution.flow     INFO     Node compute_f1_score completes.\n",
      "2024-08-30 07:43:57 -0700   98603 execution.flow     INFO     Node compute_f1_score completes.\n",
      "2024-08-30 07:43:57 -0700   98603 execution.flow     INFO     Node compute_f1_score completes.\n",
      "2024-08-30 07:43:57 -0700   98603 execution.flow     INFO     Node compute_f1_score completes.\n",
      "2024-08-30 07:43:57 -0700   98603 execution.flow     INFO     Node compute_f1_score completes.\n",
      "2024-08-30 07:43:57 -0700   98603 execution.flow     INFO     Node compute_f1_score completes.\n",
      "2024-08-30 07:43:57 -0700   98603 execution.flow     INFO     Node compute_f1_score completes.\n",
      "2024-08-30 07:43:57 -0700   98603 execution.flow     INFO     Node compute_f1_score completes.\n",
      "2024-08-30 07:43:57 -0700   98603 execution.flow     INFO     Node compute_f1_score completes.\n",
      "2024-08-30 07:43:57 -0700   98603 execution.flow     INFO     Node compute_f1_score completes.\n"
     ]
    },
    {
     "name": "stderr",
     "output_type": "stream",
     "text": [
      "[2024-08-30 07:43:57 -0700][flowinvoker][INFO] - Validating flow input with data {'answer': 'The Burj Khalifa is the tallest building in the world.', 'ground_truth': 'The tallest building in the world is the Burj Khalifa.'}\n",
      "[2024-08-30 07:43:57 -0700][flowinvoker][INFO] - Execute flow with data {'answer': 'The Burj Khalifa is the tallest building in the world.', 'ground_truth': 'The tallest building in the world is the Burj Khalifa.'}\n",
      "[2024-08-30 07:43:57 -0700][flowinvoker][INFO] - Validating flow input with data {'answer': 'Alexander Fleming discovered penicillin.', 'ground_truth': 'Alexander Fleming discovered penicillin.'}\n",
      "[2024-08-30 07:43:57 -0700][flowinvoker][INFO] - Execute flow with data {'answer': 'Alexander Fleming discovered penicillin.', 'ground_truth': 'Alexander Fleming discovered penicillin.'}\n"
     ]
    },
    {
     "name": "stdout",
     "output_type": "stream",
     "text": [
      "2024-08-30 07:43:57 -0700   98603 execution.flow     INFO     Start executing nodes in thread pool mode.\n",
      "2024-08-30 07:43:57 -0700   98603 execution.flow     INFO     Start to run 2 nodes with concurrency level 16.\n",
      "2024-08-30 07:43:57 -0700   98603 execution.flow     INFO     Current thread is not main thread, skip signal handler registration in AsyncNodesScheduler.\n",
      "2024-08-30 07:43:57 -0700   98603 execution.flow     INFO     Executing node validate_inputs. node run id: bbea0d2f-58bc-47e7-a530-5532f5ce088c_validate_inputs_fe49fc85-609f-4b66-b535-db105f3fec45\n",
      "2024-08-30 07:43:57 -0700   98603 execution.flow     INFO     Start executing nodes in thread pool mode.\n",
      "2024-08-30 07:43:57 -0700   98603 execution.flow     INFO     Start to run 2 nodes with concurrency level 16.\n",
      "2024-08-30 07:43:57 -0700   98603 execution.flow     INFO     Current thread is not main thread, skip signal handler registration in AsyncNodesScheduler.\n",
      "2024-08-30 07:43:57 -0700   98603 execution.flow     INFO     Executing node validate_inputs. node run id: 9d1d6390-e2d0-4dcd-8f91-740840f9f00d_validate_inputs_208a6636-9f9a-4467-8501-46f7664af7ab\n",
      "2024-08-30 07:43:57 -0700   98603 execution.flow     INFO     Node validate_inputs completes.\n",
      "2024-08-30 07:43:57 -0700   98603 execution.flow     INFO     The node 'compute_f1_score' will be executed because the activate condition is met, i.e. '${validate_inputs.output}' is equal to 'True'.\n",
      "2024-08-30 07:43:57 -0700   98603 execution.flow     INFO     Executing node compute_f1_score. node run id: bbea0d2f-58bc-47e7-a530-5532f5ce088c_compute_f1_score_66efc673-cf5e-4c57-8c13-d46e26765959\n",
      "2024-08-30 07:43:57 -0700   98603 execution.flow     INFO     Node validate_inputs completes.\n",
      "2024-08-30 07:43:57 -0700   98603 execution.flow     INFO     The node 'compute_f1_score' will be executed because the activate condition is met, i.e. '${validate_inputs.output}' is equal to 'True'.\n",
      "2024-08-30 07:43:57 -0700   98603 execution.flow     INFO     Executing node compute_f1_score. node run id: 9d1d6390-e2d0-4dcd-8f91-740840f9f00d_compute_f1_score_532cab97-76ed-4709-ac04-567ccf99b75d\n",
      "2024-08-30 07:43:57 -0700   98603 execution.flow     INFO     Node compute_f1_score completes.\n",
      "2024-08-30 07:43:57 -0700   98603 execution.flow     INFO     Node compute_f1_score completes.\n"
     ]
    },
    {
     "name": "stderr",
     "output_type": "stream",
     "text": [
      "[2024-08-30 07:43:58 -0700][flowinvoker][INFO] - Validating flow input with data {'answer': 'Russia is the largest country by area.', 'ground_truth': 'The largest country by area is Russia.'}\n",
      "[2024-08-30 07:43:58 -0700][flowinvoker][INFO] - Execute flow with data {'answer': 'Russia is the largest country by area.', 'ground_truth': 'The largest country by area is Russia.'}\n"
     ]
    },
    {
     "name": "stdout",
     "output_type": "stream",
     "text": [
      "2024-08-30 07:43:58 -0700   98603 execution.flow     INFO     Start executing nodes in thread pool mode.\n",
      "2024-08-30 07:43:58 -0700   98603 execution.flow     INFO     Start to run 2 nodes with concurrency level 16.\n",
      "2024-08-30 07:43:58 -0700   98603 execution.flow     INFO     Current thread is not main thread, skip signal handler registration in AsyncNodesScheduler.\n",
      "2024-08-30 07:43:58 -0700   98603 execution.flow     INFO     Executing node validate_inputs. node run id: 0a5a38e5-6997-45d8-821a-c9ac48f2c9d8_validate_inputs_e612791b-4609-4db9-8006-2ce41ba49957\n",
      "2024-08-30 07:43:58 -0700   98603 execution.flow     INFO     Node validate_inputs completes.\n",
      "2024-08-30 07:43:58 -0700   98603 execution.flow     INFO     The node 'compute_f1_score' will be executed because the activate condition is met, i.e. '${validate_inputs.output}' is equal to 'True'.\n",
      "2024-08-30 07:43:58 -0700   98603 execution.flow     INFO     Executing node compute_f1_score. node run id: 0a5a38e5-6997-45d8-821a-c9ac48f2c9d8_compute_f1_score_a8041726-f4c7-44fb-ba4e-76679c07b3d9\n",
      "2024-08-30 07:43:58 -0700   98603 execution.flow     INFO     Node compute_f1_score completes.\n"
     ]
    },
    {
     "name": "stderr",
     "output_type": "stream",
     "text": [
      "[2024-08-30 07:43:58 -0700][flowinvoker][INFO] - Validating flow input with data {'answer': 'The Nile is the longest river in the world.', 'ground_truth': 'The longest river in the world is the Nile.'}\n",
      "[2024-08-30 07:43:58 -0700][flowinvoker][INFO] - Execute flow with data {'answer': 'The Nile is the longest river in the world.', 'ground_truth': 'The longest river in the world is the Nile.'}\n",
      "[2024-08-30 07:43:58 -0700][flowinvoker][INFO] - Validating flow input with data {'answer': 'Alexander Graham Bell invented the telephone.', 'ground_truth': 'Alexander Graham Bell invented the telephone.'}\n",
      "[2024-08-30 07:43:58 -0700][flowinvoker][INFO] - Execute flow with data {'answer': 'Alexander Graham Bell invented the telephone.', 'ground_truth': 'Alexander Graham Bell invented the telephone.'}\n",
      "[2024-08-30 07:43:58 -0700][flowinvoker][INFO] - Validating flow input with data {'answer': 'The freezing point of water is 0 degrees Celsius.', 'ground_truth': 'The freezing point of water is 0 degrees Celsius.'}\n",
      "[2024-08-30 07:43:58 -0700][flowinvoker][INFO] - Execute flow with data {'answer': 'The freezing point of water is 0 degrees Celsius.', 'ground_truth': 'The freezing point of water is 0 degrees Celsius.'}\n",
      "[2024-08-30 07:43:58 -0700][flowinvoker][INFO] - Validating flow input with data {'answer': 'Ottawa is the capital of Canada.', 'ground_truth': 'The capital of Canada is Ottawa.'}\n",
      "[2024-08-30 07:43:58 -0700][flowinvoker][INFO] - Execute flow with data {'answer': 'Ottawa is the capital of Canada.', 'ground_truth': 'The capital of Canada is Ottawa.'}\n",
      "[2024-08-30 07:43:58 -0700][flowinvoker][INFO] - Validating flow input with data {'answer': 'Portuguese is the primary language spoken in Brazil.', 'ground_truth': 'The primary language spoken in Brazil is Portuguese.'}\n",
      "[2024-08-30 07:43:58 -0700][flowinvoker][INFO] - Execute flow with data {'answer': 'Portuguese is the primary language spoken in Brazil.', 'ground_truth': 'The primary language spoken in Brazil is Portuguese.'}\n"
     ]
    },
    {
     "name": "stdout",
     "output_type": "stream",
     "text": [
      "2024-08-30 07:43:58 -0700   98603 execution.flow     INFO     Start executing nodes in thread pool mode.\n",
      "2024-08-30 07:43:58 -0700   98603 execution.flow     INFO     Start to run 2 nodes with concurrency level 16.\n",
      "2024-08-30 07:43:58 -0700   98603 execution.flow     INFO     Current thread is not main thread, skip signal handler registration in AsyncNodesScheduler.\n",
      "2024-08-30 07:43:58 -0700   98603 execution.flow     INFO     Executing node validate_inputs. node run id: c2543195-5610-4f5c-84b8-a1ea983f7e33_validate_inputs_1c9d00a9-c4a0-43c5-ae51-b39c47394262\n",
      "2024-08-30 07:43:58 -0700   98603 execution.flow     INFO     Start executing nodes in thread pool mode.\n",
      "2024-08-30 07:43:58 -0700   98603 execution.flow     INFO     Start to run 2 nodes with concurrency level 16.\n",
      "2024-08-30 07:43:58 -0700   98603 execution.flow     INFO     Current thread is not main thread, skip signal handler registration in AsyncNodesScheduler.\n",
      "2024-08-30 07:43:58 -0700   98603 execution.flow     INFO     Executing node validate_inputs. node run id: 619b05ea-873f-40bb-84d0-aa6fc91e0a38_validate_inputs_b5e6cc91-635e-454a-8de3-1407c8070e9c\n",
      "2024-08-30 07:43:58 -0700   98603 execution.flow     INFO     Start executing nodes in thread pool mode.\n",
      "2024-08-30 07:43:58 -0700   98603 execution.flow     INFO     Start to run 2 nodes with concurrency level 16.\n",
      "2024-08-30 07:43:58 -0700   98603 execution.flow     INFO     Current thread is not main thread, skip signal handler registration in AsyncNodesScheduler.\n",
      "2024-08-30 07:43:58 -0700   98603 execution.flow     INFO     Executing node validate_inputs. node run id: be5c13d3-fb5f-443d-952d-4e4593fa0fe0_validate_inputs_cca62f12-1d00-4616-800e-f1927f448442\n",
      "2024-08-30 07:43:58 -0700   98603 execution.flow     INFO     Start executing nodes in thread pool mode.\n",
      "2024-08-30 07:43:58 -0700   98603 execution.flow     INFO     Start to run 2 nodes with concurrency level 16.\n",
      "2024-08-30 07:43:58 -0700   98603 execution.flow     INFO     Current thread is not main thread, skip signal handler registration in AsyncNodesScheduler.\n",
      "2024-08-30 07:43:58 -0700   98603 execution.flow     INFO     Executing node validate_inputs. node run id: 29c20cb5-261f-4ecd-986f-0e15a59d55b1_validate_inputs_9c80b110-75e8-4b98-af18-2ef0335d9784\n",
      "2024-08-30 07:43:58 -0700   98603 execution.flow     INFO     Start executing nodes in thread pool mode.\n",
      "2024-08-30 07:43:58 -0700   98603 execution.flow     INFO     Start to run 2 nodes with concurrency level 16.\n",
      "2024-08-30 07:43:58 -0700   98603 execution.flow     INFO     Current thread is not main thread, skip signal handler registration in AsyncNodesScheduler.\n",
      "2024-08-30 07:43:58 -0700   98603 execution.flow     INFO     Executing node validate_inputs. node run id: 2ece17d9-9c44-4f78-9518-ac6ede906761_validate_inputs_082b1535-6cbe-4f70-9ade-9d956b47abd0\n",
      "2024-08-30 07:43:58 -0700   98603 execution.flow     INFO     Node validate_inputs completes.\n",
      "2024-08-30 07:43:58 -0700   98603 execution.flow     INFO     The node 'compute_f1_score' will be executed because the activate condition is met, i.e. '${validate_inputs.output}' is equal to 'True'.\n",
      "2024-08-30 07:43:58 -0700   98603 execution.flow     INFO     Executing node compute_f1_score. node run id: be5c13d3-fb5f-443d-952d-4e4593fa0fe0_compute_f1_score_7f324042-fe2f-4d37-9cc9-45546d4a91e3\n",
      "2024-08-30 07:43:58 -0700   98603 execution.flow     INFO     Node validate_inputs completes.\n",
      "2024-08-30 07:43:58 -0700   98603 execution.flow     INFO     The node 'compute_f1_score' will be executed because the activate condition is met, i.e. '${validate_inputs.output}' is equal to 'True'.\n",
      "2024-08-30 07:43:58 -0700   98603 execution.flow     INFO     Executing node compute_f1_score. node run id: 29c20cb5-261f-4ecd-986f-0e15a59d55b1_compute_f1_score_64aa527f-e176-40eb-b994-7048a5defa45\n",
      "2024-08-30 07:43:58 -0700   98603 execution.flow     INFO     Node validate_inputs completes.\n",
      "2024-08-30 07:43:58 -0700   98603 execution.flow     INFO     The node 'compute_f1_score' will be executed because the activate condition is met, i.e. '${validate_inputs.output}' is equal to 'True'.\n",
      "2024-08-30 07:43:58 -0700   98603 execution.flow     INFO     Executing node compute_f1_score. node run id: c2543195-5610-4f5c-84b8-a1ea983f7e33_compute_f1_score_3d7c874a-3bbc-469a-806a-c41c9cbbb77b\n",
      "2024-08-30 07:43:58 -0700   98603 execution.flow     INFO     Node validate_inputs completes.\n",
      "2024-08-30 07:43:58 -0700   98603 execution.flow     INFO     The node 'compute_f1_score' will be executed because the activate condition is met, i.e. '${validate_inputs.output}' is equal to 'True'.\n",
      "2024-08-30 07:43:58 -0700   98603 execution.flow     INFO     Executing node compute_f1_score. node run id: 619b05ea-873f-40bb-84d0-aa6fc91e0a38_compute_f1_score_46f07541-e138-408f-a10b-7a9eed3ec2ba\n"
     ]
    },
    {
     "name": "stderr",
     "output_type": "stream",
     "text": [
      "[2024-08-30 07:43:58 -0700][flowinvoker][INFO] - Validating flow input with data {'answer': 'Albert Einstein is known as the father of modern physics.', 'ground_truth': 'Albert Einstein is known as the father of modern physics.'}\n",
      "[2024-08-30 07:43:58 -0700][flowinvoker][INFO] - Execute flow with data {'answer': 'Albert Einstein is known as the father of modern physics.', 'ground_truth': 'Albert Einstein is known as the father of modern physics.'}\n"
     ]
    },
    {
     "name": "stdout",
     "output_type": "stream",
     "text": [
      "2024-08-30 07:43:58 -0700   98603 execution.flow     INFO     Node validate_inputs completes.\n",
      "2024-08-30 07:43:58 -0700   98603 execution.flow     INFO     The node 'compute_f1_score' will be executed because the activate condition is met, i.e. '${validate_inputs.output}' is equal to 'True'.\n",
      "2024-08-30 07:43:58 -0700   98603 execution.flow     INFO     Executing node compute_f1_score. node run id: 2ece17d9-9c44-4f78-9518-ac6ede906761_compute_f1_score_5b91c7c2-7e4e-4bb5-80cd-6bbd666e68df\n"
     ]
    },
    {
     "name": "stderr",
     "output_type": "stream",
     "text": [
      "[2024-08-30 07:43:58 -0700][flowinvoker][INFO] - Validating flow input with data {'answer': 'Au is the chemical symbol for gold.', 'ground_truth': 'The chemical symbol for gold is Au.'}\n",
      "[2024-08-30 07:43:58 -0700][flowinvoker][INFO] - Execute flow with data {'answer': 'Au is the chemical symbol for gold.', 'ground_truth': 'The chemical symbol for gold is Au.'}\n"
     ]
    },
    {
     "name": "stdout",
     "output_type": "stream",
     "text": [
      "2024-08-30 07:43:58 -0700   98603 execution.flow     INFO     Start executing nodes in thread pool mode.\n",
      "2024-08-30 07:43:58 -0700   98603 execution.flow     INFO     Start to run 2 nodes with concurrency level 16.\n",
      "2024-08-30 07:43:58 -0700   98603 execution.flow     INFO     Current thread is not main thread, skip signal handler registration in AsyncNodesScheduler.\n",
      "2024-08-30 07:43:58 -0700   98603 execution.flow     INFO     Executing node validate_inputs. node run id: a77acd77-a6d4-4c04-bc76-b35a03cf473f_validate_inputs_406cd40a-f98c-4c14-88fa-de516c2e1d4d\n"
     ]
    },
    {
     "name": "stderr",
     "output_type": "stream",
     "text": [
      "[2024-08-30 07:43:58 -0700][flowinvoker][INFO] - Validating flow input with data {'answer': 'China is the most populous country in the world.', 'ground_truth': 'The most populous country in the world is China.'}\n",
      "[2024-08-30 07:43:58 -0700][flowinvoker][INFO] - Execute flow with data {'answer': 'China is the most populous country in the world.', 'ground_truth': 'The most populous country in the world is China.'}\n",
      "[2024-08-30 07:43:58 -0700][flowinvoker][INFO] - Validating flow input with data {'answer': 'The blue whale is the largest mammal in the world.', 'ground_truth': 'The largest mammal in the world is the blue whale.'}\n",
      "[2024-08-30 07:43:58 -0700][flowinvoker][INFO] - Execute flow with data {'answer': 'The blue whale is the largest mammal in the world.', 'ground_truth': 'The largest mammal in the world is the blue whale.'}\n"
     ]
    },
    {
     "name": "stdout",
     "output_type": "stream",
     "text": [
      "2024-08-30 07:43:58 -0700   98603 execution.flow     INFO     Start executing nodes in thread pool mode.\n",
      "2024-08-30 07:43:58 -0700   98603 execution.flow     INFO     Start to run 2 nodes with concurrency level 16.\n",
      "2024-08-30 07:43:58 -0700   98603 execution.flow     INFO     Current thread is not main thread, skip signal handler registration in AsyncNodesScheduler.\n",
      "2024-08-30 07:43:58 -0700   98603 execution.flow     INFO     Executing node validate_inputs. node run id: b15b0ada-ed6e-415d-b39a-1e8b5d576ae6_validate_inputs_048acf61-0bb3-49ba-b4a6-972ca2f02d16\n"
     ]
    },
    {
     "name": "stderr",
     "output_type": "stream",
     "text": [
      "[2024-08-30 07:43:58 -0700][flowinvoker][INFO] - Validating flow input with data {'answer': 'The atom is the smallest unit of matter.', 'ground_truth': 'The smallest unit of matter is the atom.'}\n",
      "[2024-08-30 07:43:58 -0700][flowinvoker][INFO] - Execute flow with data {'answer': 'The atom is the smallest unit of matter.', 'ground_truth': 'The smallest unit of matter is the atom.'}\n"
     ]
    },
    {
     "name": "stdout",
     "output_type": "stream",
     "text": [
      "2024-08-30 07:43:58 -0700   98603 execution.flow     INFO     Node compute_f1_score completes.\n",
      "2024-08-30 07:43:58 -0700   98603 execution.flow     INFO     Node compute_f1_score completes.\n",
      "2024-08-30 07:43:58 -0700   98603 execution.flow     INFO     Start executing nodes in thread pool mode.\n",
      "2024-08-30 07:43:58 -0700   98603 execution.flow     INFO     Start to run 2 nodes with concurrency level 16.\n",
      "2024-08-30 07:43:58 -0700   98603 execution.flow     INFO     Current thread is not main thread, skip signal handler registration in AsyncNodesScheduler.\n",
      "2024-08-30 07:43:58 -0700   98603 execution.flow     INFO     Executing node validate_inputs. node run id: 7e0c4740-a3f6-4303-ab7b-6275d978930d_validate_inputs_25a4d278-2835-41dc-9694-66ccd3ae2663\n",
      "2024-08-30 07:43:58 -0700   98603 execution.flow     INFO     Start executing nodes in thread pool mode.\n",
      "2024-08-30 07:43:58 -0700   98603 execution.flow     INFO     Start to run 2 nodes with concurrency level 16.\n",
      "2024-08-30 07:43:58 -0700   98603 execution.flow     INFO     Current thread is not main thread, skip signal handler registration in AsyncNodesScheduler.\n",
      "2024-08-30 07:43:58 -0700   98603 execution.flow     INFO     Executing node validate_inputs. node run id: 0896460f-a59d-4bdc-bdf5-2e681d635e46_validate_inputs_64a76163-a72e-4373-ba98-139ec7e93634\n",
      "2024-08-30 07:43:58 -0700   98603 execution.flow     INFO     Node compute_f1_score completes.\n",
      "2024-08-30 07:43:58 -0700   98603 execution.flow     INFO     Start executing nodes in thread pool mode.\n",
      "2024-08-30 07:43:58 -0700   98603 execution.flow     INFO     Start to run 2 nodes with concurrency level 16.\n",
      "2024-08-30 07:43:58 -0700   98603 execution.flow     INFO     Current thread is not main thread, skip signal handler registration in AsyncNodesScheduler.\n",
      "2024-08-30 07:43:58 -0700   98603 execution.flow     INFO     Executing node validate_inputs. node run id: 6d206f91-643e-40d6-97f6-00bfff460e62_validate_inputs_4a0b54ef-5767-424d-bbb5-8e46a0ed24d5\n",
      "2024-08-30 07:43:58 -0700   98603 execution.flow     INFO     Node compute_f1_score completes.\n",
      "2024-08-30 07:43:58 -0700   98603 execution.flow     INFO     Node compute_f1_score completes.\n",
      "2024-08-30 07:43:58 -0700   98603 execution.flow     INFO     Node validate_inputs completes.\n",
      "2024-08-30 07:43:58 -0700   98603 execution.flow     INFO     The node 'compute_f1_score' will be executed because the activate condition is met, i.e. '${validate_inputs.output}' is equal to 'True'.\n",
      "2024-08-30 07:43:58 -0700   98603 execution.flow     INFO     Node validate_inputs completes.\n",
      "2024-08-30 07:43:58 -0700   98603 execution.flow     INFO     Executing node compute_f1_score. node run id: 0896460f-a59d-4bdc-bdf5-2e681d635e46_compute_f1_score_1450c531-b4e7-47a0-9b6e-3982ef29a52b\n",
      "2024-08-30 07:43:58 -0700   98603 execution.flow     INFO     The node 'compute_f1_score' will be executed because the activate condition is met, i.e. '${validate_inputs.output}' is equal to 'True'.\n",
      "2024-08-30 07:43:58 -0700   98603 execution.flow     INFO     Executing node compute_f1_score. node run id: a77acd77-a6d4-4c04-bc76-b35a03cf473f_compute_f1_score_d3d73329-f7fd-4d7d-ae6b-bb077a50d342\n"
     ]
    },
    {
     "name": "stderr",
     "output_type": "stream",
     "text": [
      "[2024-08-30 07:43:58 -0700][flowinvoker][INFO] - Validating flow input with data {'answer': 'The boiling point of water is 100 degrees Celsius.', 'ground_truth': 'The boiling point of water is 100 degrees Celsius.'}\n",
      "[2024-08-30 07:43:58 -0700][flowinvoker][INFO] - Execute flow with data {'answer': 'The boiling point of water is 100 degrees Celsius.', 'ground_truth': 'The boiling point of water is 100 degrees Celsius.'}\n",
      "[2024-08-30 07:43:58 -0700][flowinvoker][INFO] - Validating flow input with data {'answer': \"Jane Austen wrote 'Pride and Prejudice'.\", 'ground_truth': \"Jane Austen wrote 'Pride and Prejudice'.\"}\n",
      "[2024-08-30 07:43:58 -0700][flowinvoker][INFO] - Execute flow with data {'answer': \"Jane Austen wrote 'Pride and Prejudice'.\", 'ground_truth': \"Jane Austen wrote 'Pride and Prejudice'.\"}\n"
     ]
    },
    {
     "name": "stdout",
     "output_type": "stream",
     "text": [
      "2024-08-30 07:43:58 -0700   98603 execution.flow     INFO     Node validate_inputs completes.\n",
      "2024-08-30 07:43:58 -0700   98603 execution.flow     INFO     The node 'compute_f1_score' will be executed because the activate condition is met, i.e. '${validate_inputs.output}' is equal to 'True'.\n",
      "2024-08-30 07:43:58 -0700   98603 execution.flow     INFO     Executing node compute_f1_score. node run id: b15b0ada-ed6e-415d-b39a-1e8b5d576ae6_compute_f1_score_878276ee-5d09-44dc-8eda-df148f0821d2\n",
      "2024-08-30 07:43:58 -0700   98603 execution.flow     INFO     Start executing nodes in thread pool mode.\n",
      "2024-08-30 07:43:58 -0700   98603 execution.flow     INFO     Start to run 2 nodes with concurrency level 16.\n",
      "2024-08-30 07:43:58 -0700   98603 execution.flow     INFO     Current thread is not main thread, skip signal handler registration in AsyncNodesScheduler.\n",
      "2024-08-30 07:43:58 -0700   98603 execution.flow     INFO     Executing node validate_inputs. node run id: d23bd814-76a0-4db8-8b49-8cb4a169a50b_validate_inputs_f7714e36-3b17-4562-a956-bb3d62647a15\n",
      "2024-08-30 07:43:58 -0700   98603 execution.flow     INFO     Start executing nodes in thread pool mode.\n",
      "2024-08-30 07:43:58 -0700   98603 execution.flow     INFO     Start to run 2 nodes with concurrency level 16.\n",
      "2024-08-30 07:43:58 -0700   98603 execution.flow     INFO     Current thread is not main thread, skip signal handler registration in AsyncNodesScheduler.\n",
      "2024-08-30 07:43:58 -0700   98603 execution.flow     INFO     Executing node validate_inputs. node run id: 729cfd10-d22f-450c-9e11-0c8264629eb6_validate_inputs_c1a853d7-2687-4dc7-a2d1-5e57cccb5735\n",
      "2024-08-30 07:43:58 -0700   98603 execution.flow     INFO     Node validate_inputs completes.\n",
      "2024-08-30 07:43:58 -0700   98603 execution.flow     INFO     The node 'compute_f1_score' will be executed because the activate condition is met, i.e. '${validate_inputs.output}' is equal to 'True'.\n",
      "2024-08-30 07:43:58 -0700   98603 execution.flow     INFO     Executing node compute_f1_score. node run id: 7e0c4740-a3f6-4303-ab7b-6275d978930d_compute_f1_score_7878b0b0-8b16-44a8-b8c5-cca0c4d0ca82\n",
      "2024-08-30 07:43:58 -0700   98603 execution.flow     INFO     Node validate_inputs completes.\n",
      "2024-08-30 07:43:58 -0700   98603 execution.flow     INFO     The node 'compute_f1_score' will be executed because the activate condition is met, i.e. '${validate_inputs.output}' is equal to 'True'.\n",
      "2024-08-30 07:43:58 -0700   98603 execution.flow     INFO     Executing node compute_f1_score. node run id: 6d206f91-643e-40d6-97f6-00bfff460e62_compute_f1_score_28667100-c84b-4b4f-8628-fc90f1ccdaf1\n",
      "2024-08-30 07:43:58 -0700   98603 execution.flow     INFO     Node compute_f1_score completes.\n",
      "2024-08-30 07:43:58 -0700   98603 execution.flow     INFO     Node compute_f1_score completes.\n",
      "2024-08-30 07:43:58 -0700   98603 execution.flow     INFO     Node compute_f1_score completes.\n",
      "2024-08-30 07:43:58 -0700   98603 execution.flow     INFO     Node validate_inputs completes.\n",
      "2024-08-30 07:43:58 -0700   98603 execution.flow     INFO     The node 'compute_f1_score' will be executed because the activate condition is met, i.e. '${validate_inputs.output}' is equal to 'True'.\n",
      "2024-08-30 07:43:58 -0700   98603 execution.flow     INFO     Executing node compute_f1_score. node run id: d23bd814-76a0-4db8-8b49-8cb4a169a50b_compute_f1_score_fb994d5b-1ba7-4562-aa4c-39350174d62b\n",
      "2024-08-30 07:43:58 -0700   98603 execution.flow     INFO     Node validate_inputs completes.\n",
      "2024-08-30 07:43:58 -0700   98603 execution.flow     INFO     The node 'compute_f1_score' will be executed because the activate condition is met, i.e. '${validate_inputs.output}' is equal to 'True'.\n",
      "2024-08-30 07:43:58 -0700   98603 execution.flow     INFO     Executing node compute_f1_score. node run id: 729cfd10-d22f-450c-9e11-0c8264629eb6_compute_f1_score_00b85c06-8c2b-40b9-8a1a-cbc64bd6bc47\n",
      "2024-08-30 07:43:58 -0700   98603 execution.flow     INFO     Node compute_f1_score completes.\n",
      "2024-08-30 07:43:58 -0700   98603 execution.flow     INFO     Node compute_f1_score completes.\n",
      "2024-08-30 07:43:58 -0700   98603 execution.flow     INFO     Node compute_f1_score completes.\n",
      "2024-08-30 07:43:58 -0700   98603 execution.flow     INFO     Node compute_f1_score completes.\n"
     ]
    },
    {
     "name": "stderr",
     "output_type": "stream",
     "text": [
      "[2024-08-30 07:43:58 -0700][flowinvoker][INFO] - Validating flow input with data {'answer': \"Nitrogen is the most abundant gas in the Earth's atmosphere.\", 'ground_truth': \"The most abundant gas in the Earth's atmosphere is nitrogen.\"}\n",
      "[2024-08-30 07:43:58 -0700][flowinvoker][INFO] - Execute flow with data {'answer': \"Nitrogen is the most abundant gas in the Earth's atmosphere.\", 'ground_truth': \"The most abundant gas in the Earth's atmosphere is nitrogen.\"}\n",
      "[2024-08-30 07:43:58 -0700][flowinvoker][INFO] - Validating flow input with data {'answer': 'Rome is the capital of Italy.', 'ground_truth': 'The capital of Italy is Rome.'}\n",
      "[2024-08-30 07:43:58 -0700][flowinvoker][INFO] - Execute flow with data {'answer': 'Rome is the capital of Italy.', 'ground_truth': 'The capital of Italy is Rome.'}\n",
      "[2024-08-30 07:43:58 -0700][flowinvoker][INFO] - Validating flow input with data {'answer': 'The square root of 64 is 8.', 'ground_truth': 'The square root of 64 is 8.'}\n",
      "[2024-08-30 07:43:58 -0700][flowinvoker][INFO] - Execute flow with data {'answer': 'The square root of 64 is 8.', 'ground_truth': 'The square root of 64 is 8.'}\n",
      "[2024-08-30 07:43:59 -0700][flowinvoker][INFO] - Validating flow input with data {'answer': \"Harper Lee wrote 'To Kill a Mockingbird'.\", 'ground_truth': \"Harper Lee wrote 'To Kill a Mockingbird'.\"}\n",
      "[2024-08-30 07:43:59 -0700][flowinvoker][INFO] - Execute flow with data {'answer': \"Harper Lee wrote 'To Kill a Mockingbird'.\", 'ground_truth': \"Harper Lee wrote 'To Kill a Mockingbird'.\"}\n"
     ]
    },
    {
     "name": "stdout",
     "output_type": "stream",
     "text": [
      "2024-08-30 07:43:59 -0700   98603 execution.flow     INFO     Start executing nodes in thread pool mode.\n",
      "2024-08-30 07:43:59 -0700   98603 execution.flow     INFO     Start to run 2 nodes with concurrency level 16.\n",
      "2024-08-30 07:43:59 -0700   98603 execution.flow     INFO     Current thread is not main thread, skip signal handler registration in AsyncNodesScheduler.\n",
      "2024-08-30 07:43:59 -0700   98603 execution.flow     INFO     Executing node validate_inputs. node run id: 06d53481-e01a-43ef-bf0e-125a601d5fbc_validate_inputs_9cab7458-d0b6-46ff-b803-5a91bcd577f4\n",
      "2024-08-30 07:43:59 -0700   98603 execution.flow     INFO     Start executing nodes in thread pool mode.\n",
      "2024-08-30 07:43:59 -0700   98603 execution.flow     INFO     Start to run 2 nodes with concurrency level 16.\n",
      "2024-08-30 07:43:59 -0700   98603 execution.flow     INFO     Current thread is not main thread, skip signal handler registration in AsyncNodesScheduler.\n",
      "2024-08-30 07:43:59 -0700   98603 execution.flow     INFO     Start executing nodes in thread pool mode.\n",
      "2024-08-30 07:43:59 -0700   98603 execution.flow     INFO     Executing node validate_inputs. node run id: 94ed0be9-933a-44fc-82a7-84af20a986be_validate_inputs_7a67abb7-bab3-47e8-884b-df418d22d22d\n",
      "2024-08-30 07:43:59 -0700   98603 execution.flow     INFO     Start to run 2 nodes with concurrency level 16.\n",
      "2024-08-30 07:43:59 -0700   98603 execution.flow     INFO     Current thread is not main thread, skip signal handler registration in AsyncNodesScheduler.\n",
      "2024-08-30 07:43:59 -0700   98603 execution.flow     INFO     Executing node validate_inputs. node run id: 143305b1-0d33-4a4c-bee0-242a8d71c5d0_validate_inputs_9977a12b-9920-45c3-a86d-4b39e50069ca\n",
      "2024-08-30 07:43:59 -0700   98603 execution.flow     INFO     Start executing nodes in thread pool mode.\n",
      "2024-08-30 07:43:59 -0700   98603 execution.flow     INFO     Start to run 2 nodes with concurrency level 16.\n",
      "2024-08-30 07:43:59 -0700   98603 execution.flow     INFO     Current thread is not main thread, skip signal handler registration in AsyncNodesScheduler.\n",
      "2024-08-30 07:43:59 -0700   98603 execution.flow     INFO     Executing node validate_inputs. node run id: 9439e249-0b91-423e-a9bc-ea649ec497be_validate_inputs_330701dd-69e6-4790-b84a-acee5725d5d9\n",
      "2024-08-30 07:43:59 -0700   98603 execution.flow     INFO     Node validate_inputs completes.\n",
      "2024-08-30 07:43:59 -0700   98603 execution.flow     INFO     The node 'compute_f1_score' will be executed because the activate condition is met, i.e. '${validate_inputs.output}' is equal to 'True'.\n",
      "2024-08-30 07:43:59 -0700   98603 execution.flow     INFO     Executing node compute_f1_score. node run id: 06d53481-e01a-43ef-bf0e-125a601d5fbc_compute_f1_score_b2fc0432-62c2-41bf-b206-97b53f10822e\n",
      "2024-08-30 07:43:59 -0700   98603 execution.flow     INFO     Node validate_inputs completes.\n",
      "2024-08-30 07:43:59 -0700   98603 execution.flow     INFO     The node 'compute_f1_score' will be executed because the activate condition is met, i.e. '${validate_inputs.output}' is equal to 'True'.\n",
      "2024-08-30 07:43:59 -0700   98603 execution.flow     INFO     Executing node compute_f1_score. node run id: 94ed0be9-933a-44fc-82a7-84af20a986be_compute_f1_score_c4d10e37-1f14-40a3-865c-99f3f2d7466f\n",
      "2024-08-30 07:43:59 -0700   98603 execution.flow     INFO     Node validate_inputs completes.\n",
      "2024-08-30 07:43:59 -0700   98603 execution.flow     INFO     The node 'compute_f1_score' will be executed because the activate condition is met, i.e. '${validate_inputs.output}' is equal to 'True'.\n",
      "2024-08-30 07:43:59 -0700   98603 execution.flow     INFO     Executing node compute_f1_score. node run id: 143305b1-0d33-4a4c-bee0-242a8d71c5d0_compute_f1_score_0fd1d2bc-7244-4046-9e6d-914aeef82216\n",
      "2024-08-30 07:43:59 -0700   98603 execution.flow     INFO     Node validate_inputs completes.\n",
      "2024-08-30 07:43:59 -0700   98603 execution.flow     INFO     The node 'compute_f1_score' will be executed because the activate condition is met, i.e. '${validate_inputs.output}' is equal to 'True'.\n",
      "2024-08-30 07:43:59 -0700   98603 execution.flow     INFO     Executing node compute_f1_score. node run id: 9439e249-0b91-423e-a9bc-ea649ec497be_compute_f1_score_df3282b9-2e29-447d-a050-a8abce477ae5\n",
      "2024-08-30 07:43:59 -0700   98603 execution.flow     INFO     Node compute_f1_score completes.\n",
      "2024-08-30 07:43:59 -0700   98603 execution.flow     INFO     Node compute_f1_score completes.\n",
      "2024-08-30 07:43:59 -0700   98603 execution.flow     INFO     Node compute_f1_score completes.\n",
      "2024-08-30 07:43:59 -0700   98603 execution.flow     INFO     Node compute_f1_score completes.\n"
     ]
    },
    {
     "name": "stderr",
     "output_type": "stream",
     "text": [
      "[2024-08-30 07:43:59 -0700][flowinvoker][INFO] - Validating flow input with data {'answer': 'O is the chemical symbol for oxygen.', 'ground_truth': 'The chemical symbol for oxygen is O.'}\n",
      "[2024-08-30 07:43:59 -0700][flowinvoker][INFO] - Execute flow with data {'answer': 'O is the chemical symbol for oxygen.', 'ground_truth': 'The chemical symbol for oxygen is O.'}\n"
     ]
    },
    {
     "name": "stdout",
     "output_type": "stream",
     "text": [
      "2024-08-30 07:43:59 -0700   98603 execution.flow     INFO     Start executing nodes in thread pool mode.\n",
      "2024-08-30 07:43:59 -0700   98603 execution.flow     INFO     Start to run 2 nodes with concurrency level 16.\n",
      "2024-08-30 07:43:59 -0700   98603 execution.flow     INFO     Current thread is not main thread, skip signal handler registration in AsyncNodesScheduler.\n",
      "2024-08-30 07:43:59 -0700   98603 execution.flow     INFO     Executing node validate_inputs. node run id: aa074184-ffbc-490b-9faf-4c42ef8b77ff_validate_inputs_372774f1-268b-4980-8a1b-16bb0543fccd\n",
      "2024-08-30 07:43:59 -0700   98603 execution.flow     INFO     Node validate_inputs completes.\n",
      "2024-08-30 07:43:59 -0700   98603 execution.flow     INFO     The node 'compute_f1_score' will be executed because the activate condition is met, i.e. '${validate_inputs.output}' is equal to 'True'.\n",
      "2024-08-30 07:43:59 -0700   98603 execution.flow     INFO     Executing node compute_f1_score. node run id: aa074184-ffbc-490b-9faf-4c42ef8b77ff_compute_f1_score_ba54e794-5a30-4e21-a087-4f2e92143c19\n",
      "2024-08-30 07:43:59 -0700   98603 execution.flow     INFO     Node compute_f1_score completes.\n"
     ]
    },
    {
     "name": "stderr",
     "output_type": "stream",
     "text": [
      "[2024-08-30 07:43:59 -0700][flowinvoker][INFO] - Validating flow input with data {'answer': 'Asia is the largest continent on Earth.', 'ground_truth': 'The largest continent on Earth is Asia.'}\n",
      "[2024-08-30 07:43:59 -0700][flowinvoker][INFO] - Execute flow with data {'answer': 'Asia is the largest continent on Earth.', 'ground_truth': 'The largest continent on Earth is Asia.'}\n"
     ]
    },
    {
     "name": "stdout",
     "output_type": "stream",
     "text": [
      "2024-08-30 07:43:59 -0700   98603 execution.flow     INFO     Start executing nodes in thread pool mode.\n",
      "2024-08-30 07:43:59 -0700   98603 execution.flow     INFO     Start to run 2 nodes with concurrency level 16.\n",
      "2024-08-30 07:43:59 -0700   98603 execution.flow     INFO     Current thread is not main thread, skip signal handler registration in AsyncNodesScheduler.\n",
      "2024-08-30 07:43:59 -0700   98603 execution.flow     INFO     Executing node validate_inputs. node run id: def55b6d-4344-4b7f-b6f2-f7cd228e8cab_validate_inputs_39d64132-f4ba-40bb-bbdb-56342ed47b21\n",
      "2024-08-30 07:43:59 -0700   98603 execution.flow     INFO     Node validate_inputs completes.\n",
      "2024-08-30 07:43:59 -0700   98603 execution.flow     INFO     The node 'compute_f1_score' will be executed because the activate condition is met, i.e. '${validate_inputs.output}' is equal to 'True'.\n",
      "2024-08-30 07:43:59 -0700   98603 execution.flow     INFO     Executing node compute_f1_score. node run id: def55b6d-4344-4b7f-b6f2-f7cd228e8cab_compute_f1_score_1e0f9112-337a-40e0-a476-6e715fe50b1c\n",
      "2024-08-30 07:43:59 -0700   98603 execution.flow     INFO     Node compute_f1_score completes.\n"
     ]
    },
    {
     "name": "stderr",
     "output_type": "stream",
     "text": [
      "[2024-08-30 07:43:59 -0700][flowinvoker][INFO] - Validating flow input with data {'answer': 'The Pacific Ocean is the deepest ocean in the world.', 'ground_truth': 'The deepest ocean in the world is the Pacific Ocean.'}\n",
      "[2024-08-30 07:43:59 -0700][flowinvoker][INFO] - Execute flow with data {'answer': 'The Pacific Ocean is the deepest ocean in the world.', 'ground_truth': 'The deepest ocean in the world is the Pacific Ocean.'}\n"
     ]
    },
    {
     "name": "stdout",
     "output_type": "stream",
     "text": [
      "2024-08-30 07:43:59 -0700   98603 execution.flow     INFO     Start executing nodes in thread pool mode.\n",
      "2024-08-30 07:43:59 -0700   98603 execution.flow     INFO     Start to run 2 nodes with concurrency level 16.\n",
      "2024-08-30 07:43:59 -0700   98603 execution.flow     INFO     Current thread is not main thread, skip signal handler registration in AsyncNodesScheduler.\n",
      "2024-08-30 07:43:59 -0700   98603 execution.flow     INFO     Executing node validate_inputs. node run id: b9bab22e-c906-450e-b76b-dc798b13a4a8_validate_inputs_baa18652-8804-499d-998b-9d680fdb858f\n",
      "2024-08-30 07:43:59 -0700   98603 execution.flow     INFO     Node validate_inputs completes.\n",
      "2024-08-30 07:43:59 -0700   98603 execution.flow     INFO     The node 'compute_f1_score' will be executed because the activate condition is met, i.e. '${validate_inputs.output}' is equal to 'True'.\n",
      "2024-08-30 07:43:59 -0700   98603 execution.flow     INFO     Executing node compute_f1_score. node run id: b9bab22e-c906-450e-b76b-dc798b13a4a8_compute_f1_score_7e0aa5f1-987f-419b-b160-fd41aba2abef\n",
      "2024-08-30 07:43:59 -0700   98603 execution.flow     INFO     Node compute_f1_score completes.\n"
     ]
    },
    {
     "name": "stderr",
     "output_type": "stream",
     "text": [
      "[2024-08-30 07:43:59 -0700][flowinvoker][INFO] - Validating flow input with data {'answer': 'George Washington was the first President of the United States.', 'ground_truth': 'George Washington was the first President of the United States.'}\n",
      "[2024-08-30 07:43:59 -0700][flowinvoker][INFO] - Execute flow with data {'answer': 'George Washington was the first President of the United States.', 'ground_truth': 'George Washington was the first President of the United States.'}\n",
      "[2024-08-30 07:43:59 -0700][flowinvoker][INFO] - Validating flow input with data {'answer': \"Oxygen is the most abundant element in the Earth's crust.\", 'ground_truth': \"The most abundant element in the Earth's crust is oxygen.\"}\n",
      "[2024-08-30 07:43:59 -0700][flowinvoker][INFO] - Execute flow with data {'answer': \"Oxygen is the most abundant element in the Earth's crust.\", 'ground_truth': \"The most abundant element in the Earth's crust is oxygen.\"}\n"
     ]
    },
    {
     "name": "stdout",
     "output_type": "stream",
     "text": [
      "2024-08-30 07:43:59 -0700   98603 execution.flow     INFO     Start executing nodes in thread pool mode.\n",
      "2024-08-30 07:43:59 -0700   98603 execution.flow     INFO     Start to run 2 nodes with concurrency level 16.\n",
      "2024-08-30 07:43:59 -0700   98603 execution.flow     INFO     Current thread is not main thread, skip signal handler registration in AsyncNodesScheduler.\n",
      "2024-08-30 07:43:59 -0700   98603 execution.flow     INFO     Executing node validate_inputs. node run id: 2f5a4b5c-806e-46ef-9e93-a44b7b06d9e9_validate_inputs_3365b839-dc39-433c-9dda-72f88b6ef881\n",
      "2024-08-30 07:43:59 -0700   98603 execution.flow     INFO     Start executing nodes in thread pool mode.\n",
      "2024-08-30 07:43:59 -0700   98603 execution.flow     INFO     Start to run 2 nodes with concurrency level 16.\n",
      "2024-08-30 07:43:59 -0700   98603 execution.flow     INFO     Current thread is not main thread, skip signal handler registration in AsyncNodesScheduler.\n",
      "2024-08-30 07:43:59 -0700   98603 execution.flow     INFO     Executing node validate_inputs. node run id: 820ecb57-bc52-496d-b3dd-21eb27502253_validate_inputs_13af3008-1edc-4c5b-830b-03fa5a02a988\n"
     ]
    },
    {
     "name": "stderr",
     "output_type": "stream",
     "text": [
      "[2024-08-30 07:43:59 -0700][flowinvoker][INFO] - Validating flow input with data {'answer': 'Canberra is the capital of Australia.', 'ground_truth': 'The capital of Australia is Canberra.'}\n",
      "[2024-08-30 07:43:59 -0700][flowinvoker][INFO] - Execute flow with data {'answer': 'Canberra is the capital of Australia.', 'ground_truth': 'The capital of Australia is Canberra.'}\n"
     ]
    },
    {
     "name": "stdout",
     "output_type": "stream",
     "text": [
      "2024-08-30 07:43:59 -0700   98603 execution.flow     INFO     Start executing nodes in thread pool mode.\n",
      "2024-08-30 07:43:59 -0700   98603 execution.flow     INFO     Start to run 2 nodes with concurrency level 16.\n",
      "2024-08-30 07:43:59 -0700   98603 execution.flow     INFO     Current thread is not main thread, skip signal handler registration in AsyncNodesScheduler.\n",
      "2024-08-30 07:43:59 -0700   98603 execution.flow     INFO     Executing node validate_inputs. node run id: 2e8745c0-88dd-4be4-aeec-2103b7f17185_validate_inputs_f01a29b6-4b62-4f67-838b-9e8dc38c0ff3\n",
      "2024-08-30 07:43:59 -0700   98603 execution.flow     INFO     Node validate_inputs completes.\n",
      "2024-08-30 07:43:59 -0700   98603 execution.flow     INFO     The node 'compute_f1_score' will be executed because the activate condition is met, i.e. '${validate_inputs.output}' is equal to 'True'.\n",
      "2024-08-30 07:43:59 -0700   98603 execution.flow     INFO     Node validate_inputs completes.\n",
      "2024-08-30 07:43:59 -0700   98603 execution.flow     INFO     Executing node compute_f1_score. node run id: 2f5a4b5c-806e-46ef-9e93-a44b7b06d9e9_compute_f1_score_947a81f7-d75f-4f83-92ba-5f12134370a7\n",
      "2024-08-30 07:43:59 -0700   98603 execution.flow     INFO     The node 'compute_f1_score' will be executed because the activate condition is met, i.e. '${validate_inputs.output}' is equal to 'True'.\n",
      "2024-08-30 07:43:59 -0700   98603 execution.flow     INFO     Executing node compute_f1_score. node run id: 820ecb57-bc52-496d-b3dd-21eb27502253_compute_f1_score_7b7190e4-c869-4514-bc13-da0e2ee749ba\n",
      "2024-08-30 07:43:59 -0700   98603 execution.flow     INFO     Node validate_inputs completes.\n",
      "2024-08-30 07:43:59 -0700   98603 execution.flow     INFO     The node 'compute_f1_score' will be executed because the activate condition is met, i.e. '${validate_inputs.output}' is equal to 'True'.\n",
      "2024-08-30 07:43:59 -0700   98603 execution.flow     INFO     Executing node compute_f1_score. node run id: 2e8745c0-88dd-4be4-aeec-2103b7f17185_compute_f1_score_1475aeb2-28b6-4b53-8a97-94bdc1376fff\n"
     ]
    },
    {
     "name": "stderr",
     "output_type": "stream",
     "text": [
      "[2024-08-30 07:43:59 -0700][flowinvoker][INFO] - Validating flow input with data {'answer': 'Greenland is the largest island in the world.', 'ground_truth': 'The largest island in the world is Greenland.'}\n",
      "[2024-08-30 07:43:59 -0700][flowinvoker][INFO] - Execute flow with data {'answer': 'Greenland is the largest island in the world.', 'ground_truth': 'The largest island in the world is Greenland.'}\n"
     ]
    },
    {
     "name": "stdout",
     "output_type": "stream",
     "text": [
      "2024-08-30 07:43:59 -0700   98603 execution.flow     INFO     Node compute_f1_score completes.\n",
      "2024-08-30 07:43:59 -0700   98603 execution.flow     INFO     Node compute_f1_score completes.\n"
     ]
    },
    {
     "name": "stderr",
     "output_type": "stream",
     "text": [
      "[2024-08-30 07:43:59 -0700][flowinvoker][INFO] - Validating flow input with data {'answer': 'Michelangelo painted the Sistine Chapel ceiling.', 'ground_truth': 'Michelangelo painted the Sistine Chapel ceiling.'}\n",
      "[2024-08-30 07:43:59 -0700][flowinvoker][INFO] - Execute flow with data {'answer': 'Michelangelo painted the Sistine Chapel ceiling.', 'ground_truth': 'Michelangelo painted the Sistine Chapel ceiling.'}\n"
     ]
    },
    {
     "name": "stdout",
     "output_type": "stream",
     "text": [
      "2024-08-30 07:43:59 -0700   98603 execution.flow     INFO     Start executing nodes in thread pool mode.\n",
      "2024-08-30 07:43:59 -0700   98603 execution.flow     INFO     Start to run 2 nodes with concurrency level 16.\n",
      "2024-08-30 07:43:59 -0700   98603 execution.flow     INFO     Current thread is not main thread, skip signal handler registration in AsyncNodesScheduler.\n",
      "2024-08-30 07:43:59 -0700   98603 execution.flow     INFO     Executing node validate_inputs. node run id: fe59d120-f8e5-465c-a364-b1cc63e0d1bb_validate_inputs_5ac78b42-06c8-4d60-96ee-345dfa0f66ea\n",
      "2024-08-30 07:43:59 -0700   98603 execution.flow     INFO     Node compute_f1_score completes.\n",
      "2024-08-30 07:43:59 -0700   98603 execution.flow     INFO     Start executing nodes in thread pool mode.\n",
      "2024-08-30 07:43:59 -0700   98603 execution.flow     INFO     Start to run 2 nodes with concurrency level 16.\n",
      "2024-08-30 07:43:59 -0700   98603 execution.flow     INFO     Current thread is not main thread, skip signal handler registration in AsyncNodesScheduler.\n",
      "2024-08-30 07:43:59 -0700   98603 execution.flow     INFO     Executing node validate_inputs. node run id: 2e67ca74-c384-4c69-8354-56b61b135c42_validate_inputs_245c7042-0a27-4bba-a4da-7a0cbe339dc5\n"
     ]
    },
    {
     "name": "stderr",
     "output_type": "stream",
     "text": [
      "[2024-08-30 07:43:59 -0700][flowinvoker][INFO] - Validating flow input with data {'answer': 'Avocado is the main ingredient in guacamole.', 'ground_truth': 'The main ingredient in guacamole is avocado.'}\n",
      "[2024-08-30 07:43:59 -0700][flowinvoker][INFO] - Execute flow with data {'answer': 'Avocado is the main ingredient in guacamole.', 'ground_truth': 'The main ingredient in guacamole is avocado.'}\n",
      "[2024-08-30 07:43:59 -0700][flowinvoker][INFO] - Validating flow input with data {'answer': 'Moscow is the capital of Russia.', 'ground_truth': 'The capital of Russia is Moscow.'}\n",
      "[2024-08-30 07:43:59 -0700][flowinvoker][INFO] - Execute flow with data {'answer': 'Moscow is the capital of Russia.', 'ground_truth': 'The capital of Russia is Moscow.'}\n"
     ]
    },
    {
     "name": "stdout",
     "output_type": "stream",
     "text": [
      "2024-08-30 07:43:59 -0700   98603 execution.flow     INFO     Node validate_inputs completes.\n",
      "2024-08-30 07:43:59 -0700   98603 execution.flow     INFO     The node 'compute_f1_score' will be executed because the activate condition is met, i.e. '${validate_inputs.output}' is equal to 'True'.\n",
      "2024-08-30 07:43:59 -0700   98603 execution.flow     INFO     Executing node compute_f1_score. node run id: fe59d120-f8e5-465c-a364-b1cc63e0d1bb_compute_f1_score_697cef0c-66fc-486f-9836-a623c059183e\n"
     ]
    },
    {
     "name": "stderr",
     "output_type": "stream",
     "text": [
      "[2024-08-30 07:43:59 -0700][flowinvoker][INFO] - Validating flow input with data {'answer': 'The femur is the largest bone in the human body.', 'ground_truth': 'The largest bone in the human body is the femur.'}\n",
      "[2024-08-30 07:44:00 -0700][flowinvoker][INFO] - Execute flow with data {'answer': 'The femur is the largest bone in the human body.', 'ground_truth': 'The largest bone in the human body is the femur.'}\n"
     ]
    },
    {
     "name": "stdout",
     "output_type": "stream",
     "text": [
      "2024-08-30 07:44:00 -0700   98603 execution.flow     INFO     Node validate_inputs completes.\n",
      "2024-08-30 07:44:00 -0700   98603 execution.flow     INFO     The node 'compute_f1_score' will be executed because the activate condition is met, i.e. '${validate_inputs.output}' is equal to 'True'.\n",
      "2024-08-30 07:44:00 -0700   98603 execution.flow     INFO     Executing node compute_f1_score. node run id: 2e67ca74-c384-4c69-8354-56b61b135c42_compute_f1_score_d61789df-c86b-4d70-a1dd-d1a937aa73c5\n",
      "2024-08-30 07:44:00 -0700   98603 execution.flow     INFO     Start executing nodes in thread pool mode.\n",
      "2024-08-30 07:44:00 -0700   98603 execution.flow     INFO     Start to run 2 nodes with concurrency level 16.\n",
      "2024-08-30 07:44:00 -0700   98603 execution.flow     INFO     Current thread is not main thread, skip signal handler registration in AsyncNodesScheduler.\n",
      "2024-08-30 07:44:00 -0700   98603 execution.flow     INFO     Executing node validate_inputs. node run id: a493f61c-7f1f-4c05-9cde-21126c55a2d8_validate_inputs_9e084f02-8de0-4ebd-a250-522d59c53c4c\n",
      "2024-08-30 07:44:00 -0700   98603 execution.flow     INFO     Start executing nodes in thread pool mode.\n",
      "2024-08-30 07:44:00 -0700   98603 execution.flow     INFO     Start to run 2 nodes with concurrency level 16.\n",
      "2024-08-30 07:44:00 -0700   98603 execution.flow     INFO     Current thread is not main thread, skip signal handler registration in AsyncNodesScheduler.\n",
      "2024-08-30 07:44:00 -0700   98603 execution.flow     INFO     Executing node validate_inputs. node run id: f3fa4043-ba50-43db-b6ac-f836e2d2721e_validate_inputs_bcda373f-3fc6-432f-9b4e-33314b698141\n",
      "2024-08-30 07:44:00 -0700   98603 execution.flow     INFO     Start executing nodes in thread pool mode.\n",
      "2024-08-30 07:44:00 -0700   98603 execution.flow     INFO     Start to run 2 nodes with concurrency level 16.\n",
      "2024-08-30 07:44:00 -0700   98603 execution.flow     INFO     Current thread is not main thread, skip signal handler registration in AsyncNodesScheduler.\n",
      "2024-08-30 07:44:00 -0700   98603 execution.flow     INFO     Executing node validate_inputs. node run id: 43f0309e-87e4-40c9-8217-169d2621798d_validate_inputs_64403dbb-2380-4278-80c2-5eef6dbd73db\n"
     ]
    },
    {
     "name": "stderr",
     "output_type": "stream",
     "text": [
      "[2024-08-30 07:44:00 -0700][flowinvoker][INFO] - Validating flow input with data {'answer': 'Thomas Edison invented the light bulb.', 'ground_truth': 'Thomas Edison invented the light bulb.'}\n",
      "[2024-08-30 07:44:00 -0700][flowinvoker][INFO] - Execute flow with data {'answer': 'Thomas Edison invented the light bulb.', 'ground_truth': 'Thomas Edison invented the light bulb.'}\n"
     ]
    },
    {
     "name": "stdout",
     "output_type": "stream",
     "text": [
      "2024-08-30 07:44:00 -0700   98603 execution.flow     INFO     Node compute_f1_score completes.\n",
      "2024-08-30 07:44:00 -0700   98603 execution.flow     INFO     Node validate_inputs completes.\n",
      "2024-08-30 07:44:00 -0700   98603 execution.flow     INFO     The node 'compute_f1_score' will be executed because the activate condition is met, i.e. '${validate_inputs.output}' is equal to 'True'.\n",
      "2024-08-30 07:44:00 -0700   98603 execution.flow     INFO     Executing node compute_f1_score. node run id: a493f61c-7f1f-4c05-9cde-21126c55a2d8_compute_f1_score_06c79109-d7c9-45b7-834c-05a76eb9ac45\n",
      "2024-08-30 07:44:00 -0700   98603 execution.flow     INFO     Start executing nodes in thread pool mode.\n",
      "2024-08-30 07:44:00 -0700   98603 execution.flow     INFO     Start to run 2 nodes with concurrency level 16.\n",
      "2024-08-30 07:44:00 -0700   98603 execution.flow     INFO     Current thread is not main thread, skip signal handler registration in AsyncNodesScheduler.\n",
      "2024-08-30 07:44:00 -0700   98603 execution.flow     INFO     Executing node validate_inputs. node run id: dde59ed2-8119-40b0-b82f-c9efe70262fc_validate_inputs_c4a0813c-ac39-4e19-961e-e05f3f29fac1\n",
      "2024-08-30 07:44:00 -0700   98603 execution.flow     INFO     Node validate_inputs completes.\n",
      "2024-08-30 07:44:00 -0700   98603 execution.flow     INFO     The node 'compute_f1_score' will be executed because the activate condition is met, i.e. '${validate_inputs.output}' is equal to 'True'.\n",
      "2024-08-30 07:44:00 -0700   98603 execution.flow     INFO     Executing node compute_f1_score. node run id: f3fa4043-ba50-43db-b6ac-f836e2d2721e_compute_f1_score_38534306-57a2-4050-aa0f-94197dc393b2\n",
      "2024-08-30 07:44:00 -0700   98603 execution.flow     INFO     Node compute_f1_score completes.\n",
      "2024-08-30 07:44:00 -0700   98603 execution.flow     INFO     Node validate_inputs completes.\n",
      "2024-08-30 07:44:00 -0700   98603 execution.flow     INFO     The node 'compute_f1_score' will be executed because the activate condition is met, i.e. '${validate_inputs.output}' is equal to 'True'.\n",
      "2024-08-30 07:44:00 -0700   98603 execution.flow     INFO     Executing node compute_f1_score. node run id: 43f0309e-87e4-40c9-8217-169d2621798d_compute_f1_score_2a1b4f75-d3fc-47be-bbed-292b6c59160a\n",
      "2024-08-30 07:44:00 -0700   98603 execution.flow     INFO     Node compute_f1_score completes.\n",
      "2024-08-30 07:44:00 -0700   98603 execution.flow     INFO     Node validate_inputs completes.\n",
      "2024-08-30 07:44:00 -0700   98603 execution.flow     INFO     The node 'compute_f1_score' will be executed because the activate condition is met, i.e. '${validate_inputs.output}' is equal to 'True'.\n",
      "2024-08-30 07:44:00 -0700   98603 execution.flow     INFO     Executing node compute_f1_score. node run id: dde59ed2-8119-40b0-b82f-c9efe70262fc_compute_f1_score_1cfd0fd5-1954-4555-b5cd-d1ea686ec488\n",
      "2024-08-30 07:44:00 -0700   98603 execution.flow     INFO     Node compute_f1_score completes.\n",
      "2024-08-30 07:44:00 -0700   98603 execution.flow     INFO     Node compute_f1_score completes.\n"
     ]
    },
    {
     "name": "stderr",
     "output_type": "stream",
     "text": [
      "[2024-08-30 07:44:00 -0700][flowinvoker][INFO] - Validating flow input with data {'answer': 'The Amazon River is the largest river in South America.', 'ground_truth': 'The largest river in South America is the Amazon River.'}\n",
      "[2024-08-30 07:44:00 -0700][flowinvoker][INFO] - Execute flow with data {'answer': 'The Amazon River is the largest river in South America.', 'ground_truth': 'The largest river in South America is the Amazon River.'}\n"
     ]
    },
    {
     "name": "stdout",
     "output_type": "stream",
     "text": [
      "2024-08-30 07:44:00 -0700   98603 execution.flow     INFO     Node compute_f1_score completes.\n",
      "2024-08-30 07:44:00 -0700   98603 execution.flow     INFO     Start executing nodes in thread pool mode.\n",
      "2024-08-30 07:44:00 -0700   98603 execution.flow     INFO     Start to run 2 nodes with concurrency level 16.\n",
      "2024-08-30 07:44:00 -0700   98603 execution.flow     INFO     Current thread is not main thread, skip signal handler registration in AsyncNodesScheduler.\n",
      "2024-08-30 07:44:00 -0700   98603 execution.flow     INFO     Executing node validate_inputs. node run id: 0cc7fe84-8a21-4972-a011-7d8e73628471_validate_inputs_d1af8426-df0c-410d-a496-51ebf719e6ef\n"
     ]
    },
    {
     "name": "stderr",
     "output_type": "stream",
     "text": [
      "[2024-08-30 07:44:00 -0700][flowinvoker][INFO] - Validating flow input with data {'answer': 'Mandarin Chinese is the most spoken language in the world.', 'ground_truth': 'The most spoken language in the world is Mandarin Chinese.'}\n",
      "[2024-08-30 07:44:00 -0700][flowinvoker][INFO] - Execute flow with data {'answer': 'Mandarin Chinese is the most spoken language in the world.', 'ground_truth': 'The most spoken language in the world is Mandarin Chinese.'}\n",
      "[2024-08-30 07:44:00 -0700][flowinvoker][INFO] - Validating flow input with data {'answer': 'Madrid is the capital of Spain.', 'ground_truth': 'The capital of Spain is Madrid.'}\n",
      "[2024-08-30 07:44:00 -0700][flowinvoker][INFO] - Execute flow with data {'answer': 'Madrid is the capital of Spain.', 'ground_truth': 'The capital of Spain is Madrid.'}\n"
     ]
    },
    {
     "name": "stdout",
     "output_type": "stream",
     "text": [
      "2024-08-30 07:44:00 -0700   98603 execution.flow     INFO     Start executing nodes in thread pool mode.\n",
      "2024-08-30 07:44:00 -0700   98603 execution.flow     INFO     Start to run 2 nodes with concurrency level 16.\n",
      "2024-08-30 07:44:00 -0700   98603 execution.flow     INFO     Current thread is not main thread, skip signal handler registration in AsyncNodesScheduler.\n",
      "2024-08-30 07:44:00 -0700   98603 execution.flow     INFO     Executing node validate_inputs. node run id: 6e894777-99b8-4aac-abe2-755faa3eb117_validate_inputs_61fffa5c-fcbc-483e-aaf5-78039840080d\n",
      "2024-08-30 07:44:00 -0700   98603 execution.flow     INFO     Start executing nodes in thread pool mode.\n",
      "2024-08-30 07:44:00 -0700   98603 execution.flow     INFO     Start to run 2 nodes with concurrency level 16.\n",
      "2024-08-30 07:44:00 -0700   98603 execution.flow     INFO     Current thread is not main thread, skip signal handler registration in AsyncNodesScheduler.\n",
      "2024-08-30 07:44:00 -0700   98603 execution.flow     INFO     Executing node validate_inputs. node run id: 86919e3e-3023-49b5-ad7a-d63a54a363c0_validate_inputs_84faac9a-385f-4db5-9dfa-9d503b7c495c\n",
      "2024-08-30 07:44:00 -0700   98603 execution.flow     INFO     Node validate_inputs completes.\n",
      "2024-08-30 07:44:00 -0700   98603 execution.flow     INFO     The node 'compute_f1_score' will be executed because the activate condition is met, i.e. '${validate_inputs.output}' is equal to 'True'.\n",
      "2024-08-30 07:44:00 -0700   98603 execution.flow     INFO     Executing node compute_f1_score. node run id: 0cc7fe84-8a21-4972-a011-7d8e73628471_compute_f1_score_9c44d874-f3de-4913-b234-703f8c3cd2f6\n",
      "2024-08-30 07:44:00 -0700   98603 execution.flow     INFO     Node validate_inputs completes.\n",
      "2024-08-30 07:44:00 -0700   98603 execution.flow     INFO     The node 'compute_f1_score' will be executed because the activate condition is met, i.e. '${validate_inputs.output}' is equal to 'True'.\n",
      "2024-08-30 07:44:00 -0700   98603 execution.flow     INFO     Executing node compute_f1_score. node run id: 86919e3e-3023-49b5-ad7a-d63a54a363c0_compute_f1_score_5f4cd25c-30fc-4ccf-8974-d3d20b2dddec\n",
      "2024-08-30 07:44:00 -0700   98603 execution.flow     INFO     Node validate_inputs completes.\n",
      "2024-08-30 07:44:00 -0700   98603 execution.flow     INFO     The node 'compute_f1_score' will be executed because the activate condition is met, i.e. '${validate_inputs.output}' is equal to 'True'.\n",
      "2024-08-30 07:44:00 -0700   98603 execution.flow     INFO     Executing node compute_f1_score. node run id: 6e894777-99b8-4aac-abe2-755faa3eb117_compute_f1_score_aa3beb38-65fd-459f-9049-0b35e6d82eea\n",
      "2024-08-30 07:44:00 -0700   98603 execution.flow     INFO     Node compute_f1_score completes.\n",
      "2024-08-30 07:44:00 -0700   98603 execution.flow     INFO     Node compute_f1_score completes.\n",
      "2024-08-30 07:44:00 -0700   98603 execution.flow     INFO     Node compute_f1_score completes.\n"
     ]
    },
    {
     "name": "stderr",
     "output_type": "stream",
     "text": [
      "[2024-08-30 07:44:00 -0700][flowinvoker][INFO] - Validating flow input with data {'answer': 'The skin is the largest organ in the human body.', 'ground_truth': 'The largest organ in the human body is the skin.'}\n",
      "[2024-08-30 07:44:00 -0700][flowinvoker][INFO] - Execute flow with data {'answer': 'The skin is the largest organ in the human body.', 'ground_truth': 'The largest organ in the human body is the skin.'}\n"
     ]
    },
    {
     "name": "stdout",
     "output_type": "stream",
     "text": [
      "2024-08-30 07:44:00 -0700   98603 execution.flow     INFO     Start executing nodes in thread pool mode.\n",
      "2024-08-30 07:44:00 -0700   98603 execution.flow     INFO     Start to run 2 nodes with concurrency level 16.\n",
      "2024-08-30 07:44:00 -0700   98603 execution.flow     INFO     Current thread is not main thread, skip signal handler registration in AsyncNodesScheduler.\n",
      "2024-08-30 07:44:00 -0700   98603 execution.flow     INFO     Executing node validate_inputs. node run id: aa80540b-c858-452a-a19a-cc44288e0931_validate_inputs_50a4fbb6-551c-489f-bb42-eab522ae201b\n",
      "2024-08-30 07:44:00 -0700   98603 execution.flow     INFO     Node validate_inputs completes.\n",
      "2024-08-30 07:44:00 -0700   98603 execution.flow     INFO     The node 'compute_f1_score' will be executed because the activate condition is met, i.e. '${validate_inputs.output}' is equal to 'True'.\n",
      "2024-08-30 07:44:00 -0700   98603 execution.flow     INFO     Executing node compute_f1_score. node run id: aa80540b-c858-452a-a19a-cc44288e0931_compute_f1_score_45421b4a-1ca6-4dc9-a5a1-cb2720f66834\n",
      "2024-08-30 07:44:00 -0700   98603 execution.flow     INFO     Node compute_f1_score completes.\n"
     ]
    },
    {
     "name": "stderr",
     "output_type": "stream",
     "text": [
      "2024/08/30 07:44:14 INFO mlflow.tracking._tracking_service.client: 🏃 View run loving_house_fl2hx8ct at: https://eastus.api.azureml.ms/mlflow/v2.0/subscriptions/28d2df62-e322-4b25-b581-c43b94bd2607/resourceGroups/uhg-advassist-slm-eval/providers/Microsoft.MachineLearningServices/workspaces/slm-evaluation/#/experiments/d8f2318e-fd83-488e-bd9b-deca311699d7/runs/07f8788f-634a-4996-9082-276fcda912ec.\n",
      "2024/08/30 07:44:14 INFO mlflow.tracking._tracking_service.client: 🧪 View experiment at: https://eastus.api.azureml.ms/mlflow/v2.0/subscriptions/28d2df62-e322-4b25-b581-c43b94bd2607/resourceGroups/uhg-advassist-slm-eval/providers/Microsoft.MachineLearningServices/workspaces/slm-evaluation/#/experiments/d8f2318e-fd83-488e-bd9b-deca311699d7.\n",
      "2024-08-30 07:44:21,807 - micro - MainProcess - INFO     Quality evaluation completed successfully. (gpt_evals.py:run_chat_quality:120)\n",
      "2024-08-30 07:44:21,808 - micro - MainProcess - INFO     See your results in the studio for more detailed information: https://ai.azure.com/build/evaluation/07f8788f-634a-4996-9082-276fcda912ec?wsid=/subscriptions/28d2df62-e322-4b25-b581-c43b94bd2607/resourceGroups/uhg-advassist-slm-eval/providers/Microsoft.MachineLearningServices/workspaces/slm-evaluation (gpt_evals.py:run_chat_quality:123)\n",
      "2024-08-30 07:44:21,810 - micro - MainProcess - INFO     Temporary file /var/folders/j8/3l6kwfpn4ll3ztd_k3_n2yj00000gn/T/tmpkd6xsvi2.jsonl removed. (gpt_evals.py:run_chat_quality:135)\n"
     ]
    },
    {
     "name": "stdout",
     "output_type": "stream",
     "text": [
      "[{\"variableName\": \"azure_ai_project\", \"type\": \"dictionary\", \"supportedEngines\": [\"pandas\"], \"isLocalVariable\": false}, {\"variableName\": \"df\", \"type\": \"pandas\", \"supportedEngines\": [\"pandas\"], \"isLocalVariable\": false}, {\"variableName\": \"metrics_quality\", \"type\": \"dictionary\", \"supportedEngines\": [\"pandas\"], \"isLocalVariable\": false}]\n",
      "[{\"variableName\": \"azure_ai_project\", \"type\": \"dictionary\", \"supportedEngines\": [\"pandas\"], \"isLocalVariable\": false}, {\"variableName\": \"df\", \"type\": \"pandas\", \"supportedEngines\": [\"pandas\"], \"isLocalVariable\": false}, {\"variableName\": \"metrics_quality\", \"type\": \"dictionary\", \"supportedEngines\": [\"pandas\"], \"isLocalVariable\": false}]\n",
      "[{\"variableName\": \"azure_ai_project\", \"type\": \"dictionary\", \"supportedEngines\": [\"pandas\"], \"isLocalVariable\": false}, {\"variableName\": \"df\", \"type\": \"pandas\", \"supportedEngines\": [\"pandas\"], \"isLocalVariable\": false}, {\"variableName\": \"metrics_quality\", \"type\": \"dictionary\", \"supportedEngines\": [\"pandas\"], \"isLocalVariable\": false}]\n",
      "[{\"variableName\": \"azure_ai_project\", \"type\": \"dictionary\", \"supportedEngines\": [\"pandas\"], \"isLocalVariable\": false}, {\"variableName\": \"df\", \"type\": \"pandas\", \"supportedEngines\": [\"pandas\"], \"isLocalVariable\": false}, {\"variableName\": \"metrics_quality\", \"type\": \"dictionary\", \"supportedEngines\": [\"pandas\"], \"isLocalVariable\": false}]\n",
      "Directory changed to /Users/marcjimz/Documents/Development/slm-evaluation-framework\n"
     ]
    }
   ],
   "source": [
    "data_input_path = os.path.join(os.getcwd(), \"my_utils\", \"data\", \"evaluations\", \"dataframe\", \"golden_eval_dataset.csv\")\n",
    "\n",
    "# Execute the quality evaluation in parallel and batch mode. This approach optimizes performance by calculating each of the metrics mentioned above (F1 score, GPT groundedness, relevance, coherence, fluency, and similarity) concurrently across multiple data points. After computing these metrics individually, the results are aggregated to provide a comprehensive quality assessment. This method ensures efficient processing and a holistic evaluation of the chat quality.\n",
    "metrics_quality, azure_ai_studio_url = quality_evals.run_chat_quality(data_input=data_input_path)"
   ]
  },
  {
   "cell_type": "code",
   "execution_count": 6,
   "metadata": {},
   "outputs": [
    {
     "name": "stdout",
     "output_type": "stream",
     "text": [
      "Pretty printing has been turned OFF\n",
      "[{\"variableName\": \"df\", \"type\": \"pandas\", \"supportedEngines\": [\"pandas\"], \"isLocalVariable\": false}, {\"variableName\": \"metrics_quality\", \"type\": \"dictionary\", \"supportedEngines\": [\"pandas\"], \"isLocalVariable\": false}]\n",
      "[{\"variableName\": \"df\", \"type\": \"pandas\", \"supportedEngines\": [\"pandas\"], \"isLocalVariable\": false}, {\"variableName\": \"metrics_quality\", \"type\": \"dictionary\", \"supportedEngines\": [\"pandas\"], \"isLocalVariable\": false}]\n",
      "Pretty printing has been turned ON\n"
     ]
    }
   ],
   "source": [
    "pprint(metrics_quality)"
   ]
  },
  {
   "cell_type": "code",
   "execution_count": 7,
   "metadata": {},
   "outputs": [
    {
     "data": {
      "application/vnd.plotly.v1+json": {
       "config": {
        "plotlyServerURL": "https://plot.ly"
       },
       "data": [
        {
         "name": "Score (Bar)",
         "type": "bar",
         "x": [
          "f1_score",
          "gpt_relevance",
          "gpt_coherence",
          "gpt_fluency",
          "gpt_groundedness",
          "gpt_similarity"
         ],
         "xaxis": "x",
         "y": [
          0.9785592185592187,
          3.56,
          5,
          5,
          3.48,
          5
         ],
         "yaxis": "y"
        },
        {
         "mode": "lines+markers",
         "name": "Score (Line)",
         "type": "scatter",
         "x": [
          "f1_score",
          "gpt_relevance",
          "gpt_coherence",
          "gpt_fluency",
          "gpt_groundedness",
          "gpt_similarity"
         ],
         "xaxis": "x",
         "y": [
          0.9785592185592187,
          3.56,
          5,
          5,
          3.48,
          5
         ],
         "yaxis": "y2"
        }
       ],
       "layout": {
        "legend": {
         "title": {
          "text": "Metric Type"
         }
        },
        "template": {
         "data": {
          "bar": [
           {
            "error_x": {
             "color": "#2a3f5f"
            },
            "error_y": {
             "color": "#2a3f5f"
            },
            "marker": {
             "line": {
              "color": "white",
              "width": 0.5
             },
             "pattern": {
              "fillmode": "overlay",
              "size": 10,
              "solidity": 0.2
             }
            },
            "type": "bar"
           }
          ],
          "barpolar": [
           {
            "marker": {
             "line": {
              "color": "white",
              "width": 0.5
             },
             "pattern": {
              "fillmode": "overlay",
              "size": 10,
              "solidity": 0.2
             }
            },
            "type": "barpolar"
           }
          ],
          "carpet": [
           {
            "aaxis": {
             "endlinecolor": "#2a3f5f",
             "gridcolor": "#C8D4E3",
             "linecolor": "#C8D4E3",
             "minorgridcolor": "#C8D4E3",
             "startlinecolor": "#2a3f5f"
            },
            "baxis": {
             "endlinecolor": "#2a3f5f",
             "gridcolor": "#C8D4E3",
             "linecolor": "#C8D4E3",
             "minorgridcolor": "#C8D4E3",
             "startlinecolor": "#2a3f5f"
            },
            "type": "carpet"
           }
          ],
          "choropleth": [
           {
            "colorbar": {
             "outlinewidth": 0,
             "ticks": ""
            },
            "type": "choropleth"
           }
          ],
          "contour": [
           {
            "colorbar": {
             "outlinewidth": 0,
             "ticks": ""
            },
            "colorscale": [
             [
              0,
              "#0d0887"
             ],
             [
              0.1111111111111111,
              "#46039f"
             ],
             [
              0.2222222222222222,
              "#7201a8"
             ],
             [
              0.3333333333333333,
              "#9c179e"
             ],
             [
              0.4444444444444444,
              "#bd3786"
             ],
             [
              0.5555555555555556,
              "#d8576b"
             ],
             [
              0.6666666666666666,
              "#ed7953"
             ],
             [
              0.7777777777777778,
              "#fb9f3a"
             ],
             [
              0.8888888888888888,
              "#fdca26"
             ],
             [
              1,
              "#f0f921"
             ]
            ],
            "type": "contour"
           }
          ],
          "contourcarpet": [
           {
            "colorbar": {
             "outlinewidth": 0,
             "ticks": ""
            },
            "type": "contourcarpet"
           }
          ],
          "heatmap": [
           {
            "colorbar": {
             "outlinewidth": 0,
             "ticks": ""
            },
            "colorscale": [
             [
              0,
              "#0d0887"
             ],
             [
              0.1111111111111111,
              "#46039f"
             ],
             [
              0.2222222222222222,
              "#7201a8"
             ],
             [
              0.3333333333333333,
              "#9c179e"
             ],
             [
              0.4444444444444444,
              "#bd3786"
             ],
             [
              0.5555555555555556,
              "#d8576b"
             ],
             [
              0.6666666666666666,
              "#ed7953"
             ],
             [
              0.7777777777777778,
              "#fb9f3a"
             ],
             [
              0.8888888888888888,
              "#fdca26"
             ],
             [
              1,
              "#f0f921"
             ]
            ],
            "type": "heatmap"
           }
          ],
          "heatmapgl": [
           {
            "colorbar": {
             "outlinewidth": 0,
             "ticks": ""
            },
            "colorscale": [
             [
              0,
              "#0d0887"
             ],
             [
              0.1111111111111111,
              "#46039f"
             ],
             [
              0.2222222222222222,
              "#7201a8"
             ],
             [
              0.3333333333333333,
              "#9c179e"
             ],
             [
              0.4444444444444444,
              "#bd3786"
             ],
             [
              0.5555555555555556,
              "#d8576b"
             ],
             [
              0.6666666666666666,
              "#ed7953"
             ],
             [
              0.7777777777777778,
              "#fb9f3a"
             ],
             [
              0.8888888888888888,
              "#fdca26"
             ],
             [
              1,
              "#f0f921"
             ]
            ],
            "type": "heatmapgl"
           }
          ],
          "histogram": [
           {
            "marker": {
             "pattern": {
              "fillmode": "overlay",
              "size": 10,
              "solidity": 0.2
             }
            },
            "type": "histogram"
           }
          ],
          "histogram2d": [
           {
            "colorbar": {
             "outlinewidth": 0,
             "ticks": ""
            },
            "colorscale": [
             [
              0,
              "#0d0887"
             ],
             [
              0.1111111111111111,
              "#46039f"
             ],
             [
              0.2222222222222222,
              "#7201a8"
             ],
             [
              0.3333333333333333,
              "#9c179e"
             ],
             [
              0.4444444444444444,
              "#bd3786"
             ],
             [
              0.5555555555555556,
              "#d8576b"
             ],
             [
              0.6666666666666666,
              "#ed7953"
             ],
             [
              0.7777777777777778,
              "#fb9f3a"
             ],
             [
              0.8888888888888888,
              "#fdca26"
             ],
             [
              1,
              "#f0f921"
             ]
            ],
            "type": "histogram2d"
           }
          ],
          "histogram2dcontour": [
           {
            "colorbar": {
             "outlinewidth": 0,
             "ticks": ""
            },
            "colorscale": [
             [
              0,
              "#0d0887"
             ],
             [
              0.1111111111111111,
              "#46039f"
             ],
             [
              0.2222222222222222,
              "#7201a8"
             ],
             [
              0.3333333333333333,
              "#9c179e"
             ],
             [
              0.4444444444444444,
              "#bd3786"
             ],
             [
              0.5555555555555556,
              "#d8576b"
             ],
             [
              0.6666666666666666,
              "#ed7953"
             ],
             [
              0.7777777777777778,
              "#fb9f3a"
             ],
             [
              0.8888888888888888,
              "#fdca26"
             ],
             [
              1,
              "#f0f921"
             ]
            ],
            "type": "histogram2dcontour"
           }
          ],
          "mesh3d": [
           {
            "colorbar": {
             "outlinewidth": 0,
             "ticks": ""
            },
            "type": "mesh3d"
           }
          ],
          "parcoords": [
           {
            "line": {
             "colorbar": {
              "outlinewidth": 0,
              "ticks": ""
             }
            },
            "type": "parcoords"
           }
          ],
          "pie": [
           {
            "automargin": true,
            "type": "pie"
           }
          ],
          "scatter": [
           {
            "fillpattern": {
             "fillmode": "overlay",
             "size": 10,
             "solidity": 0.2
            },
            "type": "scatter"
           }
          ],
          "scatter3d": [
           {
            "line": {
             "colorbar": {
              "outlinewidth": 0,
              "ticks": ""
             }
            },
            "marker": {
             "colorbar": {
              "outlinewidth": 0,
              "ticks": ""
             }
            },
            "type": "scatter3d"
           }
          ],
          "scattercarpet": [
           {
            "marker": {
             "colorbar": {
              "outlinewidth": 0,
              "ticks": ""
             }
            },
            "type": "scattercarpet"
           }
          ],
          "scattergeo": [
           {
            "marker": {
             "colorbar": {
              "outlinewidth": 0,
              "ticks": ""
             }
            },
            "type": "scattergeo"
           }
          ],
          "scattergl": [
           {
            "marker": {
             "colorbar": {
              "outlinewidth": 0,
              "ticks": ""
             }
            },
            "type": "scattergl"
           }
          ],
          "scattermapbox": [
           {
            "marker": {
             "colorbar": {
              "outlinewidth": 0,
              "ticks": ""
             }
            },
            "type": "scattermapbox"
           }
          ],
          "scatterpolar": [
           {
            "marker": {
             "colorbar": {
              "outlinewidth": 0,
              "ticks": ""
             }
            },
            "type": "scatterpolar"
           }
          ],
          "scatterpolargl": [
           {
            "marker": {
             "colorbar": {
              "outlinewidth": 0,
              "ticks": ""
             }
            },
            "type": "scatterpolargl"
           }
          ],
          "scatterternary": [
           {
            "marker": {
             "colorbar": {
              "outlinewidth": 0,
              "ticks": ""
             }
            },
            "type": "scatterternary"
           }
          ],
          "surface": [
           {
            "colorbar": {
             "outlinewidth": 0,
             "ticks": ""
            },
            "colorscale": [
             [
              0,
              "#0d0887"
             ],
             [
              0.1111111111111111,
              "#46039f"
             ],
             [
              0.2222222222222222,
              "#7201a8"
             ],
             [
              0.3333333333333333,
              "#9c179e"
             ],
             [
              0.4444444444444444,
              "#bd3786"
             ],
             [
              0.5555555555555556,
              "#d8576b"
             ],
             [
              0.6666666666666666,
              "#ed7953"
             ],
             [
              0.7777777777777778,
              "#fb9f3a"
             ],
             [
              0.8888888888888888,
              "#fdca26"
             ],
             [
              1,
              "#f0f921"
             ]
            ],
            "type": "surface"
           }
          ],
          "table": [
           {
            "cells": {
             "fill": {
              "color": "#EBF0F8"
             },
             "line": {
              "color": "white"
             }
            },
            "header": {
             "fill": {
              "color": "#C8D4E3"
             },
             "line": {
              "color": "white"
             }
            },
            "type": "table"
           }
          ]
         },
         "layout": {
          "annotationdefaults": {
           "arrowcolor": "#2a3f5f",
           "arrowhead": 0,
           "arrowwidth": 1
          },
          "autotypenumbers": "strict",
          "coloraxis": {
           "colorbar": {
            "outlinewidth": 0,
            "ticks": ""
           }
          },
          "colorscale": {
           "diverging": [
            [
             0,
             "#8e0152"
            ],
            [
             0.1,
             "#c51b7d"
            ],
            [
             0.2,
             "#de77ae"
            ],
            [
             0.3,
             "#f1b6da"
            ],
            [
             0.4,
             "#fde0ef"
            ],
            [
             0.5,
             "#f7f7f7"
            ],
            [
             0.6,
             "#e6f5d0"
            ],
            [
             0.7,
             "#b8e186"
            ],
            [
             0.8,
             "#7fbc41"
            ],
            [
             0.9,
             "#4d9221"
            ],
            [
             1,
             "#276419"
            ]
           ],
           "sequential": [
            [
             0,
             "#0d0887"
            ],
            [
             0.1111111111111111,
             "#46039f"
            ],
            [
             0.2222222222222222,
             "#7201a8"
            ],
            [
             0.3333333333333333,
             "#9c179e"
            ],
            [
             0.4444444444444444,
             "#bd3786"
            ],
            [
             0.5555555555555556,
             "#d8576b"
            ],
            [
             0.6666666666666666,
             "#ed7953"
            ],
            [
             0.7777777777777778,
             "#fb9f3a"
            ],
            [
             0.8888888888888888,
             "#fdca26"
            ],
            [
             1,
             "#f0f921"
            ]
           ],
           "sequentialminus": [
            [
             0,
             "#0d0887"
            ],
            [
             0.1111111111111111,
             "#46039f"
            ],
            [
             0.2222222222222222,
             "#7201a8"
            ],
            [
             0.3333333333333333,
             "#9c179e"
            ],
            [
             0.4444444444444444,
             "#bd3786"
            ],
            [
             0.5555555555555556,
             "#d8576b"
            ],
            [
             0.6666666666666666,
             "#ed7953"
            ],
            [
             0.7777777777777778,
             "#fb9f3a"
            ],
            [
             0.8888888888888888,
             "#fdca26"
            ],
            [
             1,
             "#f0f921"
            ]
           ]
          },
          "colorway": [
           "#636efa",
           "#EF553B",
           "#00cc96",
           "#ab63fa",
           "#FFA15A",
           "#19d3f3",
           "#FF6692",
           "#B6E880",
           "#FF97FF",
           "#FECB52"
          ],
          "font": {
           "color": "#2a3f5f"
          },
          "geo": {
           "bgcolor": "white",
           "lakecolor": "white",
           "landcolor": "white",
           "showlakes": true,
           "showland": true,
           "subunitcolor": "#C8D4E3"
          },
          "hoverlabel": {
           "align": "left"
          },
          "hovermode": "closest",
          "mapbox": {
           "style": "light"
          },
          "paper_bgcolor": "white",
          "plot_bgcolor": "white",
          "polar": {
           "angularaxis": {
            "gridcolor": "#EBF0F8",
            "linecolor": "#EBF0F8",
            "ticks": ""
           },
           "bgcolor": "white",
           "radialaxis": {
            "gridcolor": "#EBF0F8",
            "linecolor": "#EBF0F8",
            "ticks": ""
           }
          },
          "scene": {
           "xaxis": {
            "backgroundcolor": "white",
            "gridcolor": "#DFE8F3",
            "gridwidth": 2,
            "linecolor": "#EBF0F8",
            "showbackground": true,
            "ticks": "",
            "zerolinecolor": "#EBF0F8"
           },
           "yaxis": {
            "backgroundcolor": "white",
            "gridcolor": "#DFE8F3",
            "gridwidth": 2,
            "linecolor": "#EBF0F8",
            "showbackground": true,
            "ticks": "",
            "zerolinecolor": "#EBF0F8"
           },
           "zaxis": {
            "backgroundcolor": "white",
            "gridcolor": "#DFE8F3",
            "gridwidth": 2,
            "linecolor": "#EBF0F8",
            "showbackground": true,
            "ticks": "",
            "zerolinecolor": "#EBF0F8"
           }
          },
          "shapedefaults": {
           "line": {
            "color": "#2a3f5f"
           }
          },
          "ternary": {
           "aaxis": {
            "gridcolor": "#DFE8F3",
            "linecolor": "#A2B1C6",
            "ticks": ""
           },
           "baxis": {
            "gridcolor": "#DFE8F3",
            "linecolor": "#A2B1C6",
            "ticks": ""
           },
           "bgcolor": "white",
           "caxis": {
            "gridcolor": "#DFE8F3",
            "linecolor": "#A2B1C6",
            "ticks": ""
           }
          },
          "title": {
           "x": 0.05
          },
          "xaxis": {
           "automargin": true,
           "gridcolor": "#EBF0F8",
           "linecolor": "#EBF0F8",
           "ticks": "",
           "title": {
            "standoff": 15
           },
           "zerolinecolor": "#EBF0F8",
           "zerolinewidth": 2
          },
          "yaxis": {
           "automargin": true,
           "gridcolor": "#EBF0F8",
           "linecolor": "#EBF0F8",
           "ticks": "",
           "title": {
            "standoff": 15
           },
           "zerolinecolor": "#EBF0F8",
           "zerolinewidth": 2
          }
         }
        },
        "title": {
         "text": "Metrics Overview for gpt-4o"
        },
        "xaxis": {
         "anchor": "y",
         "domain": [
          0,
          0.94
         ],
         "title": {
          "text": "Metric"
         }
        },
        "yaxis": {
         "anchor": "x",
         "domain": [
          0,
          1
         ],
         "range": [
          0,
          5.5
         ],
         "title": {
          "text": "Bar Score"
         }
        },
        "yaxis2": {
         "anchor": "x",
         "overlaying": "y",
         "range": [
          0,
          5.5
         ],
         "side": "right",
         "title": {
          "text": "Line Score"
         }
        }
       }
      }
     },
     "metadata": {},
     "output_type": "display_data"
    }
   ],
   "source": [
    "quality_evals.plot_metrics(metrics_quality)"
   ]
  },
  {
   "cell_type": "markdown",
   "metadata": {},
   "source": [
    "The azure_ai_studio_url variable is used to automatically send the flow and evaluation results to a remote server in Azure AI Studio for tracking. This is particularly useful in production environments where monitoring the performance and outcomes of AI models is crucial. By sending data to Azure AI Studio, you can leverage its tools for detailed analysis, visualization, and comparison of model performance over time, aiding in the continuous improvement of your AI solutions."
   ]
  },
  {
   "cell_type": "code",
   "execution_count": 8,
   "metadata": {},
   "outputs": [
    {
     "data": {
      "text/plain": [
       "'https://ai.azure.com/build/evaluation/07f8788f-634a-4996-9082-276fcda912ec?wsid=/subscriptions/28d2df62-e322-4b25-b581-c43b94bd2607/resourceGroups/uhg-advassist-slm-eval/providers/Microsoft.MachineLearningServices/workspaces/slm-evaluation'"
      ]
     },
     "execution_count": 8,
     "metadata": {},
     "output_type": "execute_result"
    }
   ],
   "source": [
    "# Tracking the evaluation results - Remote \n",
    "azure_ai_studio_url"
   ]
  },
  {
   "cell_type": "markdown",
   "metadata": {},
   "source": [
    "![Azure AI Studio](my_utils/images/AzureAIstudio.png)"
   ]
  },
  {
   "cell_type": "markdown",
   "metadata": {},
   "source": [
    "### 3. Evaluating RAI (Responsible AI)\n",
    "\n",
    "**📊 What metrics are we evaluating?**\n",
    "\n",
    "- **Self Harm Defect Rate**: Measures the frequency of self-harm content in the generated text.\n",
    "  - **Range**: 0 (none) to 1 (high frequency).\n",
    "\n",
    "- **Sexual Defect Rate**: Assesses the occurrence of inappropriate sexual content.\n",
    "  - **Range**: 0 (none) to 1 (high occurrence).\n",
    "\n",
    "- **Hate Unfairness Defect Rate**: Evaluates the presence of hate speech or unfair content towards individuals or groups.\n",
    "  - **Range**: 0 (none) to 1 (high presence).\n",
    "\n",
    "- **Violence Defect Rate**: Measures the level of violent content in the outputs.\n",
    "  - **Range**: 0 (none) to 1 (high level)."
   ]
  },
  {
   "cell_type": "code",
   "execution_count": 9,
   "metadata": {},
   "outputs": [],
   "source": [
    "## WIP - will fix in future iteration - use at your own risk\n",
    "# metrics, azure_ai_studio_url = quality_evals.run_chat_content_safety(data_input=data_input_path)"
   ]
  },
  {
   "cell_type": "code",
   "execution_count": 10,
   "metadata": {},
   "outputs": [],
   "source": [
    "## WIP - will fix in future iteration - use at your own risk\n",
    "# quality_evals.plot_metrics(metrics)"
   ]
  },
  {
   "cell_type": "markdown",
   "metadata": {},
   "source": [
    "## Customizing the Validation to Fit Your Scenario\n",
    "\n",
    "#### Scenario 1: Combine Built-in PromptFlow Custom Evaluation for Contextual Accuracy in Q&A Matching\n",
    "\n",
    "**Objective**: Assess the performance of our AI bot (LLM/SLM) in responding to user queries, focusing on the accuracy of responses and contextual understanding, with a predefined ground truth for comparison.\n",
    "\n",
    "**Setup**:\n",
    "- **Input**: User queries encompassing a wide range of topics and complexities.\n",
    "- **AI Bot**: Our system tasked with providing responses to the queries.\n",
    "\n",
    "**Evaluation Criteria**:\n",
    "- **Contextual Understanding**: Evaluates the AI bot's ability to comprehend the context and intent behind each query.\n",
    "- **Response Accuracy**: Measures how closely the AI bot's responses align with the expected answers based on the ground truth.\n",
    "\n",
    "**Goal**: Determine the effectiveness of our AI bot in delivering contextually accurate and precise responses to user queries, highlighting areas for improvement."
   ]
  },
  {
   "cell_type": "code",
   "execution_count": 2,
   "metadata": {},
   "outputs": [],
   "source": [
    "from promptflow.evals.evaluators import (RelevanceEvaluator, F1ScoreEvaluator, GroundednessEvaluator, ChatEvaluator, \n",
    "                                         ViolenceEvaluator, SexualEvaluator, SelfHarmEvaluator, HateUnfairnessEvaluator, \n",
    "                                         CoherenceEvaluator, FluencyEvaluator, SimilarityEvaluator, QAEvaluator,\n",
    "                                        ContentSafetyEvaluator, ContentSafetyChatEvaluator)"
   ]
  },
  {
   "cell_type": "code",
   "execution_count": 10,
   "metadata": {},
   "outputs": [],
   "source": [
    "import os\n",
    "from promptflow.core import AzureOpenAIModelConfiguration\n",
    "\n",
    "# Initialize Azure OpenAI Connection with your environment variables\n",
    "model_config = AzureOpenAIModelConfiguration(\n",
    "    azure_endpoint=os.environ.get(\"AZURE_AOAI_ENDPOINT\"),\n",
    "    api_key=os.environ.get(\"AZURE_AOAI_API_KEY\"),\n",
    "    azure_deployment=os.environ.get(\"AZURE_AOAI_COMPLETION_MODEL_DEPLOYMENT_ID\"),\n",
    "    api_version=os.environ.get(\"AZURE_AOAI_DEPLOYMENT_VERSION\"),\n",
    ")"
   ]
  },
  {
   "cell_type": "code",
   "execution_count": 11,
   "metadata": {},
   "outputs": [],
   "source": [
    "qa_eval = F1ScoreEvaluator()\n",
    "context_similarity = SimilarityEvaluator(model_config)\n",
    "azure_ai_project = {\n",
    "    \"subscription_id\": os.environ.get(\"AZURE_AI_STUDIO_SUBSCRIPTION_ID\"),\n",
    "    \"resource_group_name\": os.environ.get(\"AZURE_AI_STUDIO_RESOURCE_GROUP_NAME\"),\n",
    "    \"project_name\": os.environ.get(\"AZURE_AI_STUDIO_PROJECT_NAME\"),\n",
    "}"
   ]
  },
  {
   "cell_type": "code",
   "execution_count": 12,
   "metadata": {},
   "outputs": [],
   "source": [
    "from promptflow.evals.evaluate import evaluate"
   ]
  },
  {
   "cell_type": "code",
   "execution_count": 13,
   "metadata": {},
   "outputs": [
    {
     "name": "stderr",
     "output_type": "stream",
     "text": [
      "[2024-08-30 07:52:10 -0700][flowinvoker][INFO] - Getting connections from pf client with provider from args: local...\n",
      "[2024-08-30 07:52:10 -0700][flowinvoker][INFO] - Getting connections from pf client with provider from args: local...\n",
      "[2024-08-30 07:52:10 -0700][flowinvoker][INFO] - Getting connections from pf client with provider from args: local...\n",
      "[2024-08-30 07:52:10 -0700][flowinvoker][INFO] - Getting connections from pf client with provider from args: local...\n",
      "[2024-08-30 07:52:10 -0700][flowinvoker][INFO] - Getting connections from pf client with provider from args: local...\n",
      "[2024-08-30 07:52:10 -0700][flowinvoker][INFO] - Getting connections from pf client with provider from args: local...\n",
      "[2024-08-30 07:52:10 -0700][flowinvoker][INFO] - Getting connections from pf client with provider from args: local...\n",
      "[2024-08-30 07:52:10 -0700][flowinvoker][INFO] - Getting connections from pf client with provider from args: local...\n",
      "[2024-08-30 07:52:10 -0700][flowinvoker][INFO] - Getting connections from pf client with provider from args: local...\n",
      "[2024-08-30 07:52:10 -0700][flowinvoker][INFO] - Getting connections from pf client with provider from args: local...\n",
      "[2024-08-30 07:52:10 -0700][flowinvoker][INFO] - Getting connections from pf client with provider from args: local...\n",
      "[2024-08-30 07:52:10 -0700][flowinvoker][INFO] - Promptflow get connections successfully. keys: dict_keys([])\n",
      "[2024-08-30 07:52:10 -0700][flowinvoker][INFO] - Promptflow get connections successfully. keys: dict_keys([])\n",
      "[2024-08-30 07:52:10 -0700][flowinvoker][INFO] - Promptflow get connections successfully. keys: dict_keys([])\n",
      "[2024-08-30 07:52:10 -0700][flowinvoker][INFO] - Promptflow get connections successfully. keys: dict_keys([])\n",
      "[2024-08-30 07:52:10 -0700][flowinvoker][INFO] - Promptflow get connections successfully. keys: dict_keys([])\n",
      "[2024-08-30 07:52:10 -0700][flowinvoker][INFO] - Promptflow get connections successfully. keys: dict_keys([])\n",
      "[2024-08-30 07:52:10 -0700][flowinvoker][INFO] - Promptflow get connections successfully. keys: dict_keys([])\n",
      "[2024-08-30 07:52:10 -0700][flowinvoker][INFO] - Promptflow get connections successfully. keys: dict_keys([])\n",
      "[2024-08-30 07:52:10 -0700][flowinvoker][INFO] - Promptflow get connections successfully. keys: dict_keys([])\n",
      "[2024-08-30 07:52:10 -0700][flowinvoker][INFO] - Promptflow get connections successfully. keys: dict_keys([])\n",
      "[2024-08-30 07:52:10 -0700][flowinvoker][INFO] - Promptflow get connections successfully. keys: dict_keys([])\n",
      "[2024-08-30 07:52:10 -0700][flowinvoker][INFO] - Promptflow executor starts initializing...\n",
      "[2024-08-30 07:52:10 -0700][flowinvoker][INFO] - Promptflow executor starts initializing...\n",
      "[2024-08-30 07:52:10 -0700][flowinvoker][INFO] - Promptflow executor starts initializing...\n",
      "[2024-08-30 07:52:10 -0700][flowinvoker][INFO] - Promptflow executor starts initializing...\n",
      "[2024-08-30 07:52:10 -0700][flowinvoker][INFO] - Promptflow executor starts initializing...\n",
      "[2024-08-30 07:52:10 -0700][flowinvoker][INFO] - Promptflow executor starts initializing...\n",
      "[2024-08-30 07:52:10 -0700][flowinvoker][INFO] - Promptflow executor starts initializing...\n",
      "[2024-08-30 07:52:10 -0700][flowinvoker][INFO] - Promptflow executor starts initializing...\n",
      "[2024-08-30 07:52:10 -0700][flowinvoker][INFO] - Promptflow executor starts initializing...\n",
      "[2024-08-30 07:52:10 -0700][flowinvoker][INFO] - Promptflow executor starts initializing...\n",
      "[2024-08-30 07:52:10 -0700][flowinvoker][INFO] - Promptflow executor starts initializing...\n",
      "[2024-08-30 07:52:10 -0700][flowinvoker][INFO] - Promptflow executor initiated successfully.\n",
      "[2024-08-30 07:52:10 -0700][flowinvoker][INFO] - Promptflow executor initiated successfully.\n",
      "[2024-08-30 07:52:10 -0700][flowinvoker][INFO] - Promptflow executor initiated successfully.\n",
      "[2024-08-30 07:52:10 -0700][flowinvoker][INFO] - Validating flow input with data {'answer': 'Jupiter is the largest planet in our solar system.', 'ground_truth': 'The largest planet in our solar system is Jupiter.'}\n",
      "[2024-08-30 07:52:10 -0700][flowinvoker][INFO] - Execute flow with data {'answer': 'Jupiter is the largest planet in our solar system.', 'ground_truth': 'The largest planet in our solar system is Jupiter.'}\n"
     ]
    },
    {
     "name": "stdout",
     "output_type": "stream",
     "text": [
      "2024-08-30 07:52:10 -0700    2147 execution.flow     INFO     Start executing nodes in thread pool mode.\n"
     ]
    },
    {
     "name": "stderr",
     "output_type": "stream",
     "text": [
      "[2024-08-30 07:52:10 -0700][flowinvoker][INFO] - Validating flow input with data {'answer': 'Mount Everest is the tallest mountain in the world.', 'ground_truth': \"The world's tallest mountain is Mount Everest.\"}\n"
     ]
    },
    {
     "name": "stdout",
     "output_type": "stream",
     "text": [
      "2024-08-30 07:52:10 -0700    2147 execution.flow     INFO     Start to run 2 nodes with concurrency level 16.\n"
     ]
    },
    {
     "name": "stderr",
     "output_type": "stream",
     "text": [
      "[2024-08-30 07:52:10 -0700][flowinvoker][INFO] - Validating flow input with data {'answer': 'Paris is the capital of France.', 'ground_truth': 'The capital of France is Paris.'}\n"
     ]
    },
    {
     "name": "stdout",
     "output_type": "stream",
     "text": [
      "2024-08-30 07:52:10 -0700    2147 execution.flow     INFO     Current thread is not main thread, skip signal handler registration in AsyncNodesScheduler.\n"
     ]
    },
    {
     "name": "stderr",
     "output_type": "stream",
     "text": [
      "[2024-08-30 07:52:10 -0700][flowinvoker][INFO] - Promptflow executor initiated successfully.\n"
     ]
    },
    {
     "name": "stdout",
     "output_type": "stream",
     "text": [
      "2024-08-30 07:52:10 -0700    2147 execution.flow     INFO     Executing node validate_inputs. node run id: 1443eeb8-3ebb-4eaa-8cad-a63b56b558c3_validate_inputs_486645e4-700b-4d42-b51c-48fe456d54a2\n"
     ]
    },
    {
     "name": "stderr",
     "output_type": "stream",
     "text": [
      "[2024-08-30 07:52:10 -0700][flowinvoker][INFO] - Execute flow with data {'answer': 'Mount Everest is the tallest mountain in the world.', 'ground_truth': \"The world's tallest mountain is Mount Everest.\"}\n"
     ]
    },
    {
     "name": "stdout",
     "output_type": "stream",
     "text": [
      "2024-08-30 07:52:10 -0700    2147 execution.flow     INFO     Node validate_inputs completes.\n"
     ]
    },
    {
     "name": "stderr",
     "output_type": "stream",
     "text": [
      "[2024-08-30 07:52:10 -0700][flowinvoker][INFO] - Execute flow with data {'answer': 'Paris is the capital of France.', 'ground_truth': 'The capital of France is Paris.'}\n"
     ]
    },
    {
     "name": "stdout",
     "output_type": "stream",
     "text": [
      "2024-08-30 07:52:10 -0700    2147 execution.flow     INFO     Start executing nodes in thread pool mode.\n"
     ]
    },
    {
     "name": "stderr",
     "output_type": "stream",
     "text": [
      "[2024-08-30 07:52:10 -0700][flowinvoker][INFO] - Promptflow executor initiated successfully.\n"
     ]
    },
    {
     "name": "stdout",
     "output_type": "stream",
     "text": [
      "2024-08-30 07:52:10 -0700    2147 execution.flow     INFO     The node 'compute_f1_score' will be executed because the activate condition is met, i.e. '${validate_inputs.output}' is equal to 'True'.\n",
      "2024-08-30 07:52:10 -0700    2147 execution.flow     INFO     Start executing nodes in thread pool mode.\n"
     ]
    },
    {
     "name": "stderr",
     "output_type": "stream",
     "text": [
      "[2024-08-30 07:52:10 -0700][flowinvoker][INFO] - Promptflow executor initiated successfully.\n"
     ]
    },
    {
     "name": "stdout",
     "output_type": "stream",
     "text": [
      "2024-08-30 07:52:10 -0700    2147 execution.flow     INFO     Start to run 2 nodes with concurrency level 16.\n",
      "2024-08-30 07:52:10 -0700    2147 execution.flow     INFO     Executing node compute_f1_score. node run id: 1443eeb8-3ebb-4eaa-8cad-a63b56b558c3_compute_f1_score_28783b17-f2af-452e-8979-27bf69ee899c\n"
     ]
    },
    {
     "name": "stderr",
     "output_type": "stream",
     "text": [
      "[2024-08-30 07:52:10 -0700][flowinvoker][INFO] - Promptflow executor initiated successfully.\n"
     ]
    },
    {
     "name": "stdout",
     "output_type": "stream",
     "text": [
      "2024-08-30 07:52:10 -0700    2147 execution.flow     INFO     Start to run 2 nodes with concurrency level 16.\n"
     ]
    },
    {
     "name": "stderr",
     "output_type": "stream",
     "text": [
      "[2024-08-30 07:52:10 -0700][flowinvoker][INFO] - Promptflow executor initiated successfully.\n",
      "[2024-08-30 07:52:10 -0700][flowinvoker][INFO] - Promptflow executor initiated successfully.\n"
     ]
    },
    {
     "name": "stdout",
     "output_type": "stream",
     "text": [
      "2024-08-30 07:52:10 -0700    2147 execution.flow     INFO     Current thread is not main thread, skip signal handler registration in AsyncNodesScheduler.\n",
      "2024-08-30 07:52:10 -0700    2147 execution.flow     INFO     Node compute_f1_score completes.\n"
     ]
    },
    {
     "name": "stderr",
     "output_type": "stream",
     "text": [
      "[2024-08-30 07:52:10 -0700][flowinvoker][INFO] - Promptflow executor initiated successfully.\n",
      "[2024-08-30 07:52:10 -0700][flowinvoker][INFO] - Promptflow executor initiated successfully.\n"
     ]
    },
    {
     "name": "stdout",
     "output_type": "stream",
     "text": [
      "2024-08-30 07:52:10 -0700    2147 execution.flow     INFO     Current thread is not main thread, skip signal handler registration in AsyncNodesScheduler.\n"
     ]
    },
    {
     "name": "stderr",
     "output_type": "stream",
     "text": [
      "[2024-08-30 07:52:10 -0700][flowinvoker][INFO] - Validating flow input with data {'answer': 'Leonardo da Vinci painted the Mona Lisa.', 'ground_truth': 'The Mona Lisa was painted by Leonardo da Vinci.'}\n",
      "[2024-08-30 07:52:10 -0700][flowinvoker][INFO] - Execute flow with data {'answer': 'Leonardo da Vinci painted the Mona Lisa.', 'ground_truth': 'The Mona Lisa was painted by Leonardo da Vinci.'}\n"
     ]
    },
    {
     "name": "stdout",
     "output_type": "stream",
     "text": [
      "2024-08-30 07:52:10 -0700    2147 execution.flow     INFO     Executing node validate_inputs. node run id: fe626365-1a96-4f48-9c0a-c9ba8edd60e9_validate_inputs_a69fadcf-5924-49fb-bbda-0ae5b12d9f7c\n"
     ]
    },
    {
     "name": "stderr",
     "output_type": "stream",
     "text": [
      "[2024-08-30 07:52:10 -0700][flowinvoker][INFO] - Validating flow input with data {'answer': 'The speed of light is approximately 299,792,458 meters per second.', 'ground_truth': 'Light travels at a speed of 299,792,458 meters per second.'}\n"
     ]
    },
    {
     "name": "stdout",
     "output_type": "stream",
     "text": [
      "2024-08-30 07:52:10 -0700    2147 execution.flow     INFO     Executing node validate_inputs. node run id: 75302c27-2443-4da5-a4f9-d5df73ead5d0_validate_inputs_6e4c4855-9bf1-4bed-ab30-286eb6b75e6a\n"
     ]
    },
    {
     "name": "stderr",
     "output_type": "stream",
     "text": [
      "[2024-08-30 07:52:10 -0700][flowinvoker][INFO] - Execute flow with data {'answer': 'The speed of light is approximately 299,792,458 meters per second.', 'ground_truth': 'Light travels at a speed of 299,792,458 meters per second.'}\n"
     ]
    },
    {
     "name": "stdout",
     "output_type": "stream",
     "text": [
      "2024-08-30 07:52:10 -0700    2147 execution.flow     INFO     Start executing nodes in thread pool mode.\n"
     ]
    },
    {
     "name": "stderr",
     "output_type": "stream",
     "text": [
      "[2024-08-30 07:52:10 -0700][flowinvoker][INFO] - Validating flow input with data {'answer': \"George Orwell is the author of '1984'.\", 'ground_truth': \"The author of '1984' is George Orwell.\"}\n"
     ]
    },
    {
     "name": "stdout",
     "output_type": "stream",
     "text": [
      "2024-08-30 07:52:10 -0700    2147 execution.flow     INFO     Node validate_inputs completes.\n"
     ]
    },
    {
     "name": "stderr",
     "output_type": "stream",
     "text": [
      "[2024-08-30 07:52:10 -0700][flowinvoker][INFO] - Validating flow input with data {'answer': 'H2O is the chemical symbol for water.', 'ground_truth': 'The chemical symbol for water is H2O.'}\n"
     ]
    },
    {
     "name": "stdout",
     "output_type": "stream",
     "text": [
      "2024-08-30 07:52:10 -0700    2147 execution.flow     INFO     Node validate_inputs completes.\n",
      "2024-08-30 07:52:10 -0700    2147 execution.flow     INFO     Start executing nodes in thread pool mode.\n"
     ]
    },
    {
     "name": "stderr",
     "output_type": "stream",
     "text": [
      "[2024-08-30 07:52:10 -0700][flowinvoker][INFO] - Validating flow input with data {'answer': 'Tokyo is the capital of Japan.', 'ground_truth': \"Japan's capital is Tokyo.\"}\n"
     ]
    },
    {
     "name": "stdout",
     "output_type": "stream",
     "text": [
      "2024-08-30 07:52:10 -0700    2147 execution.flow     INFO     Start to run 2 nodes with concurrency level 16.\n"
     ]
    },
    {
     "name": "stderr",
     "output_type": "stream",
     "text": [
      "[2024-08-30 07:52:10 -0700][flowinvoker][INFO] - Validating flow input with data {'answer': 'The Pacific Ocean is the largest ocean on Earth.', 'ground_truth': 'The largest ocean on Earth is the Pacific Ocean.'}\n"
     ]
    },
    {
     "name": "stdout",
     "output_type": "stream",
     "text": [
      "2024-08-30 07:52:10 -0700    2147 execution.flow     INFO     The node 'compute_f1_score' will be executed because the activate condition is met, i.e. '${validate_inputs.output}' is equal to 'True'.\n"
     ]
    },
    {
     "name": "stderr",
     "output_type": "stream",
     "text": [
      "[2024-08-30 07:52:10 -0700][flowinvoker][INFO] - Validating flow input with data {'answer': 'The Great Pyramid of Giza was built by Alexander the Great.', 'ground_truth': 'The Great Pyramid of Giza was built by the Egyptians.'}\n"
     ]
    },
    {
     "name": "stdout",
     "output_type": "stream",
     "text": [
      "2024-08-30 07:52:10 -0700    2147 execution.flow     INFO     The node 'compute_f1_score' will be executed because the activate condition is met, i.e. '${validate_inputs.output}' is equal to 'True'.\n"
     ]
    },
    {
     "name": "stderr",
     "output_type": "stream",
     "text": [
      "[2024-08-30 07:52:10 -0700][flowinvoker][INFO] - Validating flow input with data {'answer': 'Albert Einstein developed the theory of relativity.', 'ground_truth': 'The theory of relativity was developed by Albert Einstein.'}\n"
     ]
    },
    {
     "name": "stdout",
     "output_type": "stream",
     "text": [
      "2024-08-30 07:52:10 -0700    2147 execution.flow     INFO     Start to run 2 nodes with concurrency level 16.\n"
     ]
    },
    {
     "name": "stderr",
     "output_type": "stream",
     "text": [
      "[2024-08-30 07:52:10 -0700][flowinvoker][INFO] - Execute flow with data {'answer': \"George Orwell is the author of '1984'.\", 'ground_truth': \"The author of '1984' is George Orwell.\"}\n"
     ]
    },
    {
     "name": "stdout",
     "output_type": "stream",
     "text": [
      "2024-08-30 07:52:10 -0700    2147 execution.flow     INFO     Current thread is not main thread, skip signal handler registration in AsyncNodesScheduler.\n"
     ]
    },
    {
     "name": "stderr",
     "output_type": "stream",
     "text": [
      "[2024-08-30 07:52:10 -0700][flowinvoker][INFO] - Execute flow with data {'answer': 'H2O is the chemical symbol for water.', 'ground_truth': 'The chemical symbol for water is H2O.'}\n"
     ]
    },
    {
     "name": "stdout",
     "output_type": "stream",
     "text": [
      "2024-08-30 07:52:10 -0700    2147 execution.flow     INFO     Executing node compute_f1_score. node run id: fe626365-1a96-4f48-9c0a-c9ba8edd60e9_compute_f1_score_6189cb8b-0aee-460e-9a7f-80b453a5e3e2\n"
     ]
    },
    {
     "name": "stderr",
     "output_type": "stream",
     "text": [
      "[2024-08-30 07:52:10 -0700][flowinvoker][INFO] - Execute flow with data {'answer': 'Tokyo is the capital of Japan.', 'ground_truth': \"Japan's capital is Tokyo.\"}\n"
     ]
    },
    {
     "name": "stdout",
     "output_type": "stream",
     "text": [
      "2024-08-30 07:52:10 -0700    2147 execution.flow     INFO     Executing node compute_f1_score. node run id: 75302c27-2443-4da5-a4f9-d5df73ead5d0_compute_f1_score_9ef4572d-63e7-424f-b5d5-e3c04181f41a\n"
     ]
    },
    {
     "name": "stderr",
     "output_type": "stream",
     "text": [
      "[2024-08-30 07:52:10 -0700][flowinvoker][INFO] - Execute flow with data {'answer': 'The Pacific Ocean is the largest ocean on Earth.', 'ground_truth': 'The largest ocean on Earth is the Pacific Ocean.'}\n"
     ]
    },
    {
     "name": "stdout",
     "output_type": "stream",
     "text": [
      "2024-08-30 07:52:10 -0700    2147 execution.flow     INFO     Current thread is not main thread, skip signal handler registration in AsyncNodesScheduler.\n"
     ]
    },
    {
     "name": "stderr",
     "output_type": "stream",
     "text": [
      "[2024-08-30 07:52:10 -0700][flowinvoker][INFO] - Execute flow with data {'answer': 'The Great Pyramid of Giza was built by Alexander the Great.', 'ground_truth': 'The Great Pyramid of Giza was built by the Egyptians.'}\n"
     ]
    },
    {
     "name": "stdout",
     "output_type": "stream",
     "text": [
      "2024-08-30 07:52:10 -0700    2147 execution.flow     INFO     Start executing nodes in thread pool mode.\n"
     ]
    },
    {
     "name": "stderr",
     "output_type": "stream",
     "text": [
      "[2024-08-30 07:52:10 -0700][flowinvoker][INFO] - Execute flow with data {'answer': 'Albert Einstein developed the theory of relativity.', 'ground_truth': 'The theory of relativity was developed by Albert Einstein.'}\n"
     ]
    },
    {
     "name": "stdout",
     "output_type": "stream",
     "text": [
      "2024-08-30 07:52:10 -0700    2147 execution.flow     INFO     Executing node validate_inputs. node run id: de4d7a49-956c-4175-af76-8ad3c5b9c614_validate_inputs_9532ea04-92b0-4e79-9d6b-51e8b5bfbd81\n",
      "2024-08-30 07:52:10 -0700    2147 execution.flow     INFO     Start executing nodes in thread pool mode.\n",
      "2024-08-30 07:52:10 -0700    2147 execution.flow     INFO     Node compute_f1_score completes.\n",
      "2024-08-30 07:52:10 -0700    2147 execution.flow     INFO     Start executing nodes in thread pool mode.\n",
      "2024-08-30 07:52:10 -0700    2147 execution.flow     INFO     Node compute_f1_score completes.\n",
      "2024-08-30 07:52:10 -0700    2147 execution.flow     INFO     Start executing nodes in thread pool mode.\n",
      "2024-08-30 07:52:10 -0700    2147 execution.flow     INFO     Start to run 2 nodes with concurrency level 16.\n",
      "2024-08-30 07:52:10 -0700    2147 execution.flow     INFO     Start executing nodes in thread pool mode.\n",
      "2024-08-30 07:52:10 -0700    2147 execution.flow     INFO     Start to run 2 nodes with concurrency level 16.\n",
      "2024-08-30 07:52:10 -0700    2147 execution.flow     INFO     Current thread is not main thread, skip signal handler registration in AsyncNodesScheduler.\n",
      "2024-08-30 07:52:10 -0700    2147 execution.flow     INFO     Node validate_inputs completes.\n",
      "2024-08-30 07:52:10 -0700    2147 execution.flow     INFO     Start to run 2 nodes with concurrency level 16.\n",
      "2024-08-30 07:52:10 -0700    2147 execution.flow     INFO     Start to run 2 nodes with concurrency level 16.\n",
      "2024-08-30 07:52:10 -0700    2147 execution.flow     INFO     Executing node validate_inputs. node run id: 5d9c35fc-8032-49fc-a5c0-a201a38c95dd_validate_inputs_c2cbb4f0-f06e-4810-b8c7-b875b8185223\n",
      "2024-08-30 07:52:10 -0700    2147 execution.flow     INFO     Current thread is not main thread, skip signal handler registration in AsyncNodesScheduler.\n",
      "2024-08-30 07:52:10 -0700    2147 execution.flow     INFO     Start to run 2 nodes with concurrency level 16.\n",
      "2024-08-30 07:52:10 -0700    2147 execution.flow     INFO     Start executing nodes in thread pool mode.\n",
      "2024-08-30 07:52:10 -0700    2147 execution.flow     INFO     Executing node validate_inputs. node run id: c76b81a7-09c9-4bb1-9c4d-efd37abb038d_validate_inputs_a1d81178-7125-448c-817e-8991ba309eea\n",
      "2024-08-30 07:52:10 -0700    2147 execution.flow     INFO     The node 'compute_f1_score' will be executed because the activate condition is met, i.e. '${validate_inputs.output}' is equal to 'True'.\n",
      "2024-08-30 07:52:10 -0700    2147 execution.flow     INFO     Current thread is not main thread, skip signal handler registration in AsyncNodesScheduler.\n",
      "2024-08-30 07:52:10 -0700    2147 execution.flow     INFO     Current thread is not main thread, skip signal handler registration in AsyncNodesScheduler.\n",
      "2024-08-30 07:52:10 -0700    2147 execution.flow     INFO     Node validate_inputs completes.\n",
      "2024-08-30 07:52:10 -0700    2147 execution.flow     INFO     Executing node validate_inputs. node run id: 46e232d8-5082-44af-b9c7-a9d8d6778542_validate_inputs_5b252a14-133c-4f6a-a773-c1df59b78a87\n",
      "2024-08-30 07:52:10 -0700    2147 execution.flow     INFO     Current thread is not main thread, skip signal handler registration in AsyncNodesScheduler.\n",
      "2024-08-30 07:52:10 -0700    2147 execution.flow     INFO     Start to run 2 nodes with concurrency level 16.\n",
      "2024-08-30 07:52:10 -0700    2147 execution.flow     INFO     Node validate_inputs completes.\n",
      "2024-08-30 07:52:10 -0700    2147 execution.flow     INFO     Executing node compute_f1_score. node run id: de4d7a49-956c-4175-af76-8ad3c5b9c614_compute_f1_score_d5ef8536-0f4f-4e60-b764-eb8817f8a4ef\n",
      "2024-08-30 07:52:10 -0700    2147 execution.flow     INFO     Executing node validate_inputs. node run id: c8a610b7-a2e7-445f-b9e2-1202911c9d55_validate_inputs_163b8297-c89d-4568-a917-e07a96581908\n",
      "2024-08-30 07:52:10 -0700    2147 execution.flow     INFO     Executing node validate_inputs. node run id: d95a3351-182d-49f0-80dc-2e132df84487_validate_inputs_730081cb-4e8d-46f5-8c99-df916dcf24b0\n",
      "2024-08-30 07:52:10 -0700    2147 execution.flow     INFO     The node 'compute_f1_score' will be executed because the activate condition is met, i.e. '${validate_inputs.output}' is equal to 'True'.\n",
      "2024-08-30 07:52:10 -0700    2147 execution.flow     INFO     Node validate_inputs completes.\n",
      "2024-08-30 07:52:10 -0700    2147 execution.flow     INFO     Executing node validate_inputs. node run id: aabdf7e8-8f05-4d6c-93fe-41f0b73bb075_validate_inputs_a1f6b788-e7d1-419d-8716-cd0446c50f1d\n",
      "2024-08-30 07:52:10 -0700    2147 execution.flow     INFO     Current thread is not main thread, skip signal handler registration in AsyncNodesScheduler.\n",
      "2024-08-30 07:52:10 -0700    2147 execution.flow     INFO     The node 'compute_f1_score' will be executed because the activate condition is met, i.e. '${validate_inputs.output}' is equal to 'True'.\n",
      "2024-08-30 07:52:10 -0700    2147 execution.flow     INFO     Node compute_f1_score completes.\n",
      "2024-08-30 07:52:10 -0700    2147 execution.flow     INFO     Node validate_inputs completes.\n",
      "2024-08-30 07:52:10 -0700    2147 execution.flow     INFO     Node validate_inputs completes.\n",
      "2024-08-30 07:52:10 -0700    2147 execution.flow     INFO     Executing node compute_f1_score. node run id: 5d9c35fc-8032-49fc-a5c0-a201a38c95dd_compute_f1_score_479ec2f3-7017-41c7-8e56-b3552c0d70ce\n",
      "2024-08-30 07:52:10 -0700    2147 execution.flow     INFO     The node 'compute_f1_score' will be executed because the activate condition is met, i.e. '${validate_inputs.output}' is equal to 'True'.\n",
      "2024-08-30 07:52:10 -0700    2147 execution.flow     INFO     Node validate_inputs completes.\n",
      "2024-08-30 07:52:10 -0700    2147 execution.flow     INFO     Executing node validate_inputs. node run id: f9844652-3ce7-4a63-b1b6-4329cc3bd6a7_validate_inputs_84951f94-390a-418f-ad70-cdf5005a6d04\n",
      "2024-08-30 07:52:10 -0700    2147 execution.flow     INFO     Executing node compute_f1_score. node run id: c76b81a7-09c9-4bb1-9c4d-efd37abb038d_compute_f1_score_9e310f96-397a-4c76-8ebc-c2d07acf337f\n",
      "2024-08-30 07:52:10 -0700    2147 execution.flow     INFO     The node 'compute_f1_score' will be executed because the activate condition is met, i.e. '${validate_inputs.output}' is equal to 'True'.\n",
      "2024-08-30 07:52:10 -0700    2147 execution.flow     INFO     The node 'compute_f1_score' will be executed because the activate condition is met, i.e. '${validate_inputs.output}' is equal to 'True'.\n",
      "2024-08-30 07:52:10 -0700    2147 execution.flow     INFO     Node compute_f1_score completes.\n",
      "2024-08-30 07:52:10 -0700    2147 execution.flow     INFO     Executing node compute_f1_score. node run id: 46e232d8-5082-44af-b9c7-a9d8d6778542_compute_f1_score_fd784856-c021-4182-b8dd-4bfbaf350070\n",
      "2024-08-30 07:52:10 -0700    2147 execution.flow     INFO     The node 'compute_f1_score' will be executed because the activate condition is met, i.e. '${validate_inputs.output}' is equal to 'True'.\n",
      "2024-08-30 07:52:10 -0700    2147 execution.flow     INFO     Node validate_inputs completes.\n",
      "2024-08-30 07:52:10 -0700    2147 execution.flow     INFO     Node compute_f1_score completes.\n",
      "2024-08-30 07:52:10 -0700    2147 execution.flow     INFO     Executing node compute_f1_score. node run id: c8a610b7-a2e7-445f-b9e2-1202911c9d55_compute_f1_score_486504b5-54c7-4e3a-a35e-fc0221dcea0a\n",
      "2024-08-30 07:52:10 -0700    2147 execution.flow     INFO     Executing node compute_f1_score. node run id: d95a3351-182d-49f0-80dc-2e132df84487_compute_f1_score_727d7185-ac98-4a5f-a54e-a26a28116f43\n",
      "2024-08-30 07:52:10 -0700    2147 execution.flow     INFO     Node compute_f1_score completes.\n",
      "2024-08-30 07:52:10 -0700    2147 execution.flow     INFO     Executing node compute_f1_score. node run id: aabdf7e8-8f05-4d6c-93fe-41f0b73bb075_compute_f1_score_ba7ffeaf-05f1-474c-9c27-536ed162fc73\n",
      "2024-08-30 07:52:10 -0700    2147 execution.flow     INFO     The node 'compute_f1_score' will be executed because the activate condition is met, i.e. '${validate_inputs.output}' is equal to 'True'.\n",
      "2024-08-30 07:52:10 -0700    2147 execution.flow     INFO     Node compute_f1_score completes.\n",
      "2024-08-30 07:52:10 -0700    2147 execution.flow     INFO     Node compute_f1_score completes.\n",
      "2024-08-30 07:52:10 -0700    2147 execution.flow     INFO     Node compute_f1_score completes.\n",
      "2024-08-30 07:52:10 -0700    2147 execution.flow     INFO     Executing node compute_f1_score. node run id: f9844652-3ce7-4a63-b1b6-4329cc3bd6a7_compute_f1_score_bbb19fca-f4e2-4d5c-8049-271e950c9fb0\n",
      "2024-08-30 07:52:10 -0700    2147 execution.flow     INFO     Node compute_f1_score completes.\n"
     ]
    },
    {
     "name": "stderr",
     "output_type": "stream",
     "text": [
      "[2024-08-30 07:52:11 -0700][flowinvoker][INFO] - Validating flow input with data {'answer': 'The human body has four senses.', 'ground_truth': 'The human body has five primary senses.'}\n",
      "[2024-08-30 07:52:11 -0700][flowinvoker][INFO] - Execute flow with data {'answer': 'The human body has four senses.', 'ground_truth': 'The human body has five primary senses.'}\n"
     ]
    },
    {
     "name": "stdout",
     "output_type": "stream",
     "text": [
      "2024-08-30 07:52:11 -0700    2147 execution.flow     INFO     Start executing nodes in thread pool mode.\n",
      "2024-08-30 07:52:11 -0700    2147 execution.flow     INFO     Start to run 2 nodes with concurrency level 16.\n",
      "2024-08-30 07:52:11 -0700    2147 execution.flow     INFO     Current thread is not main thread, skip signal handler registration in AsyncNodesScheduler.\n",
      "2024-08-30 07:52:11 -0700    2147 execution.flow     INFO     Executing node validate_inputs. node run id: 314af56e-2e47-45b6-9d0c-0fd86f6a4b27_validate_inputs_18b627a0-92f9-4fba-9d0a-d26ac6ce4722\n",
      "2024-08-30 07:52:11 -0700    2147 execution.flow     INFO     Node validate_inputs completes.\n"
     ]
    },
    {
     "name": "stderr",
     "output_type": "stream",
     "text": [
      "[2024-08-30 07:52:11 -0700][flowinvoker][INFO] - Validating flow input with data {'answer': 'The Amazon is the longest river in the world.', 'ground_truth': 'The Nile is often cited as the longest river in the world, but some sources claim the Amazon is longer.'}\n"
     ]
    },
    {
     "name": "stdout",
     "output_type": "stream",
     "text": [
      "2024-08-30 07:52:11 -0700    2147 execution.flow     INFO     The node 'compute_f1_score' will be executed because the activate condition is met, i.e. '${validate_inputs.output}' is equal to 'True'.\n"
     ]
    },
    {
     "name": "stderr",
     "output_type": "stream",
     "text": [
      "[2024-08-30 07:52:11 -0700][flowinvoker][INFO] - Validating flow input with data {'answer': 'The internet was invented in the 1960s.', 'ground_truth': 'The foundational technology of the internet was developed in the late 1960s.'}\n"
     ]
    },
    {
     "name": "stdout",
     "output_type": "stream",
     "text": [
      "2024-08-30 07:52:11 -0700    2147 execution.flow     INFO     Executing node compute_f1_score. node run id: 314af56e-2e47-45b6-9d0c-0fd86f6a4b27_compute_f1_score_6fa1fc73-a5e9-425e-9048-fa92fe2da311\n"
     ]
    },
    {
     "name": "stderr",
     "output_type": "stream",
     "text": [
      "[2024-08-30 07:52:11 -0700][flowinvoker][INFO] - Execute flow with data {'answer': 'The Amazon is the longest river in the world.', 'ground_truth': 'The Nile is often cited as the longest river in the world, but some sources claim the Amazon is longer.'}\n"
     ]
    },
    {
     "name": "stdout",
     "output_type": "stream",
     "text": [
      "2024-08-30 07:52:11 -0700    2147 execution.flow     INFO     Node compute_f1_score completes.\n"
     ]
    },
    {
     "name": "stderr",
     "output_type": "stream",
     "text": [
      "[2024-08-30 07:52:11 -0700][flowinvoker][INFO] - Execute flow with data {'answer': 'The internet was invented in the 1960s.', 'ground_truth': 'The foundational technology of the internet was developed in the late 1960s.'}\n",
      "[2024-08-30 07:52:11 -0700][flowinvoker][INFO] - Validating flow input with data {'answer': 'The heart is on the right side of the human body.', 'ground_truth': 'The heart is located slightly to the left side of the chest in the human body.'}\n"
     ]
    },
    {
     "name": "stdout",
     "output_type": "stream",
     "text": [
      "2024-08-30 07:52:11 -0700    2147 execution.flow     INFO     Start executing nodes in thread pool mode.\n",
      "2024-08-30 07:52:11 -0700    2147 execution.flow     INFO     Start executing nodes in thread pool mode.\n"
     ]
    },
    {
     "name": "stderr",
     "output_type": "stream",
     "text": [
      "[2024-08-30 07:52:11 -0700][flowinvoker][INFO] - Validating flow input with data {'answer': 'The sun revolves around the Earth.', 'ground_truth': 'The Earth revolves around the sun.'}\n"
     ]
    },
    {
     "name": "stdout",
     "output_type": "stream",
     "text": [
      "2024-08-30 07:52:11 -0700    2147 execution.flow     INFO     Start to run 2 nodes with concurrency level 16.\n"
     ]
    },
    {
     "name": "stderr",
     "output_type": "stream",
     "text": [
      "[2024-08-30 07:52:11 -0700][flowinvoker][INFO] - Execute flow with data {'answer': 'The heart is on the right side of the human body.', 'ground_truth': 'The heart is located slightly to the left side of the chest in the human body.'}\n"
     ]
    },
    {
     "name": "stdout",
     "output_type": "stream",
     "text": [
      "2024-08-30 07:52:11 -0700    2147 execution.flow     INFO     Start to run 2 nodes with concurrency level 16.\n"
     ]
    },
    {
     "name": "stderr",
     "output_type": "stream",
     "text": [
      "[2024-08-30 07:52:11 -0700][flowinvoker][INFO] - Execute flow with data {'answer': 'The sun revolves around the Earth.', 'ground_truth': 'The Earth revolves around the sun.'}\n"
     ]
    },
    {
     "name": "stdout",
     "output_type": "stream",
     "text": [
      "2024-08-30 07:52:11 -0700    2147 execution.flow     INFO     Current thread is not main thread, skip signal handler registration in AsyncNodesScheduler.\n",
      "2024-08-30 07:52:11 -0700    2147 execution.flow     INFO     Current thread is not main thread, skip signal handler registration in AsyncNodesScheduler.\n",
      "2024-08-30 07:52:11 -0700    2147 execution.flow     INFO     Start executing nodes in thread pool mode.\n",
      "2024-08-30 07:52:11 -0700    2147 execution.flow     INFO     Start executing nodes in thread pool mode.\n",
      "2024-08-30 07:52:11 -0700    2147 execution.flow     INFO     Executing node validate_inputs. node run id: 07c89df7-76c5-4cd2-bed6-c8c69bc49919_validate_inputs_a8dc9d27-9b08-47a6-a87a-2b2853abbf8c\n",
      "2024-08-30 07:52:11 -0700    2147 execution.flow     INFO     Executing node validate_inputs. node run id: cd5e7dd0-1de2-4bde-8bea-2451102726ca_validate_inputs_c7adfd88-7638-4c68-a559-bc1f18d89ebe\n",
      "2024-08-30 07:52:11 -0700    2147 execution.flow     INFO     Start to run 2 nodes with concurrency level 16.\n",
      "2024-08-30 07:52:11 -0700    2147 execution.flow     INFO     Start to run 2 nodes with concurrency level 16.\n",
      "2024-08-30 07:52:11 -0700    2147 execution.flow     INFO     Node validate_inputs completes.\n",
      "2024-08-30 07:52:11 -0700    2147 execution.flow     INFO     Node validate_inputs completes.\n",
      "2024-08-30 07:52:11 -0700    2147 execution.flow     INFO     Current thread is not main thread, skip signal handler registration in AsyncNodesScheduler.\n",
      "2024-08-30 07:52:11 -0700    2147 execution.flow     INFO     Current thread is not main thread, skip signal handler registration in AsyncNodesScheduler.\n",
      "2024-08-30 07:52:11 -0700    2147 execution.flow     INFO     The node 'compute_f1_score' will be executed because the activate condition is met, i.e. '${validate_inputs.output}' is equal to 'True'.\n",
      "2024-08-30 07:52:11 -0700    2147 execution.flow     INFO     The node 'compute_f1_score' will be executed because the activate condition is met, i.e. '${validate_inputs.output}' is equal to 'True'.\n",
      "2024-08-30 07:52:11 -0700    2147 execution.flow     INFO     Executing node validate_inputs. node run id: eb21e164-05a4-4d72-8355-a853cc4bb50d_validate_inputs_ec98e28c-b6fc-498b-a8b7-cceb3abf5e9d\n",
      "2024-08-30 07:52:11 -0700    2147 execution.flow     INFO     Executing node validate_inputs. node run id: dd973991-6496-47ef-917d-07b2a6db9bb5_validate_inputs_0f7eeb8b-ad91-4931-b87d-afbf12478fe7\n",
      "2024-08-30 07:52:11 -0700    2147 execution.flow     INFO     Executing node compute_f1_score. node run id: 07c89df7-76c5-4cd2-bed6-c8c69bc49919_compute_f1_score_bef06346-6303-413f-855d-933780af0fb0\n"
     ]
    },
    {
     "name": "stderr",
     "output_type": "stream",
     "text": [
      "[2024-08-30 07:52:11 -0700][flowinvoker][INFO] - Validating flow input with data {'answer': 'Sharks are mammals.', 'ground_truth': 'Sharks are a group of fish characterized by a cartilaginous skeleton.'}\n",
      "[2024-08-30 07:52:11 -0700][flowinvoker][INFO] - Execute flow with data {'answer': 'Sharks are mammals.', 'ground_truth': 'Sharks are a group of fish characterized by a cartilaginous skeleton.'}\n"
     ]
    },
    {
     "name": "stdout",
     "output_type": "stream",
     "text": [
      "2024-08-30 07:52:11 -0700    2147 execution.flow     INFO     Executing node compute_f1_score. node run id: cd5e7dd0-1de2-4bde-8bea-2451102726ca_compute_f1_score_271c9621-9622-47da-bdf5-8e5a2fd54f60\n",
      "2024-08-30 07:52:11 -0700    2147 execution.flow     INFO     Node validate_inputs completes.\n",
      "2024-08-30 07:52:11 -0700    2147 execution.flow     INFO     Node validate_inputs completes.\n",
      "2024-08-30 07:52:11 -0700    2147 execution.flow     INFO     Node compute_f1_score completes.\n",
      "2024-08-30 07:52:11 -0700    2147 execution.flow     INFO     Node compute_f1_score completes.\n"
     ]
    },
    {
     "name": "stderr",
     "output_type": "stream",
     "text": [
      "[2024-08-30 07:52:11 -0700][flowinvoker][INFO] - Validating flow input with data {'answer': 'The capital of Canada is Toronto.', 'ground_truth': 'The capital of Canada is Ottawa.'}\n",
      "[2024-08-30 07:52:11 -0700][flowinvoker][INFO] - Execute flow with data {'answer': 'The capital of Canada is Toronto.', 'ground_truth': 'The capital of Canada is Ottawa.'}\n"
     ]
    },
    {
     "name": "stdout",
     "output_type": "stream",
     "text": [
      "2024-08-30 07:52:11 -0700    2147 execution.flow     INFO     Start executing nodes in thread pool mode.\n"
     ]
    },
    {
     "name": "stderr",
     "output_type": "stream",
     "text": [
      "[2024-08-30 07:52:11 -0700][flowinvoker][INFO] - Validating flow input with data {'answer': 'The inventor of the telephone was Thomas Edison.', 'ground_truth': 'Alexander Graham Bell is credited with inventing the first practical telephone.'}\n"
     ]
    },
    {
     "name": "stdout",
     "output_type": "stream",
     "text": [
      "2024-08-30 07:52:11 -0700    2147 execution.flow     INFO     The node 'compute_f1_score' will be executed because the activate condition is met, i.e. '${validate_inputs.output}' is equal to 'True'.\n"
     ]
    },
    {
     "name": "stderr",
     "output_type": "stream",
     "text": [
      "[2024-08-30 07:52:11 -0700][flowinvoker][INFO] - Execute flow with data {'answer': 'The inventor of the telephone was Thomas Edison.', 'ground_truth': 'Alexander Graham Bell is credited with inventing the first practical telephone.'}\n"
     ]
    },
    {
     "name": "stdout",
     "output_type": "stream",
     "text": [
      "2024-08-30 07:52:11 -0700    2147 execution.flow     INFO     The node 'compute_f1_score' will be executed because the activate condition is met, i.e. '${validate_inputs.output}' is equal to 'True'.\n",
      "2024-08-30 07:52:11 -0700    2147 execution.flow     INFO     Start executing nodes in thread pool mode.\n",
      "2024-08-30 07:52:11 -0700    2147 execution.flow     INFO     Start to run 2 nodes with concurrency level 16.\n",
      "2024-08-30 07:52:11 -0700    2147 execution.flow     INFO     Executing node compute_f1_score. node run id: eb21e164-05a4-4d72-8355-a853cc4bb50d_compute_f1_score_81598d23-6ec5-4846-a4ef-56411b95babb\n",
      "2024-08-30 07:52:11 -0700    2147 execution.flow     INFO     Start executing nodes in thread pool mode.\n",
      "2024-08-30 07:52:11 -0700    2147 execution.flow     INFO     Executing node compute_f1_score. node run id: dd973991-6496-47ef-917d-07b2a6db9bb5_compute_f1_score_b45c83c0-a84a-48d6-8d3b-2aada8d89c81\n",
      "2024-08-30 07:52:11 -0700    2147 execution.flow     INFO     Start to run 2 nodes with concurrency level 16.\n",
      "2024-08-30 07:52:11 -0700    2147 execution.flow     INFO     Current thread is not main thread, skip signal handler registration in AsyncNodesScheduler.\n",
      "2024-08-30 07:52:11 -0700    2147 execution.flow     INFO     Node compute_f1_score completes.\n",
      "2024-08-30 07:52:11 -0700    2147 execution.flow     INFO     Start to run 2 nodes with concurrency level 16.\n"
     ]
    },
    {
     "name": "stderr",
     "output_type": "stream",
     "text": [
      "[2024-08-30 07:52:11 -0700][flowinvoker][INFO] - Validating flow input with data {'answer': 'The chemical symbol for gold is Ag.', 'ground_truth': 'The chemical symbol for gold is Au.'}\n",
      "[2024-08-30 07:52:11 -0700][flowinvoker][INFO] - Execute flow with data {'answer': 'The chemical symbol for gold is Ag.', 'ground_truth': 'The chemical symbol for gold is Au.'}\n"
     ]
    },
    {
     "name": "stdout",
     "output_type": "stream",
     "text": [
      "2024-08-30 07:52:11 -0700    2147 execution.flow     INFO     Node compute_f1_score completes.\n",
      "2024-08-30 07:52:11 -0700    2147 execution.flow     INFO     Current thread is not main thread, skip signal handler registration in AsyncNodesScheduler.\n"
     ]
    },
    {
     "name": "stderr",
     "output_type": "stream",
     "text": [
      "[2024-08-30 07:52:11 -0700][flowinvoker][INFO] - Validating flow input with data {'answer': 'The largest desert in the world is the Sahara.', 'ground_truth': 'The largest desert in the world is Antarctica.'}\n",
      "[2024-08-30 07:52:11 -0700][flowinvoker][INFO] - Execute flow with data {'answer': 'The largest desert in the world is the Sahara.', 'ground_truth': 'The largest desert in the world is Antarctica.'}\n"
     ]
    },
    {
     "name": "stdout",
     "output_type": "stream",
     "text": [
      "2024-08-30 07:52:11 -0700    2147 execution.flow     INFO     Executing node validate_inputs. node run id: 4ee59af5-4046-475c-8953-a27661f7a6f1_validate_inputs_7993172d-79bb-411c-bfeb-c333fab4709d\n",
      "2024-08-30 07:52:11 -0700    2147 execution.flow     INFO     Current thread is not main thread, skip signal handler registration in AsyncNodesScheduler.\n",
      "2024-08-30 07:52:11 -0700    2147 execution.flow     INFO     Start executing nodes in thread pool mode.\n",
      "2024-08-30 07:52:11 -0700    2147 execution.flow     INFO     Executing node validate_inputs. node run id: d6985598-3ad4-4a8e-9044-150c19db4f70_validate_inputs_18f4d1ec-3407-4861-8f96-97d565b76df7\n",
      "2024-08-30 07:52:11 -0700    2147 execution.flow     INFO     Executing node validate_inputs. node run id: c188f5ec-45fd-499a-bf89-96d2e8dec378_validate_inputs_0dd2faca-b2a4-42f4-a1f2-0cac02df4373\n",
      "2024-08-30 07:52:11 -0700    2147 execution.flow     INFO     Start to run 2 nodes with concurrency level 16.\n",
      "2024-08-30 07:52:11 -0700    2147 execution.flow     INFO     Current thread is not main thread, skip signal handler registration in AsyncNodesScheduler.\n",
      "2024-08-30 07:52:11 -0700    2147 execution.flow     INFO     Executing node validate_inputs. node run id: 9238ca03-ca3c-4c6f-a5b9-07567eec3f5b_validate_inputs_31a12bf8-b036-471b-88fa-cd6c91a08f0a\n",
      "2024-08-30 07:52:11 -0700    2147 execution.flow     INFO     Start executing nodes in thread pool mode.\n",
      "2024-08-30 07:52:11 -0700    2147 execution.flow     INFO     Start to run 2 nodes with concurrency level 16.\n",
      "2024-08-30 07:52:11 -0700    2147 execution.flow     INFO     Current thread is not main thread, skip signal handler registration in AsyncNodesScheduler.\n",
      "2024-08-30 07:52:11 -0700    2147 execution.flow     INFO     Executing node validate_inputs. node run id: 13170661-0e7e-4467-b151-43bba5e43292_validate_inputs_235b2d5f-1fa4-4114-a070-60bb1a53d84a\n",
      "2024-08-30 07:52:11 -0700    2147 execution.flow     INFO     Node validate_inputs completes.\n",
      "2024-08-30 07:52:11 -0700    2147 execution.flow     INFO     The node 'compute_f1_score' will be executed because the activate condition is met, i.e. '${validate_inputs.output}' is equal to 'True'.\n",
      "2024-08-30 07:52:11 -0700    2147 execution.flow     INFO     Executing node compute_f1_score. node run id: 4ee59af5-4046-475c-8953-a27661f7a6f1_compute_f1_score_11925be8-32e6-4d7f-8011-15f99f9845c9\n",
      "2024-08-30 07:52:11 -0700    2147 execution.flow     INFO     Node validate_inputs completes.\n",
      "2024-08-30 07:52:11 -0700    2147 execution.flow     INFO     The node 'compute_f1_score' will be executed because the activate condition is met, i.e. '${validate_inputs.output}' is equal to 'True'.\n",
      "2024-08-30 07:52:11 -0700    2147 execution.flow     INFO     Executing node compute_f1_score. node run id: d6985598-3ad4-4a8e-9044-150c19db4f70_compute_f1_score_ca3df284-875e-42a0-8189-bad393144599\n",
      "2024-08-30 07:52:11 -0700    2147 execution.flow     INFO     Node validate_inputs completes.\n",
      "2024-08-30 07:52:11 -0700    2147 execution.flow     INFO     The node 'compute_f1_score' will be executed because the activate condition is met, i.e. '${validate_inputs.output}' is equal to 'True'.\n",
      "2024-08-30 07:52:11 -0700    2147 execution.flow     INFO     Executing node compute_f1_score. node run id: c188f5ec-45fd-499a-bf89-96d2e8dec378_compute_f1_score_508048d7-dbdd-49eb-9e50-84a9842c5bcc\n",
      "2024-08-30 07:52:11 -0700    2147 execution.flow     INFO     Node validate_inputs completes.\n",
      "2024-08-30 07:52:11 -0700    2147 execution.flow     INFO     The node 'compute_f1_score' will be executed because the activate condition is met, i.e. '${validate_inputs.output}' is equal to 'True'.\n",
      "2024-08-30 07:52:11 -0700    2147 execution.flow     INFO     Executing node compute_f1_score. node run id: 9238ca03-ca3c-4c6f-a5b9-07567eec3f5b_compute_f1_score_030a856b-730e-464c-926d-2a7da6d29f50\n",
      "2024-08-30 07:52:11 -0700    2147 execution.flow     INFO     Node validate_inputs completes.\n",
      "2024-08-30 07:52:11 -0700    2147 execution.flow     INFO     The node 'compute_f1_score' will be executed because the activate condition is met, i.e. '${validate_inputs.output}' is equal to 'True'.\n",
      "2024-08-30 07:52:11 -0700    2147 execution.flow     INFO     Executing node compute_f1_score. node run id: 13170661-0e7e-4467-b151-43bba5e43292_compute_f1_score_7ee0b241-6158-4f6a-86ba-2a612765b835\n",
      "2024-08-30 07:52:11 -0700    2147 execution.flow     INFO     Node compute_f1_score completes.\n"
     ]
    },
    {
     "name": "stderr",
     "output_type": "stream",
     "text": [
      "[2024-08-30 07:52:11 -0700][flowinvoker][INFO] - Validating flow input with data {'answer': 'The first man to step on the moon was Lance Armstrong.', 'ground_truth': 'The first man to step on the moon was Neil Armstrong.'}\n",
      "[2024-08-30 07:52:11 -0700][flowinvoker][INFO] - Execute flow with data {'answer': 'The first man to step on the moon was Lance Armstrong.', 'ground_truth': 'The first man to step on the moon was Neil Armstrong.'}\n"
     ]
    },
    {
     "name": "stdout",
     "output_type": "stream",
     "text": [
      "2024-08-30 07:52:11 -0700    2147 execution.flow     INFO     Node compute_f1_score completes.\n"
     ]
    },
    {
     "name": "stderr",
     "output_type": "stream",
     "text": [
      "[2024-08-30 07:52:11 -0700][flowinvoker][INFO] - Validating flow input with data {'answer': 'The capital of Egypt is Cairo.', 'ground_truth': 'The capital of Egypt is Cairo.'}\n",
      "[2024-08-30 07:52:11 -0700][flowinvoker][INFO] - Execute flow with data {'answer': 'The capital of Egypt is Cairo.', 'ground_truth': 'The capital of Egypt is Cairo.'}\n"
     ]
    },
    {
     "name": "stdout",
     "output_type": "stream",
     "text": [
      "2024-08-30 07:52:11 -0700    2147 execution.flow     INFO     Node compute_f1_score completes.\n",
      "2024-08-30 07:52:11 -0700    2147 execution.flow     INFO     Node compute_f1_score completes.\n"
     ]
    },
    {
     "name": "stderr",
     "output_type": "stream",
     "text": [
      "[2024-08-30 07:52:11 -0700][flowinvoker][INFO] - Validating flow input with data {'answer': 'Photosynthesis is performed by animals.', 'ground_truth': 'Photosynthesis is performed by plants.'}\n",
      "[2024-08-30 07:52:11 -0700][flowinvoker][INFO] - Execute flow with data {'answer': 'Photosynthesis is performed by animals.', 'ground_truth': 'Photosynthesis is performed by plants.'}\n",
      "[2024-08-30 07:52:11 -0700][flowinvoker][INFO] - Validating flow input with data {'answer': 'The smallest bone in the human body is the femur.', 'ground_truth': 'The smallest bone in the human body is the stapes bone in the ear.'}\n",
      "[2024-08-30 07:52:11 -0700][flowinvoker][INFO] - Execute flow with data {'answer': 'The smallest bone in the human body is the femur.', 'ground_truth': 'The smallest bone in the human body is the stapes bone in the ear.'}\n"
     ]
    },
    {
     "name": "stdout",
     "output_type": "stream",
     "text": [
      "2024-08-30 07:52:11 -0700    2147 execution.flow     INFO     Node compute_f1_score completes.\n"
     ]
    },
    {
     "name": "stderr",
     "output_type": "stream",
     "text": [
      "[2024-08-30 07:52:11 -0700][flowinvoker][INFO] - Validating flow input with data {'answer': 'The Pacific Ocean is the warmest ocean.', 'ground_truth': 'The Indian Ocean is considered the warmest ocean.'}\n"
     ]
    },
    {
     "name": "stdout",
     "output_type": "stream",
     "text": [
      "2024-08-30 07:52:11 -0700    2147 execution.flow     INFO     Start executing nodes in thread pool mode.\n"
     ]
    },
    {
     "name": "stderr",
     "output_type": "stream",
     "text": [
      "[2024-08-30 07:52:11 -0700][flowinvoker][INFO] - Validating flow input with data {'answer': 'The light bulb was invented by Nikola Tesla.', 'ground_truth': 'The light bulb was invented by Thomas Edison.'}\n"
     ]
    },
    {
     "name": "stdout",
     "output_type": "stream",
     "text": [
      "2024-08-30 07:52:11 -0700    2147 execution.flow     INFO     Start to run 2 nodes with concurrency level 16.\n"
     ]
    },
    {
     "name": "stderr",
     "output_type": "stream",
     "text": [
      "[2024-08-30 07:52:11 -0700][flowinvoker][INFO] - Execute flow with data {'answer': 'The Pacific Ocean is the warmest ocean.', 'ground_truth': 'The Indian Ocean is considered the warmest ocean.'}\n"
     ]
    },
    {
     "name": "stdout",
     "output_type": "stream",
     "text": [
      "2024-08-30 07:52:11 -0700    2147 execution.flow     INFO     Current thread is not main thread, skip signal handler registration in AsyncNodesScheduler.\n"
     ]
    },
    {
     "name": "stderr",
     "output_type": "stream",
     "text": [
      "[2024-08-30 07:52:11 -0700][flowinvoker][INFO] - Execute flow with data {'answer': 'The light bulb was invented by Nikola Tesla.', 'ground_truth': 'The light bulb was invented by Thomas Edison.'}\n"
     ]
    },
    {
     "name": "stdout",
     "output_type": "stream",
     "text": [
      "2024-08-30 07:52:11 -0700    2147 execution.flow     INFO     Executing node validate_inputs. node run id: f5ae70dc-3740-4544-8359-2b5509aaf42c_validate_inputs_ebe8656d-a464-4867-97f8-2b6669dc8c13\n",
      "2024-08-30 07:52:11 -0700    2147 execution.flow     INFO     Start executing nodes in thread pool mode.\n",
      "2024-08-30 07:52:11 -0700    2147 execution.flow     INFO     Start to run 2 nodes with concurrency level 16.\n",
      "2024-08-30 07:52:11 -0700    2147 execution.flow     INFO     Current thread is not main thread, skip signal handler registration in AsyncNodesScheduler.\n",
      "2024-08-30 07:52:11 -0700    2147 execution.flow     INFO     Executing node validate_inputs. node run id: 554708bb-5486-4576-a826-1dae4657c2ca_validate_inputs_62bdfb69-4893-4e93-99eb-49a01d95ca72\n",
      "2024-08-30 07:52:11 -0700    2147 execution.flow     INFO     Start executing nodes in thread pool mode.\n",
      "2024-08-30 07:52:11 -0700    2147 execution.flow     INFO     Start to run 2 nodes with concurrency level 16.\n",
      "2024-08-30 07:52:11 -0700    2147 execution.flow     INFO     Current thread is not main thread, skip signal handler registration in AsyncNodesScheduler.\n",
      "2024-08-30 07:52:11 -0700    2147 execution.flow     INFO     Executing node validate_inputs. node run id: c8d45e41-10e7-4075-8567-42bc573089f9_validate_inputs_d6ba0bea-4a8a-4f37-ac17-c59ccd1a858b\n",
      "2024-08-30 07:52:11 -0700    2147 execution.flow     INFO     Start executing nodes in thread pool mode.\n",
      "2024-08-30 07:52:11 -0700    2147 execution.flow     INFO     Start to run 2 nodes with concurrency level 16.\n",
      "2024-08-30 07:52:11 -0700    2147 execution.flow     INFO     Current thread is not main thread, skip signal handler registration in AsyncNodesScheduler.\n",
      "2024-08-30 07:52:11 -0700    2147 execution.flow     INFO     Executing node validate_inputs. node run id: d7204fcf-aac8-460e-8ec8-672db88accb7_validate_inputs_3243eb5c-2917-40c8-a6fe-ec7169943ad3\n",
      "2024-08-30 07:52:11 -0700    2147 execution.flow     INFO     Start executing nodes in thread pool mode.\n",
      "2024-08-30 07:52:11 -0700    2147 execution.flow     INFO     Start to run 2 nodes with concurrency level 16.\n",
      "2024-08-30 07:52:11 -0700    2147 execution.flow     INFO     Current thread is not main thread, skip signal handler registration in AsyncNodesScheduler.\n",
      "2024-08-30 07:52:11 -0700    2147 execution.flow     INFO     Executing node validate_inputs. node run id: bb53435c-d832-49df-b5d7-9643e172351d_validate_inputs_0c98ffe7-8186-42d8-b644-e23e7df6341e\n",
      "2024-08-30 07:52:11 -0700    2147 execution.flow     INFO     Start executing nodes in thread pool mode.\n",
      "2024-08-30 07:52:11 -0700    2147 execution.flow     INFO     Start to run 2 nodes with concurrency level 16.\n",
      "2024-08-30 07:52:11 -0700    2147 execution.flow     INFO     Current thread is not main thread, skip signal handler registration in AsyncNodesScheduler.\n",
      "2024-08-30 07:52:11 -0700    2147 execution.flow     INFO     Executing node validate_inputs. node run id: aa38a198-098f-4df5-81ea-22b2a732632c_validate_inputs_7eed923c-0d61-4611-9a53-ddad13eed29d\n",
      "2024-08-30 07:52:11 -0700    2147 execution.flow     INFO     Node validate_inputs completes.\n",
      "2024-08-30 07:52:11 -0700    2147 execution.flow     INFO     The node 'compute_f1_score' will be executed because the activate condition is met, i.e. '${validate_inputs.output}' is equal to 'True'.\n",
      "2024-08-30 07:52:11 -0700    2147 execution.flow     INFO     Node validate_inputs completes.\n",
      "2024-08-30 07:52:11 -0700    2147 execution.flow     INFO     Node validate_inputs completes.\n",
      "2024-08-30 07:52:11 -0700    2147 execution.flow     INFO     Node validate_inputs completes.\n",
      "2024-08-30 07:52:11 -0700    2147 execution.flow     INFO     Node validate_inputs completes.\n",
      "2024-08-30 07:52:11 -0700    2147 execution.flow     INFO     Node validate_inputs completes.\n",
      "2024-08-30 07:52:11 -0700    2147 execution.flow     INFO     Executing node compute_f1_score. node run id: f5ae70dc-3740-4544-8359-2b5509aaf42c_compute_f1_score_49522f27-be3a-40ce-9119-6ecb8b6f71f4\n",
      "2024-08-30 07:52:11 -0700    2147 execution.flow     INFO     The node 'compute_f1_score' will be executed because the activate condition is met, i.e. '${validate_inputs.output}' is equal to 'True'.\n",
      "2024-08-30 07:52:11 -0700    2147 execution.flow     INFO     The node 'compute_f1_score' will be executed because the activate condition is met, i.e. '${validate_inputs.output}' is equal to 'True'.\n",
      "2024-08-30 07:52:11 -0700    2147 execution.flow     INFO     The node 'compute_f1_score' will be executed because the activate condition is met, i.e. '${validate_inputs.output}' is equal to 'True'.\n",
      "2024-08-30 07:52:11 -0700    2147 execution.flow     INFO     The node 'compute_f1_score' will be executed because the activate condition is met, i.e. '${validate_inputs.output}' is equal to 'True'.\n",
      "2024-08-30 07:52:11 -0700    2147 execution.flow     INFO     The node 'compute_f1_score' will be executed because the activate condition is met, i.e. '${validate_inputs.output}' is equal to 'True'.\n",
      "2024-08-30 07:52:11 -0700    2147 execution.flow     INFO     Node compute_f1_score completes.\n",
      "2024-08-30 07:52:11 -0700    2147 execution.flow     INFO     Executing node compute_f1_score. node run id: bb53435c-d832-49df-b5d7-9643e172351d_compute_f1_score_98d02c25-adac-4fac-8a04-78a9a2989e1c\n"
     ]
    },
    {
     "name": "stderr",
     "output_type": "stream",
     "text": [
      "[2024-08-30 07:52:11 -0700][flowinvoker][INFO] - Validating flow input with data {'answer': 'The first president of the United States was John Adams.', 'ground_truth': 'The first president of the United States was George Washington.'}\n"
     ]
    },
    {
     "name": "stdout",
     "output_type": "stream",
     "text": [
      "2024-08-30 07:52:11 -0700    2147 execution.flow     INFO     Executing node compute_f1_score. node run id: d7204fcf-aac8-460e-8ec8-672db88accb7_compute_f1_score_2e0b2190-15bc-4602-a113-110727655013\n"
     ]
    },
    {
     "name": "stderr",
     "output_type": "stream",
     "text": [
      "[2024-08-30 07:52:11 -0700][flowinvoker][INFO] - Execute flow with data {'answer': 'The first president of the United States was John Adams.', 'ground_truth': 'The first president of the United States was George Washington.'}\n"
     ]
    },
    {
     "name": "stdout",
     "output_type": "stream",
     "text": [
      "2024-08-30 07:52:11 -0700    2147 execution.flow     INFO     Executing node compute_f1_score. node run id: c8d45e41-10e7-4075-8567-42bc573089f9_compute_f1_score_b9424fa0-3c99-41a1-ae72-12348ca96af5\n",
      "2024-08-30 07:52:11 -0700    2147 execution.flow     INFO     Executing node compute_f1_score. node run id: 554708bb-5486-4576-a826-1dae4657c2ca_compute_f1_score_816656ae-34e7-4aef-b1e1-3e3f57fd6ace\n",
      "2024-08-30 07:52:11 -0700    2147 execution.flow     INFO     Executing node compute_f1_score. node run id: aa38a198-098f-4df5-81ea-22b2a732632c_compute_f1_score_fd7e8a6d-01e2-47ca-bf7e-831207a246cc\n",
      "2024-08-30 07:52:11 -0700    2147 execution.flow     INFO     Node compute_f1_score completes.\n",
      "2024-08-30 07:52:11 -0700    2147 execution.flow     INFO     Node compute_f1_score completes.\n"
     ]
    },
    {
     "name": "stderr",
     "output_type": "stream",
     "text": [
      "[2024-08-30 07:52:11 -0700][flowinvoker][INFO] - Validating flow input with data {'answer': 'The formula for water is CO2.', 'ground_truth': 'The formula for water is H2O.'}\n"
     ]
    },
    {
     "name": "stdout",
     "output_type": "stream",
     "text": [
      "2024-08-30 07:52:11 -0700    2147 execution.flow     INFO     Node compute_f1_score completes.\n"
     ]
    },
    {
     "name": "stderr",
     "output_type": "stream",
     "text": [
      "[2024-08-30 07:52:11 -0700][flowinvoker][INFO] - Validating flow input with data {'answer': 'The tallest building in the world is the Empire State Building.', 'ground_truth': 'The tallest building in the world is the Burj Khalifa.'}\n"
     ]
    },
    {
     "name": "stdout",
     "output_type": "stream",
     "text": [
      "2024-08-30 07:52:11 -0700    2147 execution.flow     INFO     Start executing nodes in thread pool mode.\n",
      "2024-08-30 07:52:11 -0700    2147 execution.flow     INFO     Node compute_f1_score completes.\n"
     ]
    },
    {
     "name": "stderr",
     "output_type": "stream",
     "text": [
      "[2024-08-30 07:52:11 -0700][flowinvoker][INFO] - Execute flow with data {'answer': 'The formula for water is CO2.', 'ground_truth': 'The formula for water is H2O.'}\n",
      "[2024-08-30 07:52:11 -0700][flowinvoker][INFO] - Execute flow with data {'answer': 'The tallest building in the world is the Empire State Building.', 'ground_truth': 'The tallest building in the world is the Burj Khalifa.'}\n"
     ]
    },
    {
     "name": "stdout",
     "output_type": "stream",
     "text": [
      "2024-08-30 07:52:11 -0700    2147 execution.flow     INFO     Node compute_f1_score completes.\n",
      "2024-08-30 07:52:11 -0700    2147 execution.flow     INFO     Start to run 2 nodes with concurrency level 16.\n",
      "2024-08-30 07:52:11 -0700    2147 execution.flow     INFO     Start executing nodes in thread pool mode.\n",
      "2024-08-30 07:52:11 -0700    2147 execution.flow     INFO     Start executing nodes in thread pool mode.\n",
      "2024-08-30 07:52:11 -0700    2147 execution.flow     INFO     Current thread is not main thread, skip signal handler registration in AsyncNodesScheduler.\n",
      "2024-08-30 07:52:11 -0700    2147 execution.flow     INFO     Start to run 2 nodes with concurrency level 16.\n",
      "2024-08-30 07:52:11 -0700    2147 execution.flow     INFO     Start to run 2 nodes with concurrency level 16.\n",
      "2024-08-30 07:52:11 -0700    2147 execution.flow     INFO     Executing node validate_inputs. node run id: 2db9b2fd-aa42-4a23-8b3c-4ef7dc7d7f3c_validate_inputs_bfc9ff9e-f1be-4d01-936f-aecb46b598ca\n",
      "2024-08-30 07:52:11 -0700    2147 execution.flow     INFO     Current thread is not main thread, skip signal handler registration in AsyncNodesScheduler.\n",
      "2024-08-30 07:52:11 -0700    2147 execution.flow     INFO     Current thread is not main thread, skip signal handler registration in AsyncNodesScheduler.\n",
      "2024-08-30 07:52:11 -0700    2147 execution.flow     INFO     Executing node validate_inputs. node run id: 031dcac1-55a8-4b46-8f79-88a812dd36c9_validate_inputs_6b2afc9e-6c95-4a2c-ac4a-ad3a3553dcad\n",
      "2024-08-30 07:52:11 -0700    2147 execution.flow     INFO     Executing node validate_inputs. node run id: 4cadac26-a56a-4325-9da0-493a85cb48d2_validate_inputs_1c509da5-fdb6-4c6c-9632-31e8ebfbe30d\n",
      "2024-08-30 07:52:11 -0700    2147 execution.flow     INFO     Node validate_inputs completes.\n",
      "2024-08-30 07:52:11 -0700    2147 execution.flow     INFO     Node validate_inputs completes.\n",
      "2024-08-30 07:52:11 -0700    2147 execution.flow     INFO     Node validate_inputs completes.\n",
      "2024-08-30 07:52:11 -0700    2147 execution.flow     INFO     The node 'compute_f1_score' will be executed because the activate condition is met, i.e. '${validate_inputs.output}' is equal to 'True'.\n",
      "2024-08-30 07:52:11 -0700    2147 execution.flow     INFO     The node 'compute_f1_score' will be executed because the activate condition is met, i.e. '${validate_inputs.output}' is equal to 'True'.\n",
      "2024-08-30 07:52:11 -0700    2147 execution.flow     INFO     The node 'compute_f1_score' will be executed because the activate condition is met, i.e. '${validate_inputs.output}' is equal to 'True'.\n",
      "2024-08-30 07:52:11 -0700    2147 execution.flow     INFO     Executing node compute_f1_score. node run id: 2db9b2fd-aa42-4a23-8b3c-4ef7dc7d7f3c_compute_f1_score_91879c45-6bf7-42c0-ace4-05ae1d9ab4b3\n",
      "2024-08-30 07:52:11 -0700    2147 execution.flow     INFO     Executing node compute_f1_score. node run id: 031dcac1-55a8-4b46-8f79-88a812dd36c9_compute_f1_score_5b9b6096-6871-4919-bf09-3b4d326b8e3d\n",
      "2024-08-30 07:52:11 -0700    2147 execution.flow     INFO     Executing node compute_f1_score. node run id: 4cadac26-a56a-4325-9da0-493a85cb48d2_compute_f1_score_2ac2f808-c623-4ac1-8d1f-3f0cb7c806d4\n",
      "2024-08-30 07:52:11 -0700    2147 execution.flow     INFO     Node compute_f1_score completes.\n",
      "2024-08-30 07:52:11 -0700    2147 execution.flow     INFO     Node compute_f1_score completes.\n",
      "2024-08-30 07:52:11 -0700    2147 execution.flow     INFO     Node compute_f1_score completes.\n"
     ]
    },
    {
     "name": "stderr",
     "output_type": "stream",
     "text": [
      "2024/08/30 07:52:29 INFO mlflow.tracking._tracking_service.client: 🏃 View run eager_eagle_3yg6bhvl at: https://eastus.api.azureml.ms/mlflow/v2.0/subscriptions/28d2df62-e322-4b25-b581-c43b94bd2607/resourceGroups/uhg-advassist-slm-eval/providers/Microsoft.MachineLearningServices/workspaces/slm-evaluation/#/experiments/d8f2318e-fd83-488e-bd9b-deca311699d7/runs/c2315a8d-1930-46f1-adaf-6690dbd358c3.\n",
      "2024/08/30 07:52:29 INFO mlflow.tracking._tracking_service.client: 🧪 View experiment at: https://eastus.api.azureml.ms/mlflow/v2.0/subscriptions/28d2df62-e322-4b25-b581-c43b94bd2607/resourceGroups/uhg-advassist-slm-eval/providers/Microsoft.MachineLearningServices/workspaces/slm-evaluation/#/experiments/d8f2318e-fd83-488e-bd9b-deca311699d7.\n"
     ]
    },
    {
     "name": "stdout",
     "output_type": "stream",
     "text": [
      "[{\"variableName\": \"azure_ai_project\", \"type\": \"dictionary\", \"supportedEngines\": [\"pandas\"], \"isLocalVariable\": false}, {\"variableName\": \"result\", \"type\": \"dictionary\", \"supportedEngines\": [\"pandas\"], \"isLocalVariable\": false}]\n",
      "[{\"variableName\": \"azure_ai_project\", \"type\": \"dictionary\", \"supportedEngines\": [\"pandas\"], \"isLocalVariable\": false}, {\"variableName\": \"result\", \"type\": \"dictionary\", \"supportedEngines\": [\"pandas\"], \"isLocalVariable\": false}]\n",
      "[{\"variableName\": \"azure_ai_project\", \"type\": \"dictionary\", \"supportedEngines\": [\"pandas\"], \"isLocalVariable\": false}, {\"variableName\": \"result\", \"type\": \"dictionary\", \"supportedEngines\": [\"pandas\"], \"isLocalVariable\": false}]\n",
      "[{\"variableName\": \"azure_ai_project\", \"type\": \"dictionary\", \"supportedEngines\": [\"pandas\"], \"isLocalVariable\": false}, {\"variableName\": \"result\", \"type\": \"dictionary\", \"supportedEngines\": [\"pandas\"], \"isLocalVariable\": false}]\n",
      "[{\"variableName\": \"azure_ai_project\", \"type\": \"dictionary\", \"supportedEngines\": [\"pandas\"], \"isLocalVariable\": false}, {\"variableName\": \"result\", \"type\": \"dictionary\", \"supportedEngines\": [\"pandas\"], \"isLocalVariable\": false}]\n",
      "[{\"variableName\": \"azure_ai_project\", \"type\": \"dictionary\", \"supportedEngines\": [\"pandas\"], \"isLocalVariable\": false}, {\"variableName\": \"result\", \"type\": \"dictionary\", \"supportedEngines\": [\"pandas\"], \"isLocalVariable\": false}]\n",
      "Directory changed to /opt/anaconda3/envs/promptflow-eval-framework/lib/python3.9/site-packages/promptflow/evals/evaluators/_f1_score/flow\n"
     ]
    },
    {
     "name": "stdout",
     "output_type": "stream",
     "text": [
      "[{\"variableName\": \"azure_ai_project\", \"type\": \"dictionary\", \"supportedEngines\": [\"pandas\"], \"isLocalVariable\": false}, {\"variableName\": \"result\", \"type\": \"dictionary\", \"supportedEngines\": [\"pandas\"], \"isLocalVariable\": false}]\n",
      "[{\"variableName\": \"azure_ai_project\", \"type\": \"dictionary\", \"supportedEngines\": [\"pandas\"], \"isLocalVariable\": false}, {\"variableName\": \"result\", \"type\": \"dictionary\", \"supportedEngines\": [\"pandas\"], \"isLocalVariable\": false}]\n",
      "[{\"variableName\": \"azure_ai_project\", \"type\": \"dictionary\", \"supportedEngines\": [\"pandas\"], \"isLocalVariable\": false}, {\"variableName\": \"result\", \"type\": \"dictionary\", \"supportedEngines\": [\"pandas\"], \"isLocalVariable\": false}]\n",
      "[{\"variableName\": \"azure_ai_project\", \"type\": \"dictionary\", \"supportedEngines\": [\"pandas\"], \"isLocalVariable\": false}, {\"variableName\": \"result\", \"type\": \"dictionary\", \"supportedEngines\": [\"pandas\"], \"isLocalVariable\": false}]\n",
      "[{\"variableName\": \"azure_ai_project\", \"type\": \"dictionary\", \"supportedEngines\": [\"pandas\"], \"isLocalVariable\": false}, {\"variableName\": \"result\", \"type\": \"dictionary\", \"supportedEngines\": [\"pandas\"], \"isLocalVariable\": false}]\n",
      "[{\"variableName\": \"azure_ai_project\", \"type\": \"dictionary\", \"supportedEngines\": [\"pandas\"], \"isLocalVariable\": false}, {\"variableName\": \"result\", \"type\": \"dictionary\", \"supportedEngines\": [\"pandas\"], \"isLocalVariable\": false}]\n"
     ]
    }
   ],
   "source": [
    "data_input_path = os.path.join(TARGET_DIRECTORY, \"my_utils\", \"data\", \"evaluations\", \"jsonl\", \"F1ScoreEvaluator.jsonl\")\n",
    "\n",
    "result = evaluate(\n",
    "    data=data_input_path,\n",
    "    evaluators={\n",
    "        \"qa_eval\": qa_eval,\n",
    "        \"context_similarity\": context_similarity\n",
    "    },\n",
    "    # column mapping\n",
    "    evaluator_config={\n",
    "        \"qa_eval\": {\n",
    "            \"answer\": \"${data.answer}\",\n",
    "            \"ground_truth\": \"${data.ground_truth}\",\n",
    "        },\n",
    "        \"context_similarity\": {\n",
    "            \"question\": \"${data.question}\",\n",
    "            \"answer\": \"${data.answer}\",\n",
    "            \"ground_truth\": \"${data.ground_truth}\",\n",
    "        }\n",
    "    },\n",
    "    azure_ai_project=azure_ai_project\n",
    ")"
   ]
  },
  {
   "cell_type": "code",
   "execution_count": 14,
   "metadata": {},
   "outputs": [
    {
     "name": "stdout",
     "output_type": "stream",
     "text": [
      "{'metrics': {'context_similarity.gpt_similarity': 2.6923076923076925,\n",
      "             'qa_eval.f1_score': 0.7724547511312218},\n",
      " 'rows': [{'inputs.answer': 'Paris is the capital of France.',\n",
      "           'inputs.ground_truth': 'The capital of France is Paris.',\n",
      "           'inputs.question': 'What is the capital of France?',\n",
      "           'line_number': 0,\n",
      "           'outputs.context_similarity.gpt_similarity': 5.0,\n",
      "           'outputs.qa_eval.f1_score': 1.0},\n",
      "          {'inputs.answer': 'Albert Einstein developed the theory of '\n",
      "                            'relativity.',\n",
      "           'inputs.ground_truth': 'The theory of relativity was developed by '\n",
      "                                  'Albert Einstein.',\n",
      "           'inputs.question': 'Who developed the theory of relativity?',\n",
      "           'line_number': 1,\n",
      "           'outputs.context_similarity.gpt_similarity': 5.0,\n",
      "           'outputs.qa_eval.f1_score': 0.8571428571428571},\n",
      "          {'inputs.answer': 'The speed of light is approximately 299,792,458 '\n",
      "                            'meters per second.',\n",
      "           'inputs.ground_truth': 'Light travels at a speed of 299,792,458 '\n",
      "                                  'meters per second.',\n",
      "           'inputs.question': 'What is the speed of light?',\n",
      "           'line_number': 2,\n",
      "           'outputs.context_similarity.gpt_similarity': 5.0,\n",
      "           'outputs.qa_eval.f1_score': 0.7777777777777778},\n",
      "          {'inputs.answer': 'Mount Everest is the tallest mountain in the '\n",
      "                            'world.',\n",
      "           'inputs.ground_truth': \"The world's tallest mountain is Mount \"\n",
      "                                  'Everest.',\n",
      "           'inputs.question': 'Which is the tallest mountain in the world?',\n",
      "           'line_number': 3,\n",
      "           'outputs.context_similarity.gpt_similarity': 5.0,\n",
      "           'outputs.qa_eval.f1_score': 0.7692307692307692},\n",
      "          {'inputs.answer': \"George Orwell is the author of '1984'.\",\n",
      "           'inputs.ground_truth': \"The author of '1984' is George Orwell.\",\n",
      "           'inputs.question': \"Who wrote '1984'?\",\n",
      "           'line_number': 4,\n",
      "           'outputs.context_similarity.gpt_similarity': 5.0,\n",
      "           'outputs.qa_eval.f1_score': 1.0},\n",
      "          {'inputs.answer': 'Tokyo is the capital of Japan.',\n",
      "           'inputs.ground_truth': \"Japan's capital is Tokyo.\",\n",
      "           'inputs.question': 'What is the capital of Japan?',\n",
      "           'line_number': 5,\n",
      "           'outputs.context_similarity.gpt_similarity': 5.0,\n",
      "           'outputs.qa_eval.f1_score': 0.6666666666666665},\n",
      "          {'inputs.answer': 'Leonardo da Vinci painted the Mona Lisa.',\n",
      "           'inputs.ground_truth': 'The Mona Lisa was painted by Leonardo da '\n",
      "                                  'Vinci.',\n",
      "           'inputs.question': 'Who painted the Mona Lisa?',\n",
      "           'line_number': 6,\n",
      "           'outputs.context_similarity.gpt_similarity': 5.0,\n",
      "           'outputs.qa_eval.f1_score': 0.8571428571428571},\n",
      "          {'inputs.answer': 'Jupiter is the largest planet in our solar '\n",
      "                            'system.',\n",
      "           'inputs.ground_truth': 'The largest planet in our solar system is '\n",
      "                                  'Jupiter.',\n",
      "           'inputs.question': 'What is the largest planet in our solar system?',\n",
      "           'line_number': 7,\n",
      "           'outputs.context_similarity.gpt_similarity': 5.0,\n",
      "           'outputs.qa_eval.f1_score': 1.0},\n",
      "          {'inputs.answer': 'H2O is the chemical symbol for water.',\n",
      "           'inputs.ground_truth': 'The chemical symbol for water is H2O.',\n",
      "           'inputs.question': 'What is the chemical symbol for water?',\n",
      "           'line_number': 8,\n",
      "           'outputs.context_similarity.gpt_similarity': 5.0,\n",
      "           'outputs.qa_eval.f1_score': 1.0},\n",
      "          {'inputs.answer': 'The Pacific Ocean is the largest ocean on Earth.',\n",
      "           'inputs.ground_truth': 'The largest ocean on Earth is the Pacific '\n",
      "                                  'Ocean.',\n",
      "           'inputs.question': 'What is the largest ocean on Earth?',\n",
      "           'line_number': 9,\n",
      "           'outputs.context_similarity.gpt_similarity': 5.0,\n",
      "           'outputs.qa_eval.f1_score': 1.0},\n",
      "          {'inputs.answer': 'The Great Pyramid of Giza was built by Alexander '\n",
      "                            'the Great.',\n",
      "           'inputs.ground_truth': 'The Great Pyramid of Giza was built by the '\n",
      "                                  'Egyptians.',\n",
      "           'inputs.question': 'Who built the Great Pyramid of Giza?',\n",
      "           'line_number': 10,\n",
      "           'outputs.context_similarity.gpt_similarity': nan,\n",
      "           'outputs.qa_eval.f1_score': 0.823529411764706},\n",
      "          {'inputs.answer': 'The human body has four senses.',\n",
      "           'inputs.ground_truth': 'The human body has five primary senses.',\n",
      "           'inputs.question': 'How many primary senses does the human body '\n",
      "                              'have?',\n",
      "           'line_number': 11,\n",
      "           'outputs.context_similarity.gpt_similarity': 1.0,\n",
      "           'outputs.qa_eval.f1_score': 0.7272727272727272},\n",
      "          {'inputs.answer': 'The Amazon is the longest river in the world.',\n",
      "           'inputs.ground_truth': 'The Nile is often cited as the longest '\n",
      "                                  'river in the world, but some sources claim '\n",
      "                                  'the Amazon is longer.',\n",
      "           'inputs.question': 'What is the longest river in the world?',\n",
      "           'line_number': 12,\n",
      "           'outputs.context_similarity.gpt_similarity': 1.0,\n",
      "           'outputs.qa_eval.f1_score': 0.5454545454545454},\n",
      "          {'inputs.answer': 'The internet was invented in the 1960s.',\n",
      "           'inputs.ground_truth': 'The foundational technology of the internet '\n",
      "                                  'was developed in the late 1960s.',\n",
      "           'inputs.question': 'When was the internet invented?',\n",
      "           'line_number': 13,\n",
      "           'outputs.context_similarity.gpt_similarity': nan,\n",
      "           'outputs.qa_eval.f1_score': 0.5714285714285714},\n",
      "          {'inputs.answer': 'The heart is on the right side of the human body.',\n",
      "           'inputs.ground_truth': 'The heart is located slightly to the left '\n",
      "                                  'side of the chest in the human body.',\n",
      "           'inputs.question': 'Where is the heart located in the human body?',\n",
      "           'line_number': 14,\n",
      "           'outputs.context_similarity.gpt_similarity': 1.0,\n",
      "           'outputs.qa_eval.f1_score': 0.6},\n",
      "          {'inputs.answer': 'The sun revolves around the Earth.',\n",
      "           'inputs.ground_truth': 'The Earth revolves around the sun.',\n",
      "           'inputs.question': 'Does the Earth revolve around the sun, or does '\n",
      "                              'the sun revolve around the Earth?',\n",
      "           'line_number': 15,\n",
      "           'outputs.context_similarity.gpt_similarity': 1.0,\n",
      "           'outputs.qa_eval.f1_score': 1.0},\n",
      "          {'inputs.answer': 'Sharks are mammals.',\n",
      "           'inputs.ground_truth': 'Sharks are a group of fish characterized by '\n",
      "                                  'a cartilaginous skeleton.',\n",
      "           'inputs.question': 'Are sharks mammals or fish?',\n",
      "           'line_number': 16,\n",
      "           'outputs.context_similarity.gpt_similarity': 1.0,\n",
      "           'outputs.qa_eval.f1_score': 0.3333333333333333},\n",
      "          {'inputs.answer': 'The capital of Canada is Toronto.',\n",
      "           'inputs.ground_truth': 'The capital of Canada is Ottawa.',\n",
      "           'inputs.question': 'What is the capital of Canada?',\n",
      "           'line_number': 17,\n",
      "           'outputs.context_similarity.gpt_similarity': nan,\n",
      "           'outputs.qa_eval.f1_score': 0.8000000000000002},\n",
      "          {'inputs.answer': 'The inventor of the telephone was Thomas Edison.',\n",
      "           'inputs.ground_truth': 'Alexander Graham Bell is credited with '\n",
      "                                  'inventing the first practical telephone.',\n",
      "           'inputs.question': 'Who invented the telephone?',\n",
      "           'line_number': 18,\n",
      "           'outputs.context_similarity.gpt_similarity': 1.0,\n",
      "           'outputs.qa_eval.f1_score': 0.125},\n",
      "          {'inputs.answer': 'The chemical symbol for gold is Ag.',\n",
      "           'inputs.ground_truth': 'The chemical symbol for gold is Au.',\n",
      "           'inputs.question': 'What is the chemical symbol for gold?',\n",
      "           'line_number': 19,\n",
      "           'outputs.context_similarity.gpt_similarity': 1.0,\n",
      "           'outputs.qa_eval.f1_score': 0.8333333333333334},\n",
      "          {'inputs.answer': 'The largest desert in the world is the Sahara.',\n",
      "           'inputs.ground_truth': 'The largest desert in the world is '\n",
      "                                  'Antarctica.',\n",
      "           'inputs.question': 'What is the largest desert in the world?',\n",
      "           'line_number': 20,\n",
      "           'outputs.context_similarity.gpt_similarity': 1.0,\n",
      "           'outputs.qa_eval.f1_score': 0.8333333333333334},\n",
      "          {'inputs.answer': 'The first man to step on the moon was Lance '\n",
      "                            'Armstrong.',\n",
      "           'inputs.ground_truth': 'The first man to step on the moon was Neil '\n",
      "                                  'Armstrong.',\n",
      "           'inputs.question': 'Who was the first man to step on the moon?',\n",
      "           'line_number': 21,\n",
      "           'outputs.context_similarity.gpt_similarity': 1.0,\n",
      "           'outputs.qa_eval.f1_score': 0.8888888888888888},\n",
      "          {'inputs.answer': 'The capital of Egypt is Cairo.',\n",
      "           'inputs.ground_truth': 'The capital of Egypt is Cairo.',\n",
      "           'inputs.question': 'What is the capital of Egypt?',\n",
      "           'line_number': 22,\n",
      "           'outputs.context_similarity.gpt_similarity': 5.0,\n",
      "           'outputs.qa_eval.f1_score': 1.0},\n",
      "          {'inputs.answer': 'Photosynthesis is performed by animals.',\n",
      "           'inputs.ground_truth': 'Photosynthesis is performed by plants.',\n",
      "           'inputs.question': 'Who performs photosynthesis?',\n",
      "           'line_number': 23,\n",
      "           'outputs.context_similarity.gpt_similarity': 1.0,\n",
      "           'outputs.qa_eval.f1_score': 0.8000000000000002},\n",
      "          {'inputs.answer': 'The smallest bone in the human body is the femur.',\n",
      "           'inputs.ground_truth': 'The smallest bone in the human body is the '\n",
      "                                  'stapes bone in the ear.',\n",
      "           'inputs.question': 'What is the smallest bone in the human body?',\n",
      "           'line_number': 24,\n",
      "           'outputs.context_similarity.gpt_similarity': 1.0,\n",
      "           'outputs.qa_eval.f1_score': 0.7058823529411764},\n",
      "          {'inputs.answer': 'The Pacific Ocean is the warmest ocean.',\n",
      "           'inputs.ground_truth': 'The Indian Ocean is considered the warmest '\n",
      "                                  'ocean.',\n",
      "           'inputs.question': 'Which is the warmest ocean?',\n",
      "           'line_number': 25,\n",
      "           'outputs.context_similarity.gpt_similarity': 1.0,\n",
      "           'outputs.qa_eval.f1_score': 0.7272727272727272},\n",
      "          {'inputs.answer': 'The light bulb was invented by Nikola Tesla.',\n",
      "           'inputs.ground_truth': 'The light bulb was invented by Thomas '\n",
      "                                  'Edison.',\n",
      "           'inputs.question': 'Who invented the light bulb?',\n",
      "           'line_number': 26,\n",
      "           'outputs.context_similarity.gpt_similarity': 1.0,\n",
      "           'outputs.qa_eval.f1_score': 0.7142857142857143},\n",
      "          {'inputs.answer': 'The first president of the United States was John '\n",
      "                            'Adams.',\n",
      "           'inputs.ground_truth': 'The first president of the United States '\n",
      "                                  'was George Washington.',\n",
      "           'inputs.question': 'Who was the first president of the United '\n",
      "                              'States?',\n",
      "           'line_number': 27,\n",
      "           'outputs.context_similarity.gpt_similarity': 1.0,\n",
      "           'outputs.qa_eval.f1_score': 0.75},\n",
      "          {'inputs.answer': 'The formula for water is CO2.',\n",
      "           'inputs.ground_truth': 'The formula for water is H2O.',\n",
      "           'inputs.question': 'What is the formula for water?',\n",
      "           'line_number': 28,\n",
      "           'outputs.context_similarity.gpt_similarity': 1.0,\n",
      "           'outputs.qa_eval.f1_score': 0.8000000000000002},\n",
      "          {'inputs.answer': 'The tallest building in the world is the Empire '\n",
      "                            'State Building.',\n",
      "           'inputs.ground_truth': 'The tallest building in the world is the '\n",
      "                                  'Burj Khalifa.',\n",
      "           'inputs.question': 'What is the tallest building in the world?',\n",
      "           'line_number': 29,\n",
      "           'outputs.context_similarity.gpt_similarity': nan,\n",
      "           'outputs.qa_eval.f1_score': 0.6666666666666666}],\n",
      " 'studio_url': 'https://ai.azure.com/build/evaluation/c2315a8d-1930-46f1-adaf-6690dbd358c3?wsid=/subscriptions/28d2df62-e322-4b25-b581-c43b94bd2607/resourceGroups/uhg-advassist-slm-eval/providers/Microsoft.MachineLearningServices/workspaces/slm-evaluation'}\n"
     ]
    }
   ],
   "source": [
    "pprint(result)"
   ]
  },
  {
   "cell_type": "markdown",
   "metadata": {},
   "source": [
    "#### Scenario 2: Integration of Custom Evaluation with Built-in PromptFlow for Enhanced Contextual Accuracy in Q&A Matching\n",
    "\n",
    "**Objective**: To enhance the evaluation of our AI bot's (LLM/SLM) performance in responding to user queries, we have developed a custom evaluation framework. This framework focuses on the accuracy of responses and their contextual understanding, utilizing a predefined ground truth for comparison. It is designed to complement and extend the built-in evaluation methods provided by PromptFlow.\n",
    "\n",
    "**Custom Evaluation Framework**:\n",
    "- **Implementation**: We have implemented a custom evaluation module, `SemanticSimilarityEvaluator`, leveraging the `transformers` library to utilize pre-trained models for semantic similarity assessments.\n",
    "- **Functionality**: This module calculates the semantic similarity between the AI bot's response and the ground truth. It uses embeddings generated by a pre-trained model (`bert-base-uncased`) and computes cosine similarity to quantify semantic closeness.\n",
    "\n",
    "**Integration with PromptFlow**:\n",
    "- Our custom evaluation is seamlessly integrated with PromptFlow's built-in evaluation methods. This combination allows for a comprehensive assessment that covers both the nuanced contextual understanding and the accuracy of the AI bot's responses.\n",
    "- **Input**: User queries across various topics and complexities.\n",
    "- **AI Bot**: Our system, tasked with generating responses.\n",
    "- **Evaluation Criteria**:\n",
    "  - **Contextual Understanding**: Assesses the AI bot's grasp of the query's context and intent.\n",
    "  - **Response Accuracy**: Measures the alignment of the AI bot's responses with the expected answers, enriched by our custom semantic similarity evaluation.\n",
    "\n",
    "**Goal**: To ascertain the efficacy of our AI bot in providing contextually accurate and precise responses, leveraging both our custom evaluation and PromptFlow's built-in methods to highlight areas for improvement and ensure comprehensive coverage of evaluation metrics."
   ]
  },
  {
   "cell_type": "code",
   "execution_count": 15,
   "metadata": {},
   "outputs": [],
   "source": [
    "from src.quality.custom.custom_similarity import SemanticSimilarityEvaluator"
   ]
  },
  {
   "cell_type": "code",
   "execution_count": 16,
   "metadata": {},
   "outputs": [
    {
     "name": "stderr",
     "output_type": "stream",
     "text": [
      "/opt/anaconda3/envs/promptflow-eval-framework/lib/python3.9/site-packages/huggingface_hub/file_download.py:1150: FutureWarning: `resume_download` is deprecated and will be removed in version 1.0.0. Downloads always resume when possible. If you want to force a new download, use `force_download=True`.\n",
      "  warnings.warn(\n",
      "[2024-08-30 07:54:08 -0700][flowinvoker][INFO] - Validating flow input with data {'answer': 'Paris is the capital of France.', 'ground_truth': 'The capital of France is Paris.'}\n",
      "[2024-08-30 07:54:08 -0700][flowinvoker][INFO] - Validating flow input with data {'answer': 'Albert Einstein developed the theory of relativity.', 'ground_truth': 'The theory of relativity was developed by Albert Einstein.'}\n",
      "[2024-08-30 07:54:08 -0700][flowinvoker][INFO] - Validating flow input with data {'answer': 'The speed of light is approximately 299,792,458 meters per second.', 'ground_truth': 'Light travels at a speed of 299,792,458 meters per second.'}\n",
      "[2024-08-30 07:54:08 -0700][flowinvoker][INFO] - Execute flow with data {'answer': 'Paris is the capital of France.', 'ground_truth': 'The capital of France is Paris.'}\n",
      "[2024-08-30 07:54:08 -0700][flowinvoker][INFO] - Validating flow input with data {'answer': 'Mount Everest is the tallest mountain in the world.', 'ground_truth': \"The world's tallest mountain is Mount Everest.\"}\n"
     ]
    }
   ],
   "source": [
    "semantic_similarity_eval = SemanticSimilarityEvaluator(model_name='bert-base-uncased')"
   ]
  },
  {
   "cell_type": "code",
   "execution_count": 17,
   "metadata": {},
   "outputs": [
    {
     "name": "stdout",
     "output_type": "stream",
     "text": [
      "2024-08-30 07:54:08 -0700    2147 execution.flow     INFO     Start executing nodes in thread pool mode.\n",
      "2024-08-30 07:54:08 -0700    2147 execution.flow     INFO     Start to run 2 nodes with concurrency level 16.\n"
     ]
    },
    {
     "name": "stderr",
     "output_type": "stream",
     "text": [
      "[2024-08-30 07:54:08 -0700][flowinvoker][INFO] - Validating flow input with data {'answer': \"George Orwell is the author of '1984'.\", 'ground_truth': \"The author of '1984' is George Orwell.\"}\n"
     ]
    },
    {
     "name": "stdout",
     "output_type": "stream",
     "text": [
      "2024-08-30 07:54:08 -0700    2147 execution.flow     INFO     Current thread is not main thread, skip signal handler registration in AsyncNodesScheduler.\n"
     ]
    },
    {
     "name": "stderr",
     "output_type": "stream",
     "text": [
      "[2024-08-30 07:54:08 -0700][flowinvoker][INFO] - Execute flow with data {'answer': 'Albert Einstein developed the theory of relativity.', 'ground_truth': 'The theory of relativity was developed by Albert Einstein.'}\n"
     ]
    },
    {
     "name": "stdout",
     "output_type": "stream",
     "text": [
      "2024-08-30 07:54:08 -0700    2147 execution.flow     INFO     Executing node validate_inputs. node run id: 9f3b6856-238c-4778-932e-1d1763743a0e_validate_inputs_c7202f71-f225-436b-b674-821dac936358\n"
     ]
    },
    {
     "name": "stderr",
     "output_type": "stream",
     "text": [
      "[2024-08-30 07:54:08 -0700][flowinvoker][INFO] - Execute flow with data {'answer': 'The speed of light is approximately 299,792,458 meters per second.', 'ground_truth': 'Light travels at a speed of 299,792,458 meters per second.'}\n",
      "[2024-08-30 07:54:08 -0700][flowinvoker][INFO] - Execute flow with data {'answer': 'Mount Everest is the tallest mountain in the world.', 'ground_truth': \"The world's tallest mountain is Mount Everest.\"}\n",
      "[2024-08-30 07:54:08 -0700][flowinvoker][INFO] - Execute flow with data {'answer': \"George Orwell is the author of '1984'.\", 'ground_truth': \"The author of '1984' is George Orwell.\"}\n"
     ]
    },
    {
     "name": "stdout",
     "output_type": "stream",
     "text": [
      "2024-08-30 07:54:08 -0700    2147 execution.flow     INFO     Start executing nodes in thread pool mode.\n",
      "2024-08-30 07:54:08 -0700    2147 execution.flow     INFO     Start to run 2 nodes with concurrency level 16.\n",
      "2024-08-30 07:54:08 -0700    2147 execution.flow     INFO     Current thread is not main thread, skip signal handler registration in AsyncNodesScheduler.\n",
      "2024-08-30 07:54:08 -0700    2147 execution.flow     INFO     Executing node validate_inputs. node run id: 3ecf6897-49eb-4c44-9054-e044d2d6f86b_validate_inputs_0f56a106-49ea-4093-96d7-0e96f2a6ffc2\n",
      "2024-08-30 07:54:08 -0700    2147 execution.flow     INFO     Start executing nodes in thread pool mode.\n",
      "2024-08-30 07:54:08 -0700    2147 execution.flow     INFO     Start executing nodes in thread pool mode.\n",
      "2024-08-30 07:54:08 -0700    2147 execution.flow     INFO     Start to run 2 nodes with concurrency level 16.\n",
      "2024-08-30 07:54:08 -0700    2147 execution.flow     INFO     Start executing nodes in thread pool mode.\n",
      "2024-08-30 07:54:08 -0700    2147 execution.flow     INFO     Start to run 2 nodes with concurrency level 16.\n",
      "2024-08-30 07:54:08 -0700    2147 execution.flow     INFO     Current thread is not main thread, skip signal handler registration in AsyncNodesScheduler.\n",
      "2024-08-30 07:54:08 -0700    2147 execution.flow     INFO     Start to run 2 nodes with concurrency level 16.\n",
      "2024-08-30 07:54:08 -0700    2147 execution.flow     INFO     Current thread is not main thread, skip signal handler registration in AsyncNodesScheduler.\n",
      "2024-08-30 07:54:08 -0700    2147 execution.flow     INFO     Executing node validate_inputs. node run id: b0ab5ac1-6cea-4aba-b7c8-130cfcfa8270_validate_inputs_54ec5af7-fffa-4980-abd4-e2eed7e1ece8\n",
      "2024-08-30 07:54:08 -0700    2147 execution.flow     INFO     Current thread is not main thread, skip signal handler registration in AsyncNodesScheduler.\n",
      "2024-08-30 07:54:08 -0700    2147 execution.flow     INFO     Executing node validate_inputs. node run id: f081fb77-08f2-49f4-9020-77d68ccdefec_validate_inputs_51eeee13-9c80-447e-bf03-85f8f8da3d01\n",
      "2024-08-30 07:54:08 -0700    2147 execution.flow     INFO     Executing node validate_inputs. node run id: 41fbfecc-6918-42de-a11a-5118a0039995_validate_inputs_4c6887e6-4f53-4127-b22e-dbaf2a385c49\n",
      "2024-08-30 07:54:08 -0700    2147 execution.flow     INFO     Node validate_inputs completes.\n",
      "2024-08-30 07:54:08 -0700    2147 execution.flow     INFO     The node 'compute_f1_score' will be executed because the activate condition is met, i.e. '${validate_inputs.output}' is equal to 'True'.\n",
      "2024-08-30 07:54:08 -0700    2147 execution.flow     INFO     Executing node compute_f1_score. node run id: 9f3b6856-238c-4778-932e-1d1763743a0e_compute_f1_score_b0451da9-8681-4912-95bc-2fbd52674e87\n",
      "2024-08-30 07:54:08 -0700    2147 execution.flow     INFO     Node validate_inputs completes.\n",
      "2024-08-30 07:54:08 -0700    2147 execution.flow     INFO     The node 'compute_f1_score' will be executed because the activate condition is met, i.e. '${validate_inputs.output}' is equal to 'True'.\n",
      "2024-08-30 07:54:08 -0700    2147 execution.flow     INFO     Executing node compute_f1_score. node run id: f081fb77-08f2-49f4-9020-77d68ccdefec_compute_f1_score_c9b02ed6-19ae-435e-9189-b6bcf48a5be1\n",
      "2024-08-30 07:54:08 -0700    2147 execution.flow     INFO     Node validate_inputs completes.\n",
      "2024-08-30 07:54:08 -0700    2147 execution.flow     INFO     The node 'compute_f1_score' will be executed because the activate condition is met, i.e. '${validate_inputs.output}' is equal to 'True'.\n",
      "2024-08-30 07:54:08 -0700    2147 execution.flow     INFO     Node validate_inputs completes.\n",
      "2024-08-30 07:54:08 -0700    2147 execution.flow     INFO     Executing node compute_f1_score. node run id: 3ecf6897-49eb-4c44-9054-e044d2d6f86b_compute_f1_score_c518d5a1-1355-4c6c-930b-cfc227547a5c\n",
      "2024-08-30 07:54:08 -0700    2147 execution.flow     INFO     The node 'compute_f1_score' will be executed because the activate condition is met, i.e. '${validate_inputs.output}' is equal to 'True'.\n",
      "2024-08-30 07:54:08 -0700    2147 execution.flow     INFO     Executing node compute_f1_score. node run id: b0ab5ac1-6cea-4aba-b7c8-130cfcfa8270_compute_f1_score_d8f23b7f-3c7b-4ed5-8c38-cb58ee517254\n",
      "2024-08-30 07:54:08 -0700    2147 execution.flow     INFO     Node validate_inputs completes.\n",
      "2024-08-30 07:54:08 -0700    2147 execution.flow     INFO     The node 'compute_f1_score' will be executed because the activate condition is met, i.e. '${validate_inputs.output}' is equal to 'True'.\n",
      "2024-08-30 07:54:08 -0700    2147 execution.flow     INFO     Executing node compute_f1_score. node run id: 41fbfecc-6918-42de-a11a-5118a0039995_compute_f1_score_d743d2aa-17cf-43b6-8e17-acd981bb5f73\n",
      "2024-08-30 07:54:08 -0700    2147 execution.flow     INFO     Node compute_f1_score completes.\n",
      "2024-08-30 07:54:08 -0700    2147 execution.flow     INFO     Node compute_f1_score completes.\n",
      "2024-08-30 07:54:08 -0700    2147 execution.flow     INFO     Node compute_f1_score completes.\n",
      "2024-08-30 07:54:08 -0700    2147 execution.flow     INFO     Node compute_f1_score completes.\n",
      "2024-08-30 07:54:08 -0700    2147 execution.flow     INFO     Node compute_f1_score completes.\n"
     ]
    },
    {
     "name": "stderr",
     "output_type": "stream",
     "text": [
      "[2024-08-30 07:54:10 -0700][flowinvoker][INFO] - Validating flow input with data {'answer': 'Tokyo is the capital of Japan.', 'ground_truth': \"Japan's capital is Tokyo.\"}\n",
      "[2024-08-30 07:54:10 -0700][flowinvoker][INFO] - Execute flow with data {'answer': 'Tokyo is the capital of Japan.', 'ground_truth': \"Japan's capital is Tokyo.\"}\n"
     ]
    },
    {
     "name": "stdout",
     "output_type": "stream",
     "text": [
      "2024-08-30 07:54:10 -0700    2147 execution.flow     INFO     Start executing nodes in thread pool mode.\n",
      "2024-08-30 07:54:10 -0700    2147 execution.flow     INFO     Start to run 2 nodes with concurrency level 16.\n",
      "2024-08-30 07:54:10 -0700    2147 execution.flow     INFO     Current thread is not main thread, skip signal handler registration in AsyncNodesScheduler.\n",
      "2024-08-30 07:54:10 -0700    2147 execution.flow     INFO     Executing node validate_inputs. node run id: 2c196d1f-bf01-49f9-9224-324d328ff9e4_validate_inputs_1f674211-c1c2-48d7-a333-7ad5c74bc345\n",
      "2024-08-30 07:54:10 -0700    2147 execution.flow     INFO     Node validate_inputs completes.\n",
      "2024-08-30 07:54:10 -0700    2147 execution.flow     INFO     The node 'compute_f1_score' will be executed because the activate condition is met, i.e. '${validate_inputs.output}' is equal to 'True'.\n",
      "2024-08-30 07:54:10 -0700    2147 execution.flow     INFO     Executing node compute_f1_score. node run id: 2c196d1f-bf01-49f9-9224-324d328ff9e4_compute_f1_score_65eb63d5-9e12-4b42-95b3-ac0ef8331330\n",
      "2024-08-30 07:54:10 -0700    2147 execution.flow     INFO     Node compute_f1_score completes.\n"
     ]
    },
    {
     "name": "stderr",
     "output_type": "stream",
     "text": [
      "[2024-08-30 07:54:10 -0700][flowinvoker][INFO] - Validating flow input with data {'answer': 'Leonardo da Vinci painted the Mona Lisa.', 'ground_truth': 'The Mona Lisa was painted by Leonardo da Vinci.'}\n",
      "[2024-08-30 07:54:10 -0700][flowinvoker][INFO] - Execute flow with data {'answer': 'Leonardo da Vinci painted the Mona Lisa.', 'ground_truth': 'The Mona Lisa was painted by Leonardo da Vinci.'}\n"
     ]
    },
    {
     "name": "stdout",
     "output_type": "stream",
     "text": [
      "2024-08-30 07:54:10 -0700    2147 execution.flow     INFO     Start executing nodes in thread pool mode.\n",
      "2024-08-30 07:54:10 -0700    2147 execution.flow     INFO     Start to run 2 nodes with concurrency level 16.\n",
      "2024-08-30 07:54:10 -0700    2147 execution.flow     INFO     Current thread is not main thread, skip signal handler registration in AsyncNodesScheduler.\n"
     ]
    },
    {
     "name": "stderr",
     "output_type": "stream",
     "text": [
      "[2024-08-30 07:54:10 -0700][flowinvoker][INFO] - Validating flow input with data {'answer': 'Jupiter is the largest planet in our solar system.', 'ground_truth': 'The largest planet in our solar system is Jupiter.'}\n",
      "[2024-08-30 07:54:10 -0700][flowinvoker][INFO] - Execute flow with data {'answer': 'Jupiter is the largest planet in our solar system.', 'ground_truth': 'The largest planet in our solar system is Jupiter.'}\n"
     ]
    },
    {
     "name": "stdout",
     "output_type": "stream",
     "text": [
      "2024-08-30 07:54:10 -0700    2147 execution.flow     INFO     Executing node validate_inputs. node run id: 08e75767-7165-4dac-948b-c9f67f0a0703_validate_inputs_b0c9aeff-84a3-45f0-b1ec-0d08bc11233b\n"
     ]
    },
    {
     "name": "stderr",
     "output_type": "stream",
     "text": [
      "[2024-08-30 07:54:10 -0700][flowinvoker][INFO] - Validating flow input with data {'answer': 'H2O is the chemical symbol for water.', 'ground_truth': 'The chemical symbol for water is H2O.'}\n",
      "[2024-08-30 07:54:10 -0700][flowinvoker][INFO] - Execute flow with data {'answer': 'H2O is the chemical symbol for water.', 'ground_truth': 'The chemical symbol for water is H2O.'}\n",
      "[2024-08-30 07:54:10 -0700][flowinvoker][INFO] - Validating flow input with data {'answer': 'The Pacific Ocean is the largest ocean on Earth.', 'ground_truth': 'The largest ocean on Earth is the Pacific Ocean.'}\n",
      "[2024-08-30 07:54:10 -0700][flowinvoker][INFO] - Execute flow with data {'answer': 'The Pacific Ocean is the largest ocean on Earth.', 'ground_truth': 'The largest ocean on Earth is the Pacific Ocean.'}\n",
      "[2024-08-30 07:54:10 -0700][flowinvoker][INFO] - Validating flow input with data {'answer': 'The Great Pyramid of Giza was built by Alexander the Great.', 'ground_truth': 'The Great Pyramid of Giza was built by the Egyptians.'}\n"
     ]
    },
    {
     "name": "stdout",
     "output_type": "stream",
     "text": [
      "2024-08-30 07:54:10 -0700    2147 execution.flow     INFO     Start executing nodes in thread pool mode.\n",
      "2024-08-30 07:54:10 -0700    2147 execution.flow     INFO     Start to run 2 nodes with concurrency level 16.\n"
     ]
    },
    {
     "name": "stderr",
     "output_type": "stream",
     "text": [
      "[2024-08-30 07:54:10 -0700][flowinvoker][INFO] - Validating flow input with data {'answer': 'The human body has four senses.', 'ground_truth': 'The human body has five primary senses.'}\n"
     ]
    },
    {
     "name": "stdout",
     "output_type": "stream",
     "text": [
      "2024-08-30 07:54:10 -0700    2147 execution.flow     INFO     Current thread is not main thread, skip signal handler registration in AsyncNodesScheduler.\n"
     ]
    },
    {
     "name": "stderr",
     "output_type": "stream",
     "text": [
      "[2024-08-30 07:54:10 -0700][flowinvoker][INFO] - Execute flow with data {'answer': 'The Great Pyramid of Giza was built by Alexander the Great.', 'ground_truth': 'The Great Pyramid of Giza was built by the Egyptians.'}\n"
     ]
    },
    {
     "name": "stdout",
     "output_type": "stream",
     "text": [
      "2024-08-30 07:54:10 -0700    2147 execution.flow     INFO     Executing node validate_inputs. node run id: e08c25a3-8b61-4164-a227-a59185cbaa08_validate_inputs_313536a0-a3a3-4b50-b022-7bf4aa3d20e6\n"
     ]
    },
    {
     "name": "stderr",
     "output_type": "stream",
     "text": [
      "[2024-08-30 07:54:10 -0700][flowinvoker][INFO] - Execute flow with data {'answer': 'The human body has four senses.', 'ground_truth': 'The human body has five primary senses.'}\n",
      "[2024-08-30 07:54:10 -0700][flowinvoker][INFO] - Validating flow input with data {'answer': 'The Amazon is the longest river in the world.', 'ground_truth': 'The Nile is often cited as the longest river in the world, but some sources claim the Amazon is longer.'}\n",
      "[2024-08-30 07:54:10 -0700][flowinvoker][INFO] - Execute flow with data {'answer': 'The Amazon is the longest river in the world.', 'ground_truth': 'The Nile is often cited as the longest river in the world, but some sources claim the Amazon is longer.'}\n",
      "[2024-08-30 07:54:10 -0700][flowinvoker][INFO] - Validating flow input with data {'answer': 'The internet was invented in the 1960s.', 'ground_truth': 'The foundational technology of the internet was developed in the late 1960s.'}\n",
      "[2024-08-30 07:54:10 -0700][flowinvoker][INFO] - Execute flow with data {'answer': 'The internet was invented in the 1960s.', 'ground_truth': 'The foundational technology of the internet was developed in the late 1960s.'}\n"
     ]
    },
    {
     "name": "stdout",
     "output_type": "stream",
     "text": [
      "2024-08-30 07:54:10 -0700    2147 execution.flow     INFO     Start executing nodes in thread pool mode.\n",
      "2024-08-30 07:54:10 -0700    2147 execution.flow     INFO     Start to run 2 nodes with concurrency level 16.\n",
      "2024-08-30 07:54:10 -0700    2147 execution.flow     INFO     Current thread is not main thread, skip signal handler registration in AsyncNodesScheduler.\n",
      "2024-08-30 07:54:10 -0700    2147 execution.flow     INFO     Executing node validate_inputs. node run id: 8ad2c112-7bc0-46aa-9b44-f9811c3c800d_validate_inputs_a0d0b125-9d1c-4370-b583-8e8214c5d132\n"
     ]
    },
    {
     "name": "stderr",
     "output_type": "stream",
     "text": [
      "[2024-08-30 07:54:10 -0700][flowinvoker][INFO] - Validating flow input with data {'answer': 'The heart is on the right side of the human body.', 'ground_truth': 'The heart is located slightly to the left side of the chest in the human body.'}\n",
      "[2024-08-30 07:54:10 -0700][flowinvoker][INFO] - Execute flow with data {'answer': 'The heart is on the right side of the human body.', 'ground_truth': 'The heart is located slightly to the left side of the chest in the human body.'}\n"
     ]
    },
    {
     "name": "stdout",
     "output_type": "stream",
     "text": [
      "2024-08-30 07:54:10 -0700    2147 execution.flow     INFO     Start executing nodes in thread pool mode.\n",
      "2024-08-30 07:54:10 -0700    2147 execution.flow     INFO     Start to run 2 nodes with concurrency level 16.\n",
      "2024-08-30 07:54:10 -0700    2147 execution.flow     INFO     Current thread is not main thread, skip signal handler registration in AsyncNodesScheduler.\n",
      "2024-08-30 07:54:10 -0700    2147 execution.flow     INFO     Executing node validate_inputs. node run id: 801f7897-9c26-43e4-8e27-8429330921e6_validate_inputs_f1610ce4-e762-4e51-b854-2c5f3770390d\n",
      "2024-08-30 07:54:10 -0700    2147 execution.flow     INFO     Start executing nodes in thread pool mode.\n",
      "2024-08-30 07:54:10 -0700    2147 execution.flow     INFO     Node validate_inputs completes.\n",
      "2024-08-30 07:54:10 -0700    2147 execution.flow     INFO     Start to run 2 nodes with concurrency level 16.\n",
      "2024-08-30 07:54:10 -0700    2147 execution.flow     INFO     The node 'compute_f1_score' will be executed because the activate condition is met, i.e. '${validate_inputs.output}' is equal to 'True'.\n",
      "2024-08-30 07:54:10 -0700    2147 execution.flow     INFO     Start executing nodes in thread pool mode.\n",
      "2024-08-30 07:54:10 -0700    2147 execution.flow     INFO     Current thread is not main thread, skip signal handler registration in AsyncNodesScheduler.\n",
      "2024-08-30 07:54:10 -0700    2147 execution.flow     INFO     Executing node compute_f1_score. node run id: 08e75767-7165-4dac-948b-c9f67f0a0703_compute_f1_score_87928b03-005e-4138-ada6-584cd1dec155\n",
      "2024-08-30 07:54:10 -0700    2147 execution.flow     INFO     Start to run 2 nodes with concurrency level 16.\n",
      "2024-08-30 07:54:10 -0700    2147 execution.flow     INFO     Start executing nodes in thread pool mode.\n",
      "2024-08-30 07:54:10 -0700    2147 execution.flow     INFO     Executing node validate_inputs. node run id: 54055ec8-af71-4f02-912c-0d3715978eb9_validate_inputs_c378edbf-5f21-4e04-b292-1d1cb7d80bf6\n",
      "2024-08-30 07:54:10 -0700    2147 execution.flow     INFO     Current thread is not main thread, skip signal handler registration in AsyncNodesScheduler.\n",
      "2024-08-30 07:54:10 -0700    2147 execution.flow     INFO     Start to run 2 nodes with concurrency level 16.\n",
      "2024-08-30 07:54:10 -0700    2147 execution.flow     INFO     Executing node validate_inputs. node run id: a56f88d6-7d35-4349-a26e-16ee402c52a8_validate_inputs_6246e2f8-c530-4df8-bfe3-f9a20a716865\n",
      "2024-08-30 07:54:10 -0700    2147 execution.flow     INFO     Current thread is not main thread, skip signal handler registration in AsyncNodesScheduler.\n",
      "2024-08-30 07:54:10 -0700    2147 execution.flow     INFO     Start executing nodes in thread pool mode.\n",
      "2024-08-30 07:54:10 -0700    2147 execution.flow     INFO     Executing node validate_inputs. node run id: ac9330a8-ae46-4f5e-9e4f-9d9cbc59cb51_validate_inputs_dd7aedd4-592b-4212-845f-6c98da0fc73a\n",
      "2024-08-30 07:54:10 -0700    2147 execution.flow     INFO     Start to run 2 nodes with concurrency level 16.\n",
      "2024-08-30 07:54:10 -0700    2147 execution.flow     INFO     Current thread is not main thread, skip signal handler registration in AsyncNodesScheduler.\n",
      "2024-08-30 07:54:10 -0700    2147 execution.flow     INFO     Executing node validate_inputs. node run id: 08eab273-54bb-4580-b52a-75ccb5e5d47c_validate_inputs_31536aef-96e9-46df-add3-f39b8df5173b\n",
      "2024-08-30 07:54:10 -0700    2147 execution.flow     INFO     Node validate_inputs completes.\n",
      "2024-08-30 07:54:10 -0700    2147 execution.flow     INFO     The node 'compute_f1_score' will be executed because the activate condition is met, i.e. '${validate_inputs.output}' is equal to 'True'.\n",
      "2024-08-30 07:54:10 -0700    2147 execution.flow     INFO     Executing node compute_f1_score. node run id: e08c25a3-8b61-4164-a227-a59185cbaa08_compute_f1_score_2fc4e07c-875a-4054-895a-124a32211242\n",
      "2024-08-30 07:54:10 -0700    2147 execution.flow     INFO     Start executing nodes in thread pool mode.\n",
      "2024-08-30 07:54:10 -0700    2147 execution.flow     INFO     Start to run 2 nodes with concurrency level 16.\n",
      "2024-08-30 07:54:10 -0700    2147 execution.flow     INFO     Current thread is not main thread, skip signal handler registration in AsyncNodesScheduler.\n",
      "2024-08-30 07:54:10 -0700    2147 execution.flow     INFO     Executing node validate_inputs. node run id: 82e21d8c-7357-4546-8454-2576d0f30a68_validate_inputs_79ece9b7-3463-4956-aba9-5cef676a4d36\n",
      "2024-08-30 07:54:10 -0700    2147 execution.flow     INFO     Node validate_inputs completes.\n",
      "2024-08-30 07:54:10 -0700    2147 execution.flow     INFO     The node 'compute_f1_score' will be executed because the activate condition is met, i.e. '${validate_inputs.output}' is equal to 'True'.\n",
      "2024-08-30 07:54:10 -0700    2147 execution.flow     INFO     Executing node compute_f1_score. node run id: 8ad2c112-7bc0-46aa-9b44-f9811c3c800d_compute_f1_score_cb4f011b-c40e-4e7c-9bfd-4f08f29086b1\n",
      "2024-08-30 07:54:10 -0700    2147 execution.flow     INFO     Node validate_inputs completes.\n",
      "2024-08-30 07:54:10 -0700    2147 execution.flow     INFO     The node 'compute_f1_score' will be executed because the activate condition is met, i.e. '${validate_inputs.output}' is equal to 'True'.\n",
      "2024-08-30 07:54:10 -0700    2147 execution.flow     INFO     Executing node compute_f1_score. node run id: 801f7897-9c26-43e4-8e27-8429330921e6_compute_f1_score_e6cd7275-fe79-46b4-b975-18d4a1be9557\n",
      "2024-08-30 07:54:10 -0700    2147 execution.flow     INFO     Node validate_inputs completes.\n",
      "2024-08-30 07:54:10 -0700    2147 execution.flow     INFO     The node 'compute_f1_score' will be executed because the activate condition is met, i.e. '${validate_inputs.output}' is equal to 'True'.\n",
      "2024-08-30 07:54:10 -0700    2147 execution.flow     INFO     Executing node compute_f1_score. node run id: ac9330a8-ae46-4f5e-9e4f-9d9cbc59cb51_compute_f1_score_91a2ceb0-3406-4340-8324-40f527d3120a\n",
      "2024-08-30 07:54:10 -0700    2147 execution.flow     INFO     Node compute_f1_score completes.\n",
      "2024-08-30 07:54:10 -0700    2147 execution.flow     INFO     Node validate_inputs completes.\n",
      "2024-08-30 07:54:10 -0700    2147 execution.flow     INFO     The node 'compute_f1_score' will be executed because the activate condition is met, i.e. '${validate_inputs.output}' is equal to 'True'.\n",
      "2024-08-30 07:54:10 -0700    2147 execution.flow     INFO     Executing node compute_f1_score. node run id: 08eab273-54bb-4580-b52a-75ccb5e5d47c_compute_f1_score_eb769841-aa0b-4279-b3b1-eb6cedebf5a0\n"
     ]
    },
    {
     "name": "stderr",
     "output_type": "stream",
     "text": [
      "[2024-08-30 07:54:10 -0700][flowinvoker][INFO] - Validating flow input with data {'answer': 'The sun revolves around the Earth.', 'ground_truth': 'The Earth revolves around the sun.'}\n",
      "[2024-08-30 07:54:10 -0700][flowinvoker][INFO] - Execute flow with data {'answer': 'The sun revolves around the Earth.', 'ground_truth': 'The Earth revolves around the sun.'}\n"
     ]
    },
    {
     "name": "stdout",
     "output_type": "stream",
     "text": [
      "2024-08-30 07:54:10 -0700    2147 execution.flow     INFO     Node validate_inputs completes.\n",
      "2024-08-30 07:54:10 -0700    2147 execution.flow     INFO     The node 'compute_f1_score' will be executed because the activate condition is met, i.e. '${validate_inputs.output}' is equal to 'True'.\n",
      "2024-08-30 07:54:10 -0700    2147 execution.flow     INFO     Executing node compute_f1_score. node run id: 54055ec8-af71-4f02-912c-0d3715978eb9_compute_f1_score_12bcf2be-46d0-4b56-8af4-f14414e69142\n",
      "2024-08-30 07:54:10 -0700    2147 execution.flow     INFO     Node compute_f1_score completes.\n",
      "2024-08-30 07:54:10 -0700    2147 execution.flow     INFO     Node validate_inputs completes.\n",
      "2024-08-30 07:54:10 -0700    2147 execution.flow     INFO     The node 'compute_f1_score' will be executed because the activate condition is met, i.e. '${validate_inputs.output}' is equal to 'True'.\n",
      "2024-08-30 07:54:10 -0700    2147 execution.flow     INFO     Executing node compute_f1_score. node run id: a56f88d6-7d35-4349-a26e-16ee402c52a8_compute_f1_score_dee22d74-722c-4376-8a7a-9b4b17d03f35\n",
      "2024-08-30 07:54:10 -0700    2147 execution.flow     INFO     Start executing nodes in thread pool mode.\n",
      "2024-08-30 07:54:10 -0700    2147 execution.flow     INFO     Node compute_f1_score completes.\n"
     ]
    },
    {
     "name": "stderr",
     "output_type": "stream",
     "text": [
      "[2024-08-30 07:54:10 -0700][flowinvoker][INFO] - Validating flow input with data {'answer': 'Sharks are mammals.', 'ground_truth': 'Sharks are a group of fish characterized by a cartilaginous skeleton.'}\n"
     ]
    },
    {
     "name": "stdout",
     "output_type": "stream",
     "text": [
      "2024-08-30 07:54:10 -0700    2147 execution.flow     INFO     Start to run 2 nodes with concurrency level 16.\n"
     ]
    },
    {
     "name": "stderr",
     "output_type": "stream",
     "text": [
      "[2024-08-30 07:54:10 -0700][flowinvoker][INFO] - Execute flow with data {'answer': 'Sharks are mammals.', 'ground_truth': 'Sharks are a group of fish characterized by a cartilaginous skeleton.'}\n"
     ]
    },
    {
     "name": "stdout",
     "output_type": "stream",
     "text": [
      "2024-08-30 07:54:10 -0700    2147 execution.flow     INFO     Node validate_inputs completes.\n",
      "2024-08-30 07:54:10 -0700    2147 execution.flow     INFO     Current thread is not main thread, skip signal handler registration in AsyncNodesScheduler.\n",
      "2024-08-30 07:54:10 -0700    2147 execution.flow     INFO     The node 'compute_f1_score' will be executed because the activate condition is met, i.e. '${validate_inputs.output}' is equal to 'True'.\n",
      "2024-08-30 07:54:10 -0700    2147 execution.flow     INFO     Executing node validate_inputs. node run id: 0ae76ea8-c111-4ea5-8b02-282aa0e1b915_validate_inputs_63ea88fa-ccca-4583-b49c-2fc3de632aac\n",
      "2024-08-30 07:54:10 -0700    2147 execution.flow     INFO     Executing node compute_f1_score. node run id: 82e21d8c-7357-4546-8454-2576d0f30a68_compute_f1_score_f908c4e7-8335-44b5-ae52-cd7c614e38a9\n"
     ]
    },
    {
     "name": "stderr",
     "output_type": "stream",
     "text": [
      "[2024-08-30 07:54:10 -0700][flowinvoker][INFO] - Validating flow input with data {'answer': 'The capital of Canada is Toronto.', 'ground_truth': 'The capital of Canada is Ottawa.'}\n",
      "[2024-08-30 07:54:10 -0700][flowinvoker][INFO] - Execute flow with data {'answer': 'The capital of Canada is Toronto.', 'ground_truth': 'The capital of Canada is Ottawa.'}\n"
     ]
    },
    {
     "name": "stdout",
     "output_type": "stream",
     "text": [
      "2024-08-30 07:54:10 -0700    2147 execution.flow     INFO     Node compute_f1_score completes.\n",
      "2024-08-30 07:54:10 -0700    2147 execution.flow     INFO     Node compute_f1_score completes.\n",
      "2024-08-30 07:54:10 -0700    2147 execution.flow     INFO     Node compute_f1_score completes.\n",
      "2024-08-30 07:54:10 -0700    2147 execution.flow     INFO     Start executing nodes in thread pool mode.\n",
      "2024-08-30 07:54:10 -0700    2147 execution.flow     INFO     Start to run 2 nodes with concurrency level 16.\n",
      "2024-08-30 07:54:10 -0700    2147 execution.flow     INFO     Current thread is not main thread, skip signal handler registration in AsyncNodesScheduler.\n",
      "2024-08-30 07:54:10 -0700    2147 execution.flow     INFO     Executing node validate_inputs. node run id: 39d9039a-c05c-45ff-aa93-5054b8cb312e_validate_inputs_9b37bdb5-9e74-4114-bdc0-a4086305147e\n",
      "2024-08-30 07:54:10 -0700    2147 execution.flow     INFO     Start executing nodes in thread pool mode.\n",
      "2024-08-30 07:54:10 -0700    2147 execution.flow     INFO     Start to run 2 nodes with concurrency level 16.\n",
      "2024-08-30 07:54:10 -0700    2147 execution.flow     INFO     Current thread is not main thread, skip signal handler registration in AsyncNodesScheduler.\n",
      "2024-08-30 07:54:10 -0700    2147 execution.flow     INFO     Executing node validate_inputs. node run id: 37f0a44e-1646-4244-9fc0-8c7870903989_validate_inputs_aea00e3e-898c-43e9-9355-d94a94190bb9\n"
     ]
    },
    {
     "name": "stderr",
     "output_type": "stream",
     "text": [
      "[2024-08-30 07:54:10 -0700][flowinvoker][INFO] - Validating flow input with data {'answer': 'The inventor of the telephone was Thomas Edison.', 'ground_truth': 'Alexander Graham Bell is credited with inventing the first practical telephone.'}\n",
      "[2024-08-30 07:54:10 -0700][flowinvoker][INFO] - Execute flow with data {'answer': 'The inventor of the telephone was Thomas Edison.', 'ground_truth': 'Alexander Graham Bell is credited with inventing the first practical telephone.'}\n",
      "[2024-08-30 07:54:10 -0700][flowinvoker][INFO] - Validating flow input with data {'answer': 'The chemical symbol for gold is Ag.', 'ground_truth': 'The chemical symbol for gold is Au.'}\n",
      "[2024-08-30 07:54:10 -0700][flowinvoker][INFO] - Execute flow with data {'answer': 'The chemical symbol for gold is Ag.', 'ground_truth': 'The chemical symbol for gold is Au.'}\n",
      "[2024-08-30 07:54:10 -0700][flowinvoker][INFO] - Validating flow input with data {'answer': 'The largest desert in the world is the Sahara.', 'ground_truth': 'The largest desert in the world is Antarctica.'}\n",
      "[2024-08-30 07:54:10 -0700][flowinvoker][INFO] - Execute flow with data {'answer': 'The largest desert in the world is the Sahara.', 'ground_truth': 'The largest desert in the world is Antarctica.'}\n"
     ]
    },
    {
     "name": "stdout",
     "output_type": "stream",
     "text": [
      "2024-08-30 07:54:10 -0700    2147 execution.flow     INFO     Node compute_f1_score completes.\n"
     ]
    },
    {
     "name": "stderr",
     "output_type": "stream",
     "text": [
      "[2024-08-30 07:54:10 -0700][flowinvoker][INFO] - Validating flow input with data {'answer': 'The first man to step on the moon was Lance Armstrong.', 'ground_truth': 'The first man to step on the moon was Neil Armstrong.'}\n",
      "[2024-08-30 07:54:10 -0700][flowinvoker][INFO] - Execute flow with data {'answer': 'The first man to step on the moon was Lance Armstrong.', 'ground_truth': 'The first man to step on the moon was Neil Armstrong.'}\n",
      "[2024-08-30 07:54:10 -0700][flowinvoker][INFO] - Validating flow input with data {'answer': 'The capital of Egypt is Cairo.', 'ground_truth': 'The capital of Egypt is Cairo.'}\n",
      "[2024-08-30 07:54:10 -0700][flowinvoker][INFO] - Execute flow with data {'answer': 'The capital of Egypt is Cairo.', 'ground_truth': 'The capital of Egypt is Cairo.'}\n"
     ]
    },
    {
     "name": "stdout",
     "output_type": "stream",
     "text": [
      "2024-08-30 07:54:10 -0700    2147 execution.flow     INFO     Node compute_f1_score completes.\n",
      "2024-08-30 07:54:10 -0700    2147 execution.flow     INFO     Start executing nodes in thread pool mode.\n",
      "2024-08-30 07:54:10 -0700    2147 execution.flow     INFO     Start to run 2 nodes with concurrency level 16.\n",
      "2024-08-30 07:54:10 -0700    2147 execution.flow     INFO     Current thread is not main thread, skip signal handler registration in AsyncNodesScheduler.\n",
      "2024-08-30 07:54:10 -0700    2147 execution.flow     INFO     Executing node validate_inputs. node run id: 4c3e578b-28bb-4cc1-9262-f6dccdd9498e_validate_inputs_cb1e360b-54fb-4ca9-89fe-0d5b0d72a0e4\n",
      "2024-08-30 07:54:10 -0700    2147 execution.flow     INFO     Node compute_f1_score completes.\n",
      "2024-08-30 07:54:10 -0700    2147 execution.flow     INFO     Start executing nodes in thread pool mode.\n",
      "2024-08-30 07:54:10 -0700    2147 execution.flow     INFO     Start to run 2 nodes with concurrency level 16.\n",
      "2024-08-30 07:54:11 -0700    2147 execution.flow     INFO     Current thread is not main thread, skip signal handler registration in AsyncNodesScheduler.\n",
      "2024-08-30 07:54:11 -0700    2147 execution.flow     INFO     Executing node validate_inputs. node run id: 0a81a14e-c35b-4196-9e38-ed50d9be581b_validate_inputs_d5efc6bb-38bc-4cec-8ca8-e4409ff7d496\n"
     ]
    },
    {
     "name": "stderr",
     "output_type": "stream",
     "text": [
      "[2024-08-30 07:54:11 -0700][flowinvoker][INFO] - Validating flow input with data {'answer': 'Photosynthesis is performed by animals.', 'ground_truth': 'Photosynthesis is performed by plants.'}\n",
      "[2024-08-30 07:54:11 -0700][flowinvoker][INFO] - Execute flow with data {'answer': 'Photosynthesis is performed by animals.', 'ground_truth': 'Photosynthesis is performed by plants.'}\n"
     ]
    },
    {
     "name": "stdout",
     "output_type": "stream",
     "text": [
      "2024-08-30 07:54:11 -0700    2147 execution.flow     INFO     Start executing nodes in thread pool mode.\n",
      "2024-08-30 07:54:11 -0700    2147 execution.flow     INFO     Start to run 2 nodes with concurrency level 16.\n",
      "2024-08-30 07:54:11 -0700    2147 execution.flow     INFO     Current thread is not main thread, skip signal handler registration in AsyncNodesScheduler.\n",
      "2024-08-30 07:54:11 -0700    2147 execution.flow     INFO     Executing node validate_inputs. node run id: 44205a4f-6004-4c09-99ee-565afbbd3d74_validate_inputs_73eeee06-faeb-40fc-97c8-ed6b40787787\n"
     ]
    },
    {
     "name": "stderr",
     "output_type": "stream",
     "text": [
      "[2024-08-30 07:54:11 -0700][flowinvoker][INFO] - Validating flow input with data {'answer': 'The smallest bone in the human body is the femur.', 'ground_truth': 'The smallest bone in the human body is the stapes bone in the ear.'}\n",
      "[2024-08-30 07:54:11 -0700][flowinvoker][INFO] - Execute flow with data {'answer': 'The smallest bone in the human body is the femur.', 'ground_truth': 'The smallest bone in the human body is the stapes bone in the ear.'}\n",
      "[2024-08-30 07:54:11 -0700][flowinvoker][INFO] - Validating flow input with data {'answer': 'The Pacific Ocean is the warmest ocean.', 'ground_truth': 'The Indian Ocean is considered the warmest ocean.'}\n",
      "[2024-08-30 07:54:11 -0700][flowinvoker][INFO] - Execute flow with data {'answer': 'The Pacific Ocean is the warmest ocean.', 'ground_truth': 'The Indian Ocean is considered the warmest ocean.'}\n"
     ]
    },
    {
     "name": "stdout",
     "output_type": "stream",
     "text": [
      "2024-08-30 07:54:11 -0700    2147 execution.flow     INFO     Start executing nodes in thread pool mode.\n",
      "2024-08-30 07:54:11 -0700    2147 execution.flow     INFO     Start to run 2 nodes with concurrency level 16.\n",
      "2024-08-30 07:54:11 -0700    2147 execution.flow     INFO     Current thread is not main thread, skip signal handler registration in AsyncNodesScheduler.\n",
      "2024-08-30 07:54:11 -0700    2147 execution.flow     INFO     Executing node validate_inputs. node run id: 4a85f1c0-d7a6-430a-b192-4e1ab30d7a20_validate_inputs_cd20cf95-6c94-493d-9aff-14c9ba5eb495\n"
     ]
    },
    {
     "name": "stderr",
     "output_type": "stream",
     "text": [
      "[2024-08-30 07:54:11 -0700][flowinvoker][INFO] - Validating flow input with data {'answer': 'The light bulb was invented by Nikola Tesla.', 'ground_truth': 'The light bulb was invented by Thomas Edison.'}\n",
      "[2024-08-30 07:54:11 -0700][flowinvoker][INFO] - Execute flow with data {'answer': 'The light bulb was invented by Nikola Tesla.', 'ground_truth': 'The light bulb was invented by Thomas Edison.'}\n"
     ]
    },
    {
     "name": "stdout",
     "output_type": "stream",
     "text": [
      "2024-08-30 07:54:11 -0700    2147 execution.flow     INFO     Node validate_inputs completes.\n",
      "2024-08-30 07:54:11 -0700    2147 execution.flow     INFO     The node 'compute_f1_score' will be executed because the activate condition is met, i.e. '${validate_inputs.output}' is equal to 'True'.\n",
      "2024-08-30 07:54:11 -0700    2147 execution.flow     INFO     Executing node compute_f1_score. node run id: 37f0a44e-1646-4244-9fc0-8c7870903989_compute_f1_score_7c6d56ac-64a4-4fb7-aa8d-cca72458b4a7\n",
      "2024-08-30 07:54:11 -0700    2147 execution.flow     INFO     Node validate_inputs completes.\n",
      "2024-08-30 07:54:11 -0700    2147 execution.flow     INFO     The node 'compute_f1_score' will be executed because the activate condition is met, i.e. '${validate_inputs.output}' is equal to 'True'.\n",
      "2024-08-30 07:54:11 -0700    2147 execution.flow     INFO     Executing node compute_f1_score. node run id: 0ae76ea8-c111-4ea5-8b02-282aa0e1b915_compute_f1_score_9cf34d81-ab94-4255-9b5a-eaf3b115b142\n",
      "2024-08-30 07:54:11 -0700    2147 execution.flow     INFO     Node validate_inputs completes.\n",
      "2024-08-30 07:54:11 -0700    2147 execution.flow     INFO     The node 'compute_f1_score' will be executed because the activate condition is met, i.e. '${validate_inputs.output}' is equal to 'True'.\n",
      "2024-08-30 07:54:11 -0700    2147 execution.flow     INFO     Executing node compute_f1_score. node run id: 39d9039a-c05c-45ff-aa93-5054b8cb312e_compute_f1_score_b2231442-7a5d-483d-af82-c5c0f70be147\n",
      "2024-08-30 07:54:11 -0700    2147 execution.flow     INFO     Start executing nodes in thread pool mode.\n",
      "2024-08-30 07:54:11 -0700    2147 execution.flow     INFO     Start to run 2 nodes with concurrency level 16.\n",
      "2024-08-30 07:54:11 -0700    2147 execution.flow     INFO     Current thread is not main thread, skip signal handler registration in AsyncNodesScheduler.\n",
      "2024-08-30 07:54:11 -0700    2147 execution.flow     INFO     Executing node validate_inputs. node run id: fd0f61f2-93ee-4f3d-835b-00dba44fd231_validate_inputs_8f7ca390-328f-4c19-b1df-b143c1e6f61b\n",
      "2024-08-30 07:54:11 -0700    2147 execution.flow     INFO     Start executing nodes in thread pool mode.\n",
      "2024-08-30 07:54:11 -0700    2147 execution.flow     INFO     Start to run 2 nodes with concurrency level 16.\n",
      "2024-08-30 07:54:11 -0700    2147 execution.flow     INFO     Current thread is not main thread, skip signal handler registration in AsyncNodesScheduler.\n",
      "2024-08-30 07:54:11 -0700    2147 execution.flow     INFO     Executing node validate_inputs. node run id: eec3db5f-378c-4bb1-8a94-f8fa69181963_validate_inputs_80fd594e-dba5-496f-9311-df01b79b2212\n",
      "2024-08-30 07:54:11 -0700    2147 execution.flow     INFO     Start executing nodes in thread pool mode.\n",
      "2024-08-30 07:54:11 -0700    2147 execution.flow     INFO     Start to run 2 nodes with concurrency level 16.\n",
      "2024-08-30 07:54:11 -0700    2147 execution.flow     INFO     Current thread is not main thread, skip signal handler registration in AsyncNodesScheduler.\n"
     ]
    },
    {
     "name": "stderr",
     "output_type": "stream",
     "text": [
      "[2024-08-30 07:54:11 -0700][flowinvoker][INFO] - Validating flow input with data {'answer': 'The first president of the United States was John Adams.', 'ground_truth': 'The first president of the United States was George Washington.'}\n",
      "[2024-08-30 07:54:11 -0700][flowinvoker][INFO] - Validating flow input with data {'answer': 'The formula for water is CO2.', 'ground_truth': 'The formula for water is H2O.'}\n"
     ]
    },
    {
     "name": "stdout",
     "output_type": "stream",
     "text": [
      "2024-08-30 07:54:11 -0700    2147 execution.flow     INFO     Start executing nodes in thread pool mode.\n"
     ]
    },
    {
     "name": "stderr",
     "output_type": "stream",
     "text": [
      "[2024-08-30 07:54:11 -0700][flowinvoker][INFO] - Execute flow with data {'answer': 'The first president of the United States was John Adams.', 'ground_truth': 'The first president of the United States was George Washington.'}\n"
     ]
    },
    {
     "name": "stdout",
     "output_type": "stream",
     "text": [
      "2024-08-30 07:54:11 -0700    2147 execution.flow     INFO     Executing node validate_inputs. node run id: ce00ce4f-a3d1-417e-bf8f-4ef4df3a3688_validate_inputs_78484ade-22ea-4f51-89d4-5d5e6cfc13e8\n"
     ]
    },
    {
     "name": "stderr",
     "output_type": "stream",
     "text": [
      "[2024-08-30 07:54:11 -0700][flowinvoker][INFO] - Execute flow with data {'answer': 'The formula for water is CO2.', 'ground_truth': 'The formula for water is H2O.'}\n"
     ]
    },
    {
     "name": "stdout",
     "output_type": "stream",
     "text": [
      "2024-08-30 07:54:11 -0700    2147 execution.flow     INFO     Start to run 2 nodes with concurrency level 16.\n",
      "2024-08-30 07:54:11 -0700    2147 execution.flow     INFO     Current thread is not main thread, skip signal handler registration in AsyncNodesScheduler.\n",
      "2024-08-30 07:54:11 -0700    2147 execution.flow     INFO     Executing node validate_inputs. node run id: 496a0a5e-422c-42e8-b739-c02be61926ba_validate_inputs_8e41b5ea-c8d0-418f-b495-c367bd733e85\n",
      "2024-08-30 07:54:11 -0700    2147 execution.flow     INFO     Start executing nodes in thread pool mode.\n",
      "2024-08-30 07:54:11 -0700    2147 execution.flow     INFO     Start to run 2 nodes with concurrency level 16.\n",
      "2024-08-30 07:54:11 -0700    2147 execution.flow     INFO     Current thread is not main thread, skip signal handler registration in AsyncNodesScheduler.\n",
      "2024-08-30 07:54:11 -0700    2147 execution.flow     INFO     Executing node validate_inputs. node run id: 711d4f2b-549c-47ff-bf5f-b8b5f12e1dc4_validate_inputs_45077ec5-58c2-49ea-8fec-508c4b6eaf31\n",
      "2024-08-30 07:54:11 -0700    2147 execution.flow     INFO     Start executing nodes in thread pool mode.\n",
      "2024-08-30 07:54:11 -0700    2147 execution.flow     INFO     Start to run 2 nodes with concurrency level 16.\n",
      "2024-08-30 07:54:11 -0700    2147 execution.flow     INFO     Start executing nodes in thread pool mode.\n",
      "2024-08-30 07:54:11 -0700    2147 execution.flow     INFO     Current thread is not main thread, skip signal handler registration in AsyncNodesScheduler.\n",
      "2024-08-30 07:54:11 -0700    2147 execution.flow     INFO     Start to run 2 nodes with concurrency level 16.\n",
      "2024-08-30 07:54:11 -0700    2147 execution.flow     INFO     Executing node validate_inputs. node run id: c4a5a80e-d5ba-432e-8729-f3756e4de6c7_validate_inputs_36b815f0-9113-4344-b704-67861f3886a7\n",
      "2024-08-30 07:54:11 -0700    2147 execution.flow     INFO     Current thread is not main thread, skip signal handler registration in AsyncNodesScheduler.\n",
      "2024-08-30 07:54:11 -0700    2147 execution.flow     INFO     Executing node validate_inputs. node run id: 472351a8-b2ef-4649-83c3-f5e9994f2ace_validate_inputs_f158f520-f805-48d6-a390-a39517b7c9b7\n",
      "2024-08-30 07:54:11 -0700    2147 execution.flow     INFO     Node validate_inputs completes.\n",
      "2024-08-30 07:54:11 -0700    2147 execution.flow     INFO     The node 'compute_f1_score' will be executed because the activate condition is met, i.e. '${validate_inputs.output}' is equal to 'True'.\n",
      "2024-08-30 07:54:11 -0700    2147 execution.flow     INFO     Executing node compute_f1_score. node run id: 4c3e578b-28bb-4cc1-9262-f6dccdd9498e_compute_f1_score_3c0d8c3b-f4b6-4d80-a2ad-c56eee70adf0\n",
      "2024-08-30 07:54:11 -0700    2147 execution.flow     INFO     Node validate_inputs completes.\n",
      "2024-08-30 07:54:11 -0700    2147 execution.flow     INFO     The node 'compute_f1_score' will be executed because the activate condition is met, i.e. '${validate_inputs.output}' is equal to 'True'.\n",
      "2024-08-30 07:54:11 -0700    2147 execution.flow     INFO     Executing node compute_f1_score. node run id: 44205a4f-6004-4c09-99ee-565afbbd3d74_compute_f1_score_883d57ad-aca3-400a-a99a-171e24540845\n",
      "2024-08-30 07:54:11 -0700    2147 execution.flow     INFO     Node validate_inputs completes.\n",
      "2024-08-30 07:54:11 -0700    2147 execution.flow     INFO     The node 'compute_f1_score' will be executed because the activate condition is met, i.e. '${validate_inputs.output}' is equal to 'True'.\n",
      "2024-08-30 07:54:11 -0700    2147 execution.flow     INFO     Node compute_f1_score completes.\n",
      "2024-08-30 07:54:11 -0700    2147 execution.flow     INFO     Executing node compute_f1_score. node run id: 0a81a14e-c35b-4196-9e38-ed50d9be581b_compute_f1_score_b29c5c97-613e-4ba4-a660-61d629bf746f\n",
      "2024-08-30 07:54:11 -0700    2147 execution.flow     INFO     Node compute_f1_score completes.\n",
      "2024-08-30 07:54:11 -0700    2147 execution.flow     INFO     Node validate_inputs completes.\n",
      "2024-08-30 07:54:11 -0700    2147 execution.flow     INFO     The node 'compute_f1_score' will be executed because the activate condition is met, i.e. '${validate_inputs.output}' is equal to 'True'.\n",
      "2024-08-30 07:54:11 -0700    2147 execution.flow     INFO     Executing node compute_f1_score. node run id: fd0f61f2-93ee-4f3d-835b-00dba44fd231_compute_f1_score_10d2f645-6bbc-4ba9-acba-7c96eb442dbb\n"
     ]
    },
    {
     "name": "stderr",
     "output_type": "stream",
     "text": [
      "[2024-08-30 07:54:11 -0700][flowinvoker][INFO] - Validating flow input with data {'answer': 'The tallest building in the world is the Empire State Building.', 'ground_truth': 'The tallest building in the world is the Burj Khalifa.'}\n",
      "[2024-08-30 07:54:11 -0700][flowinvoker][INFO] - Execute flow with data {'answer': 'The tallest building in the world is the Empire State Building.', 'ground_truth': 'The tallest building in the world is the Burj Khalifa.'}\n"
     ]
    },
    {
     "name": "stdout",
     "output_type": "stream",
     "text": [
      "2024-08-30 07:54:11 -0700    2147 execution.flow     INFO     Node validate_inputs completes.\n",
      "2024-08-30 07:54:11 -0700    2147 execution.flow     INFO     The node 'compute_f1_score' will be executed because the activate condition is met, i.e. '${validate_inputs.output}' is equal to 'True'.\n",
      "2024-08-30 07:54:11 -0700    2147 execution.flow     INFO     Executing node compute_f1_score. node run id: 4a85f1c0-d7a6-430a-b192-4e1ab30d7a20_compute_f1_score_e471aeb2-70e5-41c8-acbb-71be69ef5022\n",
      "2024-08-30 07:54:11 -0700    2147 execution.flow     INFO     Node validate_inputs completes.\n",
      "2024-08-30 07:54:11 -0700    2147 execution.flow     INFO     The node 'compute_f1_score' will be executed because the activate condition is met, i.e. '${validate_inputs.output}' is equal to 'True'.\n",
      "2024-08-30 07:54:11 -0700    2147 execution.flow     INFO     Node validate_inputs completes.\n",
      "2024-08-30 07:54:11 -0700    2147 execution.flow     INFO     Executing node compute_f1_score. node run id: ce00ce4f-a3d1-417e-bf8f-4ef4df3a3688_compute_f1_score_be144f67-b56f-446a-a875-4aae87c72fe1\n",
      "2024-08-30 07:54:11 -0700    2147 execution.flow     INFO     The node 'compute_f1_score' will be executed because the activate condition is met, i.e. '${validate_inputs.output}' is equal to 'True'.\n",
      "2024-08-30 07:54:11 -0700    2147 execution.flow     INFO     Node validate_inputs completes.\n",
      "2024-08-30 07:54:11 -0700    2147 execution.flow     INFO     Executing node compute_f1_score. node run id: 496a0a5e-422c-42e8-b739-c02be61926ba_compute_f1_score_69473278-bf3b-4a02-8aba-de67fdb993dd\n",
      "2024-08-30 07:54:11 -0700    2147 execution.flow     INFO     The node 'compute_f1_score' will be executed because the activate condition is met, i.e. '${validate_inputs.output}' is equal to 'True'.\n",
      "2024-08-30 07:54:11 -0700    2147 execution.flow     INFO     Executing node compute_f1_score. node run id: eec3db5f-378c-4bb1-8a94-f8fa69181963_compute_f1_score_6646c4d9-c559-4eda-a861-84c7db547939\n",
      "2024-08-30 07:54:11 -0700    2147 execution.flow     INFO     Node compute_f1_score completes.\n",
      "2024-08-30 07:54:11 -0700    2147 execution.flow     INFO     Start executing nodes in thread pool mode.\n",
      "2024-08-30 07:54:11 -0700    2147 execution.flow     INFO     Start to run 2 nodes with concurrency level 16.\n",
      "2024-08-30 07:54:11 -0700    2147 execution.flow     INFO     Current thread is not main thread, skip signal handler registration in AsyncNodesScheduler.\n",
      "2024-08-30 07:54:11 -0700    2147 execution.flow     INFO     Executing node validate_inputs. node run id: 3ab24670-cf75-4891-9721-dc4a39f8feaa_validate_inputs_e4eda33f-67e3-4000-bbf2-6ffccc4ed1c0\n",
      "2024-08-30 07:54:11 -0700    2147 execution.flow     INFO     Node validate_inputs completes.\n",
      "2024-08-30 07:54:11 -0700    2147 execution.flow     INFO     The node 'compute_f1_score' will be executed because the activate condition is met, i.e. '${validate_inputs.output}' is equal to 'True'.\n",
      "2024-08-30 07:54:11 -0700    2147 execution.flow     INFO     Executing node compute_f1_score. node run id: 711d4f2b-549c-47ff-bf5f-b8b5f12e1dc4_compute_f1_score_06ac9f9f-be62-4f31-beaf-1ecb5ed78f7f\n",
      "2024-08-30 07:54:11 -0700    2147 execution.flow     INFO     Node validate_inputs completes.\n",
      "2024-08-30 07:54:11 -0700    2147 execution.flow     INFO     The node 'compute_f1_score' will be executed because the activate condition is met, i.e. '${validate_inputs.output}' is equal to 'True'.\n",
      "2024-08-30 07:54:11 -0700    2147 execution.flow     INFO     Executing node compute_f1_score. node run id: 472351a8-b2ef-4649-83c3-f5e9994f2ace_compute_f1_score_f7130ef5-fab5-4f21-825d-39ba3a8de13f\n",
      "2024-08-30 07:54:11 -0700    2147 execution.flow     INFO     Node compute_f1_score completes.\n",
      "2024-08-30 07:54:11 -0700    2147 execution.flow     INFO     Node validate_inputs completes.\n",
      "2024-08-30 07:54:11 -0700    2147 execution.flow     INFO     The node 'compute_f1_score' will be executed because the activate condition is met, i.e. '${validate_inputs.output}' is equal to 'True'.\n",
      "2024-08-30 07:54:11 -0700    2147 execution.flow     INFO     Executing node compute_f1_score. node run id: c4a5a80e-d5ba-432e-8729-f3756e4de6c7_compute_f1_score_576e7c10-a4a3-4f04-a3c9-b5ccb409f62c\n",
      "2024-08-30 07:54:11 -0700    2147 execution.flow     INFO     Node compute_f1_score completes.\n",
      "2024-08-30 07:54:11 -0700    2147 execution.flow     INFO     Node compute_f1_score completes.\n",
      "2024-08-30 07:54:11 -0700    2147 execution.flow     INFO     Node compute_f1_score completes.\n",
      "2024-08-30 07:54:11 -0700    2147 execution.flow     INFO     Node compute_f1_score completes.\n",
      "2024-08-30 07:54:11 -0700    2147 execution.flow     INFO     Node validate_inputs completes.\n",
      "2024-08-30 07:54:11 -0700    2147 execution.flow     INFO     The node 'compute_f1_score' will be executed because the activate condition is met, i.e. '${validate_inputs.output}' is equal to 'True'.\n",
      "2024-08-30 07:54:11 -0700    2147 execution.flow     INFO     Executing node compute_f1_score. node run id: 3ab24670-cf75-4891-9721-dc4a39f8feaa_compute_f1_score_e40cccc3-cc2d-4ed4-b431-426e5a83dfb1\n",
      "2024-08-30 07:54:11 -0700    2147 execution.flow     INFO     Node compute_f1_score completes.\n",
      "2024-08-30 07:54:11 -0700    2147 execution.flow     INFO     Node compute_f1_score completes.\n",
      "2024-08-30 07:54:11 -0700    2147 execution.flow     INFO     Node compute_f1_score completes.\n",
      "2024-08-30 07:54:11 -0700    2147 execution.flow     INFO     Node compute_f1_score completes.\n",
      "2024-08-30 07:54:11 -0700    2147 execution.flow     INFO     Node compute_f1_score completes.\n",
      "2024-08-30 07:54:11 -0700    2147 execution.flow     INFO     Node compute_f1_score completes.\n",
      "2024-08-30 07:54:11 -0700    2147 execution.flow     INFO     Node compute_f1_score completes.\n"
     ]
    },
    {
     "name": "stderr",
     "output_type": "stream",
     "text": [
      "huggingface/tokenizers: The current process just got forked, after parallelism has already been used. Disabling parallelism to avoid deadlocks...\n",
      "To disable this warning, you can either:\n",
      "\t- Avoid using `tokenizers` before the fork if possible\n",
      "\t- Explicitly set the environment variable TOKENIZERS_PARALLELISM=(true | false)\n",
      "huggingface/tokenizers: The current process just got forked, after parallelism has already been used. Disabling parallelism to avoid deadlocks...\n",
      "To disable this warning, you can either:\n",
      "\t- Avoid using `tokenizers` before the fork if possible\n",
      "\t- Explicitly set the environment variable TOKENIZERS_PARALLELISM=(true | false)\n",
      "huggingface/tokenizers: The current process just got forked, after parallelism has already been used. Disabling parallelism to avoid deadlocks...\n",
      "To disable this warning, you can either:\n",
      "\t- Avoid using `tokenizers` before the fork if possible\n",
      "\t- Explicitly set the environment variable TOKENIZERS_PARALLELISM=(true | false)\n",
      "huggingface/tokenizers: The current process just got forked, after parallelism has already been used. Disabling parallelism to avoid deadlocks...\n",
      "To disable this warning, you can either:\n",
      "\t- Avoid using `tokenizers` before the fork if possible\n",
      "\t- Explicitly set the environment variable TOKENIZERS_PARALLELISM=(true | false)\n",
      "huggingface/tokenizers: The current process just got forked, after parallelism has already been used. Disabling parallelism to avoid deadlocks...\n",
      "To disable this warning, you can either:\n",
      "\t- Avoid using `tokenizers` before the fork if possible\n",
      "\t- Explicitly set the environment variable TOKENIZERS_PARALLELISM=(true | false)\n",
      "huggingface/tokenizers: The current process just got forked, after parallelism has already been used. Disabling parallelism to avoid deadlocks...\n",
      "To disable this warning, you can either:\n",
      "\t- Avoid using `tokenizers` before the fork if possible\n",
      "\t- Explicitly set the environment variable TOKENIZERS_PARALLELISM=(true | false)\n",
      "huggingface/tokenizers: The current process just got forked, after parallelism has already been used. Disabling parallelism to avoid deadlocks...\n",
      "To disable this warning, you can either:\n",
      "\t- Avoid using `tokenizers` before the fork if possible\n",
      "\t- Explicitly set the environment variable TOKENIZERS_PARALLELISM=(true | false)\n",
      "huggingface/tokenizers: The current process just got forked, after parallelism has already been used. Disabling parallelism to avoid deadlocks...\n",
      "To disable this warning, you can either:\n",
      "\t- Avoid using `tokenizers` before the fork if possible\n",
      "\t- Explicitly set the environment variable TOKENIZERS_PARALLELISM=(true | false)\n",
      "huggingface/tokenizers: The current process just got forked, after parallelism has already been used. Disabling parallelism to avoid deadlocks...\n",
      "To disable this warning, you can either:\n",
      "\t- Avoid using `tokenizers` before the fork if possible\n",
      "\t- Explicitly set the environment variable TOKENIZERS_PARALLELISM=(true | false)\n",
      "2024/08/30 07:54:24 INFO mlflow.tracking._tracking_service.client: 🏃 View run silver_spade_6cp0b8cm at: https://eastus.api.azureml.ms/mlflow/v2.0/subscriptions/28d2df62-e322-4b25-b581-c43b94bd2607/resourceGroups/uhg-advassist-slm-eval/providers/Microsoft.MachineLearningServices/workspaces/slm-evaluation/#/experiments/d8f2318e-fd83-488e-bd9b-deca311699d7/runs/cc7ddd55-214d-4082-ae0f-7d7e03f40a23.\n",
      "2024/08/30 07:54:24 INFO mlflow.tracking._tracking_service.client: 🧪 View experiment at: https://eastus.api.azureml.ms/mlflow/v2.0/subscriptions/28d2df62-e322-4b25-b581-c43b94bd2607/resourceGroups/uhg-advassist-slm-eval/providers/Microsoft.MachineLearningServices/workspaces/slm-evaluation/#/experiments/d8f2318e-fd83-488e-bd9b-deca311699d7.\n",
      "huggingface/tokenizers: The current process just got forked, after parallelism has already been used. Disabling parallelism to avoid deadlocks...\n",
      "To disable this warning, you can either:\n",
      "\t- Avoid using `tokenizers` before the fork if possible\n",
      "\t- Explicitly set the environment variable TOKENIZERS_PARALLELISM=(true | false)\n",
      "huggingface/tokenizers: The current process just got forked, after parallelism has already been used. Disabling parallelism to avoid deadlocks...\n",
      "To disable this warning, you can either:\n",
      "\t- Avoid using `tokenizers` before the fork if possible\n",
      "\t- Explicitly set the environment variable TOKENIZERS_PARALLELISM=(true | false)\n",
      "huggingface/tokenizers: The current process just got forked, after parallelism has already been used. Disabling parallelism to avoid deadlocks...\n",
      "To disable this warning, you can either:\n",
      "\t- Avoid using `tokenizers` before the fork if possible\n",
      "\t- Explicitly set the environment variable TOKENIZERS_PARALLELISM=(true | false)\n",
      "huggingface/tokenizers: The current process just got forked, after parallelism has already been used. Disabling parallelism to avoid deadlocks...\n",
      "To disable this warning, you can either:\n",
      "\t- Avoid using `tokenizers` before the fork if possible\n",
      "\t- Explicitly set the environment variable TOKENIZERS_PARALLELISM=(true | false)\n"
     ]
    }
   ],
   "source": [
    "data_input_path = os.path.join(TARGET_DIRECTORY, \"my_utils\", \"data\", \"evaluations\", \"jsonl\", \"F1ScoreEvaluator.jsonl\")\n",
    "\n",
    "result = evaluate(\n",
    "    data=data_input_path,\n",
    "    evaluators={\n",
    "        \"qa_eval\": qa_eval,\n",
    "        \"context_similarity\": context_similarity,\n",
    "        \"semantic_similarity\": semantic_similarity_eval\n",
    "    },\n",
    "    # column mapping\n",
    "    evaluator_config={\n",
    "        \"qa_eval\": {\n",
    "            \"answer\": \"${data.answer}\",\n",
    "            \"ground_truth\": \"${data.ground_truth}\",\n",
    "        },\n",
    "        \"context_similarity\": {\n",
    "            \"question\": \"${data.question}\",\n",
    "            \"answer\": \"${data.answer}\",\n",
    "            \"ground_truth\": \"${data.ground_truth}\",\n",
    "        },\n",
    "        \"semantic_similarity\": {\n",
    "        \"response\": \"${data.answer}\",\n",
    "        \"ground_truth\": \"${data.ground_truth}\",\n",
    "    }\n",
    "    },\n",
    "    azure_ai_project=azure_ai_project\n",
    ")"
   ]
  },
  {
   "cell_type": "code",
   "execution_count": 19,
   "metadata": {},
   "outputs": [
    {
     "data": {
      "text/plain": [
       "{'rows': [{'inputs.answer': 'Paris is the capital of France.',\n",
       "   'inputs.ground_truth': 'The capital of France is Paris.',\n",
       "   'inputs.question': 'What is the capital of France?',\n",
       "   'outputs.qa_eval.f1_score': 1.0,\n",
       "   'outputs.context_similarity.gpt_similarity': 5.0,\n",
       "   'outputs.semantic_similarity.semantic_similarity': 0.9259477853775024,\n",
       "   'line_number': 0},\n",
       "  {'inputs.answer': 'Albert Einstein developed the theory of relativity.',\n",
       "   'inputs.ground_truth': 'The theory of relativity was developed by Albert Einstein.',\n",
       "   'inputs.question': 'Who developed the theory of relativity?',\n",
       "   'outputs.qa_eval.f1_score': 0.8571428571428571,\n",
       "   'outputs.context_similarity.gpt_similarity': 5.0,\n",
       "   'outputs.semantic_similarity.semantic_similarity': 0.8779064416885376,\n",
       "   'line_number': 1},\n",
       "  {'inputs.answer': 'The speed of light is approximately 299,792,458 meters per second.',\n",
       "   'inputs.ground_truth': 'Light travels at a speed of 299,792,458 meters per second.',\n",
       "   'inputs.question': 'What is the speed of light?',\n",
       "   'outputs.qa_eval.f1_score': 0.7777777777777778,\n",
       "   'outputs.context_similarity.gpt_similarity': 5.0,\n",
       "   'outputs.semantic_similarity.semantic_similarity': 0.9612011909484863,\n",
       "   'line_number': 2},\n",
       "  {'inputs.answer': 'Mount Everest is the tallest mountain in the world.',\n",
       "   'inputs.ground_truth': \"The world's tallest mountain is Mount Everest.\",\n",
       "   'inputs.question': 'Which is the tallest mountain in the world?',\n",
       "   'outputs.qa_eval.f1_score': 0.7692307692307692,\n",
       "   'outputs.context_similarity.gpt_similarity': 5.0,\n",
       "   'outputs.semantic_similarity.semantic_similarity': 0.9308594465255737,\n",
       "   'line_number': 3},\n",
       "  {'inputs.answer': \"George Orwell is the author of '1984'.\",\n",
       "   'inputs.ground_truth': \"The author of '1984' is George Orwell.\",\n",
       "   'inputs.question': \"Who wrote '1984'?\",\n",
       "   'outputs.qa_eval.f1_score': 1.0,\n",
       "   'outputs.context_similarity.gpt_similarity': 5.0,\n",
       "   'outputs.semantic_similarity.semantic_similarity': 0.9466774463653564,\n",
       "   'line_number': 4},\n",
       "  {'inputs.answer': 'Tokyo is the capital of Japan.',\n",
       "   'inputs.ground_truth': \"Japan's capital is Tokyo.\",\n",
       "   'inputs.question': 'What is the capital of Japan?',\n",
       "   'outputs.qa_eval.f1_score': 0.6666666666666665,\n",
       "   'outputs.context_similarity.gpt_similarity': 5.0,\n",
       "   'outputs.semantic_similarity.semantic_similarity': 0.8792477250099182,\n",
       "   'line_number': 5},\n",
       "  {'inputs.answer': 'Leonardo da Vinci painted the Mona Lisa.',\n",
       "   'inputs.ground_truth': 'The Mona Lisa was painted by Leonardo da Vinci.',\n",
       "   'inputs.question': 'Who painted the Mona Lisa?',\n",
       "   'outputs.qa_eval.f1_score': 0.8571428571428571,\n",
       "   'outputs.context_similarity.gpt_similarity': 5.0,\n",
       "   'outputs.semantic_similarity.semantic_similarity': 0.9377338290214539,\n",
       "   'line_number': 6},\n",
       "  {'inputs.answer': 'Jupiter is the largest planet in our solar system.',\n",
       "   'inputs.ground_truth': 'The largest planet in our solar system is Jupiter.',\n",
       "   'inputs.question': 'What is the largest planet in our solar system?',\n",
       "   'outputs.qa_eval.f1_score': 1.0,\n",
       "   'outputs.context_similarity.gpt_similarity': 5.0,\n",
       "   'outputs.semantic_similarity.semantic_similarity': 0.976579487323761,\n",
       "   'line_number': 7},\n",
       "  {'inputs.answer': 'H2O is the chemical symbol for water.',\n",
       "   'inputs.ground_truth': 'The chemical symbol for water is H2O.',\n",
       "   'inputs.question': 'What is the chemical symbol for water?',\n",
       "   'outputs.qa_eval.f1_score': 1.0,\n",
       "   'outputs.context_similarity.gpt_similarity': 5.0,\n",
       "   'outputs.semantic_similarity.semantic_similarity': 0.9534009695053101,\n",
       "   'line_number': 8},\n",
       "  {'inputs.answer': 'The Pacific Ocean is the largest ocean on Earth.',\n",
       "   'inputs.ground_truth': 'The largest ocean on Earth is the Pacific Ocean.',\n",
       "   'inputs.question': 'What is the largest ocean on Earth?',\n",
       "   'outputs.qa_eval.f1_score': 1.0,\n",
       "   'outputs.context_similarity.gpt_similarity': 5.0,\n",
       "   'outputs.semantic_similarity.semantic_similarity': 0.9738157391548157,\n",
       "   'line_number': 9},\n",
       "  {'inputs.answer': 'The Great Pyramid of Giza was built by Alexander the Great.',\n",
       "   'inputs.ground_truth': 'The Great Pyramid of Giza was built by the Egyptians.',\n",
       "   'inputs.question': 'Who built the Great Pyramid of Giza?',\n",
       "   'outputs.qa_eval.f1_score': 0.823529411764706,\n",
       "   'outputs.context_similarity.gpt_similarity': 1.0,\n",
       "   'outputs.semantic_similarity.semantic_similarity': 0.9609907865524292,\n",
       "   'line_number': 10},\n",
       "  {'inputs.answer': 'The human body has four senses.',\n",
       "   'inputs.ground_truth': 'The human body has five primary senses.',\n",
       "   'inputs.question': 'How many primary senses does the human body have?',\n",
       "   'outputs.qa_eval.f1_score': 0.7272727272727272,\n",
       "   'outputs.context_similarity.gpt_similarity': 1.0,\n",
       "   'outputs.semantic_similarity.semantic_similarity': 0.9754077196121216,\n",
       "   'line_number': 11},\n",
       "  {'inputs.answer': 'The Amazon is the longest river in the world.',\n",
       "   'inputs.ground_truth': 'The Nile is often cited as the longest river in the world, but some sources claim the Amazon is longer.',\n",
       "   'inputs.question': 'What is the longest river in the world?',\n",
       "   'outputs.qa_eval.f1_score': 0.5454545454545454,\n",
       "   'outputs.context_similarity.gpt_similarity': 1.0,\n",
       "   'outputs.semantic_similarity.semantic_similarity': 0.8770132660865784,\n",
       "   'line_number': 12},\n",
       "  {'inputs.answer': 'The internet was invented in the 1960s.',\n",
       "   'inputs.ground_truth': 'The foundational technology of the internet was developed in the late 1960s.',\n",
       "   'inputs.question': 'When was the internet invented?',\n",
       "   'outputs.qa_eval.f1_score': 0.5714285714285714,\n",
       "   'outputs.context_similarity.gpt_similarity': nan,\n",
       "   'outputs.semantic_similarity.semantic_similarity': 0.8925939798355103,\n",
       "   'line_number': 13},\n",
       "  {'inputs.answer': 'The heart is on the right side of the human body.',\n",
       "   'inputs.ground_truth': 'The heart is located slightly to the left side of the chest in the human body.',\n",
       "   'inputs.question': 'Where is the heart located in the human body?',\n",
       "   'outputs.qa_eval.f1_score': 0.6,\n",
       "   'outputs.context_similarity.gpt_similarity': 1.0,\n",
       "   'outputs.semantic_similarity.semantic_similarity': 0.8798233866691589,\n",
       "   'line_number': 14},\n",
       "  {'inputs.answer': 'The sun revolves around the Earth.',\n",
       "   'inputs.ground_truth': 'The Earth revolves around the sun.',\n",
       "   'inputs.question': 'Does the Earth revolve around the sun, or does the sun revolve around the Earth?',\n",
       "   'outputs.qa_eval.f1_score': 1.0,\n",
       "   'outputs.context_similarity.gpt_similarity': 1.0,\n",
       "   'outputs.semantic_similarity.semantic_similarity': 0.953967809677124,\n",
       "   'line_number': 15},\n",
       "  {'inputs.answer': 'Sharks are mammals.',\n",
       "   'inputs.ground_truth': 'Sharks are a group of fish characterized by a cartilaginous skeleton.',\n",
       "   'inputs.question': 'Are sharks mammals or fish?',\n",
       "   'outputs.qa_eval.f1_score': 0.3333333333333333,\n",
       "   'outputs.context_similarity.gpt_similarity': 1.0,\n",
       "   'outputs.semantic_similarity.semantic_similarity': 0.6559370756149292,\n",
       "   'line_number': 16},\n",
       "  {'inputs.answer': 'The capital of Canada is Toronto.',\n",
       "   'inputs.ground_truth': 'The capital of Canada is Ottawa.',\n",
       "   'inputs.question': 'What is the capital of Canada?',\n",
       "   'outputs.qa_eval.f1_score': 0.8000000000000002,\n",
       "   'outputs.context_similarity.gpt_similarity': 1.0,\n",
       "   'outputs.semantic_similarity.semantic_similarity': 0.9620543718338013,\n",
       "   'line_number': 17},\n",
       "  {'inputs.answer': 'The inventor of the telephone was Thomas Edison.',\n",
       "   'inputs.ground_truth': 'Alexander Graham Bell is credited with inventing the first practical telephone.',\n",
       "   'inputs.question': 'Who invented the telephone?',\n",
       "   'outputs.qa_eval.f1_score': 0.125,\n",
       "   'outputs.context_similarity.gpt_similarity': 1.0,\n",
       "   'outputs.semantic_similarity.semantic_similarity': 0.9110910892486572,\n",
       "   'line_number': 18},\n",
       "  {'inputs.answer': 'The chemical symbol for gold is Ag.',\n",
       "   'inputs.ground_truth': 'The chemical symbol for gold is Au.',\n",
       "   'inputs.question': 'What is the chemical symbol for gold?',\n",
       "   'outputs.qa_eval.f1_score': 0.8333333333333334,\n",
       "   'outputs.context_similarity.gpt_similarity': 1.0,\n",
       "   'outputs.semantic_similarity.semantic_similarity': 0.9421272277832031,\n",
       "   'line_number': 19},\n",
       "  {'inputs.answer': 'The largest desert in the world is the Sahara.',\n",
       "   'inputs.ground_truth': 'The largest desert in the world is Antarctica.',\n",
       "   'inputs.question': 'What is the largest desert in the world?',\n",
       "   'outputs.qa_eval.f1_score': 0.8333333333333334,\n",
       "   'outputs.context_similarity.gpt_similarity': nan,\n",
       "   'outputs.semantic_similarity.semantic_similarity': 0.9212703108787537,\n",
       "   'line_number': 20},\n",
       "  {'inputs.answer': 'The first man to step on the moon was Lance Armstrong.',\n",
       "   'inputs.ground_truth': 'The first man to step on the moon was Neil Armstrong.',\n",
       "   'inputs.question': 'Who was the first man to step on the moon?',\n",
       "   'outputs.qa_eval.f1_score': 0.8888888888888888,\n",
       "   'outputs.context_similarity.gpt_similarity': nan,\n",
       "   'outputs.semantic_similarity.semantic_similarity': 0.980967104434967,\n",
       "   'line_number': 21},\n",
       "  {'inputs.answer': 'The capital of Egypt is Cairo.',\n",
       "   'inputs.ground_truth': 'The capital of Egypt is Cairo.',\n",
       "   'inputs.question': 'What is the capital of Egypt?',\n",
       "   'outputs.qa_eval.f1_score': 1.0,\n",
       "   'outputs.context_similarity.gpt_similarity': 5.0,\n",
       "   'outputs.semantic_similarity.semantic_similarity': 1.0,\n",
       "   'line_number': 22},\n",
       "  {'inputs.answer': 'Photosynthesis is performed by animals.',\n",
       "   'inputs.ground_truth': 'Photosynthesis is performed by plants.',\n",
       "   'inputs.question': 'Who performs photosynthesis?',\n",
       "   'outputs.qa_eval.f1_score': 0.8000000000000002,\n",
       "   'outputs.context_similarity.gpt_similarity': 1.0,\n",
       "   'outputs.semantic_similarity.semantic_similarity': 0.9610489010810852,\n",
       "   'line_number': 23},\n",
       "  {'inputs.answer': 'The smallest bone in the human body is the femur.',\n",
       "   'inputs.ground_truth': 'The smallest bone in the human body is the stapes bone in the ear.',\n",
       "   'inputs.question': 'What is the smallest bone in the human body?',\n",
       "   'outputs.qa_eval.f1_score': 0.7058823529411764,\n",
       "   'outputs.context_similarity.gpt_similarity': 1.0,\n",
       "   'outputs.semantic_similarity.semantic_similarity': 0.9176359176635742,\n",
       "   'line_number': 24},\n",
       "  {'inputs.answer': 'The Pacific Ocean is the warmest ocean.',\n",
       "   'inputs.ground_truth': 'The Indian Ocean is considered the warmest ocean.',\n",
       "   'inputs.question': 'Which is the warmest ocean?',\n",
       "   'outputs.qa_eval.f1_score': 0.7272727272727272,\n",
       "   'outputs.context_similarity.gpt_similarity': 1.0,\n",
       "   'outputs.semantic_similarity.semantic_similarity': 0.9462220072746277,\n",
       "   'line_number': 25},\n",
       "  {'inputs.answer': 'The light bulb was invented by Nikola Tesla.',\n",
       "   'inputs.ground_truth': 'The light bulb was invented by Thomas Edison.',\n",
       "   'inputs.question': 'Who invented the light bulb?',\n",
       "   'outputs.qa_eval.f1_score': 0.7142857142857143,\n",
       "   'outputs.context_similarity.gpt_similarity': 1.0,\n",
       "   'outputs.semantic_similarity.semantic_similarity': 0.9513564705848694,\n",
       "   'line_number': 26},\n",
       "  {'inputs.answer': 'The first president of the United States was John Adams.',\n",
       "   'inputs.ground_truth': 'The first president of the United States was George Washington.',\n",
       "   'inputs.question': 'Who was the first president of the United States?',\n",
       "   'outputs.qa_eval.f1_score': 0.75,\n",
       "   'outputs.context_similarity.gpt_similarity': 1.0,\n",
       "   'outputs.semantic_similarity.semantic_similarity': 0.9537730813026428,\n",
       "   'line_number': 27},\n",
       "  {'inputs.answer': 'The formula for water is CO2.',\n",
       "   'inputs.ground_truth': 'The formula for water is H2O.',\n",
       "   'inputs.question': 'What is the formula for water?',\n",
       "   'outputs.qa_eval.f1_score': 0.8000000000000002,\n",
       "   'outputs.context_similarity.gpt_similarity': 1.0,\n",
       "   'outputs.semantic_similarity.semantic_similarity': 0.9180343151092529,\n",
       "   'line_number': 28},\n",
       "  {'inputs.answer': 'The tallest building in the world is the Empire State Building.',\n",
       "   'inputs.ground_truth': 'The tallest building in the world is the Burj Khalifa.',\n",
       "   'inputs.question': 'What is the tallest building in the world?',\n",
       "   'outputs.qa_eval.f1_score': 0.6666666666666666,\n",
       "   'outputs.context_similarity.gpt_similarity': 1.0,\n",
       "   'outputs.semantic_similarity.semantic_similarity': 0.8955239653587341,\n",
       "   'line_number': 29}],\n",
       " 'metrics': {'qa_eval.f1_score': 0.7724547511312218,\n",
       "  'context_similarity.gpt_similarity': 2.6296296296296298,\n",
       "  'semantic_similarity.semantic_similarity': 0.9273402949174245},\n",
       " 'studio_url': 'https://ai.azure.com/build/evaluation/cc7ddd55-214d-4082-ae0f-7d7e03f40a23?wsid=/subscriptions/28d2df62-e322-4b25-b581-c43b94bd2607/resourceGroups/uhg-advassist-slm-eval/providers/Microsoft.MachineLearningServices/workspaces/slm-evaluation'}"
      ]
     },
     "execution_count": 19,
     "metadata": {},
     "output_type": "execute_result"
    }
   ],
   "source": [
    "result"
   ]
  },
  {
   "cell_type": "markdown",
   "metadata": {},
   "source": [
    "#### Scenario 3: Dimensionality Reduction for Query Representation in High-Dimensional Language Spaces\n",
    "\n",
    "**Objective**: To explore and understand the underlying structure of user queries within a high-dimensional natural language dataset, we aim to apply UMAP and other dimensionality reduction techniques. This exploration will help us identify key dimensions that influence query representations and suggest alternative metrics to evaluate and improve the AI system's comprehension and response capabilities. \n",
    "\n",
    "**Dimensionality Reduction Approach**:\n",
    "- **UMAP Implementation**:\n",
    "  - **Purpose**: UMAP is employed to reduce the high-dimensional space of query embeddings into a more manageable 2D or 3D space, revealing patterns and clusters that correspond to different types of user queries.\n",
    "  - **Process**: We preprocess the queries using a transformer-based model (e.g., `bert-base-uncased`) to generate embeddings. UMAP is then applied to these embeddings to visualize and analyze the inherent structure of the data.\n",
    "  - **Outcome**: The resulting low-dimensional representation highlights areas where queries are closely related, providing insights into common themes or topics and identifying outliers or ambiguous queries.\n",
    "\n",
    "\n",
    "**Goal**: To enhance the AI system's understanding and representation of user queries by leveraging dimensionality reduction techniques and alternative metrics. The ultimate aim is to improve the system's response accuracy and contextual understanding, ensuring that it can effectively handle a wide range of query types in a nuanced and meaningful manner. We can use this metric to understand the current population of system queries and compare it for drift detection purposes."
   ]
  },
  {
   "cell_type": "markdown",
   "metadata": {},
   "source": []
  }
 ],
 "metadata": {
  "kernelspec": {
   "display_name": "vector-indexing-azureaisearch",
   "language": "python",
   "name": "python3"
  },
  "language_info": {
   "codemirror_mode": {
    "name": "ipython",
    "version": 3
   },
   "file_extension": ".py",
   "mimetype": "text/x-python",
   "name": "python",
   "nbconvert_exporter": "python",
   "pygments_lexer": "ipython3",
   "version": "3.9.19"
  }
 },
 "nbformat": 4,
 "nbformat_minor": 2
}
