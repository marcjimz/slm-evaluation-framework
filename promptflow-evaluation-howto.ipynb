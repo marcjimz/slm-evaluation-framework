{
 "cells": [
  {
   "cell_type": "markdown",
   "metadata": {},
   "source": [
    "## 📚 Prerequisites\n",
    "\n",
    "Before starting, ensure your Azure Services are set up correctly, your Conda environment is ready, and your environment variables are configured according to the instructions in the [README.md](README.md) file.\n",
    "\n",
    "## 📋 Table of Contents\n",
    "\n",
    "This notebook guides you through creating an Azure AI Search Index, covering the following topics:\n",
    "\n",
    "1. [**Built-in PromptFlow Evaluators and Application Scenarios**](#Built-in-PromptFlow-Evaluators-and-Application-Scenarios): Overview of the evaluators provided by PromptFlow and their use cases.\n",
    "\n",
    "2. [**Building a Validation Framework with PromptFlow SDK and Azure AI Studio**](#Building-a-Validation-Framework-with-PromptFlow-SDK-and-Azure-AI-Studio): Steps to integrate PromptFlow SDK with Azure AI Studio for creating a robust validation framework.\n",
    "\n",
    "3. [**Customizing the Validation to Fit Your Scenario**](#Customizing-the-Validation-to-Fit-Your-Scenario): Tailoring the validation framework to meet specific requirements of your project."
   ]
  },
  {
   "cell_type": "markdown",
   "metadata": {},
   "source": [
    "# Built-in Promptflow Evaluators and Application Scenarios\n",
    "\n",
    "The PromptFlow Evaluation Framework provides a suite of built-in evaluators designed to assess the performance and safety of language models across various application scenarios. These evaluators are categorized based on the type of assessment they perform, ranging from the quality of generated content to its safety and appropriateness.\n",
    "\n",
    "## Application Scenarios\n",
    "\n",
    "### Question and Answer\n",
    "This scenario caters to applications that involve posing queries and generating responses. It is ideal for evaluating the model's ability to understand and process information accurately to provide relevant answers.\n",
    "\n",
    "### Chat\n",
    "This scenario is tailored for applications where the model engages in dialogue, employing a retrieval-augmented approach. It assesses the model's capability to extract pertinent information from provided documents and generate coherent, detailed responses.\n",
    "\n",
    "## Overview of Evaluator Categories and Their Technical Applications\n",
    "\n",
    "Each evaluator is meticulously crafted to cater to specific technical scenarios and requirements. For example, the **RelevanceEvaluator** necessitates a `question`, `answer`, and `context` to ascertain the relevance of the provided answer to the posed question within the specified context. This evaluator is indispensable for applications such as virtual assistants or customer support chatbots, where the pertinence of responses critically influences user satisfaction.\n",
    "\n",
    "### Evaluating Q/A Pairs for Accuracy and Coherence\n",
    "\n",
    "Alright, let's dive into how we can check out a Q/A pair, especially when we want to see how a user's answer stacks up against the real deal (aka the ground truth). Here are the key players you'll want to bring into the game:\n",
    "\n",
    "- **SimilarityEvaluator**: This tool scrutinizes the congruence between the user's answer and the ground truth. It is instrumental in gauging how well the user's response aligns with the expected answer, a feature paramount for platforms like educational portals where precision is of the essence.\n",
    "\n",
    "- **F1ScoreEvaluator**: This evaluator computes the F1 score by examining the overlap between the user's answer and the ground truth. It offers invaluable insights into the precision (the relevance of the user's answer) and recall (the extent to which the ground truth is encapsulated by the user's answer), thereby facilitating a nuanced understanding of response accuracy.\n",
    "\n",
    "- **RelevanceEvaluator**: Traditionally employed to evaluate the relevance of an answer to the given question and context, it can also be adeptly used to measure how pertinent the user's answer is in relation to the ground truth, especially in contexts where the backdrop of the question significantly influences the accuracy of the answer.\n",
    "\n",
    "- **CoherenceEvaluator**: This evaluator is essential for assessing the logical flow and coherence of the user's answer vis-à-vis the ground truth. It ensures that the response not only corresponds with the expected answer but also exhibits logical consistency and coherence, crucial for elaborate answers necessitating detailed explanation or justification.\n",
    "\n",
    "### Prioritizing Content Safety\n",
    "\n",
    "Furthermore, the **ContentSafetyEvaluator** and **ContentSafetyChatEvaluator** play a critical role in applications that emphasize user safety, like social media platforms or community forums. These evaluators are dedicated to ensuring that generated content is devoid of any harmful or inappropriate material, safeguarding the community against potential risks.\n",
    "\n",
    "This enhanced framework for evaluator categories and their applications underscores the importance of tailored evaluations in enhancing the accuracy, relevance, and safety of responses across various digital platforms.\n",
    "\n",
    "## Evaluator Categories and Classes\n",
    "\n",
    "| Category            | Evaluator Class            | Required Data Fields          | Example                                                                                                   | Purpose and Applications                                                                                   |\n",
    "|---------------------|----------------------------|-------------------------------|-----------------------------------------------------------------------------------------------------------|------------------------------------------------------------------------------------------------------------|\n",
    "| Performance and Quality | GroundednessEvaluator      | answer, context                | `{\"answer\": \"Paris.\", \"context\": \"France is a country in Europe. Its capital is Paris.\"}`                 | Measures how well the answer is grounded in the provided context. Useful for fact-checking applications.  |\n",
    "|                     | RelevanceEvaluator         | question, answer, context      | `{\"question\": \"What is the capital of France?\", \"answer\": \"Paris.\", \"context\": \"France is a country in Europe. Its capital is Paris.\"}` | Assesses the relevance of the answer to the given question and context. Ideal for QA systems.             |\n",
    "|                     | CoherenceEvaluator         | question, answer               | `{\"question\": \"What is the capital of France?\", \"answer\": \"Paris is the capital of France.\"}`             | Evaluates the logical flow and coherence of the conversation. Useful for dialogue systems.                |\n",
    "|                     | FluencyEvaluator           | question, answer               | `{\"question\": \"What is the capital of France?\", \"answer\": \"Paris is the capital of France.\"}`             | Checks the linguistic fluency and readability of the answer. Important for content generation.           |\n",
    "|                     | SimilarityEvaluator        | question, answer, ground_truth | `{\"question\": \"What is the capital of France?\", \"answer\": \"Paris is the capital of France.\", \"ground_truth\": \"The capital of France is Paris.\"}` | Compares the similarity between the generated answer and a ground truth answer. Useful for automated grading systems. |\n",
    "|                     | F1ScoreEvaluator           | answer, ground_truth           | `{\"answer\": \"Paris is the capital of France.\", \"ground_truth\": \"The capital of France is Paris.\"}`        | Calculates the F1 score based on the overlap between the generated answer and the ground truth. Useful for evaluating model precision and recall. |\n",
    "| Risk and Safety     | ViolenceEvaluator          | question, answer               | `{\"question\": \"What is the capital of France?\", \"answer\": \"Paris.\"}`                                      | Detects violent content in the model's responses. Essential for content moderation.                      |\n",
    "|                     | SexualEvaluator            | question, answer               | `{\"question\": \"What is the capital of France?\", \"answer\": \"Paris.\"}`                                      | Identifies sexual content in responses. Critical for maintaining content appropriateness.                |\n",
    "|                     | SelfHarmEvaluator          | question, answer               | `{\"question\": \"What is the capital of France?\", \"answer\": \"Paris.\"}`                                      | Screens for self-harm related content in answers. Important for user safety.                             |\n",
    "|                     | HateUnfairnessEvaluator    | question, answer               | `{\"question\": \"What is the capital of France?\", \"answer\": \"Paris.\"}`                                      | Detects hate speech and unfairness in content. Vital for ethical AI applications.                        |\n",
    "| Composite           | QAEvaluator                | question, answer, context, ground_truth | `{\"question\": \"What is the capital of France?\", \"answer\": \"Paris is the capital of France.\", \"context\": \"France is a country in Europe. Its capital is Paris.\", \"ground_truth\": \"The capital of France is Paris.\"}` | Combines quality evaluators for QA pairs. Useful for comprehensive QA system evaluation.                 |\n",
    "|                     | ChatEvaluator              | question, answer, context, ground_truth | `{\"question\": \"What is the capital of France?\", \"answer\": \"Paris is the capital of France.\", \"context\": \"France is a country in Europe. Its capital is Paris.\", \"ground_truth\": \"The capital of France is Paris.\"}` | Integrates quality evaluators for chat messages. Ideal for evaluating chatbots.                          |\n",
    "|                     | ContentSafetyEvaluator     | question, answer, context, ground_truth | `{\"question\": \"What is the capital of France?\", \"answer\": \"Paris is the capital of France.\", \"context\": \"France is a country in Europe. Its capital is Paris.\", \"ground_truth\": \"The capital of France is Paris.\"}` | Combines safety evaluators for QA pairs. Essential for ensuring content safety in QA systems.            |\n",
    "|                     | ContentSafetyChatEvaluator | question, answer, context, ground_truth | `{\"question\": \"What is the capital of France?\", \"answer\": \"Paris is the capital of France.\", \"context\": \"France is a country in Europe. Its capital is Paris.\", \"ground_truth\": \"The capital of France is Paris.\"}` | Merges safety evaluators for chat messages. Crucial for safe interactions in chat applications.          |"
   ]
  },
  {
   "cell_type": "markdown",
   "metadata": {},
   "source": [
    "## Building a Validation Framework with PromptFlow SDK and Azure AI Studio"
   ]
  },
  {
   "cell_type": "markdown",
   "metadata": {},
   "source": [
    "### Evaluation Focus for LLM/SLM Benchmarking\n",
    "\n",
    "When evaluating your LLM/SLM, consider the following key areas:\n",
    "\n",
    "- **🧠 Understanding**: Measure the model's reasoning and comprehension abilities. Utilize established datasets such as MMLU, MedPub, and TruthfulQA to benchmark overall performance.\n",
    "\n",
    "- **⚙️ Retrieval System/QA**: Examine the effectiveness of the LLM-based system in its entirety. This includes evaluating its ability to understand context and achieve domain-specific accuracy.\n",
    "\n",
    "- **🛡️ Responsible AI (RAI)**: Ensure the model adheres to Responsible AI principles. This involves assessing ethical considerations, fairness, and transparency to meet responsible AI standards."
   ]
  },
  {
   "cell_type": "code",
   "execution_count": 1,
   "metadata": {},
   "outputs": [
    {
     "name": "stdout",
     "output_type": "stream",
     "text": [
      "Directory changed to /Users/marcjimz/Documents/Development/gbb-ai-llm-slm-evaluation-framework\n"
     ]
    }
   ],
   "source": [
    "import os\n",
    "from datetime import datetime\n",
    "from pprint import pprint\n",
    "\n",
    "# Define the target directory (change yours)\n",
    "TARGET_DIRECTORY = os.getcwd()\n",
    "\n",
    "# Check if the directory exists\n",
    "if os.path.exists(TARGET_DIRECTORY):\n",
    "    # Change the current working directory\n",
    "    os.chdir(TARGET_DIRECTORY)\n",
    "    print(f\"Directory changed to {os.getcwd()}\")\n",
    "else:\n",
    "    print(f\"Directory {TARGET_DIRECTORY} does not exist.\")"
   ]
  },
  {
   "cell_type": "markdown",
   "metadata": {},
   "source": [
    "### 0. Optional: Building Your Own SDK for Enhanced Control and Granularity\n",
    "\n",
    "Be mindful of the level of abstraction. If your project requires specific functionalities, including custom encryption or other complex components, consider developing your own SDK."
   ]
  },
  {
   "cell_type": "code",
   "execution_count": 2,
   "metadata": {},
   "outputs": [],
   "source": [
    "from src.quality.gpt_evals import AzureAIQualityEvaluator"
   ]
  },
  {
   "cell_type": "code",
   "execution_count": 3,
   "metadata": {},
   "outputs": [
    {
     "name": "stderr",
     "output_type": "stream",
     "text": [
      "2024-08-28 16:29:46,569 - micro - MainProcess - INFO     AzureAIQualityEvaluator initialized successfully. (gpt_evals.py:__init__:61)\n"
     ]
    }
   ],
   "source": [
    "from dotenv import load_dotenv\n",
    "load_dotenv()\n",
    "\n",
    "quality_evals = AzureAIQualityEvaluator(azure_endpoint=os.environ.get(\"AZURE_AOAI_ENDPOINT\"),\n",
    "    api_key=os.environ.get(\"AZURE_AOAI_API_KEY\"),\n",
    "    azure_deployment=os.environ.get(\"AZURE_AOAI_COMPLETION_MODEL_DEPLOYMENT_ID\"),\n",
    "    api_version=os.environ.get(\"AZURE_AOAI_DEPLOYMENT_VERSION\"),\n",
    "    subscription_id=os.environ.get(\"AZURE_AI_STUDIO_SUBSCRIPTION_ID\"),\n",
    "    resource_group_name=os.environ.get(\"AZURE_AI_STUDIO_RESOURCE_GROUP_NAME\"),\n",
    "    project_name=os.environ.get(\"AZURE_AI_STUDIO_PROJECT_NAME\"))"
   ]
  },
  {
   "cell_type": "markdown",
   "metadata": {},
   "source": [
    "### 1. Building Golden Datasets for Evaluation\n",
    "\n",
    "- **Diversity**: Ensure the dataset spans a broad spectrum of scenarios to thoroughly assess model performance.\n",
    "\n",
    "- **Complexity Levels**: Include both straightforward and complex queries to evaluate the model's depth of understanding.\n",
    "\n",
    "- **Ambiguity**: Incorporate queries with multiple valid interpretations to test the model's ambiguity handling.\n",
    "\n",
    "- **Data Enrichment**:\n",
    "  - **Paraphrasing**: Use tools like GPT-4 to paraphrase existing queries, enhancing dataset variety.\n",
    "  - **Synthetic Data**: Employ Large Language Models (LLMs) to generate data for underrepresented scenarios."
   ]
  },
  {
   "cell_type": "code",
   "execution_count": 4,
   "metadata": {},
   "outputs": [],
   "source": [
    "data_input_path = os.path.join(os.getcwd(), \"my_utils\", \"data\", \"evaluations\", \"dataframe\", \"golden_eval_dataset.csv\")"
   ]
  },
  {
   "cell_type": "code",
   "execution_count": 5,
   "metadata": {},
   "outputs": [
    {
     "data": {
      "text/html": [
       "<div>\n",
       "<style scoped>\n",
       "    .dataframe tbody tr th:only-of-type {\n",
       "        vertical-align: middle;\n",
       "    }\n",
       "\n",
       "    .dataframe tbody tr th {\n",
       "        vertical-align: top;\n",
       "    }\n",
       "\n",
       "    .dataframe thead th {\n",
       "        text-align: right;\n",
       "    }\n",
       "</style>\n",
       "<table border=\"1\" class=\"dataframe\">\n",
       "  <thead>\n",
       "    <tr style=\"text-align: right;\">\n",
       "      <th></th>\n",
       "      <th>question</th>\n",
       "      <th>answer</th>\n",
       "      <th>context</th>\n",
       "      <th>ground_truth</th>\n",
       "    </tr>\n",
       "  </thead>\n",
       "  <tbody>\n",
       "    <tr>\n",
       "      <th>0</th>\n",
       "      <td>What is the capital of France?</td>\n",
       "      <td>Paris is the capital of France.</td>\n",
       "      <td>France is a country in Europe. Its capital is ...</td>\n",
       "      <td>The capital of France is Paris.</td>\n",
       "    </tr>\n",
       "    <tr>\n",
       "      <th>1</th>\n",
       "      <td>Who developed the theory of relativity?</td>\n",
       "      <td>Albert Einstein developed the theory of relati...</td>\n",
       "      <td>The theory of relativity was developed by Albe...</td>\n",
       "      <td>The theory of relativity was developed by Albe...</td>\n",
       "    </tr>\n",
       "    <tr>\n",
       "      <th>2</th>\n",
       "      <td>What is the speed of light?</td>\n",
       "      <td>The speed of light is approximately 299,792,45...</td>\n",
       "      <td>Light travels at a constant speed in a vacuum,...</td>\n",
       "      <td>Light travels at a speed of 299,792,458 meters...</td>\n",
       "    </tr>\n",
       "    <tr>\n",
       "      <th>3</th>\n",
       "      <td>What is the tallest mountain in the world?</td>\n",
       "      <td>Mount Everest is the tallest mountain in the w...</td>\n",
       "      <td>The tallest mountain in the world is Mount Eve...</td>\n",
       "      <td>The world's tallest mountain is Mount Everest.</td>\n",
       "    </tr>\n",
       "    <tr>\n",
       "      <th>4</th>\n",
       "      <td>Who is the author of '1984'?</td>\n",
       "      <td>George Orwell is the author of '1984'.</td>\n",
       "      <td>The author of '1984' is George Orwell. Citatio...</td>\n",
       "      <td>The author of '1984' is George Orwell.</td>\n",
       "    </tr>\n",
       "  </tbody>\n",
       "</table>\n",
       "</div>"
      ],
      "text/plain": [
       "                                     question  \\\n",
       "0              What is the capital of France?   \n",
       "1     Who developed the theory of relativity?   \n",
       "2                 What is the speed of light?   \n",
       "3  What is the tallest mountain in the world?   \n",
       "4                Who is the author of '1984'?   \n",
       "\n",
       "                                              answer  \\\n",
       "0                    Paris is the capital of France.   \n",
       "1  Albert Einstein developed the theory of relati...   \n",
       "2  The speed of light is approximately 299,792,45...   \n",
       "3  Mount Everest is the tallest mountain in the w...   \n",
       "4             George Orwell is the author of '1984'.   \n",
       "\n",
       "                                             context  \\\n",
       "0  France is a country in Europe. Its capital is ...   \n",
       "1  The theory of relativity was developed by Albe...   \n",
       "2  Light travels at a constant speed in a vacuum,...   \n",
       "3  The tallest mountain in the world is Mount Eve...   \n",
       "4  The author of '1984' is George Orwell. Citatio...   \n",
       "\n",
       "                                        ground_truth  \n",
       "0                    The capital of France is Paris.  \n",
       "1  The theory of relativity was developed by Albe...  \n",
       "2  Light travels at a speed of 299,792,458 meters...  \n",
       "3     The world's tallest mountain is Mount Everest.  \n",
       "4             The author of '1984' is George Orwell.  "
      ]
     },
     "execution_count": 5,
     "metadata": {},
     "output_type": "execute_result"
    }
   ],
   "source": [
    "import pandas as pd\n",
    "df = pd.read_csv(data_input_path)\n",
    "df = df.drop(columns=[\"count\"])\n",
    "df.head()"
   ]
  },
  {
   "cell_type": "markdown",
   "metadata": {},
   "source": [
    "### 2. Evaluating Quality and Performance\n",
    "\n",
    "\n",
    "**📊 What metrics are we evaluating?**\n",
    "\n",
    "- **F1 Score**: Measures the balance between precision and recall. Precision measures how many of the predicted positives are actually correct, while recall measures how many of the actual positives are correctly identified by the model.\n",
    "  - **Range**: 0 (worst) to 1 (best).\n",
    "\n",
    "- **GPT Groundedness**: Assesses the factual accuracy or realism of the content.\n",
    "  - **Range**: 0 (not grounded in reality) to 5 (highly factual).\n",
    "\n",
    "- **GPT Relevance**: Evaluates how relevant the content is to the given context or query.\n",
    "  - **Range**: 0 (not relevant) to 5 (highly relevant).\n",
    "\n",
    "- **GPT Coherence**: Measures the logical flow and consistency of the content.\n",
    "  - **Range**: 0 (incoherent) to 5 (highly coherent).\n",
    "\n",
    "- **GPT Fluency**: Assesses the readability and smoothness of the text.\n",
    "  - **Range**: 0 (hard to read) to 5 (extremely fluent).\n",
    "\n",
    "- **GPT Similarity**: Measures how similar the evaluated content is to a reference or expected response.\n",
    "  - **Range**: 0 (not similar) to 5 (very similar).\n"
   ]
  },
  {
   "cell_type": "code",
   "execution_count": 6,
   "metadata": {},
   "outputs": [
    {
     "name": "stderr",
     "output_type": "stream",
     "text": [
      "2024-08-28 16:29:46,632 - micro - MainProcess - INFO     Data successfully converted to JSONL format. (gpt_evals.py:_convert_to_jsonl:79)\n",
      "2024-08-28 16:29:46,633 - micro - MainProcess - INFO     Evaluating the quality of chat responses... (gpt_evals.py:run_chat_quality:104)\n",
      "[2024-08-28 16:29:58 -0600][flowinvoker][INFO] - Getting connections from pf client with provider from args: local...\n",
      "[2024-08-28 16:29:58 -0600][flowinvoker][INFO] - Getting connections from pf client with provider from args: local...\n",
      "[2024-08-28 16:29:58 -0600][flowinvoker][INFO] - Getting connections from pf client with provider from args: local...\n",
      "[2024-08-28 16:29:58 -0600][flowinvoker][INFO] - Getting connections from pf client with provider from args: local...\n",
      "[2024-08-28 16:29:58 -0600][flowinvoker][INFO] - Getting connections from pf client with provider from args: local...\n",
      "[2024-08-28 16:29:58 -0600][flowinvoker][INFO] - Getting connections from pf client with provider from args: local...\n",
      "[2024-08-28 16:29:58 -0600][flowinvoker][INFO] - Promptflow get connections successfully. keys: dict_keys([])\n",
      "[2024-08-28 16:29:58 -0600][flowinvoker][INFO] - Promptflow executor starts initializing...\n",
      "[2024-08-28 16:29:58 -0600][flowinvoker][INFO] - Promptflow get connections successfully. keys: dict_keys([])\n",
      "[2024-08-28 16:29:58 -0600][flowinvoker][INFO] - Promptflow get connections successfully. keys: dict_keys([])\n",
      "[2024-08-28 16:29:58 -0600][flowinvoker][INFO] - Promptflow get connections successfully. keys: dict_keys([])\n",
      "[2024-08-28 16:29:58 -0600][flowinvoker][INFO] - Promptflow executor starts initializing...\n",
      "[2024-08-28 16:29:58 -0600][flowinvoker][INFO] - Getting connections from pf client with provider from args: local...\n",
      "[2024-08-28 16:29:58 -0600][flowinvoker][INFO] - Promptflow get connections successfully. keys: dict_keys([])\n",
      "[2024-08-28 16:29:58 -0600][flowinvoker][INFO] - Getting connections from pf client with provider from args: local...\n",
      "[2024-08-28 16:29:58 -0600][flowinvoker][INFO] - Promptflow executor starts initializing...\n",
      "[2024-08-28 16:29:58 -0600][flowinvoker][INFO] - Promptflow executor starts initializing...\n",
      "[2024-08-28 16:29:58 -0600][flowinvoker][INFO] - Getting connections from pf client with provider from args: local...\n",
      "[2024-08-28 16:29:58 -0600][flowinvoker][INFO] - Promptflow executor starts initializing...\n",
      "[2024-08-28 16:29:58 -0600][flowinvoker][INFO] - Getting connections from pf client with provider from args: local...\n",
      "[2024-08-28 16:29:58 -0600][flowinvoker][INFO] - Promptflow get connections successfully. keys: dict_keys([])\n",
      "[2024-08-28 16:29:58 -0600][flowinvoker][INFO] - Promptflow get connections successfully. keys: dict_keys([])\n",
      "[2024-08-28 16:29:58 -0600][flowinvoker][INFO] - Getting connections from pf client with provider from args: local...\n",
      "[2024-08-28 16:29:58 -0600][flowinvoker][INFO] - Promptflow get connections successfully. keys: dict_keys([])\n",
      "[2024-08-28 16:29:58 -0600][flowinvoker][INFO] - Promptflow executor starts initializing...\n",
      "[2024-08-28 16:29:58 -0600][flowinvoker][INFO] - Promptflow get connections successfully. keys: dict_keys([])\n",
      "[2024-08-28 16:29:58 -0600][flowinvoker][INFO] - Promptflow executor starts initializing...\n",
      "[2024-08-28 16:29:58 -0600][flowinvoker][INFO] - Promptflow get connections successfully. keys: dict_keys([])\n",
      "[2024-08-28 16:29:58 -0600][flowinvoker][INFO] - Getting connections from pf client with provider from args: local...\n",
      "[2024-08-28 16:29:58 -0600][flowinvoker][INFO] - Promptflow executor starts initializing...\n",
      "[2024-08-28 16:29:58 -0600][flowinvoker][INFO] - Getting connections from pf client with provider from args: local...\n",
      "[2024-08-28 16:29:58 -0600][flowinvoker][INFO] - Promptflow executor starts initializing...\n",
      "[2024-08-28 16:29:58 -0600][flowinvoker][INFO] - Getting connections from pf client with provider from args: local...\n",
      "[2024-08-28 16:29:58 -0600][flowinvoker][INFO] - Promptflow get connections successfully. keys: dict_keys([])\n",
      "[2024-08-28 16:29:58 -0600][flowinvoker][INFO] - Getting connections from pf client with provider from args: local...\n",
      "[2024-08-28 16:29:58 -0600][flowinvoker][INFO] - Promptflow executor starts initializing...\n",
      "[2024-08-28 16:29:58 -0600][flowinvoker][INFO] - Promptflow executor initiated successfully.\n",
      "[2024-08-28 16:29:58 -0600][flowinvoker][INFO] - Promptflow get connections successfully. keys: dict_keys([])\n",
      "[2024-08-28 16:29:58 -0600][flowinvoker][INFO] - Promptflow executor starts initializing...\n",
      "[2024-08-28 16:29:58 -0600][flowinvoker][INFO] - Promptflow get connections successfully. keys: dict_keys([])\n",
      "[2024-08-28 16:29:58 -0600][flowinvoker][INFO] - Promptflow executor initiated successfully.\n",
      "[2024-08-28 16:29:58 -0600][flowinvoker][INFO] - Promptflow get connections successfully. keys: dict_keys([])\n",
      "[2024-08-28 16:29:58 -0600][flowinvoker][INFO] - Promptflow get connections successfully. keys: dict_keys([])\n",
      "[2024-08-28 16:29:58 -0600][flowinvoker][INFO] - Promptflow executor starts initializing...\n",
      "[2024-08-28 16:29:58 -0600][flowinvoker][INFO] - Validating flow input with data {'answer': 'H2O is the chemical symbol for water.', 'ground_truth': 'The chemical symbol for water is H2O.'}\n",
      "[2024-08-28 16:29:58 -0600][flowinvoker][INFO] - Promptflow executor starts initializing...\n",
      "[2024-08-28 16:29:58 -0600][flowinvoker][INFO] - Promptflow executor initiated successfully.\n",
      "[2024-08-28 16:29:58 -0600][flowinvoker][INFO] - Promptflow executor starts initializing...\n",
      "[2024-08-28 16:29:58 -0600][flowinvoker][INFO] - Promptflow executor starts initializing...\n",
      "[2024-08-28 16:29:58 -0600][flowinvoker][INFO] - Validating flow input with data {'answer': 'Mount Everest is the tallest mountain in the world.', 'ground_truth': \"The world's tallest mountain is Mount Everest.\"}\n",
      "[2024-08-28 16:29:58 -0600][flowinvoker][INFO] - Execute flow with data {'answer': 'H2O is the chemical symbol for water.', 'ground_truth': 'The chemical symbol for water is H2O.'}\n",
      "[2024-08-28 16:29:58 -0600][flowinvoker][INFO] - Validating flow input with data {'answer': 'CO2 is the chemical formula for carbon dioxide.', 'ground_truth': 'The chemical formula for carbon dioxide is CO2.'}\n",
      "[2024-08-28 16:29:58 -0600][flowinvoker][INFO] - Execute flow with data {'answer': 'Mount Everest is the tallest mountain in the world.', 'ground_truth': \"The world's tallest mountain is Mount Everest.\"}\n",
      "[2024-08-28 16:29:58 -0600][flowinvoker][INFO] - Execute flow with data {'answer': 'CO2 is the chemical formula for carbon dioxide.', 'ground_truth': 'The chemical formula for carbon dioxide is CO2.'}\n",
      "[2024-08-28 16:29:58 -0600][flowinvoker][INFO] - Promptflow executor initiated successfully.\n",
      "[2024-08-28 16:29:58 -0600][flowinvoker][INFO] - Validating flow input with data {'answer': 'Tokyo is the capital of Japan.', 'ground_truth': \"Japan's capital is Tokyo.\"}\n",
      "[2024-08-28 16:29:58 -0600][flowinvoker][INFO] - Execute flow with data {'answer': 'Tokyo is the capital of Japan.', 'ground_truth': \"Japan's capital is Tokyo.\"}\n",
      "[2024-08-28 16:29:58 -0600][flowinvoker][INFO] - Promptflow executor initiated successfully.\n",
      "[2024-08-28 16:29:58 -0600][flowinvoker][INFO] - Validating flow input with data {'answer': 'Berlin is the capital of Germany.', 'ground_truth': 'The capital of Germany is Berlin.'}\n",
      "[2024-08-28 16:29:58 -0600][flowinvoker][INFO] - Execute flow with data {'answer': 'Berlin is the capital of Germany.', 'ground_truth': 'The capital of Germany is Berlin.'}\n",
      "[2024-08-28 16:29:58 -0600][flowinvoker][INFO] - Promptflow executor initiated successfully.\n",
      "[2024-08-28 16:29:58 -0600][flowinvoker][INFO] - Validating flow input with data {'answer': 'Leonardo da Vinci painted the Mona Lisa.', 'ground_truth': 'The Mona Lisa was painted by Leonardo da Vinci.'}\n",
      "[2024-08-28 16:29:58 -0600][flowinvoker][INFO] - Execute flow with data {'answer': 'Leonardo da Vinci painted the Mona Lisa.', 'ground_truth': 'The Mona Lisa was painted by Leonardo da Vinci.'}\n",
      "[2024-08-28 16:29:58 -0600][flowinvoker][INFO] - Promptflow executor initiated successfully.\n",
      "[2024-08-28 16:29:58 -0600][flowinvoker][INFO] - Validating flow input with data {'answer': 'Paris is the capital of France.', 'ground_truth': 'The capital of France is Paris.'}\n",
      "[2024-08-28 16:29:58 -0600][flowinvoker][INFO] - Execute flow with data {'answer': 'Paris is the capital of France.', 'ground_truth': 'The capital of France is Paris.'}\n",
      "[2024-08-28 16:29:58 -0600][flowinvoker][INFO] - Promptflow executor initiated successfully.\n",
      "[2024-08-28 16:29:58 -0600][flowinvoker][INFO] - Validating flow input with data {'answer': 'The Sahara Desert is the largest desert in the world.', 'ground_truth': 'The largest desert in the world is the Sahara Desert.'}\n",
      "[2024-08-28 16:29:58 -0600][flowinvoker][INFO] - Execute flow with data {'answer': 'The Sahara Desert is the largest desert in the world.', 'ground_truth': 'The largest desert in the world is the Sahara Desert.'}\n",
      "[2024-08-28 16:29:58 -0600][flowinvoker][INFO] - Promptflow executor initiated successfully.\n",
      "[2024-08-28 16:29:58 -0600][flowinvoker][INFO] - Validating flow input with data {'answer': 'Mercury is the smallest planet in our solar system.', 'ground_truth': 'Mercury is the smallest planet in our solar system.'}\n",
      "[2024-08-28 16:29:58 -0600][flowinvoker][INFO] - Execute flow with data {'answer': 'Mercury is the smallest planet in our solar system.', 'ground_truth': 'Mercury is the smallest planet in our solar system.'}\n",
      "[2024-08-28 16:29:58 -0600][flowinvoker][INFO] - Promptflow executor initiated successfully.\n",
      "[2024-08-28 16:29:58 -0600][flowinvoker][INFO] - Validating flow input with data {'answer': 'Albert Einstein developed the theory of relativity.', 'ground_truth': 'The theory of relativity was developed by Albert Einstein.'}\n",
      "[2024-08-28 16:29:58 -0600][flowinvoker][INFO] - Execute flow with data {'answer': 'Albert Einstein developed the theory of relativity.', 'ground_truth': 'The theory of relativity was developed by Albert Einstein.'}\n",
      "[2024-08-28 16:29:58 -0600][flowinvoker][INFO] - Promptflow executor initiated successfully.\n",
      "[2024-08-28 16:29:58 -0600][flowinvoker][INFO] - Validating flow input with data {'answer': \"George Orwell is the author of '1984'.\", 'ground_truth': \"The author of '1984' is George Orwell.\"}\n",
      "[2024-08-28 16:29:58 -0600][flowinvoker][INFO] - Execute flow with data {'answer': \"George Orwell is the author of '1984'.\", 'ground_truth': \"The author of '1984' is George Orwell.\"}\n",
      "[2024-08-28 16:29:58 -0600][flowinvoker][INFO] - Promptflow executor initiated successfully.\n",
      "[2024-08-28 16:29:58 -0600][flowinvoker][INFO] - Validating flow input with data {'answer': 'Jupiter is the largest planet in our solar system.', 'ground_truth': 'The largest planet in our solar system is Jupiter.'}\n",
      "[2024-08-28 16:29:58 -0600][flowinvoker][INFO] - Execute flow with data {'answer': 'Jupiter is the largest planet in our solar system.', 'ground_truth': 'The largest planet in our solar system is Jupiter.'}\n",
      "[2024-08-28 16:29:58 -0600][flowinvoker][INFO] - Promptflow executor initiated successfully.\n",
      "[2024-08-28 16:29:58 -0600][flowinvoker][INFO] - Validating flow input with data {'answer': \"William Shakespeare wrote 'Hamlet'.\", 'ground_truth': \"William Shakespeare wrote 'Hamlet'.\"}\n",
      "[2024-08-28 16:29:58 -0600][flowinvoker][INFO] - Execute flow with data {'answer': \"William Shakespeare wrote 'Hamlet'.\", 'ground_truth': \"William Shakespeare wrote 'Hamlet'.\"}\n",
      "[2024-08-28 16:29:58 -0600][flowinvoker][INFO] - Promptflow executor initiated successfully.\n",
      "[2024-08-28 16:29:58 -0600][flowinvoker][INFO] - Validating flow input with data {'answer': 'The Pacific Ocean is the largest ocean on Earth.', 'ground_truth': 'The largest ocean on Earth is the Pacific Ocean.'}\n",
      "[2024-08-28 16:29:58 -0600][flowinvoker][INFO] - Execute flow with data {'answer': 'The Pacific Ocean is the largest ocean on Earth.', 'ground_truth': 'The largest ocean on Earth is the Pacific Ocean.'}\n",
      "[2024-08-28 16:29:58 -0600][flowinvoker][INFO] - Promptflow executor initiated successfully.\n",
      "[2024-08-28 16:29:58 -0600][flowinvoker][INFO] - Validating flow input with data {'answer': 'The speed of light is approximately 299,792,458 meters per second.', 'ground_truth': 'Light travels at a speed of 299,792,458 meters per second.'}\n",
      "[2024-08-28 16:29:58 -0600][flowinvoker][INFO] - Execute flow with data {'answer': 'The speed of light is approximately 299,792,458 meters per second.', 'ground_truth': 'Light travels at a speed of 299,792,458 meters per second.'}\n"
     ]
    },
    {
     "name": "stdout",
     "output_type": "stream",
     "text": [
      "2024-08-28 16:29:58 -0600   98230 execution.flow     INFO     Start executing nodes in thread pool mode.\n",
      "2024-08-28 16:29:58 -0600   98230 execution.flow     INFO     Start to run 2 nodes with concurrency level 16.\n",
      "2024-08-28 16:29:58 -0600   98230 execution.flow     INFO     Current thread is not main thread, skip signal handler registration in AsyncNodesScheduler.\n",
      "2024-08-28 16:29:58 -0600   98230 execution.flow     INFO     Executing node validate_inputs. node run id: 6f368cb2-7c6e-459f-8db1-9702cd67a397_validate_inputs_590a2be2-2520-4d07-a147-babccd84c5b9\n",
      "2024-08-28 16:29:58 -0600   98230 execution.flow     INFO     Start executing nodes in thread pool mode.\n",
      "2024-08-28 16:29:58 -0600   98230 execution.flow     INFO     Start to run 2 nodes with concurrency level 16.\n",
      "2024-08-28 16:29:58 -0600   98230 execution.flow     INFO     Current thread is not main thread, skip signal handler registration in AsyncNodesScheduler.\n",
      "2024-08-28 16:29:58 -0600   98230 execution.flow     INFO     Executing node validate_inputs. node run id: 6ebd5371-a404-4acd-933c-e21886e1ec8b_validate_inputs_a98a0c48-c541-45a4-a12c-9c1bad9c5352\n",
      "2024-08-28 16:29:58 -0600   98230 execution.flow     INFO     Start executing nodes in thread pool mode.\n",
      "2024-08-28 16:29:58 -0600   98230 execution.flow     INFO     Start to run 2 nodes with concurrency level 16.\n",
      "2024-08-28 16:29:58 -0600   98230 execution.flow     INFO     Current thread is not main thread, skip signal handler registration in AsyncNodesScheduler.\n",
      "2024-08-28 16:29:58 -0600   98230 execution.flow     INFO     Executing node validate_inputs. node run id: 56cf0a83-d796-4547-87fa-1afdf60fcf0b_validate_inputs_a236225e-e63e-4fba-b85f-d7b7f3b690e3\n",
      "2024-08-28 16:29:58 -0600   98230 execution.flow     INFO     Start executing nodes in thread pool mode.\n",
      "2024-08-28 16:29:58 -0600   98230 execution.flow     INFO     Start to run 2 nodes with concurrency level 16.\n",
      "2024-08-28 16:29:58 -0600   98230 execution.flow     INFO     Current thread is not main thread, skip signal handler registration in AsyncNodesScheduler.\n",
      "2024-08-28 16:29:58 -0600   98230 execution.flow     INFO     Executing node validate_inputs. node run id: 1a85bb82-a17e-409d-94b4-d2db0f6cc7d5_validate_inputs_47ecab24-2eb9-43c3-871e-0ba88d617fe4\n",
      "2024-08-28 16:29:58 -0600   98230 execution.flow     INFO     Start executing nodes in thread pool mode.\n",
      "2024-08-28 16:29:58 -0600   98230 execution.flow     INFO     Start to run 2 nodes with concurrency level 16.\n",
      "2024-08-28 16:29:58 -0600   98230 execution.flow     INFO     Current thread is not main thread, skip signal handler registration in AsyncNodesScheduler.\n",
      "2024-08-28 16:29:58 -0600   98230 execution.flow     INFO     Executing node validate_inputs. node run id: df001fff-0849-4bcc-a8b2-ba5437b3f2da_validate_inputs_1b603ac9-36cc-4160-a7be-ed83ea520b43\n",
      "2024-08-28 16:29:58 -0600   98230 execution.flow     INFO     Start executing nodes in thread pool mode.\n",
      "2024-08-28 16:29:58 -0600   98230 execution.flow     INFO     Start to run 2 nodes with concurrency level 16.\n",
      "2024-08-28 16:29:58 -0600   98230 execution.flow     INFO     Current thread is not main thread, skip signal handler registration in AsyncNodesScheduler.\n",
      "2024-08-28 16:29:58 -0600   98230 execution.flow     INFO     Executing node validate_inputs. node run id: 44af5783-1bb4-4e29-8438-e5e02b48d914_validate_inputs_11972a70-0da3-4a42-acb5-2ef36de8d233\n",
      "2024-08-28 16:29:58 -0600   98230 execution.flow     INFO     Start executing nodes in thread pool mode.\n",
      "2024-08-28 16:29:58 -0600   98230 execution.flow     INFO     Start to run 2 nodes with concurrency level 16.\n",
      "2024-08-28 16:29:58 -0600   98230 execution.flow     INFO     Current thread is not main thread, skip signal handler registration in AsyncNodesScheduler.\n",
      "2024-08-28 16:29:58 -0600   98230 execution.flow     INFO     Executing node validate_inputs. node run id: a0f8cb9a-3d18-4616-8842-ad4452cd79fc_validate_inputs_c766b693-82fb-4ec9-a988-7cb4d942a19e\n",
      "2024-08-28 16:29:58 -0600   98230 execution.flow     INFO     Start executing nodes in thread pool mode.\n",
      "2024-08-28 16:29:58 -0600   98230 execution.flow     INFO     Start to run 2 nodes with concurrency level 16.\n",
      "2024-08-28 16:29:58 -0600   98230 execution.flow     INFO     Current thread is not main thread, skip signal handler registration in AsyncNodesScheduler.\n",
      "2024-08-28 16:29:58 -0600   98230 execution.flow     INFO     Executing node validate_inputs. node run id: bb491d4d-1fa6-4fa8-88ba-820bc48061d2_validate_inputs_ad1ca29e-0781-4ab8-93e6-086db5781b5f\n",
      "2024-08-28 16:29:58 -0600   98230 execution.flow     INFO     Start executing nodes in thread pool mode.\n",
      "2024-08-28 16:29:58 -0600   98230 execution.flow     INFO     Start to run 2 nodes with concurrency level 16.\n",
      "2024-08-28 16:29:58 -0600   98230 execution.flow     INFO     Current thread is not main thread, skip signal handler registration in AsyncNodesScheduler.\n",
      "2024-08-28 16:29:58 -0600   98230 execution.flow     INFO     Executing node validate_inputs. node run id: 7f2fca15-bf62-4400-a1b7-67b017604b46_validate_inputs_4b7a608d-cec3-40fa-807e-a63fd1b65c1e\n",
      "2024-08-28 16:29:58 -0600   98230 execution.flow     INFO     Start executing nodes in thread pool mode.\n",
      "2024-08-28 16:29:58 -0600   98230 execution.flow     INFO     Start to run 2 nodes with concurrency level 16.\n",
      "2024-08-28 16:29:58 -0600   98230 execution.flow     INFO     Current thread is not main thread, skip signal handler registration in AsyncNodesScheduler.\n",
      "2024-08-28 16:29:58 -0600   98230 execution.flow     INFO     Executing node validate_inputs. node run id: 2601902b-d66c-45da-b317-f90b971e0c5e_validate_inputs_58d4c7c5-e7a5-41e4-80ff-d96cd681f15a\n",
      "2024-08-28 16:29:58 -0600   98230 execution.flow     INFO     Start executing nodes in thread pool mode.\n",
      "2024-08-28 16:29:58 -0600   98230 execution.flow     INFO     Start executing nodes in thread pool mode.\n",
      "2024-08-28 16:29:58 -0600   98230 execution.flow     INFO     Start to run 2 nodes with concurrency level 16.\n",
      "2024-08-28 16:29:58 -0600   98230 execution.flow     INFO     Start to run 2 nodes with concurrency level 16.\n",
      "2024-08-28 16:29:58 -0600   98230 execution.flow     INFO     Current thread is not main thread, skip signal handler registration in AsyncNodesScheduler.\n",
      "2024-08-28 16:29:58 -0600   98230 execution.flow     INFO     Current thread is not main thread, skip signal handler registration in AsyncNodesScheduler.\n",
      "2024-08-28 16:29:58 -0600   98230 execution.flow     INFO     Executing node validate_inputs. node run id: 72944ae8-c3d9-48c9-9f0f-151c0622060f_validate_inputs_a27abb6f-d53c-4656-bb7b-da7b1c88a020\n",
      "2024-08-28 16:29:58 -0600   98230 execution.flow     INFO     Executing node validate_inputs. node run id: 4c91527f-e28f-483a-9353-27c8a78493a1_validate_inputs_c05eb6b9-1790-4bbd-ab10-5a48f0e3bb59\n",
      "2024-08-28 16:29:59 -0600   98230 execution.flow     INFO     Start executing nodes in thread pool mode.\n",
      "2024-08-28 16:29:59 -0600   98230 execution.flow     INFO     Start to run 2 nodes with concurrency level 16.\n",
      "2024-08-28 16:29:59 -0600   98230 execution.flow     INFO     Current thread is not main thread, skip signal handler registration in AsyncNodesScheduler.\n",
      "2024-08-28 16:29:59 -0600   98230 execution.flow     INFO     Executing node validate_inputs. node run id: be5fcb94-7b2b-4242-89ee-305255d7dd4f_validate_inputs_22c170d1-9f7b-40bf-ba98-058de40c859b\n",
      "2024-08-28 16:29:59 -0600   98230 execution.flow     INFO     Start executing nodes in thread pool mode.\n",
      "2024-08-28 16:29:59 -0600   98230 execution.flow     INFO     Start to run 2 nodes with concurrency level 16.\n",
      "2024-08-28 16:29:59 -0600   98230 execution.flow     INFO     Current thread is not main thread, skip signal handler registration in AsyncNodesScheduler.\n",
      "2024-08-28 16:29:59 -0600   98230 execution.flow     INFO     Executing node validate_inputs. node run id: 89013bfb-aeda-4a2b-a92a-25925fdf9256_validate_inputs_d177ce5a-f86f-4018-882c-dc2b465da5c8\n",
      "2024-08-28 16:29:59 -0600   98230 execution.flow     INFO     Start executing nodes in thread pool mode.\n",
      "2024-08-28 16:29:59 -0600   98230 execution.flow     INFO     Start to run 2 nodes with concurrency level 16.\n",
      "2024-08-28 16:29:59 -0600   98230 execution.flow     INFO     Current thread is not main thread, skip signal handler registration in AsyncNodesScheduler.\n",
      "2024-08-28 16:29:59 -0600   98230 execution.flow     INFO     Executing node validate_inputs. node run id: 6fb16e6b-74c4-4428-b85a-29b3e58ba6e7_validate_inputs_81411cdd-ad70-4333-9d1b-eac8ecef9a95\n",
      "2024-08-28 16:29:59 -0600   98230 execution.flow     INFO     Node validate_inputs completes.\n",
      "2024-08-28 16:29:59 -0600   98230 execution.flow     INFO     The node 'compute_f1_score' will be executed because the activate condition is met, i.e. '${validate_inputs.output}' is equal to 'True'.\n",
      "2024-08-28 16:29:59 -0600   98230 execution.flow     INFO     Executing node compute_f1_score. node run id: 44af5783-1bb4-4e29-8438-e5e02b48d914_compute_f1_score_77ded8d0-2cea-472a-8e81-7efcd827ae40\n",
      "2024-08-28 16:29:59 -0600   98230 execution.flow     INFO     Node validate_inputs completes.\n",
      "2024-08-28 16:29:59 -0600   98230 execution.flow     INFO     The node 'compute_f1_score' will be executed because the activate condition is met, i.e. '${validate_inputs.output}' is equal to 'True'.\n",
      "2024-08-28 16:29:59 -0600   98230 execution.flow     INFO     Executing node compute_f1_score. node run id: 56cf0a83-d796-4547-87fa-1afdf60fcf0b_compute_f1_score_8639d18e-209e-476a-9b4b-f16d5440784c\n",
      "2024-08-28 16:29:59 -0600   98230 execution.flow     INFO     Node validate_inputs completes.\n",
      "2024-08-28 16:29:59 -0600   98230 execution.flow     INFO     The node 'compute_f1_score' will be executed because the activate condition is met, i.e. '${validate_inputs.output}' is equal to 'True'.\n",
      "2024-08-28 16:29:59 -0600   98230 execution.flow     INFO     Executing node compute_f1_score. node run id: 6f368cb2-7c6e-459f-8db1-9702cd67a397_compute_f1_score_f69cb108-980a-4f80-a4e1-6a09d1cfc49a\n",
      "2024-08-28 16:29:59 -0600   98230 execution.flow     INFO     Node validate_inputs completes.\n",
      "2024-08-28 16:29:59 -0600   98230 execution.flow     INFO     The node 'compute_f1_score' will be executed because the activate condition is met, i.e. '${validate_inputs.output}' is equal to 'True'.\n",
      "2024-08-28 16:29:59 -0600   98230 execution.flow     INFO     Executing node compute_f1_score. node run id: bb491d4d-1fa6-4fa8-88ba-820bc48061d2_compute_f1_score_9d60c10e-a1a6-4adf-9a88-9698db0d5952\n",
      "2024-08-28 16:29:59 -0600   98230 execution.flow     INFO     Node validate_inputs completes.\n",
      "2024-08-28 16:29:59 -0600   98230 execution.flow     INFO     The node 'compute_f1_score' will be executed because the activate condition is met, i.e. '${validate_inputs.output}' is equal to 'True'.\n",
      "2024-08-28 16:29:59 -0600   98230 execution.flow     INFO     Executing node compute_f1_score. node run id: 1a85bb82-a17e-409d-94b4-d2db0f6cc7d5_compute_f1_score_8fa9e5e0-68eb-42a6-af1d-7c99ef80c3f7\n",
      "2024-08-28 16:29:59 -0600   98230 execution.flow     INFO     Node validate_inputs completes.\n",
      "2024-08-28 16:29:59 -0600   98230 execution.flow     INFO     The node 'compute_f1_score' will be executed because the activate condition is met, i.e. '${validate_inputs.output}' is equal to 'True'.\n",
      "2024-08-28 16:29:59 -0600   98230 execution.flow     INFO     Executing node compute_f1_score. node run id: df001fff-0849-4bcc-a8b2-ba5437b3f2da_compute_f1_score_27c75be1-db71-4108-8a21-562ed4323009\n",
      "2024-08-28 16:29:59 -0600   98230 execution.flow     INFO     Node validate_inputs completes.\n",
      "2024-08-28 16:29:59 -0600   98230 execution.flow     INFO     Node validate_inputs completes.\n",
      "2024-08-28 16:29:59 -0600   98230 execution.flow     INFO     The node 'compute_f1_score' will be executed because the activate condition is met, i.e. '${validate_inputs.output}' is equal to 'True'.\n",
      "2024-08-28 16:29:59 -0600   98230 execution.flow     INFO     The node 'compute_f1_score' will be executed because the activate condition is met, i.e. '${validate_inputs.output}' is equal to 'True'.\n",
      "2024-08-28 16:29:59 -0600   98230 execution.flow     INFO     Executing node compute_f1_score. node run id: 72944ae8-c3d9-48c9-9f0f-151c0622060f_compute_f1_score_70b46900-95f9-4248-8857-51f264471bb1\n",
      "2024-08-28 16:29:59 -0600   98230 execution.flow     INFO     Executing node compute_f1_score. node run id: be5fcb94-7b2b-4242-89ee-305255d7dd4f_compute_f1_score_5c1b7c4b-71b7-4965-af6a-13e572030e3c\n",
      "2024-08-28 16:29:59 -0600   98230 execution.flow     INFO     Node validate_inputs completes.\n",
      "2024-08-28 16:29:59 -0600   98230 execution.flow     INFO     The node 'compute_f1_score' will be executed because the activate condition is met, i.e. '${validate_inputs.output}' is equal to 'True'.\n",
      "2024-08-28 16:29:59 -0600   98230 execution.flow     INFO     Executing node compute_f1_score. node run id: 89013bfb-aeda-4a2b-a92a-25925fdf9256_compute_f1_score_612646ee-945b-45eb-bb5d-a7c47eb4db9d\n",
      "2024-08-28 16:29:59 -0600   98230 execution.flow     INFO     Node validate_inputs completes.\n",
      "2024-08-28 16:29:59 -0600   98230 execution.flow     INFO     The node 'compute_f1_score' will be executed because the activate condition is met, i.e. '${validate_inputs.output}' is equal to 'True'.\n",
      "2024-08-28 16:29:59 -0600   98230 execution.flow     INFO     Executing node compute_f1_score. node run id: a0f8cb9a-3d18-4616-8842-ad4452cd79fc_compute_f1_score_26a72ab7-7bba-42fa-a1c7-f22a9f939329\n",
      "2024-08-28 16:29:59 -0600   98230 execution.flow     INFO     Node validate_inputs completes.\n",
      "2024-08-28 16:29:59 -0600   98230 execution.flow     INFO     The node 'compute_f1_score' will be executed because the activate condition is met, i.e. '${validate_inputs.output}' is equal to 'True'.\n",
      "2024-08-28 16:29:59 -0600   98230 execution.flow     INFO     Executing node compute_f1_score. node run id: 6ebd5371-a404-4acd-933c-e21886e1ec8b_compute_f1_score_d5d8aa56-c1e0-4b5b-a638-82b5b3c812d7\n",
      "2024-08-28 16:29:59 -0600   98230 execution.flow     INFO     Node validate_inputs completes.\n",
      "2024-08-28 16:29:59 -0600   98230 execution.flow     INFO     The node 'compute_f1_score' will be executed because the activate condition is met, i.e. '${validate_inputs.output}' is equal to 'True'.\n",
      "2024-08-28 16:29:59 -0600   98230 execution.flow     INFO     Executing node compute_f1_score. node run id: 4c91527f-e28f-483a-9353-27c8a78493a1_compute_f1_score_dd8b4709-1ff8-4e2f-acc3-9409f020a1c3\n",
      "2024-08-28 16:29:59 -0600   98230 execution.flow     INFO     Node validate_inputs completes.\n",
      "2024-08-28 16:29:59 -0600   98230 execution.flow     INFO     The node 'compute_f1_score' will be executed because the activate condition is met, i.e. '${validate_inputs.output}' is equal to 'True'.\n",
      "2024-08-28 16:29:59 -0600   98230 execution.flow     INFO     Executing node compute_f1_score. node run id: 6fb16e6b-74c4-4428-b85a-29b3e58ba6e7_compute_f1_score_4fcde9bb-9cb0-4bf0-90a3-3149b986c5f9\n",
      "2024-08-28 16:29:59 -0600   98230 execution.flow     INFO     Node validate_inputs completes.\n",
      "2024-08-28 16:29:59 -0600   98230 execution.flow     INFO     The node 'compute_f1_score' will be executed because the activate condition is met, i.e. '${validate_inputs.output}' is equal to 'True'.\n",
      "2024-08-28 16:29:59 -0600   98230 execution.flow     INFO     Executing node compute_f1_score. node run id: 2601902b-d66c-45da-b317-f90b971e0c5e_compute_f1_score_f75cf70b-baa1-4d93-a444-e8df8d0c49a4\n",
      "2024-08-28 16:29:59 -0600   98230 execution.flow     INFO     Node validate_inputs completes.\n",
      "2024-08-28 16:29:59 -0600   98230 execution.flow     INFO     The node 'compute_f1_score' will be executed because the activate condition is met, i.e. '${validate_inputs.output}' is equal to 'True'.\n",
      "2024-08-28 16:29:59 -0600   98230 execution.flow     INFO     Executing node compute_f1_score. node run id: 7f2fca15-bf62-4400-a1b7-67b017604b46_compute_f1_score_a9f2650a-253b-41ee-a397-912d2e64fc07\n",
      "2024-08-28 16:29:59 -0600   98230 execution.flow     INFO     Node compute_f1_score completes.\n",
      "2024-08-28 16:29:59 -0600   98230 execution.flow     INFO     Node compute_f1_score completes.\n",
      "2024-08-28 16:29:59 -0600   98230 execution.flow     INFO     Node compute_f1_score completes.\n",
      "2024-08-28 16:29:59 -0600   98230 execution.flow     INFO     Node compute_f1_score completes.\n",
      "2024-08-28 16:29:59 -0600   98230 execution.flow     INFO     Node compute_f1_score completes.\n",
      "2024-08-28 16:29:59 -0600   98230 execution.flow     INFO     Node compute_f1_score completes.\n",
      "2024-08-28 16:29:59 -0600   98230 execution.flow     INFO     Node compute_f1_score completes.\n",
      "2024-08-28 16:29:59 -0600   98230 execution.flow     INFO     Node compute_f1_score completes.\n",
      "2024-08-28 16:29:59 -0600   98230 execution.flow     INFO     Node compute_f1_score completes.\n",
      "2024-08-28 16:29:59 -0600   98230 execution.flow     INFO     Node compute_f1_score completes.\n",
      "2024-08-28 16:29:59 -0600   98230 execution.flow     INFO     Node compute_f1_score completes.\n",
      "2024-08-28 16:29:59 -0600   98230 execution.flow     INFO     Node compute_f1_score completes.\n",
      "2024-08-28 16:29:59 -0600   98230 execution.flow     INFO     Node compute_f1_score completes.\n",
      "2024-08-28 16:29:59 -0600   98230 execution.flow     INFO     Node compute_f1_score completes.\n",
      "2024-08-28 16:29:59 -0600   98230 execution.flow     INFO     Node compute_f1_score completes.\n"
     ]
    },
    {
     "name": "stderr",
     "output_type": "stream",
     "text": [
      "[2024-08-28 16:29:59 -0600][flowinvoker][INFO] - Validating flow input with data {'answer': 'The Burj Khalifa is the tallest building in the world.', 'ground_truth': 'The tallest building in the world is the Burj Khalifa.'}\n",
      "[2024-08-28 16:29:59 -0600][flowinvoker][INFO] - Execute flow with data {'answer': 'The Burj Khalifa is the tallest building in the world.', 'ground_truth': 'The tallest building in the world is the Burj Khalifa.'}\n",
      "[2024-08-28 16:29:59 -0600][flowinvoker][INFO] - Validating flow input with data {'answer': 'Alexander Fleming discovered penicillin.', 'ground_truth': 'Alexander Fleming discovered penicillin.'}\n",
      "[2024-08-28 16:29:59 -0600][flowinvoker][INFO] - Execute flow with data {'answer': 'Alexander Fleming discovered penicillin.', 'ground_truth': 'Alexander Fleming discovered penicillin.'}\n",
      "[2024-08-28 16:29:59 -0600][flowinvoker][INFO] - Validating flow input with data {'answer': 'Russia is the largest country by area.', 'ground_truth': 'The largest country by area is Russia.'}\n",
      "[2024-08-28 16:29:59 -0600][flowinvoker][INFO] - Execute flow with data {'answer': 'Russia is the largest country by area.', 'ground_truth': 'The largest country by area is Russia.'}\n",
      "[2024-08-28 16:29:59 -0600][flowinvoker][INFO] - Validating flow input with data {'answer': 'The Nile is the longest river in the world.', 'ground_truth': 'The longest river in the world is the Nile.'}\n",
      "[2024-08-28 16:29:59 -0600][flowinvoker][INFO] - Execute flow with data {'answer': 'The Nile is the longest river in the world.', 'ground_truth': 'The longest river in the world is the Nile.'}\n",
      "[2024-08-28 16:29:59 -0600][flowinvoker][INFO] - Validating flow input with data {'answer': 'Alexander Graham Bell invented the telephone.', 'ground_truth': 'Alexander Graham Bell invented the telephone.'}\n",
      "[2024-08-28 16:29:59 -0600][flowinvoker][INFO] - Execute flow with data {'answer': 'Alexander Graham Bell invented the telephone.', 'ground_truth': 'Alexander Graham Bell invented the telephone.'}\n",
      "[2024-08-28 16:29:59 -0600][flowinvoker][INFO] - Validating flow input with data {'answer': 'Ottawa is the capital of Canada.', 'ground_truth': 'The capital of Canada is Ottawa.'}\n",
      "[2024-08-28 16:29:59 -0600][flowinvoker][INFO] - Execute flow with data {'answer': 'Ottawa is the capital of Canada.', 'ground_truth': 'The capital of Canada is Ottawa.'}\n"
     ]
    },
    {
     "name": "stdout",
     "output_type": "stream",
     "text": [
      "2024-08-28 16:29:59 -0600   98230 execution.flow     INFO     Start executing nodes in thread pool mode.\n",
      "2024-08-28 16:29:59 -0600   98230 execution.flow     INFO     Start to run 2 nodes with concurrency level 16.\n",
      "2024-08-28 16:29:59 -0600   98230 execution.flow     INFO     Current thread is not main thread, skip signal handler registration in AsyncNodesScheduler.\n",
      "2024-08-28 16:29:59 -0600   98230 execution.flow     INFO     Executing node validate_inputs. node run id: bd8dd047-b6ce-4607-9e2d-e1e285fdbcb1_validate_inputs_0ecbc5ee-c384-4d2e-9ddd-75524a9433ce\n",
      "2024-08-28 16:29:59 -0600   98230 execution.flow     INFO     Start executing nodes in thread pool mode.\n",
      "2024-08-28 16:29:59 -0600   98230 execution.flow     INFO     Start to run 2 nodes with concurrency level 16.\n",
      "2024-08-28 16:29:59 -0600   98230 execution.flow     INFO     Current thread is not main thread, skip signal handler registration in AsyncNodesScheduler.\n",
      "2024-08-28 16:29:59 -0600   98230 execution.flow     INFO     Executing node validate_inputs. node run id: f6a3e746-ff8f-4eec-b7e8-3d0bdb73abe2_validate_inputs_a6b93ac7-429b-482c-92df-4da09144c6ee\n",
      "2024-08-28 16:29:59 -0600   98230 execution.flow     INFO     Start executing nodes in thread pool mode.\n",
      "2024-08-28 16:29:59 -0600   98230 execution.flow     INFO     Start to run 2 nodes with concurrency level 16.\n",
      "2024-08-28 16:29:59 -0600   98230 execution.flow     INFO     Current thread is not main thread, skip signal handler registration in AsyncNodesScheduler.\n",
      "2024-08-28 16:29:59 -0600   98230 execution.flow     INFO     Executing node validate_inputs. node run id: 70759328-9ca2-4ca9-8cd5-decfbd423768_validate_inputs_8459449d-c4c1-4160-8393-2d2ede978fea\n"
     ]
    },
    {
     "name": "stderr",
     "output_type": "stream",
     "text": [
      "[2024-08-28 16:29:59 -0600][flowinvoker][INFO] - Validating flow input with data {'answer': 'The freezing point of water is 0 degrees Celsius.', 'ground_truth': 'The freezing point of water is 0 degrees Celsius.'}\n",
      "[2024-08-28 16:29:59 -0600][flowinvoker][INFO] - Execute flow with data {'answer': 'The freezing point of water is 0 degrees Celsius.', 'ground_truth': 'The freezing point of water is 0 degrees Celsius.'}\n"
     ]
    },
    {
     "name": "stdout",
     "output_type": "stream",
     "text": [
      "2024-08-28 16:29:59 -0600   98230 execution.flow     INFO     Start executing nodes in thread pool mode.\n",
      "2024-08-28 16:29:59 -0600   98230 execution.flow     INFO     Start to run 2 nodes with concurrency level 16.\n",
      "2024-08-28 16:29:59 -0600   98230 execution.flow     INFO     Current thread is not main thread, skip signal handler registration in AsyncNodesScheduler.\n",
      "2024-08-28 16:29:59 -0600   98230 execution.flow     INFO     Executing node validate_inputs. node run id: b3d4c3f8-bf4d-4e9b-ad05-820fe56d511c_validate_inputs_e20da303-ae04-4fcd-9319-fd7f75d88cc6\n"
     ]
    },
    {
     "name": "stderr",
     "output_type": "stream",
     "text": [
      "[2024-08-28 16:29:59 -0600][flowinvoker][INFO] - Validating flow input with data {'answer': 'Portuguese is the primary language spoken in Brazil.', 'ground_truth': 'The primary language spoken in Brazil is Portuguese.'}\n",
      "[2024-08-28 16:29:59 -0600][flowinvoker][INFO] - Execute flow with data {'answer': 'Portuguese is the primary language spoken in Brazil.', 'ground_truth': 'The primary language spoken in Brazil is Portuguese.'}\n"
     ]
    },
    {
     "name": "stdout",
     "output_type": "stream",
     "text": [
      "2024-08-28 16:29:59 -0600   98230 execution.flow     INFO     Start executing nodes in thread pool mode.\n",
      "2024-08-28 16:29:59 -0600   98230 execution.flow     INFO     Start to run 2 nodes with concurrency level 16.\n",
      "2024-08-28 16:29:59 -0600   98230 execution.flow     INFO     Current thread is not main thread, skip signal handler registration in AsyncNodesScheduler.\n",
      "2024-08-28 16:29:59 -0600   98230 execution.flow     INFO     Executing node validate_inputs. node run id: 08aaa7c8-34b0-4bf7-8be3-bfa6a55edb5e_validate_inputs_20fa76ce-50cc-4d97-82ea-6c17d3214954\n"
     ]
    },
    {
     "name": "stderr",
     "output_type": "stream",
     "text": [
      "[2024-08-28 16:29:59 -0600][flowinvoker][INFO] - Validating flow input with data {'answer': 'Albert Einstein is known as the father of modern physics.', 'ground_truth': 'Albert Einstein is known as the father of modern physics.'}\n",
      "[2024-08-28 16:29:59 -0600][flowinvoker][INFO] - Execute flow with data {'answer': 'Albert Einstein is known as the father of modern physics.', 'ground_truth': 'Albert Einstein is known as the father of modern physics.'}\n"
     ]
    },
    {
     "name": "stdout",
     "output_type": "stream",
     "text": [
      "2024-08-28 16:29:59 -0600   98230 execution.flow     INFO     Start executing nodes in thread pool mode.\n",
      "2024-08-28 16:29:59 -0600   98230 execution.flow     INFO     Start to run 2 nodes with concurrency level 16.\n",
      "2024-08-28 16:29:59 -0600   98230 execution.flow     INFO     Current thread is not main thread, skip signal handler registration in AsyncNodesScheduler.\n",
      "2024-08-28 16:29:59 -0600   98230 execution.flow     INFO     Executing node validate_inputs. node run id: 051eae0b-89a4-4dd4-a5a8-983d62d73dc5_validate_inputs_21288c53-d277-4bc4-ab52-2bbac043afa4\n",
      "2024-08-28 16:29:59 -0600   98230 execution.flow     INFO     Start executing nodes in thread pool mode.\n",
      "2024-08-28 16:29:59 -0600   98230 execution.flow     INFO     Start to run 2 nodes with concurrency level 16.\n",
      "2024-08-28 16:29:59 -0600   98230 execution.flow     INFO     Current thread is not main thread, skip signal handler registration in AsyncNodesScheduler.\n",
      "2024-08-28 16:29:59 -0600   98230 execution.flow     INFO     Executing node validate_inputs. node run id: 57f70bc3-ea2a-4e64-8ec8-78a36b911257_validate_inputs_2e63ed62-bb47-43d2-9d3b-ddb1634b0c2d\n",
      "2024-08-28 16:29:59 -0600   98230 execution.flow     INFO     Start executing nodes in thread pool mode.\n",
      "2024-08-28 16:29:59 -0600   98230 execution.flow     INFO     Start to run 2 nodes with concurrency level 16.\n",
      "2024-08-28 16:29:59 -0600   98230 execution.flow     INFO     Current thread is not main thread, skip signal handler registration in AsyncNodesScheduler.\n",
      "2024-08-28 16:29:59 -0600   98230 execution.flow     INFO     Executing node validate_inputs. node run id: 498ead2f-fa10-4cc5-aae2-f5ed4a062883_validate_inputs_deea1657-b79b-4c2c-b887-2d9925e24543\n",
      "2024-08-28 16:29:59 -0600   98230 execution.flow     INFO     Start executing nodes in thread pool mode.\n",
      "2024-08-28 16:29:59 -0600   98230 execution.flow     INFO     Start to run 2 nodes with concurrency level 16.\n",
      "2024-08-28 16:29:59 -0600   98230 execution.flow     INFO     Current thread is not main thread, skip signal handler registration in AsyncNodesScheduler.\n",
      "2024-08-28 16:29:59 -0600   98230 execution.flow     INFO     Executing node validate_inputs. node run id: d92ba841-03ac-4d4e-bcb4-36d3bd45b103_validate_inputs_081b60a4-b0a4-4259-8d78-87040ee1e1fe\n",
      "2024-08-28 16:29:59 -0600   98230 execution.flow     INFO     Node validate_inputs completes.\n",
      "2024-08-28 16:29:59 -0600   98230 execution.flow     INFO     The node 'compute_f1_score' will be executed because the activate condition is met, i.e. '${validate_inputs.output}' is equal to 'True'.\n",
      "2024-08-28 16:29:59 -0600   98230 execution.flow     INFO     Executing node compute_f1_score. node run id: bd8dd047-b6ce-4607-9e2d-e1e285fdbcb1_compute_f1_score_49d07c25-2246-4e5a-884c-b62e1eba5bc4\n",
      "2024-08-28 16:30:00 -0600   98230 execution.flow     INFO     Node validate_inputs completes.\n",
      "2024-08-28 16:30:00 -0600   98230 execution.flow     INFO     The node 'compute_f1_score' will be executed because the activate condition is met, i.e. '${validate_inputs.output}' is equal to 'True'.\n",
      "2024-08-28 16:30:00 -0600   98230 execution.flow     INFO     Executing node compute_f1_score. node run id: 70759328-9ca2-4ca9-8cd5-decfbd423768_compute_f1_score_3724c3cb-ce80-46e7-885a-2fcdabe30db5\n",
      "2024-08-28 16:30:00 -0600   98230 execution.flow     INFO     Node validate_inputs completes.\n",
      "2024-08-28 16:30:00 -0600   98230 execution.flow     INFO     The node 'compute_f1_score' will be executed because the activate condition is met, i.e. '${validate_inputs.output}' is equal to 'True'.\n",
      "2024-08-28 16:30:00 -0600   98230 execution.flow     INFO     Executing node compute_f1_score. node run id: 08aaa7c8-34b0-4bf7-8be3-bfa6a55edb5e_compute_f1_score_e1833ecf-2f7f-4c83-9997-57100aeb1940\n",
      "2024-08-28 16:30:00 -0600   98230 execution.flow     INFO     Node validate_inputs completes.\n",
      "2024-08-28 16:30:00 -0600   98230 execution.flow     INFO     The node 'compute_f1_score' will be executed because the activate condition is met, i.e. '${validate_inputs.output}' is equal to 'True'.\n",
      "2024-08-28 16:30:00 -0600   98230 execution.flow     INFO     Executing node compute_f1_score. node run id: b3d4c3f8-bf4d-4e9b-ad05-820fe56d511c_compute_f1_score_0320ca65-5422-4238-9096-96ea52f09346\n",
      "2024-08-28 16:30:00 -0600   98230 execution.flow     INFO     Node validate_inputs completes.\n",
      "2024-08-28 16:30:00 -0600   98230 execution.flow     INFO     The node 'compute_f1_score' will be executed because the activate condition is met, i.e. '${validate_inputs.output}' is equal to 'True'.\n",
      "2024-08-28 16:30:00 -0600   98230 execution.flow     INFO     Executing node compute_f1_score. node run id: f6a3e746-ff8f-4eec-b7e8-3d0bdb73abe2_compute_f1_score_7439fe50-421c-4213-9e92-c7aaf376390e\n",
      "2024-08-28 16:30:00 -0600   98230 execution.flow     INFO     Node validate_inputs completes.\n",
      "2024-08-28 16:30:00 -0600   98230 execution.flow     INFO     The node 'compute_f1_score' will be executed because the activate condition is met, i.e. '${validate_inputs.output}' is equal to 'True'.\n",
      "2024-08-28 16:30:00 -0600   98230 execution.flow     INFO     Executing node compute_f1_score. node run id: 498ead2f-fa10-4cc5-aae2-f5ed4a062883_compute_f1_score_9e18dd5a-0643-436c-9053-452446afc469\n",
      "2024-08-28 16:30:00 -0600   98230 execution.flow     INFO     Node validate_inputs completes.\n",
      "2024-08-28 16:30:00 -0600   98230 execution.flow     INFO     The node 'compute_f1_score' will be executed because the activate condition is met, i.e. '${validate_inputs.output}' is equal to 'True'.\n",
      "2024-08-28 16:30:00 -0600   98230 execution.flow     INFO     Executing node compute_f1_score. node run id: 051eae0b-89a4-4dd4-a5a8-983d62d73dc5_compute_f1_score_a02bd3ff-60b8-4524-8639-f63ed7408f6c\n",
      "2024-08-28 16:30:00 -0600   98230 execution.flow     INFO     Node validate_inputs completes.\n",
      "2024-08-28 16:30:00 -0600   98230 execution.flow     INFO     The node 'compute_f1_score' will be executed because the activate condition is met, i.e. '${validate_inputs.output}' is equal to 'True'.\n",
      "2024-08-28 16:30:00 -0600   98230 execution.flow     INFO     Executing node compute_f1_score. node run id: d92ba841-03ac-4d4e-bcb4-36d3bd45b103_compute_f1_score_e5710484-6f2b-45ed-a9b1-fc32848958ae\n",
      "2024-08-28 16:30:00 -0600   98230 execution.flow     INFO     Node validate_inputs completes.\n",
      "2024-08-28 16:30:00 -0600   98230 execution.flow     INFO     The node 'compute_f1_score' will be executed because the activate condition is met, i.e. '${validate_inputs.output}' is equal to 'True'.\n",
      "2024-08-28 16:30:00 -0600   98230 execution.flow     INFO     Executing node compute_f1_score. node run id: 57f70bc3-ea2a-4e64-8ec8-78a36b911257_compute_f1_score_dd206207-a093-466e-9e27-c28c7aa6b742\n",
      "2024-08-28 16:30:00 -0600   98230 execution.flow     INFO     Node compute_f1_score completes.\n",
      "2024-08-28 16:30:00 -0600   98230 execution.flow     INFO     Node compute_f1_score completes.\n",
      "2024-08-28 16:30:00 -0600   98230 execution.flow     INFO     Node compute_f1_score completes.\n",
      "2024-08-28 16:30:00 -0600   98230 execution.flow     INFO     Node compute_f1_score completes.\n",
      "2024-08-28 16:30:00 -0600   98230 execution.flow     INFO     Node compute_f1_score completes.\n",
      "2024-08-28 16:30:00 -0600   98230 execution.flow     INFO     Node compute_f1_score completes.\n",
      "2024-08-28 16:30:00 -0600   98230 execution.flow     INFO     Node compute_f1_score completes.\n",
      "2024-08-28 16:30:00 -0600   98230 execution.flow     INFO     Node compute_f1_score completes.\n",
      "2024-08-28 16:30:00 -0600   98230 execution.flow     INFO     Node compute_f1_score completes.\n"
     ]
    },
    {
     "name": "stderr",
     "output_type": "stream",
     "text": [
      "[2024-08-28 16:30:00 -0600][flowinvoker][INFO] - Validating flow input with data {'answer': 'Au is the chemical symbol for gold.', 'ground_truth': 'The chemical symbol for gold is Au.'}\n",
      "[2024-08-28 16:30:00 -0600][flowinvoker][INFO] - Execute flow with data {'answer': 'Au is the chemical symbol for gold.', 'ground_truth': 'The chemical symbol for gold is Au.'}\n",
      "[2024-08-28 16:30:00 -0600][flowinvoker][INFO] - Validating flow input with data {'answer': 'China is the most populous country in the world.', 'ground_truth': 'The most populous country in the world is China.'}\n",
      "[2024-08-28 16:30:00 -0600][flowinvoker][INFO] - Execute flow with data {'answer': 'China is the most populous country in the world.', 'ground_truth': 'The most populous country in the world is China.'}\n"
     ]
    },
    {
     "name": "stdout",
     "output_type": "stream",
     "text": [
      "2024-08-28 16:30:00 -0600   98230 execution.flow     INFO     Start executing nodes in thread pool mode.\n",
      "2024-08-28 16:30:00 -0600   98230 execution.flow     INFO     Start to run 2 nodes with concurrency level 16.\n",
      "2024-08-28 16:30:00 -0600   98230 execution.flow     INFO     Current thread is not main thread, skip signal handler registration in AsyncNodesScheduler.\n",
      "2024-08-28 16:30:00 -0600   98230 execution.flow     INFO     Executing node validate_inputs. node run id: eb722bf9-7881-4ecb-be00-6e3a60178abd_validate_inputs_b361db49-bbbd-4347-bb49-97ebbce3fc4e\n",
      "2024-08-28 16:30:00 -0600   98230 execution.flow     INFO     Start executing nodes in thread pool mode.\n",
      "2024-08-28 16:30:00 -0600   98230 execution.flow     INFO     Start to run 2 nodes with concurrency level 16.\n",
      "2024-08-28 16:30:00 -0600   98230 execution.flow     INFO     Current thread is not main thread, skip signal handler registration in AsyncNodesScheduler.\n",
      "2024-08-28 16:30:00 -0600   98230 execution.flow     INFO     Executing node validate_inputs. node run id: a3bdb403-eb04-4708-9a29-db5f8fb0555d_validate_inputs_9f4ff756-7f4c-4292-b7b3-1f099db670dd\n",
      "2024-08-28 16:30:00 -0600   98230 execution.flow     INFO     Node validate_inputs completes.\n",
      "2024-08-28 16:30:00 -0600   98230 execution.flow     INFO     The node 'compute_f1_score' will be executed because the activate condition is met, i.e. '${validate_inputs.output}' is equal to 'True'.\n",
      "2024-08-28 16:30:00 -0600   98230 execution.flow     INFO     Executing node compute_f1_score. node run id: eb722bf9-7881-4ecb-be00-6e3a60178abd_compute_f1_score_5ff73d44-8a01-47d0-8150-8b6c215c8886\n",
      "2024-08-28 16:30:00 -0600   98230 execution.flow     INFO     Node validate_inputs completes.\n",
      "2024-08-28 16:30:00 -0600   98230 execution.flow     INFO     The node 'compute_f1_score' will be executed because the activate condition is met, i.e. '${validate_inputs.output}' is equal to 'True'.\n",
      "2024-08-28 16:30:00 -0600   98230 execution.flow     INFO     Executing node compute_f1_score. node run id: a3bdb403-eb04-4708-9a29-db5f8fb0555d_compute_f1_score_f1e184df-c88d-465b-b2aa-3e09c9db81ff\n"
     ]
    },
    {
     "name": "stderr",
     "output_type": "stream",
     "text": [
      "[2024-08-28 16:30:00 -0600][flowinvoker][INFO] - Validating flow input with data {'answer': 'The blue whale is the largest mammal in the world.', 'ground_truth': 'The largest mammal in the world is the blue whale.'}\n",
      "[2024-08-28 16:30:00 -0600][flowinvoker][INFO] - Execute flow with data {'answer': 'The blue whale is the largest mammal in the world.', 'ground_truth': 'The largest mammal in the world is the blue whale.'}\n"
     ]
    },
    {
     "name": "stdout",
     "output_type": "stream",
     "text": [
      "2024-08-28 16:30:00 -0600   98230 execution.flow     INFO     Node compute_f1_score completes.\n",
      "2024-08-28 16:30:00 -0600   98230 execution.flow     INFO     Start executing nodes in thread pool mode.\n",
      "2024-08-28 16:30:00 -0600   98230 execution.flow     INFO     Start to run 2 nodes with concurrency level 16.\n",
      "2024-08-28 16:30:00 -0600   98230 execution.flow     INFO     Current thread is not main thread, skip signal handler registration in AsyncNodesScheduler.\n",
      "2024-08-28 16:30:00 -0600   98230 execution.flow     INFO     Executing node validate_inputs. node run id: 8f4ae863-8c78-4adb-8d19-ba4d2418e3f4_validate_inputs_34adb7a6-7982-4d1b-bc0c-9b7f0dec3cea\n",
      "2024-08-28 16:30:00 -0600   98230 execution.flow     INFO     Node compute_f1_score completes.\n"
     ]
    },
    {
     "name": "stderr",
     "output_type": "stream",
     "text": [
      "[2024-08-28 16:30:00 -0600][flowinvoker][INFO] - Validating flow input with data {'answer': 'The atom is the smallest unit of matter.', 'ground_truth': 'The smallest unit of matter is the atom.'}\n",
      "[2024-08-28 16:30:00 -0600][flowinvoker][INFO] - Execute flow with data {'answer': 'The atom is the smallest unit of matter.', 'ground_truth': 'The smallest unit of matter is the atom.'}\n"
     ]
    },
    {
     "name": "stdout",
     "output_type": "stream",
     "text": [
      "2024-08-28 16:30:00 -0600   98230 execution.flow     INFO     Start executing nodes in thread pool mode.\n",
      "2024-08-28 16:30:00 -0600   98230 execution.flow     INFO     Start to run 2 nodes with concurrency level 16.\n",
      "2024-08-28 16:30:00 -0600   98230 execution.flow     INFO     Current thread is not main thread, skip signal handler registration in AsyncNodesScheduler.\n",
      "2024-08-28 16:30:00 -0600   98230 execution.flow     INFO     Executing node validate_inputs. node run id: 570a92c0-4906-45e8-9693-45e8f0ad9737_validate_inputs_2fc438b7-4bf3-4c6d-8ee4-8da5cfc04fce\n",
      "2024-08-28 16:30:00 -0600   98230 execution.flow     INFO     Node validate_inputs completes.\n",
      "2024-08-28 16:30:00 -0600   98230 execution.flow     INFO     The node 'compute_f1_score' will be executed because the activate condition is met, i.e. '${validate_inputs.output}' is equal to 'True'.\n",
      "2024-08-28 16:30:00 -0600   98230 execution.flow     INFO     Executing node compute_f1_score. node run id: 8f4ae863-8c78-4adb-8d19-ba4d2418e3f4_compute_f1_score_0c4ebfdf-1085-4d9e-a8b7-ee41979040e5\n"
     ]
    },
    {
     "name": "stderr",
     "output_type": "stream",
     "text": [
      "[2024-08-28 16:30:00 -0600][flowinvoker][INFO] - Validating flow input with data {'answer': 'The boiling point of water is 100 degrees Celsius.', 'ground_truth': 'The boiling point of water is 100 degrees Celsius.'}\n",
      "[2024-08-28 16:30:00 -0600][flowinvoker][INFO] - Execute flow with data {'answer': 'The boiling point of water is 100 degrees Celsius.', 'ground_truth': 'The boiling point of water is 100 degrees Celsius.'}\n"
     ]
    },
    {
     "name": "stdout",
     "output_type": "stream",
     "text": [
      "2024-08-28 16:30:00 -0600   98230 execution.flow     INFO     Node compute_f1_score completes.\n",
      "2024-08-28 16:30:00 -0600   98230 execution.flow     INFO     Node validate_inputs completes.\n",
      "2024-08-28 16:30:00 -0600   98230 execution.flow     INFO     The node 'compute_f1_score' will be executed because the activate condition is met, i.e. '${validate_inputs.output}' is equal to 'True'.\n",
      "2024-08-28 16:30:00 -0600   98230 execution.flow     INFO     Executing node compute_f1_score. node run id: 570a92c0-4906-45e8-9693-45e8f0ad9737_compute_f1_score_74e120f4-c984-4853-8e22-f745d5f9f4d2\n"
     ]
    },
    {
     "name": "stderr",
     "output_type": "stream",
     "text": [
      "[2024-08-28 16:30:00 -0600][flowinvoker][INFO] - Validating flow input with data {'answer': \"Jane Austen wrote 'Pride and Prejudice'.\", 'ground_truth': \"Jane Austen wrote 'Pride and Prejudice'.\"}\n",
      "[2024-08-28 16:30:00 -0600][flowinvoker][INFO] - Execute flow with data {'answer': \"Jane Austen wrote 'Pride and Prejudice'.\", 'ground_truth': \"Jane Austen wrote 'Pride and Prejudice'.\"}\n"
     ]
    },
    {
     "name": "stdout",
     "output_type": "stream",
     "text": [
      "2024-08-28 16:30:00 -0600   98230 execution.flow     INFO     Start executing nodes in thread pool mode.\n",
      "2024-08-28 16:30:00 -0600   98230 execution.flow     INFO     Start to run 2 nodes with concurrency level 16.\n",
      "2024-08-28 16:30:00 -0600   98230 execution.flow     INFO     Current thread is not main thread, skip signal handler registration in AsyncNodesScheduler.\n",
      "2024-08-28 16:30:00 -0600   98230 execution.flow     INFO     Executing node validate_inputs. node run id: 2e9135e7-84ea-433b-b4bb-3a3e8f626a94_validate_inputs_a94cc255-9b16-4f1e-87ce-0156c644483b\n",
      "2024-08-28 16:30:00 -0600   98230 execution.flow     INFO     Start executing nodes in thread pool mode.\n",
      "2024-08-28 16:30:00 -0600   98230 execution.flow     INFO     Start to run 2 nodes with concurrency level 16.\n",
      "2024-08-28 16:30:00 -0600   98230 execution.flow     INFO     Current thread is not main thread, skip signal handler registration in AsyncNodesScheduler.\n",
      "2024-08-28 16:30:00 -0600   98230 execution.flow     INFO     Executing node validate_inputs. node run id: 6bcfb0fd-977a-45b1-a8f4-cbf6b1ceb9f0_validate_inputs_4ea3918d-f77b-4b5a-8702-3af226f9e266\n",
      "2024-08-28 16:30:00 -0600   98230 execution.flow     INFO     Node compute_f1_score completes.\n",
      "2024-08-28 16:30:00 -0600   98230 execution.flow     INFO     Node validate_inputs completes.\n",
      "2024-08-28 16:30:00 -0600   98230 execution.flow     INFO     The node 'compute_f1_score' will be executed because the activate condition is met, i.e. '${validate_inputs.output}' is equal to 'True'.\n",
      "2024-08-28 16:30:00 -0600   98230 execution.flow     INFO     Executing node compute_f1_score. node run id: 6bcfb0fd-977a-45b1-a8f4-cbf6b1ceb9f0_compute_f1_score_95f33ed1-a528-4bc4-8a06-1694400354cc\n",
      "2024-08-28 16:30:00 -0600   98230 execution.flow     INFO     Node validate_inputs completes.\n",
      "2024-08-28 16:30:00 -0600   98230 execution.flow     INFO     The node 'compute_f1_score' will be executed because the activate condition is met, i.e. '${validate_inputs.output}' is equal to 'True'.\n",
      "2024-08-28 16:30:00 -0600   98230 execution.flow     INFO     Executing node compute_f1_score. node run id: 2e9135e7-84ea-433b-b4bb-3a3e8f626a94_compute_f1_score_dea824f7-dd65-4f7e-8fae-3e47aa565e6f\n",
      "2024-08-28 16:30:00 -0600   98230 execution.flow     INFO     Node compute_f1_score completes.\n",
      "2024-08-28 16:30:00 -0600   98230 execution.flow     INFO     Node compute_f1_score completes.\n"
     ]
    },
    {
     "name": "stderr",
     "output_type": "stream",
     "text": [
      "[2024-08-28 16:30:01 -0600][flowinvoker][INFO] - Validating flow input with data {'answer': \"Nitrogen is the most abundant gas in the Earth's atmosphere.\", 'ground_truth': \"The most abundant gas in the Earth's atmosphere is nitrogen.\"}\n",
      "[2024-08-28 16:30:01 -0600][flowinvoker][INFO] - Execute flow with data {'answer': \"Nitrogen is the most abundant gas in the Earth's atmosphere.\", 'ground_truth': \"The most abundant gas in the Earth's atmosphere is nitrogen.\"}\n"
     ]
    },
    {
     "name": "stdout",
     "output_type": "stream",
     "text": [
      "2024-08-28 16:30:01 -0600   98230 execution.flow     INFO     Start executing nodes in thread pool mode.\n"
     ]
    },
    {
     "name": "stderr",
     "output_type": "stream",
     "text": [
      "[2024-08-28 16:30:01 -0600][flowinvoker][INFO] - Validating flow input with data {'answer': 'Rome is the capital of Italy.', 'ground_truth': 'The capital of Italy is Rome.'}\n"
     ]
    },
    {
     "name": "stdout",
     "output_type": "stream",
     "text": [
      "2024-08-28 16:30:01 -0600   98230 execution.flow     INFO     Start to run 2 nodes with concurrency level 16.\n"
     ]
    },
    {
     "name": "stderr",
     "output_type": "stream",
     "text": [
      "[2024-08-28 16:30:01 -0600][flowinvoker][INFO] - Validating flow input with data {'answer': 'O is the chemical symbol for oxygen.', 'ground_truth': 'The chemical symbol for oxygen is O.'}\n"
     ]
    },
    {
     "name": "stdout",
     "output_type": "stream",
     "text": [
      "2024-08-28 16:30:01 -0600   98230 execution.flow     INFO     Current thread is not main thread, skip signal handler registration in AsyncNodesScheduler.\n"
     ]
    },
    {
     "name": "stderr",
     "output_type": "stream",
     "text": [
      "[2024-08-28 16:30:01 -0600][flowinvoker][INFO] - Execute flow with data {'answer': 'Rome is the capital of Italy.', 'ground_truth': 'The capital of Italy is Rome.'}\n",
      "[2024-08-28 16:30:01 -0600][flowinvoker][INFO] - Execute flow with data {'answer': 'O is the chemical symbol for oxygen.', 'ground_truth': 'The chemical symbol for oxygen is O.'}\n",
      "[2024-08-28 16:30:01 -0600][flowinvoker][INFO] - Validating flow input with data {'answer': 'The Pacific Ocean is the deepest ocean in the world.', 'ground_truth': 'The deepest ocean in the world is the Pacific Ocean.'}\n",
      "[2024-08-28 16:30:01 -0600][flowinvoker][INFO] - Validating flow input with data {'answer': \"Harper Lee wrote 'To Kill a Mockingbird'.\", 'ground_truth': \"Harper Lee wrote 'To Kill a Mockingbird'.\"}\n",
      "[2024-08-28 16:30:01 -0600][flowinvoker][INFO] - Execute flow with data {'answer': 'The Pacific Ocean is the deepest ocean in the world.', 'ground_truth': 'The deepest ocean in the world is the Pacific Ocean.'}\n"
     ]
    },
    {
     "name": "stdout",
     "output_type": "stream",
     "text": [
      "2024-08-28 16:30:01 -0600   98230 execution.flow     INFO     Executing node validate_inputs. node run id: bb740a81-13b0-4a4f-ad4a-6c5451b15155_validate_inputs_3dec06e5-7ef2-4bc4-804c-c9bd79929b9f\n"
     ]
    },
    {
     "name": "stderr",
     "output_type": "stream",
     "text": [
      "[2024-08-28 16:30:01 -0600][flowinvoker][INFO] - Execute flow with data {'answer': \"Harper Lee wrote 'To Kill a Mockingbird'.\", 'ground_truth': \"Harper Lee wrote 'To Kill a Mockingbird'.\"}\n",
      "[2024-08-28 16:30:01 -0600][flowinvoker][INFO] - Validating flow input with data {'answer': 'The square root of 64 is 8.', 'ground_truth': 'The square root of 64 is 8.'}\n",
      "[2024-08-28 16:30:01 -0600][flowinvoker][INFO] - Execute flow with data {'answer': 'The square root of 64 is 8.', 'ground_truth': 'The square root of 64 is 8.'}\n",
      "[2024-08-28 16:30:01 -0600][flowinvoker][INFO] - Validating flow input with data {'answer': 'Asia is the largest continent on Earth.', 'ground_truth': 'The largest continent on Earth is Asia.'}\n",
      "[2024-08-28 16:30:01 -0600][flowinvoker][INFO] - Execute flow with data {'answer': 'Asia is the largest continent on Earth.', 'ground_truth': 'The largest continent on Earth is Asia.'}\n"
     ]
    },
    {
     "name": "stdout",
     "output_type": "stream",
     "text": [
      "2024-08-28 16:30:01 -0600   98230 execution.flow     INFO     Start executing nodes in thread pool mode.\n",
      "2024-08-28 16:30:01 -0600   98230 execution.flow     INFO     Start executing nodes in thread pool mode.\n",
      "2024-08-28 16:30:01 -0600   98230 execution.flow     INFO     Start to run 2 nodes with concurrency level 16.\n",
      "2024-08-28 16:30:01 -0600   98230 execution.flow     INFO     Start to run 2 nodes with concurrency level 16.\n",
      "2024-08-28 16:30:01 -0600   98230 execution.flow     INFO     Current thread is not main thread, skip signal handler registration in AsyncNodesScheduler.\n",
      "2024-08-28 16:30:01 -0600   98230 execution.flow     INFO     Current thread is not main thread, skip signal handler registration in AsyncNodesScheduler.\n",
      "2024-08-28 16:30:01 -0600   98230 execution.flow     INFO     Executing node validate_inputs. node run id: 20cf085d-c38e-4e67-946a-8c19e2f3c0be_validate_inputs_5766019c-2234-44da-9ec8-4db96558e8ca\n",
      "2024-08-28 16:30:01 -0600   98230 execution.flow     INFO     Executing node validate_inputs. node run id: 42161a18-bc43-4891-b0b5-7e3fd490abe7_validate_inputs_a71b0c75-aab4-433f-b304-1f76e6227f2c\n",
      "2024-08-28 16:30:01 -0600   98230 execution.flow     INFO     Start executing nodes in thread pool mode.\n",
      "2024-08-28 16:30:01 -0600   98230 execution.flow     INFO     Start to run 2 nodes with concurrency level 16.\n",
      "2024-08-28 16:30:01 -0600   98230 execution.flow     INFO     Current thread is not main thread, skip signal handler registration in AsyncNodesScheduler.\n",
      "2024-08-28 16:30:01 -0600   98230 execution.flow     INFO     Executing node validate_inputs. node run id: c3d3562a-781f-49ab-9232-8b4f26347bf8_validate_inputs_f04a10a5-c8c9-47b0-b3d8-e46a083021fd\n",
      "2024-08-28 16:30:01 -0600   98230 execution.flow     INFO     Start executing nodes in thread pool mode.\n",
      "2024-08-28 16:30:01 -0600   98230 execution.flow     INFO     Start to run 2 nodes with concurrency level 16.\n",
      "2024-08-28 16:30:01 -0600   98230 execution.flow     INFO     Current thread is not main thread, skip signal handler registration in AsyncNodesScheduler.\n",
      "2024-08-28 16:30:01 -0600   98230 execution.flow     INFO     Executing node validate_inputs. node run id: fa8f5cf0-5f14-428e-bad5-e9b91d6adfbc_validate_inputs_023696c3-76e0-407f-bef1-fb76c5c94857\n",
      "2024-08-28 16:30:01 -0600   98230 execution.flow     INFO     Start executing nodes in thread pool mode.\n",
      "2024-08-28 16:30:01 -0600   98230 execution.flow     INFO     Start to run 2 nodes with concurrency level 16.\n",
      "2024-08-28 16:30:01 -0600   98230 execution.flow     INFO     Current thread is not main thread, skip signal handler registration in AsyncNodesScheduler.\n",
      "2024-08-28 16:30:01 -0600   98230 execution.flow     INFO     Executing node validate_inputs. node run id: 15932866-d29b-4980-81b1-b03f37e3e1ed_validate_inputs_c872e5f8-9b71-4f30-9103-9a02b9547325\n",
      "2024-08-28 16:30:01 -0600   98230 execution.flow     INFO     Start executing nodes in thread pool mode.\n",
      "2024-08-28 16:30:01 -0600   98230 execution.flow     INFO     Start to run 2 nodes with concurrency level 16.\n",
      "2024-08-28 16:30:01 -0600   98230 execution.flow     INFO     Current thread is not main thread, skip signal handler registration in AsyncNodesScheduler.\n",
      "2024-08-28 16:30:01 -0600   98230 execution.flow     INFO     Executing node validate_inputs. node run id: 050ede93-2fae-41e8-9a89-5316d86e24a2_validate_inputs_e68f0eca-a684-46c7-8b87-824d37b9321a\n",
      "2024-08-28 16:30:01 -0600   98230 execution.flow     INFO     Node validate_inputs completes.\n",
      "2024-08-28 16:30:01 -0600   98230 execution.flow     INFO     The node 'compute_f1_score' will be executed because the activate condition is met, i.e. '${validate_inputs.output}' is equal to 'True'.\n",
      "2024-08-28 16:30:01 -0600   98230 execution.flow     INFO     Executing node compute_f1_score. node run id: bb740a81-13b0-4a4f-ad4a-6c5451b15155_compute_f1_score_ddd49057-5dfb-4ba9-bb27-d783408dcdeb\n",
      "2024-08-28 16:30:01 -0600   98230 execution.flow     INFO     Node validate_inputs completes.\n",
      "2024-08-28 16:30:01 -0600   98230 execution.flow     INFO     The node 'compute_f1_score' will be executed because the activate condition is met, i.e. '${validate_inputs.output}' is equal to 'True'.\n",
      "2024-08-28 16:30:01 -0600   98230 execution.flow     INFO     Executing node compute_f1_score. node run id: c3d3562a-781f-49ab-9232-8b4f26347bf8_compute_f1_score_a3825930-4f69-40ac-b815-ec864cd997e2\n",
      "2024-08-28 16:30:01 -0600   98230 execution.flow     INFO     Node validate_inputs completes.\n",
      "2024-08-28 16:30:01 -0600   98230 execution.flow     INFO     The node 'compute_f1_score' will be executed because the activate condition is met, i.e. '${validate_inputs.output}' is equal to 'True'.\n",
      "2024-08-28 16:30:01 -0600   98230 execution.flow     INFO     Executing node compute_f1_score. node run id: 42161a18-bc43-4891-b0b5-7e3fd490abe7_compute_f1_score_9bfed4ac-50e5-47e1-bffa-fa179fda312d\n",
      "2024-08-28 16:30:01 -0600   98230 execution.flow     INFO     Node validate_inputs completes.\n",
      "2024-08-28 16:30:01 -0600   98230 execution.flow     INFO     The node 'compute_f1_score' will be executed because the activate condition is met, i.e. '${validate_inputs.output}' is equal to 'True'.\n",
      "2024-08-28 16:30:01 -0600   98230 execution.flow     INFO     Executing node compute_f1_score. node run id: 20cf085d-c38e-4e67-946a-8c19e2f3c0be_compute_f1_score_43bc862e-2c56-40d9-94e4-5d6567ff69af\n",
      "2024-08-28 16:30:01 -0600   98230 execution.flow     INFO     Node validate_inputs completes.\n",
      "2024-08-28 16:30:01 -0600   98230 execution.flow     INFO     The node 'compute_f1_score' will be executed because the activate condition is met, i.e. '${validate_inputs.output}' is equal to 'True'.\n",
      "2024-08-28 16:30:01 -0600   98230 execution.flow     INFO     Executing node compute_f1_score. node run id: 050ede93-2fae-41e8-9a89-5316d86e24a2_compute_f1_score_c933b316-580f-4b74-98d7-6897e6cfc5ac\n",
      "2024-08-28 16:30:01 -0600   98230 execution.flow     INFO     Node validate_inputs completes.\n",
      "2024-08-28 16:30:01 -0600   98230 execution.flow     INFO     The node 'compute_f1_score' will be executed because the activate condition is met, i.e. '${validate_inputs.output}' is equal to 'True'.\n",
      "2024-08-28 16:30:01 -0600   98230 execution.flow     INFO     Executing node compute_f1_score. node run id: 15932866-d29b-4980-81b1-b03f37e3e1ed_compute_f1_score_2de8cf0a-7653-4865-894e-273112652a37\n",
      "2024-08-28 16:30:01 -0600   98230 execution.flow     INFO     Node validate_inputs completes.\n",
      "2024-08-28 16:30:01 -0600   98230 execution.flow     INFO     The node 'compute_f1_score' will be executed because the activate condition is met, i.e. '${validate_inputs.output}' is equal to 'True'.\n",
      "2024-08-28 16:30:01 -0600   98230 execution.flow     INFO     Executing node compute_f1_score. node run id: fa8f5cf0-5f14-428e-bad5-e9b91d6adfbc_compute_f1_score_b30e4880-0283-4b66-b37c-5e6c92a6d7d9\n"
     ]
    },
    {
     "name": "stderr",
     "output_type": "stream",
     "text": [
      "[2024-08-28 16:30:01 -0600][flowinvoker][INFO] - Validating flow input with data {'answer': 'George Washington was the first President of the United States.', 'ground_truth': 'George Washington was the first President of the United States.'}\n",
      "[2024-08-28 16:30:01 -0600][flowinvoker][INFO] - Execute flow with data {'answer': 'George Washington was the first President of the United States.', 'ground_truth': 'George Washington was the first President of the United States.'}\n"
     ]
    },
    {
     "name": "stdout",
     "output_type": "stream",
     "text": [
      "2024-08-28 16:30:01 -0600   98230 execution.flow     INFO     Node compute_f1_score completes.\n",
      "2024-08-28 16:30:01 -0600   98230 execution.flow     INFO     Node compute_f1_score completes.\n",
      "2024-08-28 16:30:01 -0600   98230 execution.flow     INFO     Start executing nodes in thread pool mode.\n",
      "2024-08-28 16:30:01 -0600   98230 execution.flow     INFO     Start to run 2 nodes with concurrency level 16.\n",
      "2024-08-28 16:30:01 -0600   98230 execution.flow     INFO     Current thread is not main thread, skip signal handler registration in AsyncNodesScheduler.\n",
      "2024-08-28 16:30:01 -0600   98230 execution.flow     INFO     Executing node validate_inputs. node run id: 8de8b0d1-a8ac-48cb-bfbf-49f379b39b5e_validate_inputs_d34c6aab-c585-4561-a2e2-02261835a82e\n",
      "2024-08-28 16:30:01 -0600   98230 execution.flow     INFO     Node compute_f1_score completes.\n",
      "2024-08-28 16:30:01 -0600   98230 execution.flow     INFO     Node compute_f1_score completes.\n",
      "2024-08-28 16:30:01 -0600   98230 execution.flow     INFO     Node compute_f1_score completes.\n",
      "2024-08-28 16:30:01 -0600   98230 execution.flow     INFO     Node compute_f1_score completes.\n",
      "2024-08-28 16:30:01 -0600   98230 execution.flow     INFO     Node compute_f1_score completes.\n",
      "2024-08-28 16:30:01 -0600   98230 execution.flow     INFO     Node validate_inputs completes.\n",
      "2024-08-28 16:30:01 -0600   98230 execution.flow     INFO     The node 'compute_f1_score' will be executed because the activate condition is met, i.e. '${validate_inputs.output}' is equal to 'True'.\n",
      "2024-08-28 16:30:01 -0600   98230 execution.flow     INFO     Executing node compute_f1_score. node run id: 8de8b0d1-a8ac-48cb-bfbf-49f379b39b5e_compute_f1_score_671f1f06-7758-4f17-a8ea-29185430a3c2\n",
      "2024-08-28 16:30:01 -0600   98230 execution.flow     INFO     Node compute_f1_score completes.\n"
     ]
    },
    {
     "name": "stderr",
     "output_type": "stream",
     "text": [
      "[2024-08-28 16:30:01 -0600][flowinvoker][INFO] - Validating flow input with data {'answer': \"Oxygen is the most abundant element in the Earth's crust.\", 'ground_truth': \"The most abundant element in the Earth's crust is oxygen.\"}\n",
      "[2024-08-28 16:30:01 -0600][flowinvoker][INFO] - Execute flow with data {'answer': \"Oxygen is the most abundant element in the Earth's crust.\", 'ground_truth': \"The most abundant element in the Earth's crust is oxygen.\"}\n"
     ]
    },
    {
     "name": "stdout",
     "output_type": "stream",
     "text": [
      "2024-08-28 16:30:01 -0600   98230 execution.flow     INFO     Start executing nodes in thread pool mode.\n",
      "2024-08-28 16:30:01 -0600   98230 execution.flow     INFO     Start to run 2 nodes with concurrency level 16.\n",
      "2024-08-28 16:30:01 -0600   98230 execution.flow     INFO     Current thread is not main thread, skip signal handler registration in AsyncNodesScheduler.\n",
      "2024-08-28 16:30:01 -0600   98230 execution.flow     INFO     Executing node validate_inputs. node run id: 3cf39d62-eab8-4f3d-848a-591377c8ac20_validate_inputs_0a240900-8d4d-4e08-bdf2-ef8c98f2ffe3\n"
     ]
    },
    {
     "name": "stderr",
     "output_type": "stream",
     "text": [
      "[2024-08-28 16:30:01 -0600][flowinvoker][INFO] - Validating flow input with data {'answer': 'Canberra is the capital of Australia.', 'ground_truth': 'The capital of Australia is Canberra.'}\n",
      "[2024-08-28 16:30:01 -0600][flowinvoker][INFO] - Execute flow with data {'answer': 'Canberra is the capital of Australia.', 'ground_truth': 'The capital of Australia is Canberra.'}\n"
     ]
    },
    {
     "name": "stdout",
     "output_type": "stream",
     "text": [
      "2024-08-28 16:30:01 -0600   98230 execution.flow     INFO     Start executing nodes in thread pool mode.\n",
      "2024-08-28 16:30:01 -0600   98230 execution.flow     INFO     Start to run 2 nodes with concurrency level 16.\n",
      "2024-08-28 16:30:01 -0600   98230 execution.flow     INFO     Current thread is not main thread, skip signal handler registration in AsyncNodesScheduler.\n",
      "2024-08-28 16:30:01 -0600   98230 execution.flow     INFO     Executing node validate_inputs. node run id: 5938031b-993e-40e3-896a-c63351d6f2d4_validate_inputs_87cffbad-b598-4391-aaaf-bf89010b2fc4\n",
      "2024-08-28 16:30:01 -0600   98230 execution.flow     INFO     Node validate_inputs completes.\n",
      "2024-08-28 16:30:01 -0600   98230 execution.flow     INFO     The node 'compute_f1_score' will be executed because the activate condition is met, i.e. '${validate_inputs.output}' is equal to 'True'.\n",
      "2024-08-28 16:30:01 -0600   98230 execution.flow     INFO     Executing node compute_f1_score. node run id: 3cf39d62-eab8-4f3d-848a-591377c8ac20_compute_f1_score_7a9bbc68-6b12-4523-b0ee-6bd195a784ce\n",
      "2024-08-28 16:30:01 -0600   98230 execution.flow     INFO     Node validate_inputs completes.\n",
      "2024-08-28 16:30:01 -0600   98230 execution.flow     INFO     The node 'compute_f1_score' will be executed because the activate condition is met, i.e. '${validate_inputs.output}' is equal to 'True'.\n",
      "2024-08-28 16:30:01 -0600   98230 execution.flow     INFO     Executing node compute_f1_score. node run id: 5938031b-993e-40e3-896a-c63351d6f2d4_compute_f1_score_f13faa50-1330-4101-89f1-662da76a6917\n",
      "2024-08-28 16:30:01 -0600   98230 execution.flow     INFO     Node compute_f1_score completes.\n",
      "2024-08-28 16:30:01 -0600   98230 execution.flow     INFO     Node compute_f1_score completes.\n"
     ]
    },
    {
     "name": "stderr",
     "output_type": "stream",
     "text": [
      "[2024-08-28 16:30:01 -0600][flowinvoker][INFO] - Validating flow input with data {'answer': 'Greenland is the largest island in the world.', 'ground_truth': 'The largest island in the world is Greenland.'}\n",
      "[2024-08-28 16:30:01 -0600][flowinvoker][INFO] - Execute flow with data {'answer': 'Greenland is the largest island in the world.', 'ground_truth': 'The largest island in the world is Greenland.'}\n",
      "[2024-08-28 16:30:01 -0600][flowinvoker][INFO] - Validating flow input with data {'answer': 'Michelangelo painted the Sistine Chapel ceiling.', 'ground_truth': 'Michelangelo painted the Sistine Chapel ceiling.'}\n",
      "[2024-08-28 16:30:01 -0600][flowinvoker][INFO] - Execute flow with data {'answer': 'Michelangelo painted the Sistine Chapel ceiling.', 'ground_truth': 'Michelangelo painted the Sistine Chapel ceiling.'}\n"
     ]
    },
    {
     "name": "stdout",
     "output_type": "stream",
     "text": [
      "2024-08-28 16:30:01 -0600   98230 execution.flow     INFO     Start executing nodes in thread pool mode.\n",
      "2024-08-28 16:30:01 -0600   98230 execution.flow     INFO     Start to run 2 nodes with concurrency level 16.\n",
      "2024-08-28 16:30:01 -0600   98230 execution.flow     INFO     Current thread is not main thread, skip signal handler registration in AsyncNodesScheduler.\n",
      "2024-08-28 16:30:01 -0600   98230 execution.flow     INFO     Executing node validate_inputs. node run id: 108b8b8b-ba80-4b77-aa6d-bfd6dab600ba_validate_inputs_e2fb4561-baa7-4cec-952c-3de8378ae67e\n",
      "2024-08-28 16:30:01 -0600   98230 execution.flow     INFO     Start executing nodes in thread pool mode.\n",
      "2024-08-28 16:30:01 -0600   98230 execution.flow     INFO     Start to run 2 nodes with concurrency level 16.\n",
      "2024-08-28 16:30:01 -0600   98230 execution.flow     INFO     Current thread is not main thread, skip signal handler registration in AsyncNodesScheduler.\n"
     ]
    },
    {
     "name": "stderr",
     "output_type": "stream",
     "text": [
      "[2024-08-28 16:30:01 -0600][flowinvoker][INFO] - Validating flow input with data {'answer': 'Avocado is the main ingredient in guacamole.', 'ground_truth': 'The main ingredient in guacamole is avocado.'}\n"
     ]
    },
    {
     "name": "stdout",
     "output_type": "stream",
     "text": [
      "2024-08-28 16:30:01 -0600   98230 execution.flow     INFO     Executing node validate_inputs. node run id: b83e12c8-c598-497f-97a2-6e4cdd0250b7_validate_inputs_d710ac2a-42a1-49c6-aa80-4774d190827a\n"
     ]
    },
    {
     "name": "stderr",
     "output_type": "stream",
     "text": [
      "[2024-08-28 16:30:01 -0600][flowinvoker][INFO] - Execute flow with data {'answer': 'Avocado is the main ingredient in guacamole.', 'ground_truth': 'The main ingredient in guacamole is avocado.'}\n",
      "[2024-08-28 16:30:01 -0600][flowinvoker][INFO] - Validating flow input with data {'answer': 'Moscow is the capital of Russia.', 'ground_truth': 'The capital of Russia is Moscow.'}\n",
      "[2024-08-28 16:30:01 -0600][flowinvoker][INFO] - Execute flow with data {'answer': 'Moscow is the capital of Russia.', 'ground_truth': 'The capital of Russia is Moscow.'}\n",
      "[2024-08-28 16:30:01 -0600][flowinvoker][INFO] - Validating flow input with data {'answer': 'The femur is the largest bone in the human body.', 'ground_truth': 'The largest bone in the human body is the femur.'}\n",
      "[2024-08-28 16:30:01 -0600][flowinvoker][INFO] - Execute flow with data {'answer': 'The femur is the largest bone in the human body.', 'ground_truth': 'The largest bone in the human body is the femur.'}\n",
      "[2024-08-28 16:30:01 -0600][flowinvoker][INFO] - Validating flow input with data {'answer': 'Thomas Edison invented the light bulb.', 'ground_truth': 'Thomas Edison invented the light bulb.'}\n",
      "[2024-08-28 16:30:01 -0600][flowinvoker][INFO] - Execute flow with data {'answer': 'Thomas Edison invented the light bulb.', 'ground_truth': 'Thomas Edison invented the light bulb.'}\n"
     ]
    },
    {
     "name": "stdout",
     "output_type": "stream",
     "text": [
      "2024-08-28 16:30:01 -0600   98230 execution.flow     INFO     Start executing nodes in thread pool mode.\n",
      "2024-08-28 16:30:01 -0600   98230 execution.flow     INFO     Start to run 2 nodes with concurrency level 16.\n",
      "2024-08-28 16:30:01 -0600   98230 execution.flow     INFO     Current thread is not main thread, skip signal handler registration in AsyncNodesScheduler.\n",
      "2024-08-28 16:30:01 -0600   98230 execution.flow     INFO     Executing node validate_inputs. node run id: c2fe65b5-220d-4a57-b8cf-1bae4e98eef5_validate_inputs_2385f7b8-311d-4681-9e55-bdc092ff22bf\n",
      "2024-08-28 16:30:01 -0600   98230 execution.flow     INFO     Start executing nodes in thread pool mode.\n",
      "2024-08-28 16:30:01 -0600   98230 execution.flow     INFO     Start to run 2 nodes with concurrency level 16.\n",
      "2024-08-28 16:30:01 -0600   98230 execution.flow     INFO     Current thread is not main thread, skip signal handler registration in AsyncNodesScheduler.\n",
      "2024-08-28 16:30:01 -0600   98230 execution.flow     INFO     Executing node validate_inputs. node run id: 45a39421-99cf-4913-a1e8-8234f0dbd5db_validate_inputs_5c9e6f88-1870-46af-9f8d-c3875e9706af\n",
      "2024-08-28 16:30:01 -0600   98230 execution.flow     INFO     Start executing nodes in thread pool mode.\n",
      "2024-08-28 16:30:01 -0600   98230 execution.flow     INFO     Start to run 2 nodes with concurrency level 16.\n",
      "2024-08-28 16:30:01 -0600   98230 execution.flow     INFO     Current thread is not main thread, skip signal handler registration in AsyncNodesScheduler.\n",
      "2024-08-28 16:30:01 -0600   98230 execution.flow     INFO     Executing node validate_inputs. node run id: a14eaab3-94fa-4f28-89a1-09d377de4c00_validate_inputs_4ccabe90-0772-4910-8fc8-6468749933ba\n",
      "2024-08-28 16:30:01 -0600   98230 execution.flow     INFO     Start executing nodes in thread pool mode.\n",
      "2024-08-28 16:30:01 -0600   98230 execution.flow     INFO     Start to run 2 nodes with concurrency level 16.\n",
      "2024-08-28 16:30:01 -0600   98230 execution.flow     INFO     Current thread is not main thread, skip signal handler registration in AsyncNodesScheduler.\n",
      "2024-08-28 16:30:01 -0600   98230 execution.flow     INFO     Executing node validate_inputs. node run id: a7757544-3b8b-4c36-9446-b207a2410ec0_validate_inputs_a5275984-29e6-45bf-9b2d-2933f3f4f743\n",
      "2024-08-28 16:30:01 -0600   98230 execution.flow     INFO     Node validate_inputs completes.\n",
      "2024-08-28 16:30:01 -0600   98230 execution.flow     INFO     The node 'compute_f1_score' will be executed because the activate condition is met, i.e. '${validate_inputs.output}' is equal to 'True'.\n",
      "2024-08-28 16:30:01 -0600   98230 execution.flow     INFO     Executing node compute_f1_score. node run id: 108b8b8b-ba80-4b77-aa6d-bfd6dab600ba_compute_f1_score_2a8870c3-c0d2-48d6-95b7-a351b77a64bd\n",
      "2024-08-28 16:30:01 -0600   98230 execution.flow     INFO     Node validate_inputs completes.\n",
      "2024-08-28 16:30:01 -0600   98230 execution.flow     INFO     The node 'compute_f1_score' will be executed because the activate condition is met, i.e. '${validate_inputs.output}' is equal to 'True'.\n",
      "2024-08-28 16:30:01 -0600   98230 execution.flow     INFO     Executing node compute_f1_score. node run id: b83e12c8-c598-497f-97a2-6e4cdd0250b7_compute_f1_score_653f00dc-1630-4d83-a18f-88d3e4318911\n",
      "2024-08-28 16:30:01 -0600   98230 execution.flow     INFO     Node validate_inputs completes.\n",
      "2024-08-28 16:30:01 -0600   98230 execution.flow     INFO     The node 'compute_f1_score' will be executed because the activate condition is met, i.e. '${validate_inputs.output}' is equal to 'True'.\n",
      "2024-08-28 16:30:01 -0600   98230 execution.flow     INFO     Executing node compute_f1_score. node run id: c2fe65b5-220d-4a57-b8cf-1bae4e98eef5_compute_f1_score_2042d04b-cd7b-4318-8f7d-ade6ffec6660\n",
      "2024-08-28 16:30:01 -0600   98230 execution.flow     INFO     Node validate_inputs completes.\n",
      "2024-08-28 16:30:01 -0600   98230 execution.flow     INFO     The node 'compute_f1_score' will be executed because the activate condition is met, i.e. '${validate_inputs.output}' is equal to 'True'.\n",
      "2024-08-28 16:30:01 -0600   98230 execution.flow     INFO     Executing node compute_f1_score. node run id: a14eaab3-94fa-4f28-89a1-09d377de4c00_compute_f1_score_21bd2513-7736-4b21-8166-6238ad86394f\n",
      "2024-08-28 16:30:01 -0600   98230 execution.flow     INFO     Node validate_inputs completes.\n",
      "2024-08-28 16:30:01 -0600   98230 execution.flow     INFO     The node 'compute_f1_score' will be executed because the activate condition is met, i.e. '${validate_inputs.output}' is equal to 'True'.\n",
      "2024-08-28 16:30:01 -0600   98230 execution.flow     INFO     Executing node compute_f1_score. node run id: 45a39421-99cf-4913-a1e8-8234f0dbd5db_compute_f1_score_4445d332-0505-4ac1-abc6-e254e905e89e\n",
      "2024-08-28 16:30:01 -0600   98230 execution.flow     INFO     Node compute_f1_score completes.\n",
      "2024-08-28 16:30:01 -0600   98230 execution.flow     INFO     Node validate_inputs completes.\n",
      "2024-08-28 16:30:01 -0600   98230 execution.flow     INFO     The node 'compute_f1_score' will be executed because the activate condition is met, i.e. '${validate_inputs.output}' is equal to 'True'.\n",
      "2024-08-28 16:30:01 -0600   98230 execution.flow     INFO     Executing node compute_f1_score. node run id: a7757544-3b8b-4c36-9446-b207a2410ec0_compute_f1_score_abce6b2d-8837-483c-aecd-9743449b13ef\n",
      "2024-08-28 16:30:01 -0600   98230 execution.flow     INFO     Node compute_f1_score completes.\n",
      "2024-08-28 16:30:02 -0600   98230 execution.flow     INFO     Node compute_f1_score completes.\n",
      "2024-08-28 16:30:02 -0600   98230 execution.flow     INFO     Node compute_f1_score completes.\n",
      "2024-08-28 16:30:02 -0600   98230 execution.flow     INFO     Node compute_f1_score completes.\n",
      "2024-08-28 16:30:02 -0600   98230 execution.flow     INFO     Node compute_f1_score completes.\n"
     ]
    },
    {
     "name": "stderr",
     "output_type": "stream",
     "text": [
      "[2024-08-28 16:30:02 -0600][flowinvoker][INFO] - Validating flow input with data {'answer': 'The Amazon River is the largest river in South America.', 'ground_truth': 'The largest river in South America is the Amazon River.'}\n",
      "[2024-08-28 16:30:02 -0600][flowinvoker][INFO] - Execute flow with data {'answer': 'The Amazon River is the largest river in South America.', 'ground_truth': 'The largest river in South America is the Amazon River.'}\n",
      "[2024-08-28 16:30:02 -0600][flowinvoker][INFO] - Validating flow input with data {'answer': 'Mandarin Chinese is the most spoken language in the world.', 'ground_truth': 'The most spoken language in the world is Mandarin Chinese.'}\n",
      "[2024-08-28 16:30:02 -0600][flowinvoker][INFO] - Execute flow with data {'answer': 'Mandarin Chinese is the most spoken language in the world.', 'ground_truth': 'The most spoken language in the world is Mandarin Chinese.'}\n",
      "[2024-08-28 16:30:02 -0600][flowinvoker][INFO] - Validating flow input with data {'answer': 'Madrid is the capital of Spain.', 'ground_truth': 'The capital of Spain is Madrid.'}\n",
      "[2024-08-28 16:30:02 -0600][flowinvoker][INFO] - Execute flow with data {'answer': 'Madrid is the capital of Spain.', 'ground_truth': 'The capital of Spain is Madrid.'}\n"
     ]
    },
    {
     "name": "stdout",
     "output_type": "stream",
     "text": [
      "2024-08-28 16:30:02 -0600   98230 execution.flow     INFO     Start executing nodes in thread pool mode.\n",
      "2024-08-28 16:30:02 -0600   98230 execution.flow     INFO     Start to run 2 nodes with concurrency level 16.\n",
      "2024-08-28 16:30:02 -0600   98230 execution.flow     INFO     Current thread is not main thread, skip signal handler registration in AsyncNodesScheduler.\n",
      "2024-08-28 16:30:02 -0600   98230 execution.flow     INFO     Executing node validate_inputs. node run id: 99e5fca9-2c38-4052-a74f-fa23170097fb_validate_inputs_fe8dcf92-052e-413b-a76b-710f825c41b8\n",
      "2024-08-28 16:30:02 -0600   98230 execution.flow     INFO     Start executing nodes in thread pool mode.\n",
      "2024-08-28 16:30:02 -0600   98230 execution.flow     INFO     Start to run 2 nodes with concurrency level 16.\n",
      "2024-08-28 16:30:02 -0600   98230 execution.flow     INFO     Current thread is not main thread, skip signal handler registration in AsyncNodesScheduler.\n",
      "2024-08-28 16:30:02 -0600   98230 execution.flow     INFO     Executing node validate_inputs. node run id: 47dd07ef-a66e-41dd-ab65-50b294e4047b_validate_inputs_9f402657-3a3c-4027-96ed-e188ef884232\n",
      "2024-08-28 16:30:02 -0600   98230 execution.flow     INFO     Start executing nodes in thread pool mode.\n",
      "2024-08-28 16:30:02 -0600   98230 execution.flow     INFO     Start to run 2 nodes with concurrency level 16.\n",
      "2024-08-28 16:30:02 -0600   98230 execution.flow     INFO     Current thread is not main thread, skip signal handler registration in AsyncNodesScheduler.\n",
      "2024-08-28 16:30:02 -0600   98230 execution.flow     INFO     Executing node validate_inputs. node run id: 46078a2c-b017-4a4f-8fd5-8c5b642c8993_validate_inputs_59382a08-a28f-4e85-8b5b-20a5340204f8\n"
     ]
    },
    {
     "name": "stderr",
     "output_type": "stream",
     "text": [
      "[2024-08-28 16:30:02 -0600][flowinvoker][INFO] - Validating flow input with data {'answer': 'The skin is the largest organ in the human body.', 'ground_truth': 'The largest organ in the human body is the skin.'}\n",
      "[2024-08-28 16:30:02 -0600][flowinvoker][INFO] - Execute flow with data {'answer': 'The skin is the largest organ in the human body.', 'ground_truth': 'The largest organ in the human body is the skin.'}\n"
     ]
    },
    {
     "name": "stdout",
     "output_type": "stream",
     "text": [
      "2024-08-28 16:30:02 -0600   98230 execution.flow     INFO     Node validate_inputs completes.\n",
      "2024-08-28 16:30:02 -0600   98230 execution.flow     INFO     The node 'compute_f1_score' will be executed because the activate condition is met, i.e. '${validate_inputs.output}' is equal to 'True'.\n",
      "2024-08-28 16:30:02 -0600   98230 execution.flow     INFO     Executing node compute_f1_score. node run id: 99e5fca9-2c38-4052-a74f-fa23170097fb_compute_f1_score_7aa17a13-4700-4e0e-9898-dd6d97e6a3fc\n",
      "2024-08-28 16:30:02 -0600   98230 execution.flow     INFO     Start executing nodes in thread pool mode.\n",
      "2024-08-28 16:30:02 -0600   98230 execution.flow     INFO     Start to run 2 nodes with concurrency level 16.\n",
      "2024-08-28 16:30:02 -0600   98230 execution.flow     INFO     Current thread is not main thread, skip signal handler registration in AsyncNodesScheduler.\n",
      "2024-08-28 16:30:02 -0600   98230 execution.flow     INFO     Executing node validate_inputs. node run id: 43801143-1120-4ed8-bfcd-cc4822e8628c_validate_inputs_6f7d9f07-a918-4f06-91e9-fc7693922443\n",
      "2024-08-28 16:30:02 -0600   98230 execution.flow     INFO     Node validate_inputs completes.\n",
      "2024-08-28 16:30:02 -0600   98230 execution.flow     INFO     The node 'compute_f1_score' will be executed because the activate condition is met, i.e. '${validate_inputs.output}' is equal to 'True'.\n",
      "2024-08-28 16:30:02 -0600   98230 execution.flow     INFO     Executing node compute_f1_score. node run id: 47dd07ef-a66e-41dd-ab65-50b294e4047b_compute_f1_score_7303ca2a-1bb9-4fb7-b00b-314e2272ed4f\n",
      "2024-08-28 16:30:02 -0600   98230 execution.flow     INFO     Node validate_inputs completes.\n",
      "2024-08-28 16:30:02 -0600   98230 execution.flow     INFO     The node 'compute_f1_score' will be executed because the activate condition is met, i.e. '${validate_inputs.output}' is equal to 'True'.\n",
      "2024-08-28 16:30:02 -0600   98230 execution.flow     INFO     Executing node compute_f1_score. node run id: 46078a2c-b017-4a4f-8fd5-8c5b642c8993_compute_f1_score_f980a8af-cbc8-4197-a613-533dac0382f0\n",
      "2024-08-28 16:30:02 -0600   98230 execution.flow     INFO     Node compute_f1_score completes.\n",
      "2024-08-28 16:30:02 -0600   98230 execution.flow     INFO     Node validate_inputs completes.\n",
      "2024-08-28 16:30:02 -0600   98230 execution.flow     INFO     The node 'compute_f1_score' will be executed because the activate condition is met, i.e. '${validate_inputs.output}' is equal to 'True'.\n",
      "2024-08-28 16:30:02 -0600   98230 execution.flow     INFO     Executing node compute_f1_score. node run id: 43801143-1120-4ed8-bfcd-cc4822e8628c_compute_f1_score_deb23eea-c94d-43b1-ad74-9b828b790f04\n",
      "2024-08-28 16:30:02 -0600   98230 execution.flow     INFO     Node compute_f1_score completes.\n",
      "2024-08-28 16:30:02 -0600   98230 execution.flow     INFO     Node compute_f1_score completes.\n",
      "2024-08-28 16:30:02 -0600   98230 execution.flow     INFO     Node compute_f1_score completes.\n"
     ]
    },
    {
     "name": "stderr",
     "output_type": "stream",
     "text": [
      "2024/08/28 16:30:15 INFO mlflow.tracking._tracking_service.client: 🏃 View run strong_cake_gwmtbs8b at: https://eastus.api.azureml.ms/mlflow/v2.0/subscriptions/28d2df62-e322-4b25-b581-c43b94bd2607/resourceGroups/uhg-advassist-slm-eval/providers/Microsoft.MachineLearningServices/workspaces/slm-evaluation/#/experiments/d8f2318e-fd83-488e-bd9b-deca311699d7/runs/ae3a2807-3c51-4aab-8961-60485a4e7268.\n",
      "2024/08/28 16:30:15 INFO mlflow.tracking._tracking_service.client: 🧪 View experiment at: https://eastus.api.azureml.ms/mlflow/v2.0/subscriptions/28d2df62-e322-4b25-b581-c43b94bd2607/resourceGroups/uhg-advassist-slm-eval/providers/Microsoft.MachineLearningServices/workspaces/slm-evaluation/#/experiments/d8f2318e-fd83-488e-bd9b-deca311699d7.\n",
      "2024-08-28 16:30:22,494 - micro - MainProcess - INFO     Quality evaluation completed successfully. (gpt_evals.py:run_chat_quality:120)\n",
      "2024-08-28 16:30:22,496 - micro - MainProcess - INFO     See your results in the studio for more detailed information: https://ai.azure.com/build/evaluation/ae3a2807-3c51-4aab-8961-60485a4e7268?wsid=/subscriptions/28d2df62-e322-4b25-b581-c43b94bd2607/resourceGroups/uhg-advassist-slm-eval/providers/Microsoft.MachineLearningServices/workspaces/slm-evaluation (gpt_evals.py:run_chat_quality:123)\n",
      "2024-08-28 16:30:22,498 - micro - MainProcess - INFO     Temporary file /var/folders/j8/3l6kwfpn4ll3ztd_k3_n2yj00000gn/T/tmpeqc15hbu.jsonl removed. (gpt_evals.py:run_chat_quality:135)\n"
     ]
    },
    {
     "name": "stdout",
     "output_type": "stream",
     "text": [
      "[{\"variableName\": \"azure_ai_project\", \"type\": \"dictionary\", \"supportedEngines\": [\"pandas\"], \"isLocalVariable\": false}, {\"variableName\": \"df\", \"type\": \"pandas\", \"supportedEngines\": [\"pandas\"], \"isLocalVariable\": false}, {\"variableName\": \"metrics_quality\", \"type\": \"dictionary\", \"supportedEngines\": [\"pandas\"], \"isLocalVariable\": false}, {\"variableName\": \"result\", \"type\": \"dictionary\", \"supportedEngines\": [\"pandas\"], \"isLocalVariable\": false}]\n",
      "[{\"variableName\": \"azure_ai_project\", \"type\": \"dictionary\", \"supportedEngines\": [\"pandas\"], \"isLocalVariable\": false}, {\"variableName\": \"df\", \"type\": \"pandas\", \"supportedEngines\": [\"pandas\"], \"isLocalVariable\": false}, {\"variableName\": \"metrics_quality\", \"type\": \"dictionary\", \"supportedEngines\": [\"pandas\"], \"isLocalVariable\": false}, {\"variableName\": \"result\", \"type\": \"dictionary\", \"supportedEngines\": [\"pandas\"], \"isLocalVariable\": false}]\n",
      "[{\"variableName\": \"azure_ai_project\", \"type\": \"dictionary\", \"supportedEngines\": [\"pandas\"], \"isLocalVariable\": false}, {\"variableName\": \"df\", \"type\": \"pandas\", \"supportedEngines\": [\"pandas\"], \"isLocalVariable\": false}, {\"variableName\": \"metrics_quality\", \"type\": \"dictionary\", \"supportedEngines\": [\"pandas\"], \"isLocalVariable\": false}, {\"variableName\": \"result\", \"type\": \"dictionary\", \"supportedEngines\": [\"pandas\"], \"isLocalVariable\": false}]\n",
      "[{\"variableName\": \"azure_ai_project\", \"type\": \"dictionary\", \"supportedEngines\": [\"pandas\"], \"isLocalVariable\": false}, {\"variableName\": \"df\", \"type\": \"pandas\", \"supportedEngines\": [\"pandas\"], \"isLocalVariable\": false}, {\"variableName\": \"metrics_quality\", \"type\": \"dictionary\", \"supportedEngines\": [\"pandas\"], \"isLocalVariable\": false}, {\"variableName\": \"result\", \"type\": \"dictionary\", \"supportedEngines\": [\"pandas\"], \"isLocalVariable\": false}]\n",
      "[{\"variableName\": \"azure_ai_project\", \"type\": \"dictionary\", \"supportedEngines\": [\"pandas\"], \"isLocalVariable\": false}, {\"variableName\": \"df\", \"type\": \"pandas\", \"supportedEngines\": [\"pandas\"], \"isLocalVariable\": false}, {\"variableName\": \"metrics_quality\", \"type\": \"dictionary\", \"supportedEngines\": [\"pandas\"], \"isLocalVariable\": false}, {\"variableName\": \"result\", \"type\": \"dictionary\", \"supportedEngines\": [\"pandas\"], \"isLocalVariable\": false}]\n"
     ]
    },
    {
     "name": "stdout",
     "output_type": "stream",
     "text": [
      "[{\"variableName\": \"azure_ai_project\", \"type\": \"dictionary\", \"supportedEngines\": [\"pandas\"], \"isLocalVariable\": false}, {\"variableName\": \"df\", \"type\": \"pandas\", \"supportedEngines\": [\"pandas\"], \"isLocalVariable\": false}, {\"variableName\": \"metrics_quality\", \"type\": \"dictionary\", \"supportedEngines\": [\"pandas\"], \"isLocalVariable\": false}, {\"variableName\": \"result\", \"type\": \"dictionary\", \"supportedEngines\": [\"pandas\"], \"isLocalVariable\": false}]\n",
      "[{\"variableName\": \"azure_ai_project\", \"type\": \"dictionary\", \"supportedEngines\": [\"pandas\"], \"isLocalVariable\": false}, {\"variableName\": \"df\", \"type\": \"pandas\", \"supportedEngines\": [\"pandas\"], \"isLocalVariable\": false}, {\"variableName\": \"metrics_quality\", \"type\": \"dictionary\", \"supportedEngines\": [\"pandas\"], \"isLocalVariable\": false}, {\"variableName\": \"result\", \"type\": \"dictionary\", \"supportedEngines\": [\"pandas\"], \"isLocalVariable\": false}]\n",
      "[{\"variableName\": \"azure_ai_project\", \"type\": \"dictionary\", \"supportedEngines\": [\"pandas\"], \"isLocalVariable\": false}, {\"variableName\": \"df\", \"type\": \"pandas\", \"supportedEngines\": [\"pandas\"], \"isLocalVariable\": false}, {\"variableName\": \"metrics_quality\", \"type\": \"dictionary\", \"supportedEngines\": [\"pandas\"], \"isLocalVariable\": false}, {\"variableName\": \"result\", \"type\": \"dictionary\", \"supportedEngines\": [\"pandas\"], \"isLocalVariable\": false}]\n",
      "[{\"variableName\": \"azure_ai_project\", \"type\": \"dictionary\", \"supportedEngines\": [\"pandas\"], \"isLocalVariable\": false}, {\"variableName\": \"df\", \"type\": \"pandas\", \"supportedEngines\": [\"pandas\"], \"isLocalVariable\": false}, {\"variableName\": \"metrics_quality\", \"type\": \"dictionary\", \"supportedEngines\": [\"pandas\"], \"isLocalVariable\": false}, {\"variableName\": \"result\", \"type\": \"dictionary\", \"supportedEngines\": [\"pandas\"], \"isLocalVariable\": false}]\n",
      "[{\"variableName\": \"azure_ai_project\", \"type\": \"dictionary\", \"supportedEngines\": [\"pandas\"], \"isLocalVariable\": false}, {\"variableName\": \"df\", \"type\": \"pandas\", \"supportedEngines\": [\"pandas\"], \"isLocalVariable\": false}, {\"variableName\": \"metrics_quality\", \"type\": \"dictionary\", \"supportedEngines\": [\"pandas\"], \"isLocalVariable\": false}, {\"variableName\": \"result\", \"type\": \"dictionary\", \"supportedEngines\": [\"pandas\"], \"isLocalVariable\": false}]\n",
      "[{\"variableName\": \"azure_ai_project\", \"type\": \"dictionary\", \"supportedEngines\": [\"pandas\"], \"isLocalVariable\": false}, {\"variableName\": \"df\", \"type\": \"pandas\", \"supportedEngines\": [\"pandas\"], \"isLocalVariable\": false}, {\"variableName\": \"metrics_quality\", \"type\": \"dictionary\", \"supportedEngines\": [\"pandas\"], \"isLocalVariable\": false}, {\"variableName\": \"result\", \"type\": \"dictionary\", \"supportedEngines\": [\"pandas\"], \"isLocalVariable\": false}]\n"
     ]
    }
   ],
   "source": [
    "data_input_path = os.path.join(os.getcwd(), \"my_utils\", \"data\", \"evaluations\", \"dataframe\", \"golden_eval_dataset.csv\")\n",
    "\n",
    "# Execute the quality evaluation in parallel and batch mode. This approach optimizes performance by calculating each of the metrics mentioned above (F1 score, GPT groundedness, relevance, coherence, fluency, and similarity) concurrently across multiple data points. After computing these metrics individually, the results are aggregated to provide a comprehensive quality assessment. This method ensures efficient processing and a holistic evaluation of the chat quality.\n",
    "metrics_quality, azure_ai_studio_url = quality_evals.run_chat_quality(data_input=data_input_path)"
   ]
  },
  {
   "cell_type": "code",
   "execution_count": 7,
   "metadata": {},
   "outputs": [
    {
     "name": "stdout",
     "output_type": "stream",
     "text": [
      "{'f1_score': 0.9785592185592187,\n",
      " 'gpt_coherence': 5.0,\n",
      " 'gpt_fluency': 5.0,\n",
      " 'gpt_groundedness': 3.48,\n",
      " 'gpt_relevance': 3.56,\n",
      " 'gpt_similarity': 5.0}\n",
      "[{\"variableName\": \"df\", \"type\": \"pandas\", \"supportedEngines\": [\"pandas\"], \"isLocalVariable\": false}, {\"variableName\": \"metrics_quality\", \"type\": \"dictionary\", \"supportedEngines\": [\"pandas\"], \"isLocalVariable\": false}]\n"
     ]
    }
   ],
   "source": [
    "pprint(metrics_quality)"
   ]
  },
  {
   "cell_type": "code",
   "execution_count": 8,
   "metadata": {},
   "outputs": [
    {
     "data": {
      "application/vnd.plotly.v1+json": {
       "config": {
        "plotlyServerURL": "https://plot.ly"
       },
       "data": [
        {
         "name": "Score (Bar)",
         "type": "bar",
         "x": [
          "f1_score",
          "gpt_relevance",
          "gpt_groundedness",
          "gpt_fluency",
          "gpt_similarity",
          "gpt_coherence"
         ],
         "xaxis": "x",
         "y": [
          0.9785592185592187,
          3.56,
          3.48,
          5,
          5,
          5
         ],
         "yaxis": "y"
        },
        {
         "mode": "lines+markers",
         "name": "Score (Line)",
         "type": "scatter",
         "x": [
          "f1_score",
          "gpt_relevance",
          "gpt_groundedness",
          "gpt_fluency",
          "gpt_similarity",
          "gpt_coherence"
         ],
         "xaxis": "x",
         "y": [
          0.9785592185592187,
          3.56,
          3.48,
          5,
          5,
          5
         ],
         "yaxis": "y2"
        }
       ],
       "layout": {
        "legend": {
         "title": {
          "text": "Metric Type"
         }
        },
        "template": {
         "data": {
          "bar": [
           {
            "error_x": {
             "color": "#2a3f5f"
            },
            "error_y": {
             "color": "#2a3f5f"
            },
            "marker": {
             "line": {
              "color": "white",
              "width": 0.5
             },
             "pattern": {
              "fillmode": "overlay",
              "size": 10,
              "solidity": 0.2
             }
            },
            "type": "bar"
           }
          ],
          "barpolar": [
           {
            "marker": {
             "line": {
              "color": "white",
              "width": 0.5
             },
             "pattern": {
              "fillmode": "overlay",
              "size": 10,
              "solidity": 0.2
             }
            },
            "type": "barpolar"
           }
          ],
          "carpet": [
           {
            "aaxis": {
             "endlinecolor": "#2a3f5f",
             "gridcolor": "#C8D4E3",
             "linecolor": "#C8D4E3",
             "minorgridcolor": "#C8D4E3",
             "startlinecolor": "#2a3f5f"
            },
            "baxis": {
             "endlinecolor": "#2a3f5f",
             "gridcolor": "#C8D4E3",
             "linecolor": "#C8D4E3",
             "minorgridcolor": "#C8D4E3",
             "startlinecolor": "#2a3f5f"
            },
            "type": "carpet"
           }
          ],
          "choropleth": [
           {
            "colorbar": {
             "outlinewidth": 0,
             "ticks": ""
            },
            "type": "choropleth"
           }
          ],
          "contour": [
           {
            "colorbar": {
             "outlinewidth": 0,
             "ticks": ""
            },
            "colorscale": [
             [
              0,
              "#0d0887"
             ],
             [
              0.1111111111111111,
              "#46039f"
             ],
             [
              0.2222222222222222,
              "#7201a8"
             ],
             [
              0.3333333333333333,
              "#9c179e"
             ],
             [
              0.4444444444444444,
              "#bd3786"
             ],
             [
              0.5555555555555556,
              "#d8576b"
             ],
             [
              0.6666666666666666,
              "#ed7953"
             ],
             [
              0.7777777777777778,
              "#fb9f3a"
             ],
             [
              0.8888888888888888,
              "#fdca26"
             ],
             [
              1,
              "#f0f921"
             ]
            ],
            "type": "contour"
           }
          ],
          "contourcarpet": [
           {
            "colorbar": {
             "outlinewidth": 0,
             "ticks": ""
            },
            "type": "contourcarpet"
           }
          ],
          "heatmap": [
           {
            "colorbar": {
             "outlinewidth": 0,
             "ticks": ""
            },
            "colorscale": [
             [
              0,
              "#0d0887"
             ],
             [
              0.1111111111111111,
              "#46039f"
             ],
             [
              0.2222222222222222,
              "#7201a8"
             ],
             [
              0.3333333333333333,
              "#9c179e"
             ],
             [
              0.4444444444444444,
              "#bd3786"
             ],
             [
              0.5555555555555556,
              "#d8576b"
             ],
             [
              0.6666666666666666,
              "#ed7953"
             ],
             [
              0.7777777777777778,
              "#fb9f3a"
             ],
             [
              0.8888888888888888,
              "#fdca26"
             ],
             [
              1,
              "#f0f921"
             ]
            ],
            "type": "heatmap"
           }
          ],
          "heatmapgl": [
           {
            "colorbar": {
             "outlinewidth": 0,
             "ticks": ""
            },
            "colorscale": [
             [
              0,
              "#0d0887"
             ],
             [
              0.1111111111111111,
              "#46039f"
             ],
             [
              0.2222222222222222,
              "#7201a8"
             ],
             [
              0.3333333333333333,
              "#9c179e"
             ],
             [
              0.4444444444444444,
              "#bd3786"
             ],
             [
              0.5555555555555556,
              "#d8576b"
             ],
             [
              0.6666666666666666,
              "#ed7953"
             ],
             [
              0.7777777777777778,
              "#fb9f3a"
             ],
             [
              0.8888888888888888,
              "#fdca26"
             ],
             [
              1,
              "#f0f921"
             ]
            ],
            "type": "heatmapgl"
           }
          ],
          "histogram": [
           {
            "marker": {
             "pattern": {
              "fillmode": "overlay",
              "size": 10,
              "solidity": 0.2
             }
            },
            "type": "histogram"
           }
          ],
          "histogram2d": [
           {
            "colorbar": {
             "outlinewidth": 0,
             "ticks": ""
            },
            "colorscale": [
             [
              0,
              "#0d0887"
             ],
             [
              0.1111111111111111,
              "#46039f"
             ],
             [
              0.2222222222222222,
              "#7201a8"
             ],
             [
              0.3333333333333333,
              "#9c179e"
             ],
             [
              0.4444444444444444,
              "#bd3786"
             ],
             [
              0.5555555555555556,
              "#d8576b"
             ],
             [
              0.6666666666666666,
              "#ed7953"
             ],
             [
              0.7777777777777778,
              "#fb9f3a"
             ],
             [
              0.8888888888888888,
              "#fdca26"
             ],
             [
              1,
              "#f0f921"
             ]
            ],
            "type": "histogram2d"
           }
          ],
          "histogram2dcontour": [
           {
            "colorbar": {
             "outlinewidth": 0,
             "ticks": ""
            },
            "colorscale": [
             [
              0,
              "#0d0887"
             ],
             [
              0.1111111111111111,
              "#46039f"
             ],
             [
              0.2222222222222222,
              "#7201a8"
             ],
             [
              0.3333333333333333,
              "#9c179e"
             ],
             [
              0.4444444444444444,
              "#bd3786"
             ],
             [
              0.5555555555555556,
              "#d8576b"
             ],
             [
              0.6666666666666666,
              "#ed7953"
             ],
             [
              0.7777777777777778,
              "#fb9f3a"
             ],
             [
              0.8888888888888888,
              "#fdca26"
             ],
             [
              1,
              "#f0f921"
             ]
            ],
            "type": "histogram2dcontour"
           }
          ],
          "mesh3d": [
           {
            "colorbar": {
             "outlinewidth": 0,
             "ticks": ""
            },
            "type": "mesh3d"
           }
          ],
          "parcoords": [
           {
            "line": {
             "colorbar": {
              "outlinewidth": 0,
              "ticks": ""
             }
            },
            "type": "parcoords"
           }
          ],
          "pie": [
           {
            "automargin": true,
            "type": "pie"
           }
          ],
          "scatter": [
           {
            "fillpattern": {
             "fillmode": "overlay",
             "size": 10,
             "solidity": 0.2
            },
            "type": "scatter"
           }
          ],
          "scatter3d": [
           {
            "line": {
             "colorbar": {
              "outlinewidth": 0,
              "ticks": ""
             }
            },
            "marker": {
             "colorbar": {
              "outlinewidth": 0,
              "ticks": ""
             }
            },
            "type": "scatter3d"
           }
          ],
          "scattercarpet": [
           {
            "marker": {
             "colorbar": {
              "outlinewidth": 0,
              "ticks": ""
             }
            },
            "type": "scattercarpet"
           }
          ],
          "scattergeo": [
           {
            "marker": {
             "colorbar": {
              "outlinewidth": 0,
              "ticks": ""
             }
            },
            "type": "scattergeo"
           }
          ],
          "scattergl": [
           {
            "marker": {
             "colorbar": {
              "outlinewidth": 0,
              "ticks": ""
             }
            },
            "type": "scattergl"
           }
          ],
          "scattermapbox": [
           {
            "marker": {
             "colorbar": {
              "outlinewidth": 0,
              "ticks": ""
             }
            },
            "type": "scattermapbox"
           }
          ],
          "scatterpolar": [
           {
            "marker": {
             "colorbar": {
              "outlinewidth": 0,
              "ticks": ""
             }
            },
            "type": "scatterpolar"
           }
          ],
          "scatterpolargl": [
           {
            "marker": {
             "colorbar": {
              "outlinewidth": 0,
              "ticks": ""
             }
            },
            "type": "scatterpolargl"
           }
          ],
          "scatterternary": [
           {
            "marker": {
             "colorbar": {
              "outlinewidth": 0,
              "ticks": ""
             }
            },
            "type": "scatterternary"
           }
          ],
          "surface": [
           {
            "colorbar": {
             "outlinewidth": 0,
             "ticks": ""
            },
            "colorscale": [
             [
              0,
              "#0d0887"
             ],
             [
              0.1111111111111111,
              "#46039f"
             ],
             [
              0.2222222222222222,
              "#7201a8"
             ],
             [
              0.3333333333333333,
              "#9c179e"
             ],
             [
              0.4444444444444444,
              "#bd3786"
             ],
             [
              0.5555555555555556,
              "#d8576b"
             ],
             [
              0.6666666666666666,
              "#ed7953"
             ],
             [
              0.7777777777777778,
              "#fb9f3a"
             ],
             [
              0.8888888888888888,
              "#fdca26"
             ],
             [
              1,
              "#f0f921"
             ]
            ],
            "type": "surface"
           }
          ],
          "table": [
           {
            "cells": {
             "fill": {
              "color": "#EBF0F8"
             },
             "line": {
              "color": "white"
             }
            },
            "header": {
             "fill": {
              "color": "#C8D4E3"
             },
             "line": {
              "color": "white"
             }
            },
            "type": "table"
           }
          ]
         },
         "layout": {
          "annotationdefaults": {
           "arrowcolor": "#2a3f5f",
           "arrowhead": 0,
           "arrowwidth": 1
          },
          "autotypenumbers": "strict",
          "coloraxis": {
           "colorbar": {
            "outlinewidth": 0,
            "ticks": ""
           }
          },
          "colorscale": {
           "diverging": [
            [
             0,
             "#8e0152"
            ],
            [
             0.1,
             "#c51b7d"
            ],
            [
             0.2,
             "#de77ae"
            ],
            [
             0.3,
             "#f1b6da"
            ],
            [
             0.4,
             "#fde0ef"
            ],
            [
             0.5,
             "#f7f7f7"
            ],
            [
             0.6,
             "#e6f5d0"
            ],
            [
             0.7,
             "#b8e186"
            ],
            [
             0.8,
             "#7fbc41"
            ],
            [
             0.9,
             "#4d9221"
            ],
            [
             1,
             "#276419"
            ]
           ],
           "sequential": [
            [
             0,
             "#0d0887"
            ],
            [
             0.1111111111111111,
             "#46039f"
            ],
            [
             0.2222222222222222,
             "#7201a8"
            ],
            [
             0.3333333333333333,
             "#9c179e"
            ],
            [
             0.4444444444444444,
             "#bd3786"
            ],
            [
             0.5555555555555556,
             "#d8576b"
            ],
            [
             0.6666666666666666,
             "#ed7953"
            ],
            [
             0.7777777777777778,
             "#fb9f3a"
            ],
            [
             0.8888888888888888,
             "#fdca26"
            ],
            [
             1,
             "#f0f921"
            ]
           ],
           "sequentialminus": [
            [
             0,
             "#0d0887"
            ],
            [
             0.1111111111111111,
             "#46039f"
            ],
            [
             0.2222222222222222,
             "#7201a8"
            ],
            [
             0.3333333333333333,
             "#9c179e"
            ],
            [
             0.4444444444444444,
             "#bd3786"
            ],
            [
             0.5555555555555556,
             "#d8576b"
            ],
            [
             0.6666666666666666,
             "#ed7953"
            ],
            [
             0.7777777777777778,
             "#fb9f3a"
            ],
            [
             0.8888888888888888,
             "#fdca26"
            ],
            [
             1,
             "#f0f921"
            ]
           ]
          },
          "colorway": [
           "#636efa",
           "#EF553B",
           "#00cc96",
           "#ab63fa",
           "#FFA15A",
           "#19d3f3",
           "#FF6692",
           "#B6E880",
           "#FF97FF",
           "#FECB52"
          ],
          "font": {
           "color": "#2a3f5f"
          },
          "geo": {
           "bgcolor": "white",
           "lakecolor": "white",
           "landcolor": "white",
           "showlakes": true,
           "showland": true,
           "subunitcolor": "#C8D4E3"
          },
          "hoverlabel": {
           "align": "left"
          },
          "hovermode": "closest",
          "mapbox": {
           "style": "light"
          },
          "paper_bgcolor": "white",
          "plot_bgcolor": "white",
          "polar": {
           "angularaxis": {
            "gridcolor": "#EBF0F8",
            "linecolor": "#EBF0F8",
            "ticks": ""
           },
           "bgcolor": "white",
           "radialaxis": {
            "gridcolor": "#EBF0F8",
            "linecolor": "#EBF0F8",
            "ticks": ""
           }
          },
          "scene": {
           "xaxis": {
            "backgroundcolor": "white",
            "gridcolor": "#DFE8F3",
            "gridwidth": 2,
            "linecolor": "#EBF0F8",
            "showbackground": true,
            "ticks": "",
            "zerolinecolor": "#EBF0F8"
           },
           "yaxis": {
            "backgroundcolor": "white",
            "gridcolor": "#DFE8F3",
            "gridwidth": 2,
            "linecolor": "#EBF0F8",
            "showbackground": true,
            "ticks": "",
            "zerolinecolor": "#EBF0F8"
           },
           "zaxis": {
            "backgroundcolor": "white",
            "gridcolor": "#DFE8F3",
            "gridwidth": 2,
            "linecolor": "#EBF0F8",
            "showbackground": true,
            "ticks": "",
            "zerolinecolor": "#EBF0F8"
           }
          },
          "shapedefaults": {
           "line": {
            "color": "#2a3f5f"
           }
          },
          "ternary": {
           "aaxis": {
            "gridcolor": "#DFE8F3",
            "linecolor": "#A2B1C6",
            "ticks": ""
           },
           "baxis": {
            "gridcolor": "#DFE8F3",
            "linecolor": "#A2B1C6",
            "ticks": ""
           },
           "bgcolor": "white",
           "caxis": {
            "gridcolor": "#DFE8F3",
            "linecolor": "#A2B1C6",
            "ticks": ""
           }
          },
          "title": {
           "x": 0.05
          },
          "xaxis": {
           "automargin": true,
           "gridcolor": "#EBF0F8",
           "linecolor": "#EBF0F8",
           "ticks": "",
           "title": {
            "standoff": 15
           },
           "zerolinecolor": "#EBF0F8",
           "zerolinewidth": 2
          },
          "yaxis": {
           "automargin": true,
           "gridcolor": "#EBF0F8",
           "linecolor": "#EBF0F8",
           "ticks": "",
           "title": {
            "standoff": 15
           },
           "zerolinecolor": "#EBF0F8",
           "zerolinewidth": 2
          }
         }
        },
        "title": {
         "text": "Metrics Overview for gpt-4o"
        },
        "xaxis": {
         "anchor": "y",
         "domain": [
          0,
          0.94
         ],
         "title": {
          "text": "Metric"
         }
        },
        "yaxis": {
         "anchor": "x",
         "domain": [
          0,
          1
         ],
         "range": [
          0,
          5.5
         ],
         "title": {
          "text": "Bar Score"
         }
        },
        "yaxis2": {
         "anchor": "x",
         "overlaying": "y",
         "range": [
          0,
          5.5
         ],
         "side": "right",
         "title": {
          "text": "Line Score"
         }
        }
       }
      }
     },
     "metadata": {},
     "output_type": "display_data"
    }
   ],
   "source": [
    "quality_evals.plot_metrics(metrics_quality)"
   ]
  },
  {
   "cell_type": "markdown",
   "metadata": {},
   "source": [
    "The azure_ai_studio_url variable is used to automatically send the flow and evaluation results to a remote server in Azure AI Studio for tracking. This is particularly useful in production environments where monitoring the performance and outcomes of AI models is crucial. By sending data to Azure AI Studio, you can leverage its tools for detailed analysis, visualization, and comparison of model performance over time, aiding in the continuous improvement of your AI solutions."
   ]
  },
  {
   "cell_type": "code",
   "execution_count": 9,
   "metadata": {},
   "outputs": [
    {
     "data": {
      "text/plain": [
       "'https://ai.azure.com/build/evaluation/ae3a2807-3c51-4aab-8961-60485a4e7268?wsid=/subscriptions/28d2df62-e322-4b25-b581-c43b94bd2607/resourceGroups/uhg-advassist-slm-eval/providers/Microsoft.MachineLearningServices/workspaces/slm-evaluation'"
      ]
     },
     "execution_count": 9,
     "metadata": {},
     "output_type": "execute_result"
    }
   ],
   "source": [
    "# Tracking the evaluation results - Remote \n",
    "azure_ai_studio_url"
   ]
  },
  {
   "cell_type": "markdown",
   "metadata": {},
   "source": [
    "![Azure AI Studio](my_utils/images/AzureAIstudio.png)"
   ]
  },
  {
   "cell_type": "markdown",
   "metadata": {},
   "source": [
    "### 3. Evaluating RAI (Responsible AI)\n",
    "\n",
    "**📊 What metrics are we evaluating?**\n",
    "\n",
    "- **Self Harm Defect Rate**: Measures the frequency of self-harm content in the generated text.\n",
    "  - **Range**: 0 (none) to 1 (high frequency).\n",
    "\n",
    "- **Sexual Defect Rate**: Assesses the occurrence of inappropriate sexual content.\n",
    "  - **Range**: 0 (none) to 1 (high occurrence).\n",
    "\n",
    "- **Hate Unfairness Defect Rate**: Evaluates the presence of hate speech or unfair content towards individuals or groups.\n",
    "  - **Range**: 0 (none) to 1 (high presence).\n",
    "\n",
    "- **Violence Defect Rate**: Measures the level of violent content in the outputs.\n",
    "  - **Range**: 0 (none) to 1 (high level)."
   ]
  },
  {
   "cell_type": "code",
   "execution_count": 10,
   "metadata": {},
   "outputs": [],
   "source": [
    "## WIP - will fix in future iteration - use at your own risk\n",
    "# metrics, azure_ai_studio_url = quality_evals.run_chat_content_safety(data_input=data_input_path)"
   ]
  },
  {
   "cell_type": "code",
   "execution_count": 11,
   "metadata": {},
   "outputs": [],
   "source": [
    "## WIP - will fix in future iteration - use at your own risk\n",
    "# quality_evals.plot_metrics(metrics)"
   ]
  },
  {
   "cell_type": "markdown",
   "metadata": {},
   "source": [
    "## Customizing the Validation to Fit Your Scenario\n",
    "\n",
    "#### Scenario 1: Combine Built-in PromptFlow Custom Evaluation for Contextual Accuracy in Q&A Matching\n",
    "\n",
    "**Objective**: Assess the performance of our AI bot (LLM/SLM) in responding to user queries, focusing on the accuracy of responses and contextual understanding, with a predefined ground truth for comparison.\n",
    "\n",
    "**Setup**:\n",
    "- **Input**: User queries encompassing a wide range of topics and complexities.\n",
    "- **AI Bot**: Our system tasked with providing responses to the queries.\n",
    "\n",
    "**Evaluation Criteria**:\n",
    "- **Contextual Understanding**: Evaluates the AI bot's ability to comprehend the context and intent behind each query.\n",
    "- **Response Accuracy**: Measures how closely the AI bot's responses align with the expected answers based on the ground truth.\n",
    "\n",
    "**Goal**: Determine the effectiveness of our AI bot in delivering contextually accurate and precise responses to user queries, highlighting areas for improvement."
   ]
  },
  {
   "cell_type": "code",
   "execution_count": 12,
   "metadata": {},
   "outputs": [],
   "source": [
    "from promptflow.evals.evaluators import (RelevanceEvaluator, F1ScoreEvaluator, GroundednessEvaluator, ChatEvaluator, \n",
    "                                         ViolenceEvaluator, SexualEvaluator, SelfHarmEvaluator, HateUnfairnessEvaluator, \n",
    "                                         CoherenceEvaluator, FluencyEvaluator, SimilarityEvaluator, QAEvaluator,\n",
    "                                        ContentSafetyEvaluator, ContentSafetyChatEvaluator)"
   ]
  },
  {
   "cell_type": "code",
   "execution_count": 13,
   "metadata": {},
   "outputs": [],
   "source": [
    "import os\n",
    "from promptflow.core import AzureOpenAIModelConfiguration\n",
    "\n",
    "# Initialize Azure OpenAI Connection with your environment variables\n",
    "model_config = AzureOpenAIModelConfiguration(\n",
    "    azure_endpoint=os.environ.get(\"AZURE_AOAI_ENDPOINT\"),\n",
    "    api_key=os.environ.get(\"AZURE_AOAI_API_KEY\"),\n",
    "    azure_deployment=os.environ.get(\"AZURE_AOAI_COMPLETION_MODEL_DEPLOYMENT_ID\"),\n",
    "    api_version=os.environ.get(\"AZURE_AOAI_DEPLOYMENT_VERSION\"),\n",
    ")"
   ]
  },
  {
   "cell_type": "code",
   "execution_count": 14,
   "metadata": {},
   "outputs": [],
   "source": [
    "qa_eval = F1ScoreEvaluator()\n",
    "context_similarity = SimilarityEvaluator(model_config)\n",
    "azure_ai_project = {\n",
    "    \"subscription_id\": os.environ.get(\"AZURE_AI_STUDIO_SUBSCRIPTION_ID\"),\n",
    "    \"resource_group_name\": os.environ.get(\"AZURE_AI_STUDIO_RESOURCE_GROUP_NAME\"),\n",
    "    \"project_name\": os.environ.get(\"AZURE_AI_STUDIO_PROJECT_NAME\"),\n",
    "}"
   ]
  },
  {
   "cell_type": "code",
   "execution_count": 15,
   "metadata": {},
   "outputs": [],
   "source": [
    "from promptflow.evals.evaluate import evaluate"
   ]
  },
  {
   "cell_type": "code",
   "execution_count": 16,
   "metadata": {},
   "outputs": [
    {
     "name": "stderr",
     "output_type": "stream",
     "text": [
      "[2024-08-28 16:30:28 -0600][flowinvoker][INFO] - Validating flow input with data {'answer': 'Paris is the capital of France.', 'ground_truth': 'The capital of France is Paris.'}\n",
      "[2024-08-28 16:30:28 -0600][flowinvoker][INFO] - Validating flow input with data {'answer': 'Albert Einstein developed the theory of relativity.', 'ground_truth': 'The theory of relativity was developed by Albert Einstein.'}\n",
      "[2024-08-28 16:30:28 -0600][flowinvoker][INFO] - Validating flow input with data {'answer': 'The speed of light is approximately 299,792,458 meters per second.', 'ground_truth': 'Light travels at a speed of 299,792,458 meters per second.'}\n",
      "[2024-08-28 16:30:28 -0600][flowinvoker][INFO] - Validating flow input with data {'answer': 'Mount Everest is the tallest mountain in the world.', 'ground_truth': \"The world's tallest mountain is Mount Everest.\"}\n",
      "[2024-08-28 16:30:28 -0600][flowinvoker][INFO] - Validating flow input with data {'answer': \"George Orwell is the author of '1984'.\", 'ground_truth': \"The author of '1984' is George Orwell.\"}\n",
      "[2024-08-28 16:30:28 -0600][flowinvoker][INFO] - Execute flow with data {'answer': 'Paris is the capital of France.', 'ground_truth': 'The capital of France is Paris.'}\n"
     ]
    },
    {
     "name": "stdout",
     "output_type": "stream",
     "text": [
      "2024-08-28 16:30:28 -0600   98230 execution.flow     INFO     Start executing nodes in thread pool mode.\n"
     ]
    },
    {
     "name": "stderr",
     "output_type": "stream",
     "text": [
      "[2024-08-28 16:30:28 -0600][flowinvoker][INFO] - Execute flow with data {'answer': 'Albert Einstein developed the theory of relativity.', 'ground_truth': 'The theory of relativity was developed by Albert Einstein.'}\n"
     ]
    },
    {
     "name": "stdout",
     "output_type": "stream",
     "text": [
      "2024-08-28 16:30:28 -0600   98230 execution.flow     INFO     Start to run 2 nodes with concurrency level 16.\n"
     ]
    },
    {
     "name": "stderr",
     "output_type": "stream",
     "text": [
      "[2024-08-28 16:30:28 -0600][flowinvoker][INFO] - Validating flow input with data {'answer': 'Tokyo is the capital of Japan.', 'ground_truth': \"Japan's capital is Tokyo.\"}\n"
     ]
    },
    {
     "name": "stdout",
     "output_type": "stream",
     "text": [
      "2024-08-28 16:30:28 -0600   98230 execution.flow     INFO     Start executing nodes in thread pool mode.\n"
     ]
    },
    {
     "name": "stderr",
     "output_type": "stream",
     "text": [
      "[2024-08-28 16:30:28 -0600][flowinvoker][INFO] - Execute flow with data {'answer': 'The speed of light is approximately 299,792,458 meters per second.', 'ground_truth': 'Light travels at a speed of 299,792,458 meters per second.'}\n"
     ]
    },
    {
     "name": "stdout",
     "output_type": "stream",
     "text": [
      "2024-08-28 16:30:28 -0600   98230 execution.flow     INFO     Current thread is not main thread, skip signal handler registration in AsyncNodesScheduler.\n",
      "2024-08-28 16:30:28 -0600   98230 execution.flow     INFO     Start to run 2 nodes with concurrency level 16.\n"
     ]
    },
    {
     "name": "stderr",
     "output_type": "stream",
     "text": [
      "[2024-08-28 16:30:28 -0600][flowinvoker][INFO] - Validating flow input with data {'answer': 'Leonardo da Vinci painted the Mona Lisa.', 'ground_truth': 'The Mona Lisa was painted by Leonardo da Vinci.'}\n"
     ]
    },
    {
     "name": "stdout",
     "output_type": "stream",
     "text": [
      "2024-08-28 16:30:28 -0600   98230 execution.flow     INFO     Executing node validate_inputs. node run id: 169c97f7-41e8-46fa-ad76-61801e94a314_validate_inputs_b7162c9b-108b-434b-9b3d-69ec263fcf8c\n"
     ]
    },
    {
     "name": "stderr",
     "output_type": "stream",
     "text": [
      "[2024-08-28 16:30:28 -0600][flowinvoker][INFO] - Execute flow with data {'answer': 'Mount Everest is the tallest mountain in the world.', 'ground_truth': \"The world's tallest mountain is Mount Everest.\"}\n"
     ]
    },
    {
     "name": "stdout",
     "output_type": "stream",
     "text": [
      "2024-08-28 16:30:28 -0600   98230 execution.flow     INFO     Start executing nodes in thread pool mode.\n"
     ]
    },
    {
     "name": "stderr",
     "output_type": "stream",
     "text": [
      "[2024-08-28 16:30:28 -0600][flowinvoker][INFO] - Validating flow input with data {'answer': 'Jupiter is the largest planet in our solar system.', 'ground_truth': 'The largest planet in our solar system is Jupiter.'}\n"
     ]
    },
    {
     "name": "stdout",
     "output_type": "stream",
     "text": [
      "2024-08-28 16:30:28 -0600   98230 execution.flow     INFO     Current thread is not main thread, skip signal handler registration in AsyncNodesScheduler.\n"
     ]
    },
    {
     "name": "stderr",
     "output_type": "stream",
     "text": [
      "[2024-08-28 16:30:28 -0600][flowinvoker][INFO] - Validating flow input with data {'answer': 'H2O is the chemical symbol for water.', 'ground_truth': 'The chemical symbol for water is H2O.'}\n"
     ]
    },
    {
     "name": "stdout",
     "output_type": "stream",
     "text": [
      "2024-08-28 16:30:28 -0600   98230 execution.flow     INFO     Node validate_inputs completes.\n"
     ]
    },
    {
     "name": "stderr",
     "output_type": "stream",
     "text": [
      "[2024-08-28 16:30:28 -0600][flowinvoker][INFO] - Execute flow with data {'answer': \"George Orwell is the author of '1984'.\", 'ground_truth': \"The author of '1984' is George Orwell.\"}\n"
     ]
    },
    {
     "name": "stdout",
     "output_type": "stream",
     "text": [
      "2024-08-28 16:30:28 -0600   98230 execution.flow     INFO     Start executing nodes in thread pool mode.\n"
     ]
    },
    {
     "name": "stderr",
     "output_type": "stream",
     "text": [
      "[2024-08-28 16:30:28 -0600][flowinvoker][INFO] - Execute flow with data {'answer': 'Tokyo is the capital of Japan.', 'ground_truth': \"Japan's capital is Tokyo.\"}\n"
     ]
    },
    {
     "name": "stdout",
     "output_type": "stream",
     "text": [
      "2024-08-28 16:30:28 -0600   98230 execution.flow     INFO     Start to run 2 nodes with concurrency level 16.\n"
     ]
    },
    {
     "name": "stderr",
     "output_type": "stream",
     "text": [
      "[2024-08-28 16:30:28 -0600][flowinvoker][INFO] - Execute flow with data {'answer': 'Leonardo da Vinci painted the Mona Lisa.', 'ground_truth': 'The Mona Lisa was painted by Leonardo da Vinci.'}\n"
     ]
    },
    {
     "name": "stdout",
     "output_type": "stream",
     "text": [
      "2024-08-28 16:30:28 -0600   98230 execution.flow     INFO     Executing node validate_inputs. node run id: 995a3ac8-2b14-4ca6-b7fa-1059208d3e85_validate_inputs_aee3e557-e32c-4721-ab83-f970f29b37b5\n"
     ]
    },
    {
     "name": "stderr",
     "output_type": "stream",
     "text": [
      "[2024-08-28 16:30:28 -0600][flowinvoker][INFO] - Execute flow with data {'answer': 'Jupiter is the largest planet in our solar system.', 'ground_truth': 'The largest planet in our solar system is Jupiter.'}\n"
     ]
    },
    {
     "name": "stdout",
     "output_type": "stream",
     "text": [
      "2024-08-28 16:30:28 -0600   98230 execution.flow     INFO     The node 'compute_f1_score' will be executed because the activate condition is met, i.e. '${validate_inputs.output}' is equal to 'True'.\n"
     ]
    },
    {
     "name": "stderr",
     "output_type": "stream",
     "text": [
      "[2024-08-28 16:30:28 -0600][flowinvoker][INFO] - Execute flow with data {'answer': 'H2O is the chemical symbol for water.', 'ground_truth': 'The chemical symbol for water is H2O.'}\n"
     ]
    },
    {
     "name": "stdout",
     "output_type": "stream",
     "text": [
      "2024-08-28 16:30:28 -0600   98230 execution.flow     INFO     Start executing nodes in thread pool mode.\n",
      "2024-08-28 16:30:28 -0600   98230 execution.flow     INFO     Start to run 2 nodes with concurrency level 16.\n",
      "2024-08-28 16:30:28 -0600   98230 execution.flow     INFO     Start executing nodes in thread pool mode.\n",
      "2024-08-28 16:30:28 -0600   98230 execution.flow     INFO     Current thread is not main thread, skip signal handler registration in AsyncNodesScheduler.\n",
      "2024-08-28 16:30:28 -0600   98230 execution.flow     INFO     Start executing nodes in thread pool mode.\n",
      "2024-08-28 16:30:28 -0600   98230 execution.flow     INFO     Node validate_inputs completes.\n",
      "2024-08-28 16:30:28 -0600   98230 execution.flow     INFO     Start executing nodes in thread pool mode.\n",
      "2024-08-28 16:30:28 -0600   98230 execution.flow     INFO     Start executing nodes in thread pool mode.\n",
      "2024-08-28 16:30:28 -0600   98230 execution.flow     INFO     Executing node compute_f1_score. node run id: 169c97f7-41e8-46fa-ad76-61801e94a314_compute_f1_score_d346211e-18a8-46b9-a281-5e3e66bbcbf7\n",
      "2024-08-28 16:30:28 -0600   98230 execution.flow     INFO     Start to run 2 nodes with concurrency level 16.\n",
      "2024-08-28 16:30:28 -0600   98230 execution.flow     INFO     Current thread is not main thread, skip signal handler registration in AsyncNodesScheduler.\n",
      "2024-08-28 16:30:28 -0600   98230 execution.flow     INFO     Start to run 2 nodes with concurrency level 16.\n",
      "2024-08-28 16:30:28 -0600   98230 execution.flow     INFO     Executing node validate_inputs. node run id: 6908a666-62bf-4a74-b2d9-a13b0b6f32ec_validate_inputs_926b3ebb-9e78-4636-90ea-7b60a55aa98d\n",
      "2024-08-28 16:30:28 -0600   98230 execution.flow     INFO     Start to run 2 nodes with concurrency level 16.\n",
      "2024-08-28 16:30:28 -0600   98230 execution.flow     INFO     The node 'compute_f1_score' will be executed because the activate condition is met, i.e. '${validate_inputs.output}' is equal to 'True'.\n",
      "2024-08-28 16:30:28 -0600   98230 execution.flow     INFO     Start to run 2 nodes with concurrency level 16.\n",
      "2024-08-28 16:30:28 -0600   98230 execution.flow     INFO     Start to run 2 nodes with concurrency level 16.\n",
      "2024-08-28 16:30:28 -0600   98230 execution.flow     INFO     Node compute_f1_score completes.\n",
      "2024-08-28 16:30:28 -0600   98230 execution.flow     INFO     Current thread is not main thread, skip signal handler registration in AsyncNodesScheduler.\n"
     ]
    },
    {
     "name": "stderr",
     "output_type": "stream",
     "text": [
      "[2024-08-28 16:30:28 -0600][flowinvoker][INFO] - Validating flow input with data {'answer': 'The Pacific Ocean is the largest ocean on Earth.', 'ground_truth': 'The largest ocean on Earth is the Pacific Ocean.'}\n"
     ]
    },
    {
     "name": "stdout",
     "output_type": "stream",
     "text": [
      "2024-08-28 16:30:28 -0600   98230 execution.flow     INFO     Executing node validate_inputs. node run id: f11f5594-86e4-4bcd-9a78-1956c4807e01_validate_inputs_08fe7d2b-1bfa-44fd-bdfe-1c9cece953b7\n"
     ]
    },
    {
     "name": "stderr",
     "output_type": "stream",
     "text": [
      "[2024-08-28 16:30:28 -0600][flowinvoker][INFO] - Execute flow with data {'answer': 'The Pacific Ocean is the largest ocean on Earth.', 'ground_truth': 'The largest ocean on Earth is the Pacific Ocean.'}\n"
     ]
    },
    {
     "name": "stdout",
     "output_type": "stream",
     "text": [
      "2024-08-28 16:30:28 -0600   98230 execution.flow     INFO     Current thread is not main thread, skip signal handler registration in AsyncNodesScheduler.\n",
      "2024-08-28 16:30:28 -0600   98230 execution.flow     INFO     Node validate_inputs completes.\n",
      "2024-08-28 16:30:28 -0600   98230 execution.flow     INFO     Current thread is not main thread, skip signal handler registration in AsyncNodesScheduler.\n",
      "2024-08-28 16:30:28 -0600   98230 execution.flow     INFO     Executing node compute_f1_score. node run id: 995a3ac8-2b14-4ca6-b7fa-1059208d3e85_compute_f1_score_3e58e602-52cd-4d0a-a050-d757a4e54bb5\n",
      "2024-08-28 16:30:28 -0600   98230 execution.flow     INFO     Current thread is not main thread, skip signal handler registration in AsyncNodesScheduler.\n",
      "2024-08-28 16:30:28 -0600   98230 execution.flow     INFO     Current thread is not main thread, skip signal handler registration in AsyncNodesScheduler.\n",
      "2024-08-28 16:30:28 -0600   98230 execution.flow     INFO     Executing node validate_inputs. node run id: 4edf4835-565d-4e8c-bd4f-a8043a957c42_validate_inputs_b6f51755-e6cf-45e0-ad3a-53dfc93ea798\n",
      "2024-08-28 16:30:28 -0600   98230 execution.flow     INFO     Node validate_inputs completes.\n",
      "2024-08-28 16:30:28 -0600   98230 execution.flow     INFO     Start executing nodes in thread pool mode.\n",
      "2024-08-28 16:30:28 -0600   98230 execution.flow     INFO     Executing node validate_inputs. node run id: 1e946efa-d797-4b89-859f-077e83c57043_validate_inputs_e659584a-0297-4900-853b-70d44bdf4eea\n",
      "2024-08-28 16:30:28 -0600   98230 execution.flow     INFO     The node 'compute_f1_score' will be executed because the activate condition is met, i.e. '${validate_inputs.output}' is equal to 'True'.\n",
      "2024-08-28 16:30:28 -0600   98230 execution.flow     INFO     Executing node validate_inputs. node run id: d825802e-b887-45fd-b9bb-989b193b576a_validate_inputs_1746f690-af89-4f8b-98de-4f210e7a9a18\n",
      "2024-08-28 16:30:28 -0600   98230 execution.flow     INFO     Node compute_f1_score completes.\n",
      "2024-08-28 16:30:28 -0600   98230 execution.flow     INFO     Executing node validate_inputs. node run id: ff0282ab-9d88-4026-a614-b7ad8b936a6f_validate_inputs_3d8a025f-c3e4-4514-ac64-33744e64514a\n"
     ]
    },
    {
     "name": "stderr",
     "output_type": "stream",
     "text": [
      "[2024-08-28 16:30:28 -0600][flowinvoker][INFO] - Validating flow input with data {'answer': 'The Great Pyramid of Giza was built by Alexander the Great.', 'ground_truth': 'The Great Pyramid of Giza was built by the Egyptians.'}\n",
      "[2024-08-28 16:30:28 -0600][flowinvoker][INFO] - Execute flow with data {'answer': 'The Great Pyramid of Giza was built by Alexander the Great.', 'ground_truth': 'The Great Pyramid of Giza was built by the Egyptians.'}\n"
     ]
    },
    {
     "name": "stdout",
     "output_type": "stream",
     "text": [
      "2024-08-28 16:30:28 -0600   98230 execution.flow     INFO     Executing node validate_inputs. node run id: 7f98b58d-9207-4efe-9d37-3b8cc0590efc_validate_inputs_40d6bd42-452f-46ff-8c83-bfdc3b2d0fdc\n",
      "2024-08-28 16:30:28 -0600   98230 execution.flow     INFO     Node validate_inputs completes.\n",
      "2024-08-28 16:30:28 -0600   98230 execution.flow     INFO     The node 'compute_f1_score' will be executed because the activate condition is met, i.e. '${validate_inputs.output}' is equal to 'True'.\n",
      "2024-08-28 16:30:28 -0600   98230 execution.flow     INFO     Start to run 2 nodes with concurrency level 16.\n",
      "2024-08-28 16:30:28 -0600   98230 execution.flow     INFO     Node validate_inputs completes.\n",
      "2024-08-28 16:30:28 -0600   98230 execution.flow     INFO     Executing node compute_f1_score. node run id: 6908a666-62bf-4a74-b2d9-a13b0b6f32ec_compute_f1_score_d5db4319-5b79-460a-81c2-effcbaf64dfb\n",
      "2024-08-28 16:30:28 -0600   98230 execution.flow     INFO     Node validate_inputs completes.\n",
      "2024-08-28 16:30:28 -0600   98230 execution.flow     INFO     Node validate_inputs completes.\n",
      "2024-08-28 16:30:28 -0600   98230 execution.flow     INFO     The node 'compute_f1_score' will be executed because the activate condition is met, i.e. '${validate_inputs.output}' is equal to 'True'.\n",
      "2024-08-28 16:30:28 -0600   98230 execution.flow     INFO     Executing node compute_f1_score. node run id: f11f5594-86e4-4bcd-9a78-1956c4807e01_compute_f1_score_189466f1-2d22-4357-8d22-d391d49d2fd0\n",
      "2024-08-28 16:30:28 -0600   98230 execution.flow     INFO     Current thread is not main thread, skip signal handler registration in AsyncNodesScheduler.\n",
      "2024-08-28 16:30:28 -0600   98230 execution.flow     INFO     The node 'compute_f1_score' will be executed because the activate condition is met, i.e. '${validate_inputs.output}' is equal to 'True'.\n",
      "2024-08-28 16:30:28 -0600   98230 execution.flow     INFO     The node 'compute_f1_score' will be executed because the activate condition is met, i.e. '${validate_inputs.output}' is equal to 'True'.\n",
      "2024-08-28 16:30:28 -0600   98230 execution.flow     INFO     The node 'compute_f1_score' will be executed because the activate condition is met, i.e. '${validate_inputs.output}' is equal to 'True'.\n",
      "2024-08-28 16:30:28 -0600   98230 execution.flow     INFO     Executing node compute_f1_score. node run id: 4edf4835-565d-4e8c-bd4f-a8043a957c42_compute_f1_score_24e5c3a1-2b64-4d5f-aaf3-15da68cbdfe1\n",
      "2024-08-28 16:30:28 -0600   98230 execution.flow     INFO     Executing node validate_inputs. node run id: 59e9e76d-8f8b-4cc0-8e82-4a92f9989984_validate_inputs_d6a90c80-2e95-4964-aa37-41d33dbd575e\n",
      "2024-08-28 16:30:28 -0600   98230 execution.flow     INFO     Executing node compute_f1_score. node run id: 1e946efa-d797-4b89-859f-077e83c57043_compute_f1_score_a61681f6-a190-476b-8bdc-be36ca85d3aa\n",
      "2024-08-28 16:30:28 -0600   98230 execution.flow     INFO     Executing node compute_f1_score. node run id: d825802e-b887-45fd-b9bb-989b193b576a_compute_f1_score_55580192-6875-4aad-a86b-a58b9af8e2b9\n",
      "2024-08-28 16:30:28 -0600   98230 execution.flow     INFO     Executing node compute_f1_score. node run id: ff0282ab-9d88-4026-a614-b7ad8b936a6f_compute_f1_score_227b6df0-8bf5-46b6-af7c-d1433bfbf6d1\n",
      "2024-08-28 16:30:28 -0600   98230 execution.flow     INFO     Start executing nodes in thread pool mode.\n",
      "2024-08-28 16:30:28 -0600   98230 execution.flow     INFO     Start to run 2 nodes with concurrency level 16.\n",
      "2024-08-28 16:30:28 -0600   98230 execution.flow     INFO     Current thread is not main thread, skip signal handler registration in AsyncNodesScheduler.\n",
      "2024-08-28 16:30:28 -0600   98230 execution.flow     INFO     Executing node validate_inputs. node run id: b60ef1c4-de8b-4286-9102-e7fd813dac5e_validate_inputs_40f803f3-b70e-4a21-b1d9-fe214aa95040\n",
      "2024-08-28 16:30:28 -0600   98230 execution.flow     INFO     Node validate_inputs completes.\n",
      "2024-08-28 16:30:28 -0600   98230 execution.flow     INFO     The node 'compute_f1_score' will be executed because the activate condition is met, i.e. '${validate_inputs.output}' is equal to 'True'.\n",
      "2024-08-28 16:30:28 -0600   98230 execution.flow     INFO     Executing node compute_f1_score. node run id: 7f98b58d-9207-4efe-9d37-3b8cc0590efc_compute_f1_score_09a397e4-9577-44b2-b5c6-017976a9bb12\n",
      "2024-08-28 16:30:28 -0600   98230 execution.flow     INFO     Node compute_f1_score completes.\n"
     ]
    },
    {
     "name": "stderr",
     "output_type": "stream",
     "text": [
      "[2024-08-28 16:30:28 -0600][flowinvoker][INFO] - Validating flow input with data {'answer': 'The human body has four senses.', 'ground_truth': 'The human body has five primary senses.'}\n"
     ]
    },
    {
     "name": "stdout",
     "output_type": "stream",
     "text": [
      "2024-08-28 16:30:28 -0600   98230 execution.flow     INFO     Node validate_inputs completes.\n"
     ]
    },
    {
     "name": "stderr",
     "output_type": "stream",
     "text": [
      "[2024-08-28 16:30:28 -0600][flowinvoker][INFO] - Execute flow with data {'answer': 'The human body has four senses.', 'ground_truth': 'The human body has five primary senses.'}\n"
     ]
    },
    {
     "name": "stdout",
     "output_type": "stream",
     "text": [
      "2024-08-28 16:30:28 -0600   98230 execution.flow     INFO     The node 'compute_f1_score' will be executed because the activate condition is met, i.e. '${validate_inputs.output}' is equal to 'True'.\n",
      "2024-08-28 16:30:28 -0600   98230 execution.flow     INFO     Node compute_f1_score completes.\n",
      "2024-08-28 16:30:28 -0600   98230 execution.flow     INFO     Executing node compute_f1_score. node run id: 59e9e76d-8f8b-4cc0-8e82-4a92f9989984_compute_f1_score_26d6c507-31ac-4d72-b86d-d68e4504bcc7\n",
      "2024-08-28 16:30:28 -0600   98230 execution.flow     INFO     Node compute_f1_score completes.\n",
      "2024-08-28 16:30:28 -0600   98230 execution.flow     INFO     Node compute_f1_score completes.\n",
      "2024-08-28 16:30:28 -0600   98230 execution.flow     INFO     Node compute_f1_score completes.\n"
     ]
    },
    {
     "name": "stderr",
     "output_type": "stream",
     "text": [
      "[2024-08-28 16:30:28 -0600][flowinvoker][INFO] - Validating flow input with data {'answer': 'The Amazon is the longest river in the world.', 'ground_truth': 'The Nile is often cited as the longest river in the world, but some sources claim the Amazon is longer.'}\n",
      "[2024-08-28 16:30:28 -0600][flowinvoker][INFO] - Execute flow with data {'answer': 'The Amazon is the longest river in the world.', 'ground_truth': 'The Nile is often cited as the longest river in the world, but some sources claim the Amazon is longer.'}\n"
     ]
    },
    {
     "name": "stdout",
     "output_type": "stream",
     "text": [
      "2024-08-28 16:30:28 -0600   98230 execution.flow     INFO     Node validate_inputs completes.\n"
     ]
    },
    {
     "name": "stderr",
     "output_type": "stream",
     "text": [
      "[2024-08-28 16:30:28 -0600][flowinvoker][INFO] - Validating flow input with data {'answer': 'The internet was invented in the 1960s.', 'ground_truth': 'The foundational technology of the internet was developed in the late 1960s.'}\n",
      "[2024-08-28 16:30:28 -0600][flowinvoker][INFO] - Execute flow with data {'answer': 'The internet was invented in the 1960s.', 'ground_truth': 'The foundational technology of the internet was developed in the late 1960s.'}\n"
     ]
    },
    {
     "name": "stdout",
     "output_type": "stream",
     "text": [
      "2024-08-28 16:30:28 -0600   98230 execution.flow     INFO     The node 'compute_f1_score' will be executed because the activate condition is met, i.e. '${validate_inputs.output}' is equal to 'True'.\n",
      "2024-08-28 16:30:28 -0600   98230 execution.flow     INFO     Executing node compute_f1_score. node run id: b60ef1c4-de8b-4286-9102-e7fd813dac5e_compute_f1_score_b4784fc2-4427-4866-adf1-5a6e3e2e0708\n"
     ]
    },
    {
     "name": "stderr",
     "output_type": "stream",
     "text": [
      "[2024-08-28 16:30:28 -0600][flowinvoker][INFO] - Validating flow input with data {'answer': 'The heart is on the right side of the human body.', 'ground_truth': 'The heart is located slightly to the left side of the chest in the human body.'}\n",
      "[2024-08-28 16:30:28 -0600][flowinvoker][INFO] - Execute flow with data {'answer': 'The heart is on the right side of the human body.', 'ground_truth': 'The heart is located slightly to the left side of the chest in the human body.'}\n"
     ]
    },
    {
     "name": "stdout",
     "output_type": "stream",
     "text": [
      "2024-08-28 16:30:28 -0600   98230 execution.flow     INFO     Node compute_f1_score completes.\n"
     ]
    },
    {
     "name": "stderr",
     "output_type": "stream",
     "text": [
      "[2024-08-28 16:30:28 -0600][flowinvoker][INFO] - Validating flow input with data {'answer': 'The sun revolves around the Earth.', 'ground_truth': 'The Earth revolves around the sun.'}\n",
      "[2024-08-28 16:30:28 -0600][flowinvoker][INFO] - Execute flow with data {'answer': 'The sun revolves around the Earth.', 'ground_truth': 'The Earth revolves around the sun.'}\n",
      "[2024-08-28 16:30:28 -0600][flowinvoker][INFO] - Validating flow input with data {'answer': 'Sharks are mammals.', 'ground_truth': 'Sharks are a group of fish characterized by a cartilaginous skeleton.'}\n",
      "[2024-08-28 16:30:28 -0600][flowinvoker][INFO] - Execute flow with data {'answer': 'Sharks are mammals.', 'ground_truth': 'Sharks are a group of fish characterized by a cartilaginous skeleton.'}\n"
     ]
    },
    {
     "name": "stdout",
     "output_type": "stream",
     "text": [
      "2024-08-28 16:30:28 -0600   98230 execution.flow     INFO     Start executing nodes in thread pool mode.\n",
      "2024-08-28 16:30:28 -0600   98230 execution.flow     INFO     Start to run 2 nodes with concurrency level 16.\n",
      "2024-08-28 16:30:28 -0600   98230 execution.flow     INFO     Current thread is not main thread, skip signal handler registration in AsyncNodesScheduler.\n",
      "2024-08-28 16:30:28 -0600   98230 execution.flow     INFO     Executing node validate_inputs. node run id: a383ebfc-9466-4d98-aef3-01f3a4b0f4e6_validate_inputs_b2f15076-a3e6-47a3-a042-6ee8b8825a94\n",
      "2024-08-28 16:30:28 -0600   98230 execution.flow     INFO     Start executing nodes in thread pool mode.\n",
      "2024-08-28 16:30:28 -0600   98230 execution.flow     INFO     Start to run 2 nodes with concurrency level 16.\n",
      "2024-08-28 16:30:28 -0600   98230 execution.flow     INFO     Current thread is not main thread, skip signal handler registration in AsyncNodesScheduler.\n",
      "2024-08-28 16:30:28 -0600   98230 execution.flow     INFO     Executing node validate_inputs. node run id: 9271e053-8875-487a-9f1e-e83967347872_validate_inputs_d7202659-af43-41cb-a733-680c6bcb7afd\n",
      "2024-08-28 16:30:28 -0600   98230 execution.flow     INFO     Start executing nodes in thread pool mode.\n",
      "2024-08-28 16:30:28 -0600   98230 execution.flow     INFO     Start to run 2 nodes with concurrency level 16.\n",
      "2024-08-28 16:30:28 -0600   98230 execution.flow     INFO     Current thread is not main thread, skip signal handler registration in AsyncNodesScheduler.\n",
      "2024-08-28 16:30:28 -0600   98230 execution.flow     INFO     Executing node validate_inputs. node run id: a5c05b34-e453-43aa-aef0-9d3b567975d2_validate_inputs_8da01d00-7cbd-4fa4-8ad2-5d8f96a65d4c\n",
      "2024-08-28 16:30:28 -0600   98230 execution.flow     INFO     Start executing nodes in thread pool mode.\n",
      "2024-08-28 16:30:28 -0600   98230 execution.flow     INFO     Start to run 2 nodes with concurrency level 16.\n",
      "2024-08-28 16:30:28 -0600   98230 execution.flow     INFO     Current thread is not main thread, skip signal handler registration in AsyncNodesScheduler.\n",
      "2024-08-28 16:30:28 -0600   98230 execution.flow     INFO     Start executing nodes in thread pool mode.\n",
      "2024-08-28 16:30:28 -0600   98230 execution.flow     INFO     Executing node validate_inputs. node run id: ea896baf-e469-47b8-b356-c91973337e59_validate_inputs_1cb0a7c2-6556-42b1-92ba-c390ec5d7837\n",
      "2024-08-28 16:30:28 -0600   98230 execution.flow     INFO     Start to run 2 nodes with concurrency level 16.\n",
      "2024-08-28 16:30:28 -0600   98230 execution.flow     INFO     Current thread is not main thread, skip signal handler registration in AsyncNodesScheduler.\n",
      "2024-08-28 16:30:28 -0600   98230 execution.flow     INFO     Executing node validate_inputs. node run id: 450cf57f-b117-41f4-9d2c-d3885e884d1a_validate_inputs_410bed12-8b3f-4d35-9a92-97206624b09c\n",
      "2024-08-28 16:30:28 -0600   98230 execution.flow     INFO     Start executing nodes in thread pool mode.\n",
      "2024-08-28 16:30:28 -0600   98230 execution.flow     INFO     Start to run 2 nodes with concurrency level 16.\n",
      "2024-08-28 16:30:28 -0600   98230 execution.flow     INFO     Current thread is not main thread, skip signal handler registration in AsyncNodesScheduler.\n",
      "2024-08-28 16:30:28 -0600   98230 execution.flow     INFO     Node compute_f1_score completes.\n",
      "2024-08-28 16:30:28 -0600   98230 execution.flow     INFO     Executing node validate_inputs. node run id: 963a5839-9ce8-41f6-ba35-cfdea322cc99_validate_inputs_74aad401-e490-4a19-96e5-55403c8a81b2\n"
     ]
    },
    {
     "name": "stderr",
     "output_type": "stream",
     "text": [
      "[2024-08-28 16:30:28 -0600][flowinvoker][INFO] - Validating flow input with data {'answer': 'The capital of Canada is Toronto.', 'ground_truth': 'The capital of Canada is Ottawa.'}\n",
      "[2024-08-28 16:30:28 -0600][flowinvoker][INFO] - Execute flow with data {'answer': 'The capital of Canada is Toronto.', 'ground_truth': 'The capital of Canada is Ottawa.'}\n"
     ]
    },
    {
     "name": "stdout",
     "output_type": "stream",
     "text": [
      "2024-08-28 16:30:28 -0600   98230 execution.flow     INFO     Node compute_f1_score completes.\n",
      "2024-08-28 16:30:28 -0600   98230 execution.flow     INFO     Start executing nodes in thread pool mode.\n",
      "2024-08-28 16:30:28 -0600   98230 execution.flow     INFO     Start to run 2 nodes with concurrency level 16.\n",
      "2024-08-28 16:30:28 -0600   98230 execution.flow     INFO     Current thread is not main thread, skip signal handler registration in AsyncNodesScheduler.\n",
      "2024-08-28 16:30:28 -0600   98230 execution.flow     INFO     Executing node validate_inputs. node run id: 1f31d766-3277-45ed-97a6-3dedea504cd8_validate_inputs_0adca5b9-9709-4c8d-ad91-a726f7bed6e0\n",
      "2024-08-28 16:30:28 -0600   98230 execution.flow     INFO     Node compute_f1_score completes.\n"
     ]
    },
    {
     "name": "stderr",
     "output_type": "stream",
     "text": [
      "[2024-08-28 16:30:28 -0600][flowinvoker][INFO] - Validating flow input with data {'answer': 'The inventor of the telephone was Thomas Edison.', 'ground_truth': 'Alexander Graham Bell is credited with inventing the first practical telephone.'}\n",
      "[2024-08-28 16:30:28 -0600][flowinvoker][INFO] - Validating flow input with data {'answer': 'The chemical symbol for gold is Ag.', 'ground_truth': 'The chemical symbol for gold is Au.'}\n",
      "[2024-08-28 16:30:28 -0600][flowinvoker][INFO] - Execute flow with data {'answer': 'The inventor of the telephone was Thomas Edison.', 'ground_truth': 'Alexander Graham Bell is credited with inventing the first practical telephone.'}\n",
      "[2024-08-28 16:30:28 -0600][flowinvoker][INFO] - Execute flow with data {'answer': 'The chemical symbol for gold is Ag.', 'ground_truth': 'The chemical symbol for gold is Au.'}\n"
     ]
    },
    {
     "name": "stdout",
     "output_type": "stream",
     "text": [
      "2024-08-28 16:30:28 -0600   98230 execution.flow     INFO     Node validate_inputs completes.\n",
      "2024-08-28 16:30:28 -0600   98230 execution.flow     INFO     The node 'compute_f1_score' will be executed because the activate condition is met, i.e. '${validate_inputs.output}' is equal to 'True'.\n",
      "2024-08-28 16:30:28 -0600   98230 execution.flow     INFO     Executing node compute_f1_score. node run id: a383ebfc-9466-4d98-aef3-01f3a4b0f4e6_compute_f1_score_4b55332c-57a4-432c-a570-6330b687dea0\n",
      "2024-08-28 16:30:28 -0600   98230 execution.flow     INFO     Node validate_inputs completes.\n",
      "2024-08-28 16:30:28 -0600   98230 execution.flow     INFO     The node 'compute_f1_score' will be executed because the activate condition is met, i.e. '${validate_inputs.output}' is equal to 'True'.\n",
      "2024-08-28 16:30:28 -0600   98230 execution.flow     INFO     Node validate_inputs completes.\n",
      "2024-08-28 16:30:28 -0600   98230 execution.flow     INFO     Executing node compute_f1_score. node run id: a5c05b34-e453-43aa-aef0-9d3b567975d2_compute_f1_score_8bf23e4c-8994-48d4-8ffa-1f5546e4860b\n",
      "2024-08-28 16:30:28 -0600   98230 execution.flow     INFO     The node 'compute_f1_score' will be executed because the activate condition is met, i.e. '${validate_inputs.output}' is equal to 'True'.\n",
      "2024-08-28 16:30:28 -0600   98230 execution.flow     INFO     Executing node compute_f1_score. node run id: 9271e053-8875-487a-9f1e-e83967347872_compute_f1_score_05fa6b50-881a-4fcf-b8c2-3120134b9f11\n",
      "2024-08-28 16:30:28 -0600   98230 execution.flow     INFO     Start executing nodes in thread pool mode.\n",
      "2024-08-28 16:30:28 -0600   98230 execution.flow     INFO     Node validate_inputs completes.\n",
      "2024-08-28 16:30:28 -0600   98230 execution.flow     INFO     Start to run 2 nodes with concurrency level 16.\n",
      "2024-08-28 16:30:28 -0600   98230 execution.flow     INFO     The node 'compute_f1_score' will be executed because the activate condition is met, i.e. '${validate_inputs.output}' is equal to 'True'.\n",
      "2024-08-28 16:30:28 -0600   98230 execution.flow     INFO     Node validate_inputs completes.\n",
      "2024-08-28 16:30:28 -0600   98230 execution.flow     INFO     Node validate_inputs completes.\n",
      "2024-08-28 16:30:28 -0600   98230 execution.flow     INFO     Current thread is not main thread, skip signal handler registration in AsyncNodesScheduler.\n",
      "2024-08-28 16:30:28 -0600   98230 execution.flow     INFO     Executing node compute_f1_score. node run id: 450cf57f-b117-41f4-9d2c-d3885e884d1a_compute_f1_score_24705bf7-8724-4a23-8d3f-463170eb76f8\n",
      "2024-08-28 16:30:28 -0600   98230 execution.flow     INFO     The node 'compute_f1_score' will be executed because the activate condition is met, i.e. '${validate_inputs.output}' is equal to 'True'.\n",
      "2024-08-28 16:30:28 -0600   98230 execution.flow     INFO     Start executing nodes in thread pool mode.\n",
      "2024-08-28 16:30:28 -0600   98230 execution.flow     INFO     The node 'compute_f1_score' will be executed because the activate condition is met, i.e. '${validate_inputs.output}' is equal to 'True'.\n",
      "2024-08-28 16:30:28 -0600   98230 execution.flow     INFO     Executing node validate_inputs. node run id: 9eb6e99a-97b1-4ca1-b588-daffadb71f74_validate_inputs_d817c322-2bdc-45f8-9abf-ada603c26476\n",
      "2024-08-28 16:30:28 -0600   98230 execution.flow     INFO     Executing node compute_f1_score. node run id: 963a5839-9ce8-41f6-ba35-cfdea322cc99_compute_f1_score_cb8f3382-52d5-43c6-9622-a090dfd57e00\n",
      "2024-08-28 16:30:28 -0600   98230 execution.flow     INFO     Start to run 2 nodes with concurrency level 16.\n",
      "2024-08-28 16:30:28 -0600   98230 execution.flow     INFO     Executing node compute_f1_score. node run id: ea896baf-e469-47b8-b356-c91973337e59_compute_f1_score_1481aaaa-f469-4e58-bbd3-423e43a253c4\n",
      "2024-08-28 16:30:28 -0600   98230 execution.flow     INFO     Current thread is not main thread, skip signal handler registration in AsyncNodesScheduler.\n",
      "2024-08-28 16:30:28 -0600   98230 execution.flow     INFO     Executing node validate_inputs. node run id: 9ff41aea-d13f-4756-ab58-2975c93c2bf8_validate_inputs_f388cab9-a649-4aae-952d-ab0ae5a24d97\n",
      "2024-08-28 16:30:28 -0600   98230 execution.flow     INFO     Node validate_inputs completes.\n",
      "2024-08-28 16:30:28 -0600   98230 execution.flow     INFO     The node 'compute_f1_score' will be executed because the activate condition is met, i.e. '${validate_inputs.output}' is equal to 'True'.\n",
      "2024-08-28 16:30:28 -0600   98230 execution.flow     INFO     Executing node compute_f1_score. node run id: 1f31d766-3277-45ed-97a6-3dedea504cd8_compute_f1_score_0961b0b0-cf2d-40a4-8286-6fbde464e919\n",
      "2024-08-28 16:30:28 -0600   98230 execution.flow     INFO     Node compute_f1_score completes.\n"
     ]
    },
    {
     "name": "stderr",
     "output_type": "stream",
     "text": [
      "[2024-08-28 16:30:28 -0600][flowinvoker][INFO] - Validating flow input with data {'answer': 'The largest desert in the world is the Sahara.', 'ground_truth': 'The largest desert in the world is Antarctica.'}\n",
      "[2024-08-28 16:30:28 -0600][flowinvoker][INFO] - Execute flow with data {'answer': 'The largest desert in the world is the Sahara.', 'ground_truth': 'The largest desert in the world is Antarctica.'}\n"
     ]
    },
    {
     "name": "stdout",
     "output_type": "stream",
     "text": [
      "2024-08-28 16:30:28 -0600   98230 execution.flow     INFO     Node compute_f1_score completes.\n"
     ]
    },
    {
     "name": "stderr",
     "output_type": "stream",
     "text": [
      "[2024-08-28 16:30:28 -0600][flowinvoker][INFO] - Validating flow input with data {'answer': 'The first man to step on the moon was Lance Armstrong.', 'ground_truth': 'The first man to step on the moon was Neil Armstrong.'}\n",
      "[2024-08-28 16:30:28 -0600][flowinvoker][INFO] - Execute flow with data {'answer': 'The first man to step on the moon was Lance Armstrong.', 'ground_truth': 'The first man to step on the moon was Neil Armstrong.'}\n"
     ]
    },
    {
     "name": "stdout",
     "output_type": "stream",
     "text": [
      "2024-08-28 16:30:28 -0600   98230 execution.flow     INFO     Node compute_f1_score completes.\n",
      "2024-08-28 16:30:28 -0600   98230 execution.flow     INFO     Start executing nodes in thread pool mode.\n",
      "2024-08-28 16:30:28 -0600   98230 execution.flow     INFO     Start to run 2 nodes with concurrency level 16.\n",
      "2024-08-28 16:30:28 -0600   98230 execution.flow     INFO     Current thread is not main thread, skip signal handler registration in AsyncNodesScheduler.\n",
      "2024-08-28 16:30:28 -0600   98230 execution.flow     INFO     Executing node validate_inputs. node run id: 5810ed63-d115-4a7b-9e4a-7898f4f8941c_validate_inputs_602b8612-f004-4792-b2d7-115902abd82c\n",
      "2024-08-28 16:30:28 -0600   98230 execution.flow     INFO     Node compute_f1_score completes.\n"
     ]
    },
    {
     "name": "stderr",
     "output_type": "stream",
     "text": [
      "[2024-08-28 16:30:28 -0600][flowinvoker][INFO] - Validating flow input with data {'answer': 'The capital of Egypt is Cairo.', 'ground_truth': 'The capital of Egypt is Cairo.'}\n"
     ]
    },
    {
     "name": "stdout",
     "output_type": "stream",
     "text": [
      "2024-08-28 16:30:28 -0600   98230 execution.flow     INFO     Node compute_f1_score completes.\n"
     ]
    },
    {
     "name": "stderr",
     "output_type": "stream",
     "text": [
      "[2024-08-28 16:30:28 -0600][flowinvoker][INFO] - Execute flow with data {'answer': 'The capital of Egypt is Cairo.', 'ground_truth': 'The capital of Egypt is Cairo.'}\n"
     ]
    },
    {
     "name": "stdout",
     "output_type": "stream",
     "text": [
      "2024-08-28 16:30:28 -0600   98230 execution.flow     INFO     Node validate_inputs completes.\n",
      "2024-08-28 16:30:28 -0600   98230 execution.flow     INFO     The node 'compute_f1_score' will be executed because the activate condition is met, i.e. '${validate_inputs.output}' is equal to 'True'.\n",
      "2024-08-28 16:30:28 -0600   98230 execution.flow     INFO     Executing node compute_f1_score. node run id: 9eb6e99a-97b1-4ca1-b588-daffadb71f74_compute_f1_score_5e8bb3d7-bb51-429a-b6a5-ea61b130875c\n"
     ]
    },
    {
     "name": "stderr",
     "output_type": "stream",
     "text": [
      "[2024-08-28 16:30:28 -0600][flowinvoker][INFO] - Validating flow input with data {'answer': 'Photosynthesis is performed by animals.', 'ground_truth': 'Photosynthesis is performed by plants.'}\n"
     ]
    },
    {
     "name": "stdout",
     "output_type": "stream",
     "text": [
      "2024-08-28 16:30:28 -0600   98230 execution.flow     INFO     Node compute_f1_score completes.\n"
     ]
    },
    {
     "name": "stderr",
     "output_type": "stream",
     "text": [
      "[2024-08-28 16:30:28 -0600][flowinvoker][INFO] - Execute flow with data {'answer': 'Photosynthesis is performed by animals.', 'ground_truth': 'Photosynthesis is performed by plants.'}\n",
      "[2024-08-28 16:30:28 -0600][flowinvoker][INFO] - Validating flow input with data {'answer': 'The smallest bone in the human body is the femur.', 'ground_truth': 'The smallest bone in the human body is the stapes bone in the ear.'}\n",
      "[2024-08-28 16:30:28 -0600][flowinvoker][INFO] - Execute flow with data {'answer': 'The smallest bone in the human body is the femur.', 'ground_truth': 'The smallest bone in the human body is the stapes bone in the ear.'}\n",
      "[2024-08-28 16:30:28 -0600][flowinvoker][INFO] - Validating flow input with data {'answer': 'The Pacific Ocean is the warmest ocean.', 'ground_truth': 'The Indian Ocean is considered the warmest ocean.'}\n",
      "[2024-08-28 16:30:28 -0600][flowinvoker][INFO] - Execute flow with data {'answer': 'The Pacific Ocean is the warmest ocean.', 'ground_truth': 'The Indian Ocean is considered the warmest ocean.'}\n"
     ]
    },
    {
     "name": "stdout",
     "output_type": "stream",
     "text": [
      "2024-08-28 16:30:28 -0600   98230 execution.flow     INFO     Start executing nodes in thread pool mode.\n",
      "2024-08-28 16:30:28 -0600   98230 execution.flow     INFO     Start to run 2 nodes with concurrency level 16.\n",
      "2024-08-28 16:30:28 -0600   98230 execution.flow     INFO     Current thread is not main thread, skip signal handler registration in AsyncNodesScheduler.\n",
      "2024-08-28 16:30:28 -0600   98230 execution.flow     INFO     Node validate_inputs completes.\n",
      "2024-08-28 16:30:28 -0600   98230 execution.flow     INFO     Executing node validate_inputs. node run id: 2ff5ce9e-25fa-4f4c-b9b7-9092d952d330_validate_inputs_2f8aa878-9eef-45db-8f72-2c04df368e48\n",
      "2024-08-28 16:30:28 -0600   98230 execution.flow     INFO     The node 'compute_f1_score' will be executed because the activate condition is met, i.e. '${validate_inputs.output}' is equal to 'True'.\n",
      "2024-08-28 16:30:28 -0600   98230 execution.flow     INFO     Node compute_f1_score completes.\n",
      "2024-08-28 16:30:28 -0600   98230 execution.flow     INFO     Executing node compute_f1_score. node run id: 9ff41aea-d13f-4756-ab58-2975c93c2bf8_compute_f1_score_e4787587-b942-4fce-8895-d9c7597ee9bb\n"
     ]
    },
    {
     "name": "stderr",
     "output_type": "stream",
     "text": [
      "[2024-08-28 16:30:28 -0600][flowinvoker][INFO] - Validating flow input with data {'answer': 'The light bulb was invented by Nikola Tesla.', 'ground_truth': 'The light bulb was invented by Thomas Edison.'}\n",
      "[2024-08-28 16:30:28 -0600][flowinvoker][INFO] - Execute flow with data {'answer': 'The light bulb was invented by Nikola Tesla.', 'ground_truth': 'The light bulb was invented by Thomas Edison.'}\n"
     ]
    },
    {
     "name": "stdout",
     "output_type": "stream",
     "text": [
      "2024-08-28 16:30:28 -0600   98230 execution.flow     INFO     Start executing nodes in thread pool mode.\n",
      "2024-08-28 16:30:28 -0600   98230 execution.flow     INFO     Start to run 2 nodes with concurrency level 16.\n",
      "2024-08-28 16:30:28 -0600   98230 execution.flow     INFO     Current thread is not main thread, skip signal handler registration in AsyncNodesScheduler.\n",
      "2024-08-28 16:30:28 -0600   98230 execution.flow     INFO     Start executing nodes in thread pool mode.\n",
      "2024-08-28 16:30:28 -0600   98230 execution.flow     INFO     Executing node validate_inputs. node run id: 191c328e-3d1e-43a2-b09e-7ff36095baec_validate_inputs_d9c236e9-4cc0-4bde-9a15-2fae2c5bef8d\n",
      "2024-08-28 16:30:28 -0600   98230 execution.flow     INFO     Start to run 2 nodes with concurrency level 16.\n",
      "2024-08-28 16:30:28 -0600   98230 execution.flow     INFO     Current thread is not main thread, skip signal handler registration in AsyncNodesScheduler.\n",
      "2024-08-28 16:30:28 -0600   98230 execution.flow     INFO     Executing node validate_inputs. node run id: c28e45e2-4709-427c-80ca-673e16f910d5_validate_inputs_6e1918b4-dc1c-497a-8d9f-c03c12f5f558\n",
      "2024-08-28 16:30:28 -0600   98230 execution.flow     INFO     Start executing nodes in thread pool mode.\n",
      "2024-08-28 16:30:28 -0600   98230 execution.flow     INFO     Start to run 2 nodes with concurrency level 16.\n",
      "2024-08-28 16:30:28 -0600   98230 execution.flow     INFO     Current thread is not main thread, skip signal handler registration in AsyncNodesScheduler.\n",
      "2024-08-28 16:30:28 -0600   98230 execution.flow     INFO     Executing node validate_inputs. node run id: 95c2de07-77bc-4dd2-aad6-2a308e686498_validate_inputs_d7f3b4b9-3ecb-40c3-b279-6b120aa05bec\n",
      "2024-08-28 16:30:28 -0600   98230 execution.flow     INFO     Start executing nodes in thread pool mode.\n",
      "2024-08-28 16:30:28 -0600   98230 execution.flow     INFO     Start to run 2 nodes with concurrency level 16.\n",
      "2024-08-28 16:30:28 -0600   98230 execution.flow     INFO     Current thread is not main thread, skip signal handler registration in AsyncNodesScheduler.\n",
      "2024-08-28 16:30:28 -0600   98230 execution.flow     INFO     Executing node validate_inputs. node run id: e5f960f5-bec4-44fa-b888-57b0d87e467b_validate_inputs_81fa7bdb-7b75-4560-bf09-99c88f79c0e1\n",
      "2024-08-28 16:30:28 -0600   98230 execution.flow     INFO     Start executing nodes in thread pool mode.\n",
      "2024-08-28 16:30:28 -0600   98230 execution.flow     INFO     Start to run 2 nodes with concurrency level 16.\n",
      "2024-08-28 16:30:28 -0600   98230 execution.flow     INFO     Current thread is not main thread, skip signal handler registration in AsyncNodesScheduler.\n",
      "2024-08-28 16:30:28 -0600   98230 execution.flow     INFO     Executing node validate_inputs. node run id: eb749eee-5602-4799-8d3a-e79785cfc258_validate_inputs_53fa09dc-4ad1-4535-bdba-5a37bc6db3ee\n",
      "2024-08-28 16:30:28 -0600   98230 execution.flow     INFO     Node compute_f1_score completes.\n"
     ]
    },
    {
     "name": "stderr",
     "output_type": "stream",
     "text": [
      "[2024-08-28 16:30:28 -0600][flowinvoker][INFO] - Validating flow input with data {'answer': 'The first president of the United States was John Adams.', 'ground_truth': 'The first president of the United States was George Washington.'}\n",
      "[2024-08-28 16:30:28 -0600][flowinvoker][INFO] - Execute flow with data {'answer': 'The first president of the United States was John Adams.', 'ground_truth': 'The first president of the United States was George Washington.'}\n"
     ]
    },
    {
     "name": "stdout",
     "output_type": "stream",
     "text": [
      "2024-08-28 16:30:28 -0600   98230 execution.flow     INFO     Node validate_inputs completes.\n",
      "2024-08-28 16:30:28 -0600   98230 execution.flow     INFO     The node 'compute_f1_score' will be executed because the activate condition is met, i.e. '${validate_inputs.output}' is equal to 'True'.\n",
      "2024-08-28 16:30:28 -0600   98230 execution.flow     INFO     Executing node compute_f1_score. node run id: 5810ed63-d115-4a7b-9e4a-7898f4f8941c_compute_f1_score_f0bf40c5-ccd9-4c63-bd9e-9025b1fdc548\n",
      "2024-08-28 16:30:28 -0600   98230 execution.flow     INFO     Node validate_inputs completes.\n",
      "2024-08-28 16:30:28 -0600   98230 execution.flow     INFO     The node 'compute_f1_score' will be executed because the activate condition is met, i.e. '${validate_inputs.output}' is equal to 'True'.\n",
      "2024-08-28 16:30:28 -0600   98230 execution.flow     INFO     Executing node compute_f1_score. node run id: 2ff5ce9e-25fa-4f4c-b9b7-9092d952d330_compute_f1_score_35adad94-b623-42ef-8031-98df47e5517c\n",
      "2024-08-28 16:30:28 -0600   98230 execution.flow     INFO     Node compute_f1_score completes.\n",
      "2024-08-28 16:30:28 -0600   98230 execution.flow     INFO     Start executing nodes in thread pool mode.\n",
      "2024-08-28 16:30:28 -0600   98230 execution.flow     INFO     Node validate_inputs completes.\n",
      "2024-08-28 16:30:28 -0600   98230 execution.flow     INFO     Start to run 2 nodes with concurrency level 16.\n"
     ]
    },
    {
     "name": "stderr",
     "output_type": "stream",
     "text": [
      "[2024-08-28 16:30:28 -0600][flowinvoker][INFO] - Validating flow input with data {'answer': 'The formula for water is CO2.', 'ground_truth': 'The formula for water is H2O.'}\n",
      "[2024-08-28 16:30:28 -0600][flowinvoker][INFO] - Execute flow with data {'answer': 'The formula for water is CO2.', 'ground_truth': 'The formula for water is H2O.'}\n"
     ]
    },
    {
     "name": "stdout",
     "output_type": "stream",
     "text": [
      "2024-08-28 16:30:28 -0600   98230 execution.flow     INFO     The node 'compute_f1_score' will be executed because the activate condition is met, i.e. '${validate_inputs.output}' is equal to 'True'.\n",
      "2024-08-28 16:30:28 -0600   98230 execution.flow     INFO     Node validate_inputs completes.\n",
      "2024-08-28 16:30:28 -0600   98230 execution.flow     INFO     Current thread is not main thread, skip signal handler registration in AsyncNodesScheduler.\n",
      "2024-08-28 16:30:28 -0600   98230 execution.flow     INFO     Executing node compute_f1_score. node run id: c28e45e2-4709-427c-80ca-673e16f910d5_compute_f1_score_c4e2598f-a9df-415e-aa3b-03959a008394\n",
      "2024-08-28 16:30:28 -0600   98230 execution.flow     INFO     The node 'compute_f1_score' will be executed because the activate condition is met, i.e. '${validate_inputs.output}' is equal to 'True'.\n",
      "2024-08-28 16:30:28 -0600   98230 execution.flow     INFO     Executing node validate_inputs. node run id: 2c2e9be5-395d-4687-9ced-e7602772a741_validate_inputs_4e99dbc5-0418-473e-82cd-4b20b858261d\n",
      "2024-08-28 16:30:28 -0600   98230 execution.flow     INFO     Executing node compute_f1_score. node run id: 191c328e-3d1e-43a2-b09e-7ff36095baec_compute_f1_score_e8cadcf6-278e-46c7-adfb-c5d21b6ed554\n",
      "2024-08-28 16:30:28 -0600   98230 execution.flow     INFO     Node validate_inputs completes.\n",
      "2024-08-28 16:30:28 -0600   98230 execution.flow     INFO     Node validate_inputs completes.\n",
      "2024-08-28 16:30:28 -0600   98230 execution.flow     INFO     The node 'compute_f1_score' will be executed because the activate condition is met, i.e. '${validate_inputs.output}' is equal to 'True'.\n",
      "2024-08-28 16:30:28 -0600   98230 execution.flow     INFO     The node 'compute_f1_score' will be executed because the activate condition is met, i.e. '${validate_inputs.output}' is equal to 'True'.\n",
      "2024-08-28 16:30:28 -0600   98230 execution.flow     INFO     Executing node compute_f1_score. node run id: 95c2de07-77bc-4dd2-aad6-2a308e686498_compute_f1_score_b220d8ff-6398-4a47-bb15-18d7a980591f\n",
      "2024-08-28 16:30:28 -0600   98230 execution.flow     INFO     Executing node compute_f1_score. node run id: e5f960f5-bec4-44fa-b888-57b0d87e467b_compute_f1_score_fd2ec1ea-393b-4875-ba92-294184a2814e\n",
      "2024-08-28 16:30:28 -0600   98230 execution.flow     INFO     Start executing nodes in thread pool mode.\n",
      "2024-08-28 16:30:28 -0600   98230 execution.flow     INFO     Start to run 2 nodes with concurrency level 16.\n",
      "2024-08-28 16:30:28 -0600   98230 execution.flow     INFO     Current thread is not main thread, skip signal handler registration in AsyncNodesScheduler.\n",
      "2024-08-28 16:30:28 -0600   98230 execution.flow     INFO     Executing node validate_inputs. node run id: 74ccfcfd-9430-4123-b99c-f5a03729ed32_validate_inputs_b4783d57-6674-4bed-90d6-238be15dfb1e\n",
      "2024-08-28 16:30:28 -0600   98230 execution.flow     INFO     Node validate_inputs completes.\n",
      "2024-08-28 16:30:28 -0600   98230 execution.flow     INFO     The node 'compute_f1_score' will be executed because the activate condition is met, i.e. '${validate_inputs.output}' is equal to 'True'.\n",
      "2024-08-28 16:30:28 -0600   98230 execution.flow     INFO     Executing node compute_f1_score. node run id: eb749eee-5602-4799-8d3a-e79785cfc258_compute_f1_score_fade9001-ba60-4206-b156-3f7361f53ef4\n",
      "2024-08-28 16:30:28 -0600   98230 execution.flow     INFO     Node compute_f1_score completes.\n"
     ]
    },
    {
     "name": "stderr",
     "output_type": "stream",
     "text": [
      "[2024-08-28 16:30:28 -0600][flowinvoker][INFO] - Validating flow input with data {'answer': 'The tallest building in the world is the Empire State Building.', 'ground_truth': 'The tallest building in the world is the Burj Khalifa.'}\n",
      "[2024-08-28 16:30:28 -0600][flowinvoker][INFO] - Execute flow with data {'answer': 'The tallest building in the world is the Empire State Building.', 'ground_truth': 'The tallest building in the world is the Burj Khalifa.'}\n"
     ]
    },
    {
     "name": "stdout",
     "output_type": "stream",
     "text": [
      "2024-08-28 16:30:28 -0600   98230 execution.flow     INFO     Node compute_f1_score completes.\n",
      "2024-08-28 16:30:28 -0600   98230 execution.flow     INFO     Node validate_inputs completes.\n",
      "2024-08-28 16:30:28 -0600   98230 execution.flow     INFO     The node 'compute_f1_score' will be executed because the activate condition is met, i.e. '${validate_inputs.output}' is equal to 'True'.\n",
      "2024-08-28 16:30:28 -0600   98230 execution.flow     INFO     Executing node compute_f1_score. node run id: 2c2e9be5-395d-4687-9ced-e7602772a741_compute_f1_score_17eeb3a2-8f31-483a-b548-6cf70ca8d22b\n",
      "2024-08-28 16:30:28 -0600   98230 execution.flow     INFO     Node compute_f1_score completes.\n",
      "2024-08-28 16:30:28 -0600   98230 execution.flow     INFO     Node compute_f1_score completes.\n",
      "2024-08-28 16:30:28 -0600   98230 execution.flow     INFO     Start executing nodes in thread pool mode.\n",
      "2024-08-28 16:30:28 -0600   98230 execution.flow     INFO     Start to run 2 nodes with concurrency level 16.\n",
      "2024-08-28 16:30:28 -0600   98230 execution.flow     INFO     Current thread is not main thread, skip signal handler registration in AsyncNodesScheduler.\n",
      "2024-08-28 16:30:28 -0600   98230 execution.flow     INFO     Executing node validate_inputs. node run id: c0ee2750-4269-4844-9da3-9c5e335aac26_validate_inputs_4f2fa884-1a18-4d65-b6d0-510a3d571f76\n",
      "2024-08-28 16:30:28 -0600   98230 execution.flow     INFO     Node compute_f1_score completes.\n",
      "2024-08-28 16:30:28 -0600   98230 execution.flow     INFO     Node compute_f1_score completes.\n",
      "2024-08-28 16:30:28 -0600   98230 execution.flow     INFO     Node validate_inputs completes.\n",
      "2024-08-28 16:30:28 -0600   98230 execution.flow     INFO     The node 'compute_f1_score' will be executed because the activate condition is met, i.e. '${validate_inputs.output}' is equal to 'True'.\n",
      "2024-08-28 16:30:28 -0600   98230 execution.flow     INFO     Executing node compute_f1_score. node run id: 74ccfcfd-9430-4123-b99c-f5a03729ed32_compute_f1_score_3637025a-9429-41dc-9cf1-0d89911cf6ee\n",
      "2024-08-28 16:30:28 -0600   98230 execution.flow     INFO     Node compute_f1_score completes.\n",
      "2024-08-28 16:30:28 -0600   98230 execution.flow     INFO     Node validate_inputs completes.\n",
      "2024-08-28 16:30:28 -0600   98230 execution.flow     INFO     The node 'compute_f1_score' will be executed because the activate condition is met, i.e. '${validate_inputs.output}' is equal to 'True'.\n",
      "2024-08-28 16:30:28 -0600   98230 execution.flow     INFO     Executing node compute_f1_score. node run id: c0ee2750-4269-4844-9da3-9c5e335aac26_compute_f1_score_8448f538-7da1-4465-be48-1fb4ab572de6\n",
      "2024-08-28 16:30:28 -0600   98230 execution.flow     INFO     Node compute_f1_score completes.\n",
      "2024-08-28 16:30:28 -0600   98230 execution.flow     INFO     Node compute_f1_score completes.\n",
      "2024-08-28 16:30:28 -0600   98230 execution.flow     INFO     Node compute_f1_score completes.\n"
     ]
    },
    {
     "name": "stderr",
     "output_type": "stream",
     "text": [
      "2024/08/28 16:30:42 INFO mlflow.tracking._tracking_service.client: 🏃 View run modest_table_07kdrty4 at: https://eastus.api.azureml.ms/mlflow/v2.0/subscriptions/28d2df62-e322-4b25-b581-c43b94bd2607/resourceGroups/uhg-advassist-slm-eval/providers/Microsoft.MachineLearningServices/workspaces/slm-evaluation/#/experiments/d8f2318e-fd83-488e-bd9b-deca311699d7/runs/bc5b6083-d817-4cc1-8c4a-4737e680c48a.\n",
      "2024/08/28 16:30:42 INFO mlflow.tracking._tracking_service.client: 🧪 View experiment at: https://eastus.api.azureml.ms/mlflow/v2.0/subscriptions/28d2df62-e322-4b25-b581-c43b94bd2607/resourceGroups/uhg-advassist-slm-eval/providers/Microsoft.MachineLearningServices/workspaces/slm-evaluation/#/experiments/d8f2318e-fd83-488e-bd9b-deca311699d7.\n"
     ]
    }
   ],
   "source": [
    "data_input_path = os.path.join(TARGET_DIRECTORY, \"my_utils\", \"data\", \"evaluations\", \"jsonl\", \"F1ScoreEvaluator.jsonl\")\n",
    "\n",
    "result = evaluate(\n",
    "    data=data_input_path,\n",
    "    evaluators={\n",
    "        \"qa_eval\": qa_eval,\n",
    "        \"context_similarity\": context_similarity\n",
    "    },\n",
    "    # column mapping\n",
    "    evaluator_config={\n",
    "        \"qa_eval\": {\n",
    "            \"answer\": \"${data.answer}\",\n",
    "            \"ground_truth\": \"${data.ground_truth}\",\n",
    "        },\n",
    "        \"context_similarity\": {\n",
    "            \"question\": \"${data.question}\",\n",
    "            \"answer\": \"${data.answer}\",\n",
    "            \"ground_truth\": \"${data.ground_truth}\",\n",
    "        }\n",
    "    },\n",
    "    azure_ai_project=azure_ai_project\n",
    ")"
   ]
  },
  {
   "cell_type": "code",
   "execution_count": 17,
   "metadata": {},
   "outputs": [
    {
     "name": "stdout",
     "output_type": "stream",
     "text": [
      "{'metrics': {'context_similarity.gpt_similarity': 2.9130434782608696,\n",
      "             'qa_eval.f1_score': 0.7724547511312218},\n",
      " 'rows': [{'inputs.answer': 'Paris is the capital of France.',\n",
      "           'inputs.ground_truth': 'The capital of France is Paris.',\n",
      "           'inputs.question': 'What is the capital of France?',\n",
      "           'line_number': 0,\n",
      "           'outputs.context_similarity.gpt_similarity': 5.0,\n",
      "           'outputs.qa_eval.f1_score': 1.0},\n",
      "          {'inputs.answer': 'Albert Einstein developed the theory of '\n",
      "                            'relativity.',\n",
      "           'inputs.ground_truth': 'The theory of relativity was developed by '\n",
      "                                  'Albert Einstein.',\n",
      "           'inputs.question': 'Who developed the theory of relativity?',\n",
      "           'line_number': 1,\n",
      "           'outputs.context_similarity.gpt_similarity': 5.0,\n",
      "           'outputs.qa_eval.f1_score': 0.8571428571428571},\n",
      "          {'inputs.answer': 'The speed of light is approximately 299,792,458 '\n",
      "                            'meters per second.',\n",
      "           'inputs.ground_truth': 'Light travels at a speed of 299,792,458 '\n",
      "                                  'meters per second.',\n",
      "           'inputs.question': 'What is the speed of light?',\n",
      "           'line_number': 2,\n",
      "           'outputs.context_similarity.gpt_similarity': 5.0,\n",
      "           'outputs.qa_eval.f1_score': 0.7777777777777778},\n",
      "          {'inputs.answer': 'Mount Everest is the tallest mountain in the '\n",
      "                            'world.',\n",
      "           'inputs.ground_truth': \"The world's tallest mountain is Mount \"\n",
      "                                  'Everest.',\n",
      "           'inputs.question': 'Which is the tallest mountain in the world?',\n",
      "           'line_number': 3,\n",
      "           'outputs.context_similarity.gpt_similarity': 5.0,\n",
      "           'outputs.qa_eval.f1_score': 0.7692307692307692},\n",
      "          {'inputs.answer': \"George Orwell is the author of '1984'.\",\n",
      "           'inputs.ground_truth': \"The author of '1984' is George Orwell.\",\n",
      "           'inputs.question': \"Who wrote '1984'?\",\n",
      "           'line_number': 4,\n",
      "           'outputs.context_similarity.gpt_similarity': 5.0,\n",
      "           'outputs.qa_eval.f1_score': 1.0},\n",
      "          {'inputs.answer': 'Tokyo is the capital of Japan.',\n",
      "           'inputs.ground_truth': \"Japan's capital is Tokyo.\",\n",
      "           'inputs.question': 'What is the capital of Japan?',\n",
      "           'line_number': 5,\n",
      "           'outputs.context_similarity.gpt_similarity': 5.0,\n",
      "           'outputs.qa_eval.f1_score': 0.6666666666666665},\n",
      "          {'inputs.answer': 'Leonardo da Vinci painted the Mona Lisa.',\n",
      "           'inputs.ground_truth': 'The Mona Lisa was painted by Leonardo da '\n",
      "                                  'Vinci.',\n",
      "           'inputs.question': 'Who painted the Mona Lisa?',\n",
      "           'line_number': 6,\n",
      "           'outputs.context_similarity.gpt_similarity': 5.0,\n",
      "           'outputs.qa_eval.f1_score': 0.8571428571428571},\n",
      "          {'inputs.answer': 'Jupiter is the largest planet in our solar '\n",
      "                            'system.',\n",
      "           'inputs.ground_truth': 'The largest planet in our solar system is '\n",
      "                                  'Jupiter.',\n",
      "           'inputs.question': 'What is the largest planet in our solar system?',\n",
      "           'line_number': 7,\n",
      "           'outputs.context_similarity.gpt_similarity': 5.0,\n",
      "           'outputs.qa_eval.f1_score': 1.0},\n",
      "          {'inputs.answer': 'H2O is the chemical symbol for water.',\n",
      "           'inputs.ground_truth': 'The chemical symbol for water is H2O.',\n",
      "           'inputs.question': 'What is the chemical symbol for water?',\n",
      "           'line_number': 8,\n",
      "           'outputs.context_similarity.gpt_similarity': 5.0,\n",
      "           'outputs.qa_eval.f1_score': 1.0},\n",
      "          {'inputs.answer': 'The Pacific Ocean is the largest ocean on Earth.',\n",
      "           'inputs.ground_truth': 'The largest ocean on Earth is the Pacific '\n",
      "                                  'Ocean.',\n",
      "           'inputs.question': 'What is the largest ocean on Earth?',\n",
      "           'line_number': 9,\n",
      "           'outputs.context_similarity.gpt_similarity': 5.0,\n",
      "           'outputs.qa_eval.f1_score': 1.0},\n",
      "          {'inputs.answer': 'The Great Pyramid of Giza was built by Alexander '\n",
      "                            'the Great.',\n",
      "           'inputs.ground_truth': 'The Great Pyramid of Giza was built by the '\n",
      "                                  'Egyptians.',\n",
      "           'inputs.question': 'Who built the Great Pyramid of Giza?',\n",
      "           'line_number': 10,\n",
      "           'outputs.context_similarity.gpt_similarity': nan,\n",
      "           'outputs.qa_eval.f1_score': 0.823529411764706},\n",
      "          {'inputs.answer': 'The human body has four senses.',\n",
      "           'inputs.ground_truth': 'The human body has five primary senses.',\n",
      "           'inputs.question': 'How many primary senses does the human body '\n",
      "                              'have?',\n",
      "           'line_number': 11,\n",
      "           'outputs.context_similarity.gpt_similarity': 1.0,\n",
      "           'outputs.qa_eval.f1_score': 0.7272727272727272},\n",
      "          {'inputs.answer': 'The Amazon is the longest river in the world.',\n",
      "           'inputs.ground_truth': 'The Nile is often cited as the longest '\n",
      "                                  'river in the world, but some sources claim '\n",
      "                                  'the Amazon is longer.',\n",
      "           'inputs.question': 'What is the longest river in the world?',\n",
      "           'line_number': 12,\n",
      "           'outputs.context_similarity.gpt_similarity': nan,\n",
      "           'outputs.qa_eval.f1_score': 0.5454545454545454},\n",
      "          {'inputs.answer': 'The internet was invented in the 1960s.',\n",
      "           'inputs.ground_truth': 'The foundational technology of the internet '\n",
      "                                  'was developed in the late 1960s.',\n",
      "           'inputs.question': 'When was the internet invented?',\n",
      "           'line_number': 13,\n",
      "           'outputs.context_similarity.gpt_similarity': nan,\n",
      "           'outputs.qa_eval.f1_score': 0.5714285714285714},\n",
      "          {'inputs.answer': 'The heart is on the right side of the human body.',\n",
      "           'inputs.ground_truth': 'The heart is located slightly to the left '\n",
      "                                  'side of the chest in the human body.',\n",
      "           'inputs.question': 'Where is the heart located in the human body?',\n",
      "           'line_number': 14,\n",
      "           'outputs.context_similarity.gpt_similarity': 1.0,\n",
      "           'outputs.qa_eval.f1_score': 0.6},\n",
      "          {'inputs.answer': 'The sun revolves around the Earth.',\n",
      "           'inputs.ground_truth': 'The Earth revolves around the sun.',\n",
      "           'inputs.question': 'Does the Earth revolve around the sun, or does '\n",
      "                              'the sun revolve around the Earth?',\n",
      "           'line_number': 15,\n",
      "           'outputs.context_similarity.gpt_similarity': 1.0,\n",
      "           'outputs.qa_eval.f1_score': 1.0},\n",
      "          {'inputs.answer': 'Sharks are mammals.',\n",
      "           'inputs.ground_truth': 'Sharks are a group of fish characterized by '\n",
      "                                  'a cartilaginous skeleton.',\n",
      "           'inputs.question': 'Are sharks mammals or fish?',\n",
      "           'line_number': 16,\n",
      "           'outputs.context_similarity.gpt_similarity': 1.0,\n",
      "           'outputs.qa_eval.f1_score': 0.3333333333333333},\n",
      "          {'inputs.answer': 'The capital of Canada is Toronto.',\n",
      "           'inputs.ground_truth': 'The capital of Canada is Ottawa.',\n",
      "           'inputs.question': 'What is the capital of Canada?',\n",
      "           'line_number': 17,\n",
      "           'outputs.context_similarity.gpt_similarity': nan,\n",
      "           'outputs.qa_eval.f1_score': 0.8000000000000002},\n",
      "          {'inputs.answer': 'The inventor of the telephone was Thomas Edison.',\n",
      "           'inputs.ground_truth': 'Alexander Graham Bell is credited with '\n",
      "                                  'inventing the first practical telephone.',\n",
      "           'inputs.question': 'Who invented the telephone?',\n",
      "           'line_number': 18,\n",
      "           'outputs.context_similarity.gpt_similarity': 1.0,\n",
      "           'outputs.qa_eval.f1_score': 0.125},\n",
      "          {'inputs.answer': 'The chemical symbol for gold is Ag.',\n",
      "           'inputs.ground_truth': 'The chemical symbol for gold is Au.',\n",
      "           'inputs.question': 'What is the chemical symbol for gold?',\n",
      "           'line_number': 19,\n",
      "           'outputs.context_similarity.gpt_similarity': 1.0,\n",
      "           'outputs.qa_eval.f1_score': 0.8333333333333334},\n",
      "          {'inputs.answer': 'The largest desert in the world is the Sahara.',\n",
      "           'inputs.ground_truth': 'The largest desert in the world is '\n",
      "                                  'Antarctica.',\n",
      "           'inputs.question': 'What is the largest desert in the world?',\n",
      "           'line_number': 20,\n",
      "           'outputs.context_similarity.gpt_similarity': nan,\n",
      "           'outputs.qa_eval.f1_score': 0.8333333333333334},\n",
      "          {'inputs.answer': 'The first man to step on the moon was Lance '\n",
      "                            'Armstrong.',\n",
      "           'inputs.ground_truth': 'The first man to step on the moon was Neil '\n",
      "                                  'Armstrong.',\n",
      "           'inputs.question': 'Who was the first man to step on the moon?',\n",
      "           'line_number': 21,\n",
      "           'outputs.context_similarity.gpt_similarity': nan,\n",
      "           'outputs.qa_eval.f1_score': 0.8888888888888888},\n",
      "          {'inputs.answer': 'The capital of Egypt is Cairo.',\n",
      "           'inputs.ground_truth': 'The capital of Egypt is Cairo.',\n",
      "           'inputs.question': 'What is the capital of Egypt?',\n",
      "           'line_number': 22,\n",
      "           'outputs.context_similarity.gpt_similarity': 5.0,\n",
      "           'outputs.qa_eval.f1_score': 1.0},\n",
      "          {'inputs.answer': 'Photosynthesis is performed by animals.',\n",
      "           'inputs.ground_truth': 'Photosynthesis is performed by plants.',\n",
      "           'inputs.question': 'Who performs photosynthesis?',\n",
      "           'line_number': 23,\n",
      "           'outputs.context_similarity.gpt_similarity': 1.0,\n",
      "           'outputs.qa_eval.f1_score': 0.8000000000000002},\n",
      "          {'inputs.answer': 'The smallest bone in the human body is the femur.',\n",
      "           'inputs.ground_truth': 'The smallest bone in the human body is the '\n",
      "                                  'stapes bone in the ear.',\n",
      "           'inputs.question': 'What is the smallest bone in the human body?',\n",
      "           'line_number': 24,\n",
      "           'outputs.context_similarity.gpt_similarity': 1.0,\n",
      "           'outputs.qa_eval.f1_score': 0.7058823529411764},\n",
      "          {'inputs.answer': 'The Pacific Ocean is the warmest ocean.',\n",
      "           'inputs.ground_truth': 'The Indian Ocean is considered the warmest '\n",
      "                                  'ocean.',\n",
      "           'inputs.question': 'Which is the warmest ocean?',\n",
      "           'line_number': 25,\n",
      "           'outputs.context_similarity.gpt_similarity': 1.0,\n",
      "           'outputs.qa_eval.f1_score': 0.7272727272727272},\n",
      "          {'inputs.answer': 'The light bulb was invented by Nikola Tesla.',\n",
      "           'inputs.ground_truth': 'The light bulb was invented by Thomas '\n",
      "                                  'Edison.',\n",
      "           'inputs.question': 'Who invented the light bulb?',\n",
      "           'line_number': 26,\n",
      "           'outputs.context_similarity.gpt_similarity': 1.0,\n",
      "           'outputs.qa_eval.f1_score': 0.7142857142857143},\n",
      "          {'inputs.answer': 'The first president of the United States was John '\n",
      "                            'Adams.',\n",
      "           'inputs.ground_truth': 'The first president of the United States '\n",
      "                                  'was George Washington.',\n",
      "           'inputs.question': 'Who was the first president of the United '\n",
      "                              'States?',\n",
      "           'line_number': 27,\n",
      "           'outputs.context_similarity.gpt_similarity': 1.0,\n",
      "           'outputs.qa_eval.f1_score': 0.75},\n",
      "          {'inputs.answer': 'The formula for water is CO2.',\n",
      "           'inputs.ground_truth': 'The formula for water is H2O.',\n",
      "           'inputs.question': 'What is the formula for water?',\n",
      "           'line_number': 28,\n",
      "           'outputs.context_similarity.gpt_similarity': 1.0,\n",
      "           'outputs.qa_eval.f1_score': 0.8000000000000002},\n",
      "          {'inputs.answer': 'The tallest building in the world is the Empire '\n",
      "                            'State Building.',\n",
      "           'inputs.ground_truth': 'The tallest building in the world is the '\n",
      "                                  'Burj Khalifa.',\n",
      "           'inputs.question': 'What is the tallest building in the world?',\n",
      "           'line_number': 29,\n",
      "           'outputs.context_similarity.gpt_similarity': nan,\n",
      "           'outputs.qa_eval.f1_score': 0.6666666666666666}],\n",
      " 'studio_url': 'https://ai.azure.com/build/evaluation/bc5b6083-d817-4cc1-8c4a-4737e680c48a?wsid=/subscriptions/28d2df62-e322-4b25-b581-c43b94bd2607/resourceGroups/uhg-advassist-slm-eval/providers/Microsoft.MachineLearningServices/workspaces/slm-evaluation'}\n"
     ]
    }
   ],
   "source": [
    "pprint(result)"
   ]
  },
  {
   "cell_type": "markdown",
   "metadata": {},
   "source": [
    "#### Scenario 2: Integration of Custom Evaluation with Built-in PromptFlow for Enhanced Contextual Accuracy in Q&A Matching\n",
    "\n",
    "**Objective**: To enhance the evaluation of our AI bot's (LLM/SLM) performance in responding to user queries, we have developed a custom evaluation framework. This framework focuses on the accuracy of responses and their contextual understanding, utilizing a predefined ground truth for comparison. It is designed to complement and extend the built-in evaluation methods provided by PromptFlow.\n",
    "\n",
    "**Custom Evaluation Framework**:\n",
    "- **Implementation**: We have implemented a custom evaluation module, `SemanticSimilarityEvaluator`, leveraging the `transformers` library to utilize pre-trained models for semantic similarity assessments.\n",
    "- **Functionality**: This module calculates the semantic similarity between the AI bot's response and the ground truth. It uses embeddings generated by a pre-trained model (`bert-base-uncased`) and computes cosine similarity to quantify semantic closeness.\n",
    "\n",
    "**Integration with PromptFlow**:\n",
    "- Our custom evaluation is seamlessly integrated with PromptFlow's built-in evaluation methods. This combination allows for a comprehensive assessment that covers both the nuanced contextual understanding and the accuracy of the AI bot's responses.\n",
    "- **Input**: User queries across various topics and complexities.\n",
    "- **AI Bot**: Our system, tasked with generating responses.\n",
    "- **Evaluation Criteria**:\n",
    "  - **Contextual Understanding**: Assesses the AI bot's grasp of the query's context and intent.\n",
    "  - **Response Accuracy**: Measures the alignment of the AI bot's responses with the expected answers, enriched by our custom semantic similarity evaluation.\n",
    "\n",
    "**Goal**: To ascertain the efficacy of our AI bot in providing contextually accurate and precise responses, leveraging both our custom evaluation and PromptFlow's built-in methods to highlight areas for improvement and ensure comprehensive coverage of evaluation metrics."
   ]
  },
  {
   "cell_type": "code",
   "execution_count": 19,
   "metadata": {},
   "outputs": [],
   "source": [
    "from src.quality.custom.custom_similarity import SemanticSimilarityEvaluator"
   ]
  },
  {
   "cell_type": "code",
   "execution_count": 20,
   "metadata": {},
   "outputs": [],
   "source": [
    "semantic_similarity_eval = SemanticSimilarityEvaluator(model_name='bert-base-uncased')"
   ]
  },
  {
   "cell_type": "code",
   "execution_count": 22,
   "metadata": {},
   "outputs": [
    {
     "name": "stderr",
     "output_type": "stream",
     "text": [
      "[2024-08-28 16:42:01 -0600][flowinvoker][INFO] - Validating flow input with data {'answer': 'Paris is the capital of France.', 'ground_truth': 'The capital of France is Paris.'}\n",
      "[2024-08-28 16:42:01 -0600][flowinvoker][INFO] - Validating flow input with data {'answer': 'Albert Einstein developed the theory of relativity.', 'ground_truth': 'The theory of relativity was developed by Albert Einstein.'}\n",
      "[2024-08-28 16:42:01 -0600][flowinvoker][INFO] - Execute flow with data {'answer': 'Paris is the capital of France.', 'ground_truth': 'The capital of France is Paris.'}\n",
      "[2024-08-28 16:42:01 -0600][flowinvoker][INFO] - Validating flow input with data {'answer': 'The speed of light is approximately 299,792,458 meters per second.', 'ground_truth': 'Light travels at a speed of 299,792,458 meters per second.'}\n",
      "[2024-08-28 16:42:01 -0600][flowinvoker][INFO] - Validating flow input with data {'answer': 'Mount Everest is the tallest mountain in the world.', 'ground_truth': \"The world's tallest mountain is Mount Everest.\"}\n",
      "[2024-08-28 16:42:01 -0600][flowinvoker][INFO] - Execute flow with data {'answer': 'Albert Einstein developed the theory of relativity.', 'ground_truth': 'The theory of relativity was developed by Albert Einstein.'}\n",
      "[2024-08-28 16:42:01 -0600][flowinvoker][INFO] - Validating flow input with data {'answer': \"George Orwell is the author of '1984'.\", 'ground_truth': \"The author of '1984' is George Orwell.\"}\n",
      "[2024-08-28 16:42:01 -0600][flowinvoker][INFO] - Execute flow with data {'answer': 'The speed of light is approximately 299,792,458 meters per second.', 'ground_truth': 'Light travels at a speed of 299,792,458 meters per second.'}\n",
      "[2024-08-28 16:42:01 -0600][flowinvoker][INFO] - Execute flow with data {'answer': 'Mount Everest is the tallest mountain in the world.', 'ground_truth': \"The world's tallest mountain is Mount Everest.\"}\n",
      "[2024-08-28 16:42:01 -0600][flowinvoker][INFO] - Validating flow input with data {'answer': 'Tokyo is the capital of Japan.', 'ground_truth': \"Japan's capital is Tokyo.\"}\n",
      "[2024-08-28 16:42:01 -0600][flowinvoker][INFO] - Execute flow with data {'answer': \"George Orwell is the author of '1984'.\", 'ground_truth': \"The author of '1984' is George Orwell.\"}\n",
      "[2024-08-28 16:42:01 -0600][flowinvoker][INFO] - Execute flow with data {'answer': 'Tokyo is the capital of Japan.', 'ground_truth': \"Japan's capital is Tokyo.\"}\n"
     ]
    },
    {
     "name": "stdout",
     "output_type": "stream",
     "text": [
      "2024-08-28 16:42:01 -0600   98230 execution.flow     INFO     Start executing nodes in thread pool mode.\n",
      "2024-08-28 16:42:01 -0600   98230 execution.flow     INFO     Start to run 2 nodes with concurrency level 16.\n",
      "2024-08-28 16:42:01 -0600   98230 execution.flow     INFO     Current thread is not main thread, skip signal handler registration in AsyncNodesScheduler.\n",
      "2024-08-28 16:42:01 -0600   98230 execution.flow     INFO     Executing node validate_inputs. node run id: 7a8faf65-16c3-45a4-ae3b-d13effca4fca_validate_inputs_5ce0629a-043b-46c7-9c9a-9cab9a861e15\n",
      "2024-08-28 16:42:01 -0600   98230 execution.flow     INFO     Start executing nodes in thread pool mode.\n",
      "2024-08-28 16:42:01 -0600   98230 execution.flow     INFO     Start to run 2 nodes with concurrency level 16.\n",
      "2024-08-28 16:42:01 -0600   98230 execution.flow     INFO     Current thread is not main thread, skip signal handler registration in AsyncNodesScheduler.\n",
      "2024-08-28 16:42:01 -0600   98230 execution.flow     INFO     Executing node validate_inputs. node run id: 605ac902-6a96-4898-9236-b0c66b7379bf_validate_inputs_a353cff0-c0cb-4163-89e8-cb1a2dee75a3\n",
      "2024-08-28 16:42:01 -0600   98230 execution.flow     INFO     Start executing nodes in thread pool mode.\n",
      "2024-08-28 16:42:01 -0600   98230 execution.flow     INFO     Start to run 2 nodes with concurrency level 16.\n",
      "2024-08-28 16:42:01 -0600   98230 execution.flow     INFO     Current thread is not main thread, skip signal handler registration in AsyncNodesScheduler.\n",
      "2024-08-28 16:42:01 -0600   98230 execution.flow     INFO     Executing node validate_inputs. node run id: 05f7f915-2e87-445a-869b-54d8d4f582da_validate_inputs_1bd0dd36-2839-42d7-b6e4-c23941023b9f\n",
      "2024-08-28 16:42:01 -0600   98230 execution.flow     INFO     Start executing nodes in thread pool mode.\n",
      "2024-08-28 16:42:01 -0600   98230 execution.flow     INFO     Start to run 2 nodes with concurrency level 16.\n",
      "2024-08-28 16:42:01 -0600   98230 execution.flow     INFO     Current thread is not main thread, skip signal handler registration in AsyncNodesScheduler.\n",
      "2024-08-28 16:42:01 -0600   98230 execution.flow     INFO     Executing node validate_inputs. node run id: 5c4f5613-efa9-4201-8c73-7817c6bb11b7_validate_inputs_a06f076e-7158-46e2-91d1-a5150f365ed9\n",
      "2024-08-28 16:42:01 -0600   98230 execution.flow     INFO     Start executing nodes in thread pool mode.\n",
      "2024-08-28 16:42:01 -0600   98230 execution.flow     INFO     Start to run 2 nodes with concurrency level 16.\n",
      "2024-08-28 16:42:01 -0600   98230 execution.flow     INFO     Current thread is not main thread, skip signal handler registration in AsyncNodesScheduler.\n",
      "2024-08-28 16:42:01 -0600   98230 execution.flow     INFO     Executing node validate_inputs. node run id: aca1fdbd-0f42-4eff-8320-6ba6185aa402_validate_inputs_09813af8-83ff-4bf2-9c4c-649bd6c63ea4\n",
      "2024-08-28 16:42:01 -0600   98230 execution.flow     INFO     Start executing nodes in thread pool mode.\n",
      "2024-08-28 16:42:01 -0600   98230 execution.flow     INFO     Start to run 2 nodes with concurrency level 16.\n",
      "2024-08-28 16:42:01 -0600   98230 execution.flow     INFO     Current thread is not main thread, skip signal handler registration in AsyncNodesScheduler.\n",
      "2024-08-28 16:42:01 -0600   98230 execution.flow     INFO     Executing node validate_inputs. node run id: 2ea2b3d6-1103-439d-9e90-aedcfd423aa5_validate_inputs_1c673a72-5b2c-4883-9574-296b6cfba66e\n",
      "2024-08-28 16:42:01 -0600   98230 execution.flow     INFO     Node validate_inputs completes.\n",
      "2024-08-28 16:42:01 -0600   98230 execution.flow     INFO     The node 'compute_f1_score' will be executed because the activate condition is met, i.e. '${validate_inputs.output}' is equal to 'True'.\n",
      "2024-08-28 16:42:01 -0600   98230 execution.flow     INFO     Executing node compute_f1_score. node run id: 5c4f5613-efa9-4201-8c73-7817c6bb11b7_compute_f1_score_2a49f250-fc31-4c50-a816-29d54914ae67\n",
      "2024-08-28 16:42:01 -0600   98230 execution.flow     INFO     Node validate_inputs completes.\n",
      "2024-08-28 16:42:01 -0600   98230 execution.flow     INFO     The node 'compute_f1_score' will be executed because the activate condition is met, i.e. '${validate_inputs.output}' is equal to 'True'.\n",
      "2024-08-28 16:42:01 -0600   98230 execution.flow     INFO     Executing node compute_f1_score. node run id: 7a8faf65-16c3-45a4-ae3b-d13effca4fca_compute_f1_score_65d822e2-7e53-46e3-af09-d042b14055b0\n",
      "2024-08-28 16:42:01 -0600   98230 execution.flow     INFO     Node validate_inputs completes.\n",
      "2024-08-28 16:42:01 -0600   98230 execution.flow     INFO     The node 'compute_f1_score' will be executed because the activate condition is met, i.e. '${validate_inputs.output}' is equal to 'True'.\n",
      "2024-08-28 16:42:01 -0600   98230 execution.flow     INFO     Executing node compute_f1_score. node run id: 05f7f915-2e87-445a-869b-54d8d4f582da_compute_f1_score_64d22b72-a5ff-423b-864c-f4df8e088021\n",
      "2024-08-28 16:42:01 -0600   98230 execution.flow     INFO     Node validate_inputs completes.\n",
      "2024-08-28 16:42:01 -0600   98230 execution.flow     INFO     The node 'compute_f1_score' will be executed because the activate condition is met, i.e. '${validate_inputs.output}' is equal to 'True'.\n",
      "2024-08-28 16:42:01 -0600   98230 execution.flow     INFO     Executing node compute_f1_score. node run id: 605ac902-6a96-4898-9236-b0c66b7379bf_compute_f1_score_99a8c775-5819-4e20-8e8e-092a821fa862\n",
      "2024-08-28 16:42:01 -0600   98230 execution.flow     INFO     Node validate_inputs completes.\n",
      "2024-08-28 16:42:01 -0600   98230 execution.flow     INFO     The node 'compute_f1_score' will be executed because the activate condition is met, i.e. '${validate_inputs.output}' is equal to 'True'.\n",
      "2024-08-28 16:42:01 -0600   98230 execution.flow     INFO     Executing node compute_f1_score. node run id: aca1fdbd-0f42-4eff-8320-6ba6185aa402_compute_f1_score_7414398b-4ac0-4466-b8cb-88cc81e563f9\n",
      "2024-08-28 16:42:01 -0600   98230 execution.flow     INFO     Node validate_inputs completes.\n",
      "2024-08-28 16:42:01 -0600   98230 execution.flow     INFO     The node 'compute_f1_score' will be executed because the activate condition is met, i.e. '${validate_inputs.output}' is equal to 'True'.\n",
      "2024-08-28 16:42:01 -0600   98230 execution.flow     INFO     Executing node compute_f1_score. node run id: 2ea2b3d6-1103-439d-9e90-aedcfd423aa5_compute_f1_score_ca728b22-c967-454d-ac43-ca29d2dadda7\n",
      "2024-08-28 16:42:01 -0600   98230 execution.flow     INFO     Node compute_f1_score completes.\n"
     ]
    },
    {
     "name": "stderr",
     "output_type": "stream",
     "text": [
      "[2024-08-28 16:42:01 -0600][flowinvoker][INFO] - Validating flow input with data {'answer': 'Leonardo da Vinci painted the Mona Lisa.', 'ground_truth': 'The Mona Lisa was painted by Leonardo da Vinci.'}\n",
      "[2024-08-28 16:42:01 -0600][flowinvoker][INFO] - Execute flow with data {'answer': 'Leonardo da Vinci painted the Mona Lisa.', 'ground_truth': 'The Mona Lisa was painted by Leonardo da Vinci.'}\n"
     ]
    },
    {
     "name": "stdout",
     "output_type": "stream",
     "text": [
      "2024-08-28 16:42:01 -0600   98230 execution.flow     INFO     Node compute_f1_score completes.\n",
      "2024-08-28 16:42:01 -0600   98230 execution.flow     INFO     Node compute_f1_score completes.\n",
      "2024-08-28 16:42:01 -0600   98230 execution.flow     INFO     Start executing nodes in thread pool mode.\n",
      "2024-08-28 16:42:01 -0600   98230 execution.flow     INFO     Start to run 2 nodes with concurrency level 16.\n",
      "2024-08-28 16:42:01 -0600   98230 execution.flow     INFO     Current thread is not main thread, skip signal handler registration in AsyncNodesScheduler.\n",
      "2024-08-28 16:42:01 -0600   98230 execution.flow     INFO     Executing node validate_inputs. node run id: 149e677a-706e-48d0-a743-c36afcdb72f3_validate_inputs_cd4de93f-9ce6-465b-965d-94a5a5c6a575\n",
      "2024-08-28 16:42:01 -0600   98230 execution.flow     INFO     Node compute_f1_score completes.\n",
      "2024-08-28 16:42:01 -0600   98230 execution.flow     INFO     Node compute_f1_score completes.\n",
      "2024-08-28 16:42:01 -0600   98230 execution.flow     INFO     Node compute_f1_score completes.\n",
      "2024-08-28 16:42:01 -0600   98230 execution.flow     INFO     Node validate_inputs completes.\n",
      "2024-08-28 16:42:01 -0600   98230 execution.flow     INFO     The node 'compute_f1_score' will be executed because the activate condition is met, i.e. '${validate_inputs.output}' is equal to 'True'.\n",
      "2024-08-28 16:42:01 -0600   98230 execution.flow     INFO     Executing node compute_f1_score. node run id: 149e677a-706e-48d0-a743-c36afcdb72f3_compute_f1_score_97b9dc2b-eb61-47cc-83f0-b982bb53f45e\n",
      "2024-08-28 16:42:01 -0600   98230 execution.flow     INFO     Node compute_f1_score completes.\n"
     ]
    },
    {
     "name": "stderr",
     "output_type": "stream",
     "text": [
      "[2024-08-28 16:42:03 -0600][flowinvoker][INFO] - Validating flow input with data {'answer': 'Jupiter is the largest planet in our solar system.', 'ground_truth': 'The largest planet in our solar system is Jupiter.'}\n",
      "[2024-08-28 16:42:03 -0600][flowinvoker][INFO] - Execute flow with data {'answer': 'Jupiter is the largest planet in our solar system.', 'ground_truth': 'The largest planet in our solar system is Jupiter.'}\n"
     ]
    },
    {
     "name": "stdout",
     "output_type": "stream",
     "text": [
      "2024-08-28 16:42:03 -0600   98230 execution.flow     INFO     Start executing nodes in thread pool mode.\n",
      "2024-08-28 16:42:03 -0600   98230 execution.flow     INFO     Start to run 2 nodes with concurrency level 16.\n",
      "2024-08-28 16:42:03 -0600   98230 execution.flow     INFO     Current thread is not main thread, skip signal handler registration in AsyncNodesScheduler.\n",
      "2024-08-28 16:42:03 -0600   98230 execution.flow     INFO     Executing node validate_inputs. node run id: b9f79b22-0c17-480e-99e1-a3977cf59939_validate_inputs_0a2bfde8-29f0-439e-aa3d-fad002c8c114\n",
      "2024-08-28 16:42:03 -0600   98230 execution.flow     INFO     Node validate_inputs completes.\n",
      "2024-08-28 16:42:03 -0600   98230 execution.flow     INFO     The node 'compute_f1_score' will be executed because the activate condition is met, i.e. '${validate_inputs.output}' is equal to 'True'.\n",
      "2024-08-28 16:42:03 -0600   98230 execution.flow     INFO     Executing node compute_f1_score. node run id: b9f79b22-0c17-480e-99e1-a3977cf59939_compute_f1_score_af339256-ada3-47c3-8fd9-a7613c9dbae9\n",
      "2024-08-28 16:42:03 -0600   98230 execution.flow     INFO     Node compute_f1_score completes.\n"
     ]
    },
    {
     "name": "stderr",
     "output_type": "stream",
     "text": [
      "[2024-08-28 16:42:03 -0600][flowinvoker][INFO] - Validating flow input with data {'answer': 'H2O is the chemical symbol for water.', 'ground_truth': 'The chemical symbol for water is H2O.'}\n",
      "[2024-08-28 16:42:03 -0600][flowinvoker][INFO] - Execute flow with data {'answer': 'H2O is the chemical symbol for water.', 'ground_truth': 'The chemical symbol for water is H2O.'}\n"
     ]
    },
    {
     "name": "stdout",
     "output_type": "stream",
     "text": [
      "2024-08-28 16:42:03 -0600   98230 execution.flow     INFO     Start executing nodes in thread pool mode.\n",
      "2024-08-28 16:42:03 -0600   98230 execution.flow     INFO     Start to run 2 nodes with concurrency level 16.\n",
      "2024-08-28 16:42:03 -0600   98230 execution.flow     INFO     Current thread is not main thread, skip signal handler registration in AsyncNodesScheduler.\n",
      "2024-08-28 16:42:03 -0600   98230 execution.flow     INFO     Executing node validate_inputs. node run id: 4d156f8e-4b4c-4393-ab61-b87b83f63c0f_validate_inputs_64515864-33fc-49d0-ba16-10f01a443d0e\n",
      "2024-08-28 16:42:03 -0600   98230 execution.flow     INFO     Node validate_inputs completes.\n",
      "2024-08-28 16:42:03 -0600   98230 execution.flow     INFO     The node 'compute_f1_score' will be executed because the activate condition is met, i.e. '${validate_inputs.output}' is equal to 'True'.\n",
      "2024-08-28 16:42:03 -0600   98230 execution.flow     INFO     Executing node compute_f1_score. node run id: 4d156f8e-4b4c-4393-ab61-b87b83f63c0f_compute_f1_score_e2156c58-bc27-466b-bd30-be9c78c0d554\n",
      "2024-08-28 16:42:03 -0600   98230 execution.flow     INFO     Node compute_f1_score completes.\n"
     ]
    },
    {
     "name": "stderr",
     "output_type": "stream",
     "text": [
      "[2024-08-28 16:42:03 -0600][flowinvoker][INFO] - Validating flow input with data {'answer': 'The Pacific Ocean is the largest ocean on Earth.', 'ground_truth': 'The largest ocean on Earth is the Pacific Ocean.'}\n",
      "[2024-08-28 16:42:03 -0600][flowinvoker][INFO] - Execute flow with data {'answer': 'The Pacific Ocean is the largest ocean on Earth.', 'ground_truth': 'The largest ocean on Earth is the Pacific Ocean.'}\n"
     ]
    },
    {
     "name": "stdout",
     "output_type": "stream",
     "text": [
      "2024-08-28 16:42:03 -0600   98230 execution.flow     INFO     Start executing nodes in thread pool mode.\n",
      "2024-08-28 16:42:03 -0600   98230 execution.flow     INFO     Start to run 2 nodes with concurrency level 16.\n",
      "2024-08-28 16:42:03 -0600   98230 execution.flow     INFO     Current thread is not main thread, skip signal handler registration in AsyncNodesScheduler.\n",
      "2024-08-28 16:42:03 -0600   98230 execution.flow     INFO     Executing node validate_inputs. node run id: 0af5026c-234d-4c2d-86f2-455040bfbdac_validate_inputs_3f6cface-b615-423e-bb5f-f1da20b66299\n",
      "2024-08-28 16:42:03 -0600   98230 execution.flow     INFO     Node validate_inputs completes.\n",
      "2024-08-28 16:42:03 -0600   98230 execution.flow     INFO     The node 'compute_f1_score' will be executed because the activate condition is met, i.e. '${validate_inputs.output}' is equal to 'True'.\n",
      "2024-08-28 16:42:03 -0600   98230 execution.flow     INFO     Executing node compute_f1_score. node run id: 0af5026c-234d-4c2d-86f2-455040bfbdac_compute_f1_score_d5435240-5452-42eb-ad85-63de80cb796e\n",
      "2024-08-28 16:42:03 -0600   98230 execution.flow     INFO     Node compute_f1_score completes.\n"
     ]
    },
    {
     "name": "stderr",
     "output_type": "stream",
     "text": [
      "[2024-08-28 16:42:03 -0600][flowinvoker][INFO] - Validating flow input with data {'answer': 'The Great Pyramid of Giza was built by Alexander the Great.', 'ground_truth': 'The Great Pyramid of Giza was built by the Egyptians.'}\n",
      "[2024-08-28 16:42:03 -0600][flowinvoker][INFO] - Execute flow with data {'answer': 'The Great Pyramid of Giza was built by Alexander the Great.', 'ground_truth': 'The Great Pyramid of Giza was built by the Egyptians.'}\n"
     ]
    },
    {
     "name": "stdout",
     "output_type": "stream",
     "text": [
      "2024-08-28 16:42:03 -0600   98230 execution.flow     INFO     Start executing nodes in thread pool mode.\n",
      "2024-08-28 16:42:03 -0600   98230 execution.flow     INFO     Start to run 2 nodes with concurrency level 16.\n",
      "2024-08-28 16:42:03 -0600   98230 execution.flow     INFO     Current thread is not main thread, skip signal handler registration in AsyncNodesScheduler.\n",
      "2024-08-28 16:42:03 -0600   98230 execution.flow     INFO     Executing node validate_inputs. node run id: 77728331-4c24-4599-9810-2ec63835a233_validate_inputs_7884d355-e9e1-4876-b408-41fe7f9388c3\n",
      "2024-08-28 16:42:03 -0600   98230 execution.flow     INFO     Node validate_inputs completes.\n",
      "2024-08-28 16:42:03 -0600   98230 execution.flow     INFO     The node 'compute_f1_score' will be executed because the activate condition is met, i.e. '${validate_inputs.output}' is equal to 'True'.\n",
      "2024-08-28 16:42:03 -0600   98230 execution.flow     INFO     Executing node compute_f1_score. node run id: 77728331-4c24-4599-9810-2ec63835a233_compute_f1_score_3862f256-1ab5-486a-8cf5-5ae4b8bf8a85\n",
      "2024-08-28 16:42:03 -0600   98230 execution.flow     INFO     Node compute_f1_score completes.\n"
     ]
    },
    {
     "name": "stderr",
     "output_type": "stream",
     "text": [
      "[2024-08-28 16:42:03 -0600][flowinvoker][INFO] - Validating flow input with data {'answer': 'The human body has four senses.', 'ground_truth': 'The human body has five primary senses.'}\n",
      "[2024-08-28 16:42:03 -0600][flowinvoker][INFO] - Execute flow with data {'answer': 'The human body has four senses.', 'ground_truth': 'The human body has five primary senses.'}\n"
     ]
    },
    {
     "name": "stdout",
     "output_type": "stream",
     "text": [
      "2024-08-28 16:42:03 -0600   98230 execution.flow     INFO     Start executing nodes in thread pool mode.\n",
      "2024-08-28 16:42:03 -0600   98230 execution.flow     INFO     Start to run 2 nodes with concurrency level 16.\n",
      "2024-08-28 16:42:03 -0600   98230 execution.flow     INFO     Current thread is not main thread, skip signal handler registration in AsyncNodesScheduler.\n",
      "2024-08-28 16:42:03 -0600   98230 execution.flow     INFO     Executing node validate_inputs. node run id: 834522ca-2146-4753-9a87-cd82b2b5fb25_validate_inputs_c957bf5b-ce5b-4e5f-b7d3-851ead03066d\n",
      "2024-08-28 16:42:03 -0600   98230 execution.flow     INFO     Node validate_inputs completes.\n",
      "2024-08-28 16:42:03 -0600   98230 execution.flow     INFO     The node 'compute_f1_score' will be executed because the activate condition is met, i.e. '${validate_inputs.output}' is equal to 'True'.\n",
      "2024-08-28 16:42:03 -0600   98230 execution.flow     INFO     Executing node compute_f1_score. node run id: 834522ca-2146-4753-9a87-cd82b2b5fb25_compute_f1_score_3d4de349-15bd-4dc6-8672-fc0ed11e0b69\n",
      "2024-08-28 16:42:03 -0600   98230 execution.flow     INFO     Node compute_f1_score completes.\n"
     ]
    },
    {
     "name": "stderr",
     "output_type": "stream",
     "text": [
      "[2024-08-28 16:42:03 -0600][flowinvoker][INFO] - Validating flow input with data {'answer': 'The Amazon is the longest river in the world.', 'ground_truth': 'The Nile is often cited as the longest river in the world, but some sources claim the Amazon is longer.'}\n",
      "[2024-08-28 16:42:03 -0600][flowinvoker][INFO] - Execute flow with data {'answer': 'The Amazon is the longest river in the world.', 'ground_truth': 'The Nile is often cited as the longest river in the world, but some sources claim the Amazon is longer.'}\n"
     ]
    },
    {
     "name": "stdout",
     "output_type": "stream",
     "text": [
      "2024-08-28 16:42:03 -0600   98230 execution.flow     INFO     Start executing nodes in thread pool mode.\n",
      "2024-08-28 16:42:03 -0600   98230 execution.flow     INFO     Start to run 2 nodes with concurrency level 16.\n",
      "2024-08-28 16:42:03 -0600   98230 execution.flow     INFO     Current thread is not main thread, skip signal handler registration in AsyncNodesScheduler.\n",
      "2024-08-28 16:42:03 -0600   98230 execution.flow     INFO     Executing node validate_inputs. node run id: 748432d9-3c44-4e2b-863f-ad3b7f984def_validate_inputs_649d04c2-527c-453e-872c-97df12cf6072\n",
      "2024-08-28 16:42:03 -0600   98230 execution.flow     INFO     Node validate_inputs completes.\n",
      "2024-08-28 16:42:03 -0600   98230 execution.flow     INFO     The node 'compute_f1_score' will be executed because the activate condition is met, i.e. '${validate_inputs.output}' is equal to 'True'.\n",
      "2024-08-28 16:42:03 -0600   98230 execution.flow     INFO     Executing node compute_f1_score. node run id: 748432d9-3c44-4e2b-863f-ad3b7f984def_compute_f1_score_929f03e5-2485-49d2-8c94-3387ffd284d3\n",
      "2024-08-28 16:42:03 -0600   98230 execution.flow     INFO     Node compute_f1_score completes.\n"
     ]
    },
    {
     "name": "stderr",
     "output_type": "stream",
     "text": [
      "[2024-08-28 16:42:03 -0600][flowinvoker][INFO] - Validating flow input with data {'answer': 'The internet was invented in the 1960s.', 'ground_truth': 'The foundational technology of the internet was developed in the late 1960s.'}\n",
      "[2024-08-28 16:42:03 -0600][flowinvoker][INFO] - Execute flow with data {'answer': 'The internet was invented in the 1960s.', 'ground_truth': 'The foundational technology of the internet was developed in the late 1960s.'}\n"
     ]
    },
    {
     "name": "stdout",
     "output_type": "stream",
     "text": [
      "2024-08-28 16:42:03 -0600   98230 execution.flow     INFO     Start executing nodes in thread pool mode.\n",
      "2024-08-28 16:42:03 -0600   98230 execution.flow     INFO     Start to run 2 nodes with concurrency level 16.\n",
      "2024-08-28 16:42:03 -0600   98230 execution.flow     INFO     Current thread is not main thread, skip signal handler registration in AsyncNodesScheduler.\n",
      "2024-08-28 16:42:03 -0600   98230 execution.flow     INFO     Executing node validate_inputs. node run id: 78f9d182-d6ae-4ade-aa74-8d8902f7c153_validate_inputs_6916b302-ee6b-4c16-b349-4cd65ae7b113\n",
      "2024-08-28 16:42:03 -0600   98230 execution.flow     INFO     Node validate_inputs completes.\n",
      "2024-08-28 16:42:03 -0600   98230 execution.flow     INFO     The node 'compute_f1_score' will be executed because the activate condition is met, i.e. '${validate_inputs.output}' is equal to 'True'.\n",
      "2024-08-28 16:42:03 -0600   98230 execution.flow     INFO     Executing node compute_f1_score. node run id: 78f9d182-d6ae-4ade-aa74-8d8902f7c153_compute_f1_score_904e9d17-f7aa-44af-b69a-2ee18f5728f1\n",
      "2024-08-28 16:42:03 -0600   98230 execution.flow     INFO     Node compute_f1_score completes.\n"
     ]
    },
    {
     "name": "stderr",
     "output_type": "stream",
     "text": [
      "[2024-08-28 16:42:03 -0600][flowinvoker][INFO] - Validating flow input with data {'answer': 'The heart is on the right side of the human body.', 'ground_truth': 'The heart is located slightly to the left side of the chest in the human body.'}\n",
      "[2024-08-28 16:42:03 -0600][flowinvoker][INFO] - Execute flow with data {'answer': 'The heart is on the right side of the human body.', 'ground_truth': 'The heart is located slightly to the left side of the chest in the human body.'}\n"
     ]
    },
    {
     "name": "stdout",
     "output_type": "stream",
     "text": [
      "2024-08-28 16:42:03 -0600   98230 execution.flow     INFO     Start executing nodes in thread pool mode.\n",
      "2024-08-28 16:42:03 -0600   98230 execution.flow     INFO     Start to run 2 nodes with concurrency level 16.\n",
      "2024-08-28 16:42:03 -0600   98230 execution.flow     INFO     Current thread is not main thread, skip signal handler registration in AsyncNodesScheduler.\n",
      "2024-08-28 16:42:03 -0600   98230 execution.flow     INFO     Executing node validate_inputs. node run id: 42bbb137-f01b-4460-b650-f9e82a433ab9_validate_inputs_5d811e64-e66d-484c-87d6-38f349ce2bca\n",
      "2024-08-28 16:42:03 -0600   98230 execution.flow     INFO     Node validate_inputs completes.\n",
      "2024-08-28 16:42:03 -0600   98230 execution.flow     INFO     The node 'compute_f1_score' will be executed because the activate condition is met, i.e. '${validate_inputs.output}' is equal to 'True'.\n",
      "2024-08-28 16:42:03 -0600   98230 execution.flow     INFO     Executing node compute_f1_score. node run id: 42bbb137-f01b-4460-b650-f9e82a433ab9_compute_f1_score_474dff5d-64b0-46f4-94a6-9b420b03b278\n",
      "2024-08-28 16:42:03 -0600   98230 execution.flow     INFO     Node compute_f1_score completes.\n"
     ]
    },
    {
     "name": "stderr",
     "output_type": "stream",
     "text": [
      "[2024-08-28 16:42:03 -0600][flowinvoker][INFO] - Validating flow input with data {'answer': 'The sun revolves around the Earth.', 'ground_truth': 'The Earth revolves around the sun.'}\n",
      "[2024-08-28 16:42:03 -0600][flowinvoker][INFO] - Validating flow input with data {'answer': 'Sharks are mammals.', 'ground_truth': 'Sharks are a group of fish characterized by a cartilaginous skeleton.'}\n",
      "[2024-08-28 16:42:03 -0600][flowinvoker][INFO] - Execute flow with data {'answer': 'The sun revolves around the Earth.', 'ground_truth': 'The Earth revolves around the sun.'}\n",
      "[2024-08-28 16:42:03 -0600][flowinvoker][INFO] - Execute flow with data {'answer': 'Sharks are mammals.', 'ground_truth': 'Sharks are a group of fish characterized by a cartilaginous skeleton.'}\n"
     ]
    },
    {
     "name": "stdout",
     "output_type": "stream",
     "text": [
      "2024-08-28 16:42:03 -0600   98230 execution.flow     INFO     Start executing nodes in thread pool mode.\n",
      "2024-08-28 16:42:03 -0600   98230 execution.flow     INFO     Start to run 2 nodes with concurrency level 16.\n",
      "2024-08-28 16:42:03 -0600   98230 execution.flow     INFO     Current thread is not main thread, skip signal handler registration in AsyncNodesScheduler.\n",
      "2024-08-28 16:42:03 -0600   98230 execution.flow     INFO     Start executing nodes in thread pool mode.\n",
      "2024-08-28 16:42:03 -0600   98230 execution.flow     INFO     Executing node validate_inputs. node run id: 145d42c9-1f54-44f9-8b93-d72ae0a764cf_validate_inputs_8fe7c65e-39b6-42fb-846f-e87d17c65861\n",
      "2024-08-28 16:42:04 -0600   98230 execution.flow     INFO     Start to run 2 nodes with concurrency level 16.\n",
      "2024-08-28 16:42:04 -0600   98230 execution.flow     INFO     Node validate_inputs completes.\n",
      "2024-08-28 16:42:04 -0600   98230 execution.flow     INFO     Current thread is not main thread, skip signal handler registration in AsyncNodesScheduler.\n",
      "2024-08-28 16:42:04 -0600   98230 execution.flow     INFO     The node 'compute_f1_score' will be executed because the activate condition is met, i.e. '${validate_inputs.output}' is equal to 'True'.\n",
      "2024-08-28 16:42:04 -0600   98230 execution.flow     INFO     Executing node validate_inputs. node run id: 1058cfe6-3c45-4ffc-a1b7-3674f4b6a0a6_validate_inputs_378aece3-029a-473e-84e8-cc3aac732483\n",
      "2024-08-28 16:42:04 -0600   98230 execution.flow     INFO     Executing node compute_f1_score. node run id: 145d42c9-1f54-44f9-8b93-d72ae0a764cf_compute_f1_score_5b42ec7d-a80e-4095-afb5-105e7601c302\n",
      "2024-08-28 16:42:04 -0600   98230 execution.flow     INFO     Node validate_inputs completes.\n",
      "2024-08-28 16:42:04 -0600   98230 execution.flow     INFO     Node compute_f1_score completes.\n",
      "2024-08-28 16:42:04 -0600   98230 execution.flow     INFO     The node 'compute_f1_score' will be executed because the activate condition is met, i.e. '${validate_inputs.output}' is equal to 'True'.\n"
     ]
    },
    {
     "name": "stderr",
     "output_type": "stream",
     "text": [
      "[2024-08-28 16:42:04 -0600][flowinvoker][INFO] - Validating flow input with data {'answer': 'The capital of Canada is Toronto.', 'ground_truth': 'The capital of Canada is Ottawa.'}\n",
      "[2024-08-28 16:42:04 -0600][flowinvoker][INFO] - Execute flow with data {'answer': 'The capital of Canada is Toronto.', 'ground_truth': 'The capital of Canada is Ottawa.'}\n"
     ]
    },
    {
     "name": "stdout",
     "output_type": "stream",
     "text": [
      "2024-08-28 16:42:04 -0600   98230 execution.flow     INFO     Executing node compute_f1_score. node run id: 1058cfe6-3c45-4ffc-a1b7-3674f4b6a0a6_compute_f1_score_8ea7dbd6-8101-4e5f-a9b1-5a6d1374887d\n",
      "2024-08-28 16:42:04 -0600   98230 execution.flow     INFO     Start executing nodes in thread pool mode.\n",
      "2024-08-28 16:42:04 -0600   98230 execution.flow     INFO     Node compute_f1_score completes.\n",
      "2024-08-28 16:42:04 -0600   98230 execution.flow     INFO     Start to run 2 nodes with concurrency level 16.\n"
     ]
    },
    {
     "name": "stderr",
     "output_type": "stream",
     "text": [
      "[2024-08-28 16:42:04 -0600][flowinvoker][INFO] - Validating flow input with data {'answer': 'The inventor of the telephone was Thomas Edison.', 'ground_truth': 'Alexander Graham Bell is credited with inventing the first practical telephone.'}\n"
     ]
    },
    {
     "name": "stdout",
     "output_type": "stream",
     "text": [
      "2024-08-28 16:42:04 -0600   98230 execution.flow     INFO     Current thread is not main thread, skip signal handler registration in AsyncNodesScheduler.\n"
     ]
    },
    {
     "name": "stderr",
     "output_type": "stream",
     "text": [
      "[2024-08-28 16:42:04 -0600][flowinvoker][INFO] - Execute flow with data {'answer': 'The inventor of the telephone was Thomas Edison.', 'ground_truth': 'Alexander Graham Bell is credited with inventing the first practical telephone.'}\n"
     ]
    },
    {
     "name": "stdout",
     "output_type": "stream",
     "text": [
      "2024-08-28 16:42:04 -0600   98230 execution.flow     INFO     Start executing nodes in thread pool mode.\n",
      "2024-08-28 16:42:04 -0600   98230 execution.flow     INFO     Executing node validate_inputs. node run id: a7b618cd-18a7-4f5e-b562-926ee85b5066_validate_inputs_0ea14c45-0745-4754-bcca-d72323617242\n",
      "2024-08-28 16:42:04 -0600   98230 execution.flow     INFO     Start to run 2 nodes with concurrency level 16.\n",
      "2024-08-28 16:42:04 -0600   98230 execution.flow     INFO     Node validate_inputs completes.\n",
      "2024-08-28 16:42:04 -0600   98230 execution.flow     INFO     Current thread is not main thread, skip signal handler registration in AsyncNodesScheduler.\n",
      "2024-08-28 16:42:04 -0600   98230 execution.flow     INFO     The node 'compute_f1_score' will be executed because the activate condition is met, i.e. '${validate_inputs.output}' is equal to 'True'.\n",
      "2024-08-28 16:42:04 -0600   98230 execution.flow     INFO     Executing node validate_inputs. node run id: 38782504-6c33-487e-8832-3053bb8a243e_validate_inputs_576bb133-8602-4e19-af16-a90d9c45945f\n",
      "2024-08-28 16:42:04 -0600   98230 execution.flow     INFO     Executing node compute_f1_score. node run id: a7b618cd-18a7-4f5e-b562-926ee85b5066_compute_f1_score_c53a7c76-f0a3-4a01-a513-a071d79c427a\n",
      "2024-08-28 16:42:04 -0600   98230 execution.flow     INFO     Node validate_inputs completes.\n",
      "2024-08-28 16:42:04 -0600   98230 execution.flow     INFO     Node compute_f1_score completes.\n"
     ]
    },
    {
     "name": "stderr",
     "output_type": "stream",
     "text": [
      "[2024-08-28 16:42:04 -0600][flowinvoker][INFO] - Validating flow input with data {'answer': 'The chemical symbol for gold is Ag.', 'ground_truth': 'The chemical symbol for gold is Au.'}\n"
     ]
    },
    {
     "name": "stdout",
     "output_type": "stream",
     "text": [
      "2024-08-28 16:42:04 -0600   98230 execution.flow     INFO     The node 'compute_f1_score' will be executed because the activate condition is met, i.e. '${validate_inputs.output}' is equal to 'True'.\n"
     ]
    },
    {
     "name": "stderr",
     "output_type": "stream",
     "text": [
      "[2024-08-28 16:42:04 -0600][flowinvoker][INFO] - Execute flow with data {'answer': 'The chemical symbol for gold is Ag.', 'ground_truth': 'The chemical symbol for gold is Au.'}\n"
     ]
    },
    {
     "name": "stdout",
     "output_type": "stream",
     "text": [
      "2024-08-28 16:42:04 -0600   98230 execution.flow     INFO     Executing node compute_f1_score. node run id: 38782504-6c33-487e-8832-3053bb8a243e_compute_f1_score_22bce6fa-13d4-41cd-a83c-2f15347b4734\n",
      "2024-08-28 16:42:04 -0600   98230 execution.flow     INFO     Start executing nodes in thread pool mode.\n",
      "2024-08-28 16:42:04 -0600   98230 execution.flow     INFO     Node compute_f1_score completes.\n",
      "2024-08-28 16:42:04 -0600   98230 execution.flow     INFO     Start to run 2 nodes with concurrency level 16.\n",
      "2024-08-28 16:42:04 -0600   98230 execution.flow     INFO     Current thread is not main thread, skip signal handler registration in AsyncNodesScheduler.\n",
      "2024-08-28 16:42:04 -0600   98230 execution.flow     INFO     Executing node validate_inputs. node run id: 4486dc49-db0a-48c8-a9b0-2323eda56c08_validate_inputs_b7b44d86-c431-4f0b-ac67-bd2b48e6e883\n"
     ]
    },
    {
     "name": "stderr",
     "output_type": "stream",
     "text": [
      "[2024-08-28 16:42:04 -0600][flowinvoker][INFO] - Validating flow input with data {'answer': 'The largest desert in the world is the Sahara.', 'ground_truth': 'The largest desert in the world is Antarctica.'}\n"
     ]
    },
    {
     "name": "stdout",
     "output_type": "stream",
     "text": [
      "2024-08-28 16:42:04 -0600   98230 execution.flow     INFO     Node validate_inputs completes.\n"
     ]
    },
    {
     "name": "stderr",
     "output_type": "stream",
     "text": [
      "[2024-08-28 16:42:04 -0600][flowinvoker][INFO] - Execute flow with data {'answer': 'The largest desert in the world is the Sahara.', 'ground_truth': 'The largest desert in the world is Antarctica.'}\n"
     ]
    },
    {
     "name": "stdout",
     "output_type": "stream",
     "text": [
      "2024-08-28 16:42:04 -0600   98230 execution.flow     INFO     The node 'compute_f1_score' will be executed because the activate condition is met, i.e. '${validate_inputs.output}' is equal to 'True'.\n",
      "2024-08-28 16:42:04 -0600   98230 execution.flow     INFO     Executing node compute_f1_score. node run id: 4486dc49-db0a-48c8-a9b0-2323eda56c08_compute_f1_score_b33a83a7-5e25-4c42-9749-31de274d6cc5\n",
      "2024-08-28 16:42:04 -0600   98230 execution.flow     INFO     Start executing nodes in thread pool mode.\n",
      "2024-08-28 16:42:04 -0600   98230 execution.flow     INFO     Node compute_f1_score completes.\n",
      "2024-08-28 16:42:04 -0600   98230 execution.flow     INFO     Start to run 2 nodes with concurrency level 16.\n"
     ]
    },
    {
     "name": "stderr",
     "output_type": "stream",
     "text": [
      "[2024-08-28 16:42:04 -0600][flowinvoker][INFO] - Validating flow input with data {'answer': 'The first man to step on the moon was Lance Armstrong.', 'ground_truth': 'The first man to step on the moon was Neil Armstrong.'}\n"
     ]
    },
    {
     "name": "stdout",
     "output_type": "stream",
     "text": [
      "2024-08-28 16:42:04 -0600   98230 execution.flow     INFO     Current thread is not main thread, skip signal handler registration in AsyncNodesScheduler.\n"
     ]
    },
    {
     "name": "stderr",
     "output_type": "stream",
     "text": [
      "[2024-08-28 16:42:04 -0600][flowinvoker][INFO] - Execute flow with data {'answer': 'The first man to step on the moon was Lance Armstrong.', 'ground_truth': 'The first man to step on the moon was Neil Armstrong.'}\n"
     ]
    },
    {
     "name": "stdout",
     "output_type": "stream",
     "text": [
      "2024-08-28 16:42:04 -0600   98230 execution.flow     INFO     Executing node validate_inputs. node run id: af2a957c-d412-46f7-b38c-e4d68b10d4e7_validate_inputs_680369ea-33a4-407f-bf5b-0540a303e7b4\n",
      "2024-08-28 16:42:04 -0600   98230 execution.flow     INFO     Start executing nodes in thread pool mode.\n",
      "2024-08-28 16:42:04 -0600   98230 execution.flow     INFO     Node validate_inputs completes.\n",
      "2024-08-28 16:42:04 -0600   98230 execution.flow     INFO     Start to run 2 nodes with concurrency level 16.\n",
      "2024-08-28 16:42:04 -0600   98230 execution.flow     INFO     Current thread is not main thread, skip signal handler registration in AsyncNodesScheduler.\n",
      "2024-08-28 16:42:04 -0600   98230 execution.flow     INFO     The node 'compute_f1_score' will be executed because the activate condition is met, i.e. '${validate_inputs.output}' is equal to 'True'.\n",
      "2024-08-28 16:42:04 -0600   98230 execution.flow     INFO     Executing node validate_inputs. node run id: 532c11f0-d1a0-4c1d-84f0-0f2ce0570953_validate_inputs_aca99e64-e7e1-4529-8919-1276ce5e0a4b\n",
      "2024-08-28 16:42:04 -0600   98230 execution.flow     INFO     Executing node compute_f1_score. node run id: af2a957c-d412-46f7-b38c-e4d68b10d4e7_compute_f1_score_318c9ce5-c7a0-4f3c-874c-3106e651c27e\n",
      "2024-08-28 16:42:04 -0600   98230 execution.flow     INFO     Node validate_inputs completes.\n",
      "2024-08-28 16:42:04 -0600   98230 execution.flow     INFO     Node compute_f1_score completes.\n",
      "2024-08-28 16:42:04 -0600   98230 execution.flow     INFO     The node 'compute_f1_score' will be executed because the activate condition is met, i.e. '${validate_inputs.output}' is equal to 'True'.\n"
     ]
    },
    {
     "name": "stderr",
     "output_type": "stream",
     "text": [
      "[2024-08-28 16:42:04 -0600][flowinvoker][INFO] - Validating flow input with data {'answer': 'The capital of Egypt is Cairo.', 'ground_truth': 'The capital of Egypt is Cairo.'}\n"
     ]
    },
    {
     "name": "stdout",
     "output_type": "stream",
     "text": [
      "2024-08-28 16:42:04 -0600   98230 execution.flow     INFO     Executing node compute_f1_score. node run id: 532c11f0-d1a0-4c1d-84f0-0f2ce0570953_compute_f1_score_34627d36-8582-42bf-9519-b103b1be2140\n",
      "2024-08-28 16:42:04 -0600   98230 execution.flow     INFO     Node compute_f1_score completes.\n"
     ]
    },
    {
     "name": "stderr",
     "output_type": "stream",
     "text": [
      "[2024-08-28 16:42:04 -0600][flowinvoker][INFO] - Execute flow with data {'answer': 'The capital of Egypt is Cairo.', 'ground_truth': 'The capital of Egypt is Cairo.'}\n",
      "[2024-08-28 16:42:04 -0600][flowinvoker][INFO] - Validating flow input with data {'answer': 'Photosynthesis is performed by animals.', 'ground_truth': 'Photosynthesis is performed by plants.'}\n",
      "[2024-08-28 16:42:04 -0600][flowinvoker][INFO] - Execute flow with data {'answer': 'Photosynthesis is performed by animals.', 'ground_truth': 'Photosynthesis is performed by plants.'}\n"
     ]
    },
    {
     "name": "stdout",
     "output_type": "stream",
     "text": [
      "2024-08-28 16:42:04 -0600   98230 execution.flow     INFO     Start executing nodes in thread pool mode.\n",
      "2024-08-28 16:42:04 -0600   98230 execution.flow     INFO     Start to run 2 nodes with concurrency level 16.\n",
      "2024-08-28 16:42:04 -0600   98230 execution.flow     INFO     Current thread is not main thread, skip signal handler registration in AsyncNodesScheduler.\n",
      "2024-08-28 16:42:04 -0600   98230 execution.flow     INFO     Start executing nodes in thread pool mode.\n",
      "2024-08-28 16:42:04 -0600   98230 execution.flow     INFO     Executing node validate_inputs. node run id: ed1d6be4-e4c3-4b4e-b90c-903fc1053407_validate_inputs_eddc0cac-3848-4702-ae41-1de33f6115c1\n",
      "2024-08-28 16:42:04 -0600   98230 execution.flow     INFO     Start to run 2 nodes with concurrency level 16.\n",
      "2024-08-28 16:42:04 -0600   98230 execution.flow     INFO     Node validate_inputs completes.\n",
      "2024-08-28 16:42:04 -0600   98230 execution.flow     INFO     Current thread is not main thread, skip signal handler registration in AsyncNodesScheduler.\n",
      "2024-08-28 16:42:04 -0600   98230 execution.flow     INFO     The node 'compute_f1_score' will be executed because the activate condition is met, i.e. '${validate_inputs.output}' is equal to 'True'.\n",
      "2024-08-28 16:42:04 -0600   98230 execution.flow     INFO     Executing node validate_inputs. node run id: fcf08b07-6532-4f01-a98a-6f5e94d4c6ca_validate_inputs_11a32813-11aa-48a4-9729-19583bd00357\n",
      "2024-08-28 16:42:04 -0600   98230 execution.flow     INFO     Executing node compute_f1_score. node run id: ed1d6be4-e4c3-4b4e-b90c-903fc1053407_compute_f1_score_f2d3b45b-8f14-400f-a399-a8ad038915a0\n",
      "2024-08-28 16:42:04 -0600   98230 execution.flow     INFO     Node validate_inputs completes.\n",
      "2024-08-28 16:42:04 -0600   98230 execution.flow     INFO     Node compute_f1_score completes.\n",
      "2024-08-28 16:42:04 -0600   98230 execution.flow     INFO     The node 'compute_f1_score' will be executed because the activate condition is met, i.e. '${validate_inputs.output}' is equal to 'True'.\n"
     ]
    },
    {
     "name": "stderr",
     "output_type": "stream",
     "text": [
      "[2024-08-28 16:42:04 -0600][flowinvoker][INFO] - Validating flow input with data {'answer': 'The smallest bone in the human body is the femur.', 'ground_truth': 'The smallest bone in the human body is the stapes bone in the ear.'}\n"
     ]
    },
    {
     "name": "stdout",
     "output_type": "stream",
     "text": [
      "2024-08-28 16:42:04 -0600   98230 execution.flow     INFO     Executing node compute_f1_score. node run id: fcf08b07-6532-4f01-a98a-6f5e94d4c6ca_compute_f1_score_0ff7acab-9379-427b-8f2e-d4380790cf44\n",
      "2024-08-28 16:42:04 -0600   98230 execution.flow     INFO     Node compute_f1_score completes.\n"
     ]
    },
    {
     "name": "stderr",
     "output_type": "stream",
     "text": [
      "[2024-08-28 16:42:04 -0600][flowinvoker][INFO] - Execute flow with data {'answer': 'The smallest bone in the human body is the femur.', 'ground_truth': 'The smallest bone in the human body is the stapes bone in the ear.'}\n"
     ]
    },
    {
     "name": "stdout",
     "output_type": "stream",
     "text": [
      "2024-08-28 16:42:04 -0600   98230 execution.flow     INFO     Start executing nodes in thread pool mode.\n"
     ]
    },
    {
     "name": "stderr",
     "output_type": "stream",
     "text": [
      "[2024-08-28 16:42:04 -0600][flowinvoker][INFO] - Validating flow input with data {'answer': 'The Pacific Ocean is the warmest ocean.', 'ground_truth': 'The Indian Ocean is considered the warmest ocean.'}\n"
     ]
    },
    {
     "name": "stdout",
     "output_type": "stream",
     "text": [
      "2024-08-28 16:42:04 -0600   98230 execution.flow     INFO     Start to run 2 nodes with concurrency level 16.\n"
     ]
    },
    {
     "name": "stderr",
     "output_type": "stream",
     "text": [
      "[2024-08-28 16:42:04 -0600][flowinvoker][INFO] - Execute flow with data {'answer': 'The Pacific Ocean is the warmest ocean.', 'ground_truth': 'The Indian Ocean is considered the warmest ocean.'}\n"
     ]
    },
    {
     "name": "stdout",
     "output_type": "stream",
     "text": [
      "2024-08-28 16:42:04 -0600   98230 execution.flow     INFO     Current thread is not main thread, skip signal handler registration in AsyncNodesScheduler.\n",
      "2024-08-28 16:42:04 -0600   98230 execution.flow     INFO     Start executing nodes in thread pool mode.\n",
      "2024-08-28 16:42:04 -0600   98230 execution.flow     INFO     Executing node validate_inputs. node run id: 8cdb1c3e-1126-4fbb-9fec-f61f60c0bfe1_validate_inputs_ef726a6e-ab95-4e5d-8f4f-230790ec489d\n",
      "2024-08-28 16:42:04 -0600   98230 execution.flow     INFO     Start to run 2 nodes with concurrency level 16.\n",
      "2024-08-28 16:42:04 -0600   98230 execution.flow     INFO     Node validate_inputs completes.\n",
      "2024-08-28 16:42:04 -0600   98230 execution.flow     INFO     Current thread is not main thread, skip signal handler registration in AsyncNodesScheduler.\n",
      "2024-08-28 16:42:04 -0600   98230 execution.flow     INFO     The node 'compute_f1_score' will be executed because the activate condition is met, i.e. '${validate_inputs.output}' is equal to 'True'.\n",
      "2024-08-28 16:42:04 -0600   98230 execution.flow     INFO     Executing node validate_inputs. node run id: 353170bc-2cf7-4b46-a19f-bdb3504a54d0_validate_inputs_80070cd6-bc69-4ec3-a19c-a029ea5510c4\n",
      "2024-08-28 16:42:04 -0600   98230 execution.flow     INFO     Executing node compute_f1_score. node run id: 8cdb1c3e-1126-4fbb-9fec-f61f60c0bfe1_compute_f1_score_5933d1fd-de17-442c-97a2-b83097da857a\n",
      "2024-08-28 16:42:04 -0600   98230 execution.flow     INFO     Node validate_inputs completes.\n",
      "2024-08-28 16:42:04 -0600   98230 execution.flow     INFO     Node compute_f1_score completes.\n",
      "2024-08-28 16:42:04 -0600   98230 execution.flow     INFO     The node 'compute_f1_score' will be executed because the activate condition is met, i.e. '${validate_inputs.output}' is equal to 'True'.\n"
     ]
    },
    {
     "name": "stderr",
     "output_type": "stream",
     "text": [
      "[2024-08-28 16:42:04 -0600][flowinvoker][INFO] - Validating flow input with data {'answer': 'The light bulb was invented by Nikola Tesla.', 'ground_truth': 'The light bulb was invented by Thomas Edison.'}\n"
     ]
    },
    {
     "name": "stdout",
     "output_type": "stream",
     "text": [
      "2024-08-28 16:42:04 -0600   98230 execution.flow     INFO     Executing node compute_f1_score. node run id: 353170bc-2cf7-4b46-a19f-bdb3504a54d0_compute_f1_score_6e1d7cfd-1206-4389-8f38-4555ce2695bb\n"
     ]
    },
    {
     "name": "stderr",
     "output_type": "stream",
     "text": [
      "[2024-08-28 16:42:04 -0600][flowinvoker][INFO] - Execute flow with data {'answer': 'The light bulb was invented by Nikola Tesla.', 'ground_truth': 'The light bulb was invented by Thomas Edison.'}\n"
     ]
    },
    {
     "name": "stdout",
     "output_type": "stream",
     "text": [
      "2024-08-28 16:42:04 -0600   98230 execution.flow     INFO     Node compute_f1_score completes.\n",
      "2024-08-28 16:42:04 -0600   98230 execution.flow     INFO     Start executing nodes in thread pool mode.\n"
     ]
    },
    {
     "name": "stderr",
     "output_type": "stream",
     "text": [
      "[2024-08-28 16:42:04 -0600][flowinvoker][INFO] - Validating flow input with data {'answer': 'The first president of the United States was John Adams.', 'ground_truth': 'The first president of the United States was George Washington.'}\n"
     ]
    },
    {
     "name": "stdout",
     "output_type": "stream",
     "text": [
      "2024-08-28 16:42:04 -0600   98230 execution.flow     INFO     Start to run 2 nodes with concurrency level 16.\n"
     ]
    },
    {
     "name": "stderr",
     "output_type": "stream",
     "text": [
      "[2024-08-28 16:42:04 -0600][flowinvoker][INFO] - Execute flow with data {'answer': 'The first president of the United States was John Adams.', 'ground_truth': 'The first president of the United States was George Washington.'}\n"
     ]
    },
    {
     "name": "stdout",
     "output_type": "stream",
     "text": [
      "2024-08-28 16:42:04 -0600   98230 execution.flow     INFO     Current thread is not main thread, skip signal handler registration in AsyncNodesScheduler.\n",
      "2024-08-28 16:42:04 -0600   98230 execution.flow     INFO     Start executing nodes in thread pool mode.\n",
      "2024-08-28 16:42:04 -0600   98230 execution.flow     INFO     Executing node validate_inputs. node run id: 10225664-93d0-4901-942c-68d04c98f8f2_validate_inputs_28d7200b-2c3c-4a7d-af36-2aa457ca6aa9\n",
      "2024-08-28 16:42:04 -0600   98230 execution.flow     INFO     Start to run 2 nodes with concurrency level 16.\n",
      "2024-08-28 16:42:04 -0600   98230 execution.flow     INFO     Node validate_inputs completes.\n",
      "2024-08-28 16:42:04 -0600   98230 execution.flow     INFO     Current thread is not main thread, skip signal handler registration in AsyncNodesScheduler.\n",
      "2024-08-28 16:42:04 -0600   98230 execution.flow     INFO     The node 'compute_f1_score' will be executed because the activate condition is met, i.e. '${validate_inputs.output}' is equal to 'True'.\n",
      "2024-08-28 16:42:04 -0600   98230 execution.flow     INFO     Executing node validate_inputs. node run id: f8d59f5a-c6c2-44e9-8f0c-293917ab7589_validate_inputs_deb856fa-a993-4490-989e-5a56dd691eb3\n",
      "2024-08-28 16:42:04 -0600   98230 execution.flow     INFO     Executing node compute_f1_score. node run id: 10225664-93d0-4901-942c-68d04c98f8f2_compute_f1_score_9913e1cd-670a-4114-9721-4519b9f18bca\n",
      "2024-08-28 16:42:04 -0600   98230 execution.flow     INFO     Node validate_inputs completes.\n",
      "2024-08-28 16:42:04 -0600   98230 execution.flow     INFO     Node compute_f1_score completes.\n"
     ]
    },
    {
     "name": "stderr",
     "output_type": "stream",
     "text": [
      "[2024-08-28 16:42:04 -0600][flowinvoker][INFO] - Validating flow input with data {'answer': 'The formula for water is CO2.', 'ground_truth': 'The formula for water is H2O.'}\n"
     ]
    },
    {
     "name": "stdout",
     "output_type": "stream",
     "text": [
      "2024-08-28 16:42:04 -0600   98230 execution.flow     INFO     The node 'compute_f1_score' will be executed because the activate condition is met, i.e. '${validate_inputs.output}' is equal to 'True'.\n"
     ]
    },
    {
     "name": "stderr",
     "output_type": "stream",
     "text": [
      "[2024-08-28 16:42:04 -0600][flowinvoker][INFO] - Execute flow with data {'answer': 'The formula for water is CO2.', 'ground_truth': 'The formula for water is H2O.'}\n"
     ]
    },
    {
     "name": "stdout",
     "output_type": "stream",
     "text": [
      "2024-08-28 16:42:04 -0600   98230 execution.flow     INFO     Executing node compute_f1_score. node run id: f8d59f5a-c6c2-44e9-8f0c-293917ab7589_compute_f1_score_326be233-666a-4022-8fa7-38eb11171b2c\n",
      "2024-08-28 16:42:04 -0600   98230 execution.flow     INFO     Start executing nodes in thread pool mode.\n",
      "2024-08-28 16:42:04 -0600   98230 execution.flow     INFO     Node compute_f1_score completes.\n",
      "2024-08-28 16:42:04 -0600   98230 execution.flow     INFO     Start to run 2 nodes with concurrency level 16.\n",
      "2024-08-28 16:42:04 -0600   98230 execution.flow     INFO     Current thread is not main thread, skip signal handler registration in AsyncNodesScheduler.\n"
     ]
    },
    {
     "name": "stderr",
     "output_type": "stream",
     "text": [
      "[2024-08-28 16:42:04 -0600][flowinvoker][INFO] - Validating flow input with data {'answer': 'The tallest building in the world is the Empire State Building.', 'ground_truth': 'The tallest building in the world is the Burj Khalifa.'}\n",
      "[2024-08-28 16:42:04 -0600][flowinvoker][INFO] - Execute flow with data {'answer': 'The tallest building in the world is the Empire State Building.', 'ground_truth': 'The tallest building in the world is the Burj Khalifa.'}\n"
     ]
    },
    {
     "name": "stdout",
     "output_type": "stream",
     "text": [
      "2024-08-28 16:42:04 -0600   98230 execution.flow     INFO     Executing node validate_inputs. node run id: e1281739-4abe-4c57-9971-c74765fec892_validate_inputs_e95eb116-a2fc-43a5-a41b-706a8fa20dc6\n",
      "2024-08-28 16:42:04 -0600   98230 execution.flow     INFO     Start executing nodes in thread pool mode.\n",
      "2024-08-28 16:42:04 -0600   98230 execution.flow     INFO     Node validate_inputs completes.\n",
      "2024-08-28 16:42:04 -0600   98230 execution.flow     INFO     Start to run 2 nodes with concurrency level 16.\n",
      "2024-08-28 16:42:04 -0600   98230 execution.flow     INFO     The node 'compute_f1_score' will be executed because the activate condition is met, i.e. '${validate_inputs.output}' is equal to 'True'.\n",
      "2024-08-28 16:42:04 -0600   98230 execution.flow     INFO     Current thread is not main thread, skip signal handler registration in AsyncNodesScheduler.\n",
      "2024-08-28 16:42:04 -0600   98230 execution.flow     INFO     Executing node compute_f1_score. node run id: e1281739-4abe-4c57-9971-c74765fec892_compute_f1_score_5258a55a-fb71-4da4-9a72-664f59ab87c6\n",
      "2024-08-28 16:42:04 -0600   98230 execution.flow     INFO     Executing node validate_inputs. node run id: a3e88eb1-4375-463e-a3a0-8b6d07d0da42_validate_inputs_e8dd9488-8a2a-4a88-ac6d-aa7f9fea45d5\n",
      "2024-08-28 16:42:04 -0600   98230 execution.flow     INFO     Node compute_f1_score completes.\n",
      "2024-08-28 16:42:04 -0600   98230 execution.flow     INFO     Node validate_inputs completes.\n",
      "2024-08-28 16:42:04 -0600   98230 execution.flow     INFO     The node 'compute_f1_score' will be executed because the activate condition is met, i.e. '${validate_inputs.output}' is equal to 'True'.\n",
      "2024-08-28 16:42:04 -0600   98230 execution.flow     INFO     Executing node compute_f1_score. node run id: a3e88eb1-4375-463e-a3a0-8b6d07d0da42_compute_f1_score_6e198e62-5553-4f9e-8a57-d544aa16bd98\n",
      "2024-08-28 16:42:04 -0600   98230 execution.flow     INFO     Node compute_f1_score completes.\n"
     ]
    },
    {
     "name": "stderr",
     "output_type": "stream",
     "text": [
      "huggingface/tokenizers: The current process just got forked, after parallelism has already been used. Disabling parallelism to avoid deadlocks...\n",
      "To disable this warning, you can either:\n",
      "\t- Avoid using `tokenizers` before the fork if possible\n",
      "\t- Explicitly set the environment variable TOKENIZERS_PARALLELISM=(true | false)\n",
      "huggingface/tokenizers: The current process just got forked, after parallelism has already been used. Disabling parallelism to avoid deadlocks...\n",
      "To disable this warning, you can either:\n",
      "\t- Avoid using `tokenizers` before the fork if possible\n",
      "\t- Explicitly set the environment variable TOKENIZERS_PARALLELISM=(true | false)\n",
      "huggingface/tokenizers: The current process just got forked, after parallelism has already been used. Disabling parallelism to avoid deadlocks...\n",
      "To disable this warning, you can either:\n",
      "\t- Avoid using `tokenizers` before the fork if possible\n",
      "\t- Explicitly set the environment variable TOKENIZERS_PARALLELISM=(true | false)\n",
      "huggingface/tokenizers: The current process just got forked, after parallelism has already been used. Disabling parallelism to avoid deadlocks...\n",
      "To disable this warning, you can either:\n",
      "\t- Avoid using `tokenizers` before the fork if possible\n",
      "\t- Explicitly set the environment variable TOKENIZERS_PARALLELISM=(true | false)\n",
      "huggingface/tokenizers: The current process just got forked, after parallelism has already been used. Disabling parallelism to avoid deadlocks...\n",
      "To disable this warning, you can either:\n",
      "\t- Avoid using `tokenizers` before the fork if possible\n",
      "\t- Explicitly set the environment variable TOKENIZERS_PARALLELISM=(true | false)\n",
      "huggingface/tokenizers: The current process just got forked, after parallelism has already been used. Disabling parallelism to avoid deadlocks...\n",
      "To disable this warning, you can either:\n",
      "\t- Avoid using `tokenizers` before the fork if possible\n",
      "\t- Explicitly set the environment variable TOKENIZERS_PARALLELISM=(true | false)\n",
      "huggingface/tokenizers: The current process just got forked, after parallelism has already been used. Disabling parallelism to avoid deadlocks...\n",
      "To disable this warning, you can either:\n",
      "\t- Avoid using `tokenizers` before the fork if possible\n",
      "\t- Explicitly set the environment variable TOKENIZERS_PARALLELISM=(true | false)\n",
      "huggingface/tokenizers: The current process just got forked, after parallelism has already been used. Disabling parallelism to avoid deadlocks...\n",
      "To disable this warning, you can either:\n",
      "\t- Avoid using `tokenizers` before the fork if possible\n",
      "\t- Explicitly set the environment variable TOKENIZERS_PARALLELISM=(true | false)\n",
      "huggingface/tokenizers: The current process just got forked, after parallelism has already been used. Disabling parallelism to avoid deadlocks...\n",
      "To disable this warning, you can either:\n",
      "\t- Avoid using `tokenizers` before the fork if possible\n",
      "\t- Explicitly set the environment variable TOKENIZERS_PARALLELISM=(true | false)\n",
      "2024/08/28 16:42:17 INFO mlflow.tracking._tracking_service.client: 🏃 View run teal_shoe_7xkd7j27 at: https://eastus.api.azureml.ms/mlflow/v2.0/subscriptions/28d2df62-e322-4b25-b581-c43b94bd2607/resourceGroups/uhg-advassist-slm-eval/providers/Microsoft.MachineLearningServices/workspaces/slm-evaluation/#/experiments/d8f2318e-fd83-488e-bd9b-deca311699d7/runs/867f0a26-efdd-4e53-953e-b537e8c8e876.\n",
      "2024/08/28 16:42:17 INFO mlflow.tracking._tracking_service.client: 🧪 View experiment at: https://eastus.api.azureml.ms/mlflow/v2.0/subscriptions/28d2df62-e322-4b25-b581-c43b94bd2607/resourceGroups/uhg-advassist-slm-eval/providers/Microsoft.MachineLearningServices/workspaces/slm-evaluation/#/experiments/d8f2318e-fd83-488e-bd9b-deca311699d7.\n",
      "huggingface/tokenizers: The current process just got forked, after parallelism has already been used. Disabling parallelism to avoid deadlocks...\n",
      "To disable this warning, you can either:\n",
      "\t- Avoid using `tokenizers` before the fork if possible\n",
      "\t- Explicitly set the environment variable TOKENIZERS_PARALLELISM=(true | false)\n",
      "huggingface/tokenizers: The current process just got forked, after parallelism has already been used. Disabling parallelism to avoid deadlocks...\n",
      "To disable this warning, you can either:\n",
      "\t- Avoid using `tokenizers` before the fork if possible\n",
      "\t- Explicitly set the environment variable TOKENIZERS_PARALLELISM=(true | false)\n",
      "huggingface/tokenizers: The current process just got forked, after parallelism has already been used. Disabling parallelism to avoid deadlocks...\n",
      "To disable this warning, you can either:\n",
      "\t- Avoid using `tokenizers` before the fork if possible\n",
      "\t- Explicitly set the environment variable TOKENIZERS_PARALLELISM=(true | false)\n",
      "huggingface/tokenizers: The current process just got forked, after parallelism has already been used. Disabling parallelism to avoid deadlocks...\n",
      "To disable this warning, you can either:\n",
      "\t- Avoid using `tokenizers` before the fork if possible\n",
      "\t- Explicitly set the environment variable TOKENIZERS_PARALLELISM=(true | false)\n"
     ]
    }
   ],
   "source": [
    "data_input_path = os.path.join(TARGET_DIRECTORY, \"my_utils\", \"data\", \"evaluations\", \"jsonl\", \"F1ScoreEvaluator.jsonl\")\n",
    "\n",
    "result = evaluate(\n",
    "    data=data_input_path,\n",
    "    evaluators={\n",
    "        \"qa_eval\": qa_eval,\n",
    "        \"context_similarity\": context_similarity,\n",
    "        \"semantic_similarity\": semantic_similarity_eval\n",
    "    },\n",
    "    # column mapping\n",
    "    evaluator_config={\n",
    "        \"qa_eval\": {\n",
    "            \"answer\": \"${data.answer}\",\n",
    "            \"ground_truth\": \"${data.ground_truth}\",\n",
    "        },\n",
    "        \"context_similarity\": {\n",
    "            \"question\": \"${data.question}\",\n",
    "            \"answer\": \"${data.answer}\",\n",
    "            \"ground_truth\": \"${data.ground_truth}\",\n",
    "        },\n",
    "        \"semantic_similarity\": {\n",
    "        \"response\": \"${data.answer}\",\n",
    "        \"ground_truth\": \"${data.ground_truth}\",\n",
    "    }\n",
    "    },\n",
    "    azure_ai_project=azure_ai_project\n",
    ")"
   ]
  },
  {
   "cell_type": "code",
   "execution_count": 23,
   "metadata": {},
   "outputs": [
    {
     "data": {
      "text/plain": [
       "{'rows': [{'inputs.answer': 'Paris is the capital of France.',\n",
       "   'inputs.ground_truth': 'The capital of France is Paris.',\n",
       "   'inputs.question': 'What is the capital of France?',\n",
       "   'outputs.qa_eval.f1_score': 1.0,\n",
       "   'outputs.context_similarity.gpt_similarity': 5.0,\n",
       "   'outputs.semantic_similarity.semantic_similarity': 0.9259477853775024,\n",
       "   'line_number': 0},\n",
       "  {'inputs.answer': 'Albert Einstein developed the theory of relativity.',\n",
       "   'inputs.ground_truth': 'The theory of relativity was developed by Albert Einstein.',\n",
       "   'inputs.question': 'Who developed the theory of relativity?',\n",
       "   'outputs.qa_eval.f1_score': 0.8571428571428571,\n",
       "   'outputs.context_similarity.gpt_similarity': 5.0,\n",
       "   'outputs.semantic_similarity.semantic_similarity': 0.8779064416885376,\n",
       "   'line_number': 1},\n",
       "  {'inputs.answer': 'The speed of light is approximately 299,792,458 meters per second.',\n",
       "   'inputs.ground_truth': 'Light travels at a speed of 299,792,458 meters per second.',\n",
       "   'inputs.question': 'What is the speed of light?',\n",
       "   'outputs.qa_eval.f1_score': 0.7777777777777778,\n",
       "   'outputs.context_similarity.gpt_similarity': 5.0,\n",
       "   'outputs.semantic_similarity.semantic_similarity': 0.9612011909484863,\n",
       "   'line_number': 2},\n",
       "  {'inputs.answer': 'Mount Everest is the tallest mountain in the world.',\n",
       "   'inputs.ground_truth': \"The world's tallest mountain is Mount Everest.\",\n",
       "   'inputs.question': 'Which is the tallest mountain in the world?',\n",
       "   'outputs.qa_eval.f1_score': 0.7692307692307692,\n",
       "   'outputs.context_similarity.gpt_similarity': 5.0,\n",
       "   'outputs.semantic_similarity.semantic_similarity': 0.9308594465255737,\n",
       "   'line_number': 3},\n",
       "  {'inputs.answer': \"George Orwell is the author of '1984'.\",\n",
       "   'inputs.ground_truth': \"The author of '1984' is George Orwell.\",\n",
       "   'inputs.question': \"Who wrote '1984'?\",\n",
       "   'outputs.qa_eval.f1_score': 1.0,\n",
       "   'outputs.context_similarity.gpt_similarity': 5.0,\n",
       "   'outputs.semantic_similarity.semantic_similarity': 0.9466774463653564,\n",
       "   'line_number': 4},\n",
       "  {'inputs.answer': 'Tokyo is the capital of Japan.',\n",
       "   'inputs.ground_truth': \"Japan's capital is Tokyo.\",\n",
       "   'inputs.question': 'What is the capital of Japan?',\n",
       "   'outputs.qa_eval.f1_score': 0.6666666666666665,\n",
       "   'outputs.context_similarity.gpt_similarity': 5.0,\n",
       "   'outputs.semantic_similarity.semantic_similarity': 0.8792477250099182,\n",
       "   'line_number': 5},\n",
       "  {'inputs.answer': 'Leonardo da Vinci painted the Mona Lisa.',\n",
       "   'inputs.ground_truth': 'The Mona Lisa was painted by Leonardo da Vinci.',\n",
       "   'inputs.question': 'Who painted the Mona Lisa?',\n",
       "   'outputs.qa_eval.f1_score': 0.8571428571428571,\n",
       "   'outputs.context_similarity.gpt_similarity': 5.0,\n",
       "   'outputs.semantic_similarity.semantic_similarity': 0.9377338290214539,\n",
       "   'line_number': 6},\n",
       "  {'inputs.answer': 'Jupiter is the largest planet in our solar system.',\n",
       "   'inputs.ground_truth': 'The largest planet in our solar system is Jupiter.',\n",
       "   'inputs.question': 'What is the largest planet in our solar system?',\n",
       "   'outputs.qa_eval.f1_score': 1.0,\n",
       "   'outputs.context_similarity.gpt_similarity': 5.0,\n",
       "   'outputs.semantic_similarity.semantic_similarity': 0.976579487323761,\n",
       "   'line_number': 7},\n",
       "  {'inputs.answer': 'H2O is the chemical symbol for water.',\n",
       "   'inputs.ground_truth': 'The chemical symbol for water is H2O.',\n",
       "   'inputs.question': 'What is the chemical symbol for water?',\n",
       "   'outputs.qa_eval.f1_score': 1.0,\n",
       "   'outputs.context_similarity.gpt_similarity': 5.0,\n",
       "   'outputs.semantic_similarity.semantic_similarity': 0.9534009695053101,\n",
       "   'line_number': 8},\n",
       "  {'inputs.answer': 'The Pacific Ocean is the largest ocean on Earth.',\n",
       "   'inputs.ground_truth': 'The largest ocean on Earth is the Pacific Ocean.',\n",
       "   'inputs.question': 'What is the largest ocean on Earth?',\n",
       "   'outputs.qa_eval.f1_score': 1.0,\n",
       "   'outputs.context_similarity.gpt_similarity': 5.0,\n",
       "   'outputs.semantic_similarity.semantic_similarity': 0.9738157391548157,\n",
       "   'line_number': 9},\n",
       "  {'inputs.answer': 'The Great Pyramid of Giza was built by Alexander the Great.',\n",
       "   'inputs.ground_truth': 'The Great Pyramid of Giza was built by the Egyptians.',\n",
       "   'inputs.question': 'Who built the Great Pyramid of Giza?',\n",
       "   'outputs.qa_eval.f1_score': 0.823529411764706,\n",
       "   'outputs.context_similarity.gpt_similarity': nan,\n",
       "   'outputs.semantic_similarity.semantic_similarity': 0.9609907865524292,\n",
       "   'line_number': 10},\n",
       "  {'inputs.answer': 'The human body has four senses.',\n",
       "   'inputs.ground_truth': 'The human body has five primary senses.',\n",
       "   'inputs.question': 'How many primary senses does the human body have?',\n",
       "   'outputs.qa_eval.f1_score': 0.7272727272727272,\n",
       "   'outputs.context_similarity.gpt_similarity': 1.0,\n",
       "   'outputs.semantic_similarity.semantic_similarity': 0.9754077196121216,\n",
       "   'line_number': 11},\n",
       "  {'inputs.answer': 'The Amazon is the longest river in the world.',\n",
       "   'inputs.ground_truth': 'The Nile is often cited as the longest river in the world, but some sources claim the Amazon is longer.',\n",
       "   'inputs.question': 'What is the longest river in the world?',\n",
       "   'outputs.qa_eval.f1_score': 0.5454545454545454,\n",
       "   'outputs.context_similarity.gpt_similarity': 1.0,\n",
       "   'outputs.semantic_similarity.semantic_similarity': 0.8770132660865784,\n",
       "   'line_number': 12},\n",
       "  {'inputs.answer': 'The internet was invented in the 1960s.',\n",
       "   'inputs.ground_truth': 'The foundational technology of the internet was developed in the late 1960s.',\n",
       "   'inputs.question': 'When was the internet invented?',\n",
       "   'outputs.qa_eval.f1_score': 0.5714285714285714,\n",
       "   'outputs.context_similarity.gpt_similarity': nan,\n",
       "   'outputs.semantic_similarity.semantic_similarity': 0.8925939798355103,\n",
       "   'line_number': 13},\n",
       "  {'inputs.answer': 'The heart is on the right side of the human body.',\n",
       "   'inputs.ground_truth': 'The heart is located slightly to the left side of the chest in the human body.',\n",
       "   'inputs.question': 'Where is the heart located in the human body?',\n",
       "   'outputs.qa_eval.f1_score': 0.6,\n",
       "   'outputs.context_similarity.gpt_similarity': 1.0,\n",
       "   'outputs.semantic_similarity.semantic_similarity': 0.8798233866691589,\n",
       "   'line_number': 14},\n",
       "  {'inputs.answer': 'The sun revolves around the Earth.',\n",
       "   'inputs.ground_truth': 'The Earth revolves around the sun.',\n",
       "   'inputs.question': 'Does the Earth revolve around the sun, or does the sun revolve around the Earth?',\n",
       "   'outputs.qa_eval.f1_score': 1.0,\n",
       "   'outputs.context_similarity.gpt_similarity': 1.0,\n",
       "   'outputs.semantic_similarity.semantic_similarity': 0.953967809677124,\n",
       "   'line_number': 15},\n",
       "  {'inputs.answer': 'Sharks are mammals.',\n",
       "   'inputs.ground_truth': 'Sharks are a group of fish characterized by a cartilaginous skeleton.',\n",
       "   'inputs.question': 'Are sharks mammals or fish?',\n",
       "   'outputs.qa_eval.f1_score': 0.3333333333333333,\n",
       "   'outputs.context_similarity.gpt_similarity': 1.0,\n",
       "   'outputs.semantic_similarity.semantic_similarity': 0.6559370756149292,\n",
       "   'line_number': 16},\n",
       "  {'inputs.answer': 'The capital of Canada is Toronto.',\n",
       "   'inputs.ground_truth': 'The capital of Canada is Ottawa.',\n",
       "   'inputs.question': 'What is the capital of Canada?',\n",
       "   'outputs.qa_eval.f1_score': 0.8000000000000002,\n",
       "   'outputs.context_similarity.gpt_similarity': nan,\n",
       "   'outputs.semantic_similarity.semantic_similarity': 0.9620543718338013,\n",
       "   'line_number': 17},\n",
       "  {'inputs.answer': 'The inventor of the telephone was Thomas Edison.',\n",
       "   'inputs.ground_truth': 'Alexander Graham Bell is credited with inventing the first practical telephone.',\n",
       "   'inputs.question': 'Who invented the telephone?',\n",
       "   'outputs.qa_eval.f1_score': 0.125,\n",
       "   'outputs.context_similarity.gpt_similarity': 1.0,\n",
       "   'outputs.semantic_similarity.semantic_similarity': 0.9110910892486572,\n",
       "   'line_number': 18},\n",
       "  {'inputs.answer': 'The chemical symbol for gold is Ag.',\n",
       "   'inputs.ground_truth': 'The chemical symbol for gold is Au.',\n",
       "   'inputs.question': 'What is the chemical symbol for gold?',\n",
       "   'outputs.qa_eval.f1_score': 0.8333333333333334,\n",
       "   'outputs.context_similarity.gpt_similarity': 1.0,\n",
       "   'outputs.semantic_similarity.semantic_similarity': 0.9421272277832031,\n",
       "   'line_number': 19},\n",
       "  {'inputs.answer': 'The largest desert in the world is the Sahara.',\n",
       "   'inputs.ground_truth': 'The largest desert in the world is Antarctica.',\n",
       "   'inputs.question': 'What is the largest desert in the world?',\n",
       "   'outputs.qa_eval.f1_score': 0.8333333333333334,\n",
       "   'outputs.context_similarity.gpt_similarity': 1.0,\n",
       "   'outputs.semantic_similarity.semantic_similarity': 0.9212703108787537,\n",
       "   'line_number': 20},\n",
       "  {'inputs.answer': 'The first man to step on the moon was Lance Armstrong.',\n",
       "   'inputs.ground_truth': 'The first man to step on the moon was Neil Armstrong.',\n",
       "   'inputs.question': 'Who was the first man to step on the moon?',\n",
       "   'outputs.qa_eval.f1_score': 0.8888888888888888,\n",
       "   'outputs.context_similarity.gpt_similarity': 1.0,\n",
       "   'outputs.semantic_similarity.semantic_similarity': 0.980967104434967,\n",
       "   'line_number': 21},\n",
       "  {'inputs.answer': 'The capital of Egypt is Cairo.',\n",
       "   'inputs.ground_truth': 'The capital of Egypt is Cairo.',\n",
       "   'inputs.question': 'What is the capital of Egypt?',\n",
       "   'outputs.qa_eval.f1_score': 1.0,\n",
       "   'outputs.context_similarity.gpt_similarity': 5.0,\n",
       "   'outputs.semantic_similarity.semantic_similarity': 1.0,\n",
       "   'line_number': 22},\n",
       "  {'inputs.answer': 'Photosynthesis is performed by animals.',\n",
       "   'inputs.ground_truth': 'Photosynthesis is performed by plants.',\n",
       "   'inputs.question': 'Who performs photosynthesis?',\n",
       "   'outputs.qa_eval.f1_score': 0.8000000000000002,\n",
       "   'outputs.context_similarity.gpt_similarity': 1.0,\n",
       "   'outputs.semantic_similarity.semantic_similarity': 0.9610489010810852,\n",
       "   'line_number': 23},\n",
       "  {'inputs.answer': 'The smallest bone in the human body is the femur.',\n",
       "   'inputs.ground_truth': 'The smallest bone in the human body is the stapes bone in the ear.',\n",
       "   'inputs.question': 'What is the smallest bone in the human body?',\n",
       "   'outputs.qa_eval.f1_score': 0.7058823529411764,\n",
       "   'outputs.context_similarity.gpt_similarity': 1.0,\n",
       "   'outputs.semantic_similarity.semantic_similarity': 0.9176359176635742,\n",
       "   'line_number': 24},\n",
       "  {'inputs.answer': 'The Pacific Ocean is the warmest ocean.',\n",
       "   'inputs.ground_truth': 'The Indian Ocean is considered the warmest ocean.',\n",
       "   'inputs.question': 'Which is the warmest ocean?',\n",
       "   'outputs.qa_eval.f1_score': 0.7272727272727272,\n",
       "   'outputs.context_similarity.gpt_similarity': 1.0,\n",
       "   'outputs.semantic_similarity.semantic_similarity': 0.9462220072746277,\n",
       "   'line_number': 25},\n",
       "  {'inputs.answer': 'The light bulb was invented by Nikola Tesla.',\n",
       "   'inputs.ground_truth': 'The light bulb was invented by Thomas Edison.',\n",
       "   'inputs.question': 'Who invented the light bulb?',\n",
       "   'outputs.qa_eval.f1_score': 0.7142857142857143,\n",
       "   'outputs.context_similarity.gpt_similarity': 1.0,\n",
       "   'outputs.semantic_similarity.semantic_similarity': 0.9513564705848694,\n",
       "   'line_number': 26},\n",
       "  {'inputs.answer': 'The first president of the United States was John Adams.',\n",
       "   'inputs.ground_truth': 'The first president of the United States was George Washington.',\n",
       "   'inputs.question': 'Who was the first president of the United States?',\n",
       "   'outputs.qa_eval.f1_score': 0.75,\n",
       "   'outputs.context_similarity.gpt_similarity': nan,\n",
       "   'outputs.semantic_similarity.semantic_similarity': 0.9537730813026428,\n",
       "   'line_number': 27},\n",
       "  {'inputs.answer': 'The formula for water is CO2.',\n",
       "   'inputs.ground_truth': 'The formula for water is H2O.',\n",
       "   'inputs.question': 'What is the formula for water?',\n",
       "   'outputs.qa_eval.f1_score': 0.8000000000000002,\n",
       "   'outputs.context_similarity.gpt_similarity': 1.0,\n",
       "   'outputs.semantic_similarity.semantic_similarity': 0.9180343151092529,\n",
       "   'line_number': 28},\n",
       "  {'inputs.answer': 'The tallest building in the world is the Empire State Building.',\n",
       "   'inputs.ground_truth': 'The tallest building in the world is the Burj Khalifa.',\n",
       "   'inputs.question': 'What is the tallest building in the world?',\n",
       "   'outputs.qa_eval.f1_score': 0.6666666666666666,\n",
       "   'outputs.context_similarity.gpt_similarity': nan,\n",
       "   'outputs.semantic_similarity.semantic_similarity': 0.8955239653587341,\n",
       "   'line_number': 29}],\n",
       " 'metrics': {'qa_eval.f1_score': 0.7724547511312218,\n",
       "  'context_similarity.gpt_similarity': 2.76,\n",
       "  'semantic_similarity.semantic_similarity': 0.9273402949174245},\n",
       " 'studio_url': 'https://ai.azure.com/build/evaluation/867f0a26-efdd-4e53-953e-b537e8c8e876?wsid=/subscriptions/28d2df62-e322-4b25-b581-c43b94bd2607/resourceGroups/uhg-advassist-slm-eval/providers/Microsoft.MachineLearningServices/workspaces/slm-evaluation'}"
      ]
     },
     "execution_count": 23,
     "metadata": {},
     "output_type": "execute_result"
    }
   ],
   "source": [
    "result"
   ]
  }
 ],
 "metadata": {
  "kernelspec": {
   "display_name": "vector-indexing-azureaisearch",
   "language": "python",
   "name": "python3"
  },
  "language_info": {
   "codemirror_mode": {
    "name": "ipython",
    "version": 3
   },
   "file_extension": ".py",
   "mimetype": "text/x-python",
   "name": "python",
   "nbconvert_exporter": "python",
   "pygments_lexer": "ipython3",
   "version": "3.9.19"
  }
 },
 "nbformat": 4,
 "nbformat_minor": 2
}
